{
 "cells": [
  {
   "cell_type": "markdown",
   "metadata": {},
   "source": [
    "# Propensity analysis"
   ]
  },
  {
   "cell_type": "markdown",
   "metadata": {},
   "source": [
    "### Imports"
   ]
  },
  {
   "cell_type": "code",
   "execution_count": 1,
   "metadata": {
    "collapsed": true
   },
   "outputs": [],
   "source": [
    "import copy\n",
    "import itertools\n",
    "import pickle\n",
    "import random\n",
    "import scipy\n",
    "import sys\n",
    "import numpy as np\n",
    "import pandas as pd\n",
    "import matplotlib.pyplot as plt\n",
    "import seaborn as sns  # Note will call statsmodels for kde if installed on system, otherwise will use scipy\n",
    "from collections import OrderedDict"
   ]
  },
  {
   "cell_type": "code",
   "execution_count": 2,
   "metadata": {
    "collapsed": true
   },
   "outputs": [],
   "source": [
    "sns.set()"
   ]
  },
  {
   "cell_type": "markdown",
   "metadata": {},
   "source": [
    "### Functions and variable definitions"
   ]
  },
  {
   "cell_type": "code",
   "execution_count": 3,
   "metadata": {
    "collapsed": true
   },
   "outputs": [],
   "source": [
    "\"\"\"\n",
    "Defines dictionary of amino acid abbreviations\n",
    "\"\"\"\n",
    "aa_dict = OrderedDict({'A': 'Ala',\n",
    "                       'R': 'Arg',\n",
    "                       'N': 'Asn',\n",
    "                       'D': 'Asp',\n",
    "                       'C': 'Cys',\n",
    "                       'Q': 'Gln',\n",
    "                       'E': 'Glu',\n",
    "                       'G': 'Gly', \n",
    "                       'H': 'His',\n",
    "                       'I': 'Ile',\n",
    "                       'L': 'Leu',\n",
    "                       'K': 'Lys',\n",
    "                       'M': 'Met',\n",
    "                       'F': 'Phe',\n",
    "                       'P': 'Pro',\n",
    "                       'S': 'Ser',\n",
    "                       'T': 'Thr',\n",
    "                       'W': 'Trp',\n",
    "                       'Y': 'Tyr',\n",
    "                       'V': 'Val'})"
   ]
  },
  {
   "cell_type": "code",
   "execution_count": 4,
   "metadata": {
    "collapsed": true
   },
   "outputs": [],
   "source": [
    "def define_dict(dict_vals):\n",
    "    \"\"\"\n",
    "    Defines a dictionary of amino acid properties. Allows quick definition of new property dictionaries (can\n",
    "    simply copy and paste the new property values from e.g. the Amino Acid Index) \n",
    "    Input: a list (dict_vals) of property values for the 20 (alphabetically ordered) amino acids\n",
    "    Returns: a dictionary of these property values\n",
    "    \"\"\"\n",
    "    aa_dict = OrderedDict({'A': dict_vals[0],\n",
    "                           'R': dict_vals[1],\n",
    "                           'N': dict_vals[2],\n",
    "                           'D': dict_vals[3],\n",
    "                           'C': dict_vals[4],\n",
    "                           'Q': dict_vals[5],\n",
    "                           'E': dict_vals[6],\n",
    "                           'G': dict_vals[7],\n",
    "                           'H': dict_vals[8],\n",
    "                           'I': dict_vals[9],\n",
    "                           'L': dict_vals[10],\n",
    "                           'K': dict_vals[11],\n",
    "                           'M': dict_vals[12],\n",
    "                           'F': dict_vals[13],\n",
    "                           'P': dict_vals[14],\n",
    "                           'S': dict_vals[15],\n",
    "                           'T': dict_vals[16],\n",
    "                           'W': dict_vals[17],\n",
    "                           'Y': dict_vals[18],\n",
    "                           'V': dict_vals[19]})\n",
    "    return aa_dict"
   ]
  },
  {
   "cell_type": "code",
   "execution_count": 5,
   "metadata": {
    "collapsed": true
   },
   "outputs": [],
   "source": [
    "def remove_nan(prop_list):\n",
    "    \"\"\"\n",
    "    Removes all instances of '', 'NaN' and np.nan from an input list\n",
    "    Input: a list (prop_list) to be filtered\n",
    "    Returns: the filtered list\n",
    "    \"\"\"\n",
    "    prop_remove_list = ['', 'NaN', 'nan', np.nan]\n",
    "    for prop_remove in prop_remove_list:\n",
    "        if prop_remove in prop_list:\n",
    "            prop_list = [x for x in prop_list if x != prop_remove]\n",
    "    return prop_list"
   ]
  },
  {
   "cell_type": "code",
   "execution_count": 6,
   "metadata": {
    "collapsed": true
   },
   "outputs": [],
   "source": [
    "def calc_distribution(df, aa_dict):\n",
    "    \"\"\"\n",
    "    Counts the number of each amino acid in dataframe of barrel / sandwich properties\n",
    "    Input: dataframe of barrel / sandwich properties and dictionary of amino acid abbreviations\n",
    "    Returns: dataframe of count data\n",
    "    \"\"\"\n",
    "    distribution_list = ['']*len(aa_dict.keys())\n",
    "    fasta_list = [x for x in df['fasta_seq'].tolist() if x in list(aa_dict.keys())]\n",
    "    for index, aa in enumerate(list(aa_dict.keys())):\n",
    "        count = fasta_list.count(aa)\n",
    "        distribution_list[index] = count / len(fasta_list)\n",
    "\n",
    "    df_dict = OrderedDict({'FASTA': list(aa_dict.keys())})\n",
    "    df_dict['Normalised frequency'] = distribution_list\n",
    "\n",
    "    distribution_df = pd.DataFrame(df_dict)\n",
    "    return distribution_df"
   ]
  },
  {
   "cell_type": "code",
   "execution_count": 7,
   "metadata": {
    "collapsed": true
   },
   "outputs": [],
   "source": [
    "def calc_indv_property_propensities(df, prop, aa_dict):\n",
    "    \"\"\"\n",
    "    Calculates propensities of the amino acids listed in the input dictionary for a (categorical) feature of\n",
    "    interest (e.g. 'interior' or 'exterior')\n",
    "    Input: dataframe of barrel / sandwich properties, name of the feature of interest (specified via the name of\n",
    "           the corresponding column in the input dataframe), and dictionary of amino acid abbreviations\n",
    "    Returns: dataframe of propensity values, plus dataframes of the frequencies and normalised frequencies (since\n",
    "             extreme propensity values can result from low counts)\n",
    "    \"\"\"\n",
    "    df = df[~df[prop].isin(['', 'NaN', 'nan', np.nan])]\n",
    "    df = df.reset_index(drop=True)\n",
    "\n",
    "    prop_list = list(set(df[prop].tolist()))\n",
    "    prop_list = remove_nan(prop_list)\n",
    "\n",
    "    temp_lists = {}\n",
    "    for prop_val in prop_list:\n",
    "        temp_lists['{}_propensity_list'.format(prop_val)] = ['']*len(list(aa_dict.keys()))\n",
    "        temp_lists['{}_frequency_list'.format(prop_val)] = ['']*len(list(aa_dict.keys()))\n",
    "        temp_lists['{}_normed_frequency_list'.format(prop_val)] = ['']*len(list(aa_dict.keys()))\n",
    "\n",
    "        temp_lists['total_{}_count'.format(prop_val)] = df[prop].tolist().count(prop_val)\n",
    "\n",
    "    for index, aa in enumerate(list(aa_dict.keys())):\n",
    "        aa_df = df[df['fasta_seq'] == aa]\n",
    "        aa_df = aa_df.reset_index(drop=True)\n",
    "\n",
    "        for prop_val in prop_list:\n",
    "            try:\n",
    "                temp_lists['{}_{}_count'.format(prop_val, aa)] = aa_df[prop].tolist().count(prop_val)\n",
    "                temp_lists['{}_frequency_list'.format(prop_val)][index] = copy.deepcopy(temp_lists['{}_{}_count'.format(prop_val, aa)])\n",
    "\n",
    "                temp_lists['{}_{}_normed_frequency'.format(prop_val, aa)] = (temp_lists['{}_{}_count'.format(prop_val, aa)]\n",
    "                                                                             / temp_lists['total_{}_count'.format(prop_val)])\n",
    "                temp_lists['{}_normed_frequency_list'.format(prop_val)][index] = temp_lists['{}_{}_normed_frequency'.format(prop_val, aa)]\n",
    "\n",
    "                temp_lists['{}_{}_propensity'.format(prop_val, aa)] = ((temp_lists['{}_{}_normed_frequency'.format(prop_val, aa)])\n",
    "                                                                       / (aa_df.shape[0] / df.shape[0]))\n",
    "                temp_lists['{}_propensity_list'.format(prop_val)][index] = temp_lists['{}_{}_propensity'.format(prop_val, aa)]\n",
    "            except ZeroDivisionError:\n",
    "                temp_lists['{}_frequency_list'.format(prop_val)][index] = np.nan\n",
    "                temp_lists['{}_normed_frequency_list'.format(prop_val)][index] = np.nan\n",
    "                temp_lists['{}_propensity_list'.format(prop_val)][index] = np.nan\n",
    "\n",
    "    df_propensity_dict = OrderedDict({'FASTA': list(aa_dict.keys())})\n",
    "    df_frequency_dict = OrderedDict({'FASTA': list(aa_dict.keys())})\n",
    "    df_normed_frequency_dict = OrderedDict({'FASTA': list(aa_dict.keys())})\n",
    "    for prop_val in prop_list:\n",
    "        df_propensity_dict[prop_val] = temp_lists['{}_propensity_list'.format(prop_val)]\n",
    "        df_frequency_dict[prop_val] = temp_lists['{}_frequency_list'.format(prop_val)]\n",
    "        df_normed_frequency_dict[prop_val] = temp_lists['{}_normed_frequency_list'.format(prop_val)]\n",
    "\n",
    "    propensity_df = pd.DataFrame(df_propensity_dict)\n",
    "    frequency_df = pd.DataFrame(df_frequency_dict)\n",
    "    normed_frequency_df = pd.DataFrame(df_normed_frequency_dict)\n",
    "    \n",
    "    return propensity_df, frequency_df, normed_frequency_df"
   ]
  },
  {
   "cell_type": "code",
   "execution_count": 8,
   "metadata": {
    "collapsed": true
   },
   "outputs": [],
   "source": [
    "def calc_combined_property_propensities(df, props, aa_dict):\n",
    "    \"\"\"\n",
    "    Calculates propensities of the amino acids listed in the input dictionary for two or more (categorical)\n",
    "    features of interest (e.g. 'interior' and 'transmembrane', 'interior' and 'external', 'exterior' and\n",
    "    'transmembrane', or 'exterior' and 'external')\n",
    "    Input: dataframe of barrel / sandwich properties, list of names of the features of interest (specified via\n",
    "           the names of the corresponding columns in the input dataframe), and dictionary of amino acid\n",
    "           abbreviations\n",
    "    Returns: dataframe of propensity values, plus dataframes of the frequencies and normalised frequencies (since\n",
    "             extreme propensity values can result from low counts)\n",
    "    \"\"\"\n",
    "    for prop in props:\n",
    "        df = df[~df[prop].isin(['', 'NaN', 'nan', np.nan])]\n",
    "        df = df.reset_index(drop=True)\n",
    "\n",
    "    amalgamate_list = []\n",
    "    for prop in props:\n",
    "        filtered_list = list(set(df[prop].tolist()))\n",
    "        amalgamate_list.append(filtered_list)\n",
    "    combinations = list(itertools.product(*amalgamate_list))\n",
    "    combinations = ['_'.join(tup) for tup in combinations]\n",
    "\n",
    "    for prop in props:\n",
    "        df[prop] = [str(x) for x in df[prop].tolist()]\n",
    "    df_props = pd.DataFrame({'combination': df[props].apply('_'.join, axis=1),\n",
    "                             'FASTA': df['fasta_seq']})\n",
    "\n",
    "    temp_lists = {}\n",
    "    for combination in combinations:\n",
    "        temp_lists['{}_propensity_list'.format(combination)] = ['']*len(list(aa_dict.keys()))\n",
    "        temp_lists['{}_frequency_list'.format(combination)] = ['']*len(list(aa_dict.keys()))\n",
    "        temp_lists['{}_normed_frequency_list'.format(combination)] = ['']*len(list(aa_dict.keys()))\n",
    "\n",
    "        temp_lists['total_{}_count'.format(combination)] = df_props['combination'].tolist().count(combination)\n",
    "\n",
    "        for index, aa in enumerate(list(aa_dict.keys())):\n",
    "            aa_df = df_props[df_props['FASTA'] == aa]\n",
    "            aa_df = aa_df.reset_index(drop=True)\n",
    "\n",
    "            try:\n",
    "                temp_lists['{}_{}_count'.format(combination, aa)] = aa_df['combination'].tolist().count(combination)\n",
    "                temp_lists['{}_frequency_list'.format(combination)][index] = copy.deepcopy(temp_lists['{}_{}_count'.format(combination, aa)])\n",
    "\n",
    "                temp_lists['{}_{}_normed_frequency'.format(combination, aa)] = (temp_lists['{}_{}_count'.format(combination, aa)]\n",
    "                                                                                / temp_lists['total_{}_count'.format(combination)])\n",
    "                temp_lists['{}_normed_frequency_list'.format(combination)][index] = temp_lists['{}_{}_normed_frequency'.format(combination, aa)]\n",
    "\n",
    "                temp_lists['{}_{}_propensity'.format(combination, aa)] = ((temp_lists['{}_{}_normed_frequency'.format(combination, aa)])\n",
    "                                                                          / (aa_df.shape[0] / df_props.shape[0]))\n",
    "                temp_lists['{}_propensity_list'.format(combination)][index] = temp_lists['{}_{}_propensity'.format(combination, aa)]\n",
    "            except ZeroDivisionError:\n",
    "                temp_lists['{}_frequency_list'.format(combination)][index] = np.nan\n",
    "                temp_lists['{}_normed_frequency_list'.format(combination)][index] = np.nan\n",
    "                temp_lists['{}_propensity_list'.format(combination)][index] = np.nan\n",
    "\n",
    "    df_propensity_dict = OrderedDict({'FASTA': list(aa_dict.keys())})\n",
    "    df_frequency_dict = OrderedDict({'FASTA': list(aa_dict.keys())})\n",
    "    df_normed_frequency_dict = OrderedDict({'FASTA': list(aa_dict.keys())})\n",
    "    for combination in combinations:\n",
    "        df_propensity_dict[combination] = temp_lists['{}_propensity_list'.format(combination)]\n",
    "        df_frequency_dict[combination] = temp_lists['{}_frequency_list'.format(combination)]\n",
    "        df_normed_frequency_dict[combination] = temp_lists['{}_normed_frequency_list'.format(combination)]\n",
    "\n",
    "    propensity_df = pd.DataFrame(df_propensity_dict)\n",
    "    frequency_df = pd.DataFrame(df_frequency_dict)\n",
    "    normed_frequency_df = pd.DataFrame(df_normed_frequency_dict)\n",
    "\n",
    "    return propensity_df, frequency_df, normed_frequency_df"
   ]
  },
  {
   "cell_type": "code",
   "execution_count": 9,
   "metadata": {
    "collapsed": true
   },
   "outputs": [],
   "source": [
    "def gen_neighbouring_pairs_list(df, prop, aa_dict):\n",
    "    \"\"\"\n",
    "    Makes a list of the amino acids in the input dataframe that form pairwise interactions at a particular\n",
    "    location (e.g. HB vs. NHB positions) or via a particular type of interaction (e.g. cation-pi, hydrogen\n",
    "    bonds, van der Waals interactions, etc.)\n",
    "    Input: dataframe of barrel / sandwich properties, name of the interaction type / location of interest\n",
    "           (specified via the name of the corresponding column in the input dataframe), and dictionary of amino\n",
    "           acid abbreviations\n",
    "    Returns: list of interacting amino acid pairs\n",
    "    \"\"\"\n",
    "    # Makes list of amino acid pairs (of which both amino acids are in the dataframe)\n",
    "    domain_res_ids_list = []\n",
    "    for row in range(df.shape[0]):\n",
    "        domain_res_id = df['domain_ids'][row] + df['res_ids'][row]\n",
    "        domain_res_ids_list.append(domain_res_id)\n",
    "\n",
    "    neighbouring_pairs_list = []\n",
    "    repeat_pairs_list = []\n",
    "\n",
    "    for row in range(df.shape[0]):\n",
    "        domain_res_id_1 = df['domain_ids'][row] + df['res_ids'][row]\n",
    "        aa_1 = df['fasta_seq'][row]\n",
    "\n",
    "        for res_id_2 in df[prop][row]:\n",
    "            domain_res_id_2 = df['domain_ids'][row] + res_id_2\n",
    "\n",
    "            # Only considers amino acid pairs in which both (canonical) amino acids are located in the domain\n",
    "            if domain_res_id_2 in domain_res_ids_list:\n",
    "                res_id_2_index = domain_res_ids_list.index(domain_res_id_2)\n",
    "                aa_2 = df['fasta_seq'][res_id_2_index]\n",
    "\n",
    "                if (\n",
    "                        aa_1 in list(aa_dict.keys())\n",
    "                    and aa_2 in list(aa_dict.keys())\n",
    "                    and (not [domain_res_id_1, domain_res_id_2] in repeat_pairs_list)\n",
    "                    and (not [domain_res_id_2, domain_res_id_1] in repeat_pairs_list)\n",
    "                ):  # Each amino acid pair is counted once.\n",
    "                    repeat_pairs_list.append([domain_res_id_1, domain_res_id_2])\n",
    "                    repeat_pairs_list.append([domain_res_id_2, domain_res_id_1])\n",
    "\n",
    "                    neighbouring_pairs_list.append('{}_{}'.format(aa_1, aa_2))\n",
    "\n",
    "    return neighbouring_pairs_list\n",
    "\n",
    "\n",
    "def calc_aa_pair_propensities(neighbouring_pairs_list, aa_dict):\n",
    "    \"\"\"\n",
    "    Calculates propensities of amino acids at a particular location to interact with one another\n",
    "    Input: list of interacting amino acid pairs output from gen_neighbouring_pairs_list, and dictionary of amino\n",
    "           acid abbreviations\n",
    "    Returns: dataframe of propensity values, plus dataframes of the frequencies and normalised frequencies (since\n",
    "             extreme propensity values can result from low counts)\n",
    "    \"\"\"\n",
    "    # Each amino acid pair is counted in both orientations. (Note this is because positions 1 and 2 must be\n",
    "    # treated independently (position 1 = object, position 2 = property of object) in the propensity calculations,\n",
    "    # whereas these pairs do not have such an associated order and so must be listed in both orientations. See\n",
    "    # lab notes for further details.)\n",
    "    neighbouring_pairs_list = [['{}_{}'.format(aa_pair[0:1], aa_pair[-1:]), '{}_{}'.format(aa_pair[-1:], aa_pair[0:1])]\n",
    "                               for aa_pair in neighbouring_pairs_list]\n",
    "    neighbouring_pairs_list = [aa_pair for aa_pair_list in neighbouring_pairs_list for aa_pair in aa_pair_list]\n",
    "\n",
    "    # Calculates propensity values\n",
    "    all_pairs_count = len(neighbouring_pairs_list)\n",
    "    temp_lists = {}\n",
    "\n",
    "    for aa_1 in list(aa_dict.keys()):\n",
    "        temp_lists['{}_propensity_list'.format(aa_1)] = ['']*len(list(aa_dict.keys()))\n",
    "        temp_lists['{}_frequency_list'.format(aa_1)] = ['']*len(list(aa_dict.keys()))\n",
    "        temp_lists['{}_normed_frequency_list'.format(aa_1)] = ['']*len(list(aa_dict.keys()))\n",
    "\n",
    "        # Calculates propensity for aa_1 to interact with aa_2 relative to all other amino acid possibilities\n",
    "        # (= (aa_1_aa_2_count / aa_1_count) / (aa_2_count / all_aa_count)). \n",
    "        for aa_2_index, aa_2 in enumerate(list(aa_dict.keys())):\n",
    "            aa_1_count = 0\n",
    "            aa_2_count = 0\n",
    "            aa_1_aa_2_count = 0\n",
    "\n",
    "            for aa_pair in neighbouring_pairs_list:\n",
    "                if aa_1 == aa_pair[0:1]:\n",
    "                    aa_1_count += 1\n",
    "                if aa_2 == aa_pair[-1:]:\n",
    "                    aa_2_count += 1\n",
    "                if aa_1 == aa_pair[0:1] and aa_2 == aa_pair[-1:]:\n",
    "                    aa_1_aa_2_count += 1\n",
    "\n",
    "            try:\n",
    "                aa_1_aa_2_frequency = copy.deepcopy(aa_1_aa_2_count)\n",
    "                temp_lists['{}_frequency_list'.format(aa_1)][aa_2_index] = aa_1_aa_2_frequency\n",
    "\n",
    "                aa_1_aa_2_normed_frequency = aa_1_aa_2_count / aa_1_count\n",
    "                temp_lists['{}_normed_frequency_list'.format(aa_1)][aa_2_index] = aa_1_aa_2_normed_frequency\n",
    "\n",
    "                aa_1_aa_2_propensity = ((aa_1_aa_2_count / aa_1_count)\n",
    "                                        / (aa_2_count / all_pairs_count))\n",
    "                temp_lists['{}_propensity_list'.format(aa_1)][aa_2_index] = aa_1_aa_2_propensity\n",
    "            except ZeroDivisionError:\n",
    "                temp_lists['{}_frequency_list'.format(aa_1)][aa_2_index] = np.nan\n",
    "                temp_lists['{}_normed_frequency_list'.format(aa_1)][aa_2_index] = np.nan\n",
    "                temp_lists['{}_propensity_list'.format(aa_1)][aa_2_index] = np.nan\n",
    "\n",
    "    # The propensity for aa_1 to interact with aa_2 should equal the propensity for aa_2 to interact with aa_1\n",
    "    for aa_1_index, aa_1 in enumerate(list(aa_dict.keys())):\n",
    "        for aa_2_index, aa_2 in enumerate(list(aa_dict.keys())):\n",
    "            if (\n",
    "                   round(temp_lists['{}_propensity_list'.format(aa_1)][aa_2_index], 4)\n",
    "                != round(temp_lists['{}_propensity_list'.format(aa_2)][aa_1_index], 4)\n",
    "            ):\n",
    "                sys.exit('Error with propensity calculation: {}{} ({}) != {}{} ({})'.format(\n",
    "                    aa_1, aa_2, temp_lists['{}_propensity_list'.format(aa_1)][aa_2_index],\n",
    "                    aa_2, aa_1, temp_lists['{}_propensity_list'.format(aa_2)][aa_1_index]\n",
    "                ))\n",
    "\n",
    "    df_propensity_dict = OrderedDict({'FASTA': list(aa_dict.keys())})\n",
    "    df_frequency_dict = OrderedDict({'FASTA': list(aa_dict.keys())})\n",
    "    df_normed_frequency_dict = OrderedDict({'FASTA': list(aa_dict.keys())})\n",
    "    # FASTA label on heatmap refers to aa_2 (although propensity and frequency heatmaps will be symmetric about\n",
    "    # their central axes)\n",
    "    for aa_1 in list(aa_dict.keys()):\n",
    "        df_propensity_dict[aa_1] = temp_lists['{}_propensity_list'.format(aa_1)]\n",
    "        df_frequency_dict[aa_1] = temp_lists['{}_frequency_list'.format(aa_1)]\n",
    "        df_normed_frequency_dict[aa_1] = temp_lists['{}_normed_frequency_list'.format(aa_1)]\n",
    "\n",
    "    propensity_df = pd.DataFrame(df_propensity_dict)\n",
    "    frequency_df = pd.DataFrame(df_frequency_dict)\n",
    "    normed_frequency_df = pd.DataFrame(df_normed_frequency_dict)\n",
    "\n",
    "    return propensity_df, frequency_df, normed_frequency_df"
   ]
  },
  {
   "cell_type": "code",
   "execution_count": 10,
   "metadata": {},
   "outputs": [],
   "source": [
    "def bootstrap_discrete_propensities(df, prop, aa_dict, num_bootstrap_samples, propensity_calc_func):\n",
    "    \"\"\"\n",
    "    Calculates 95% confidence limits about propensity values calculated for discrete categorical features\n",
    "    Input: dataframe of barrel / sandwich properties, name(s) of the feature(s) of interest (specified via a\n",
    "           name / list of names of the corresponding column(s) in the input dataframe, dictionary of amino\n",
    "           acid abbreviations, the number of bootstrap samples to collect, and the name of the propensity\n",
    "           calculation function (calc_indv_property_propensities, calc_combined_property_propensities, or\n",
    "           calc_aa_pair_propensities)\n",
    "    Returns: dictionary of bootstrapped propensity values, plus dictionaries of the bootstrapped frequencies\n",
    "             and normalised frequencies (since extreme propensity values can result from low counts)\n",
    "    \"\"\"\n",
    "    if propensity_calc_func == calc_indv_property_propensities:\n",
    "        prop_vals = list(set(df[prop].tolist()))\n",
    "        prop_vals = remove_nan(prop_vals)\n",
    "    elif propensity_calc_func == calc_combined_property_propensities:\n",
    "        prop_vals = []\n",
    "        for sub_prop in prop:\n",
    "            vals = list(set(df[sub_prop].tolist()))\n",
    "            vals = remove_nan(vals)\n",
    "            prop_vals.append(vals)\n",
    "        prop_vals = list(itertools.product(*prop_vals))\n",
    "        prop_vals = ['_'.join(tup) for tup in prop_vals]\n",
    "    elif propensity_calc_func == calc_aa_pair_propensities:\n",
    "        prop_vals = list(aa_dict.keys())\n",
    "        neighbouring_pairs_list = gen_neighbouring_pairs_list(df, prop, aa_dict)\n",
    "\n",
    "    bootstrap_propensities_dict = OrderedDict({'FASTA': list(aa_dict.keys())})\n",
    "    bootstrap_frequencies_dict = OrderedDict({'FASTA': list(aa_dict.keys())})\n",
    "    bootstrap_normed_frequencies_dict = OrderedDict({'FASTA': list(aa_dict.keys())})\n",
    "    \n",
    "    for prop_val in prop_vals:\n",
    "        bootstrap_propensities_dict[prop_val] = [(['']*num_bootstrap_samples) for i in range(len(aa_dict))]\n",
    "        bootstrap_frequencies_dict[prop_val] = [(['']*num_bootstrap_samples) for i in range(len(aa_dict))]\n",
    "        bootstrap_normed_frequencies_dict[prop_val] = [(['']*num_bootstrap_samples) for i in range(len(aa_dict))]\n",
    "\n",
    "    for num_1 in range(num_bootstrap_samples):\n",
    "        if propensity_calc_func in [calc_indv_property_propensities, calc_combined_property_propensities]:\n",
    "            # Samples input dataframe with replacement\n",
    "            indices = []\n",
    "            for num_2 in range(df.shape[0]):\n",
    "                random_num = random.randint(0, (df.shape[0]-1))\n",
    "                indices.append(random_num)\n",
    "            new_df = df.iloc[indices]\n",
    "            new_df = new_df.reset_index(drop=True)\n",
    "\n",
    "            propensity_dict, frequency_dict, normed_frequency_dict = propensity_calc_func(\n",
    "            new_df, prop, aa_dict\n",
    "        )\n",
    "\n",
    "        elif propensity_calc_func == calc_aa_pair_propensities:\n",
    "            # Samples neighbouring_pairs_list with replacement\n",
    "            resampled_pairs_list = random.choices(neighbouring_pairs_list, k=len(neighbouring_pairs_list))\n",
    "            \n",
    "            propensity_dict, frequency_dict, normed_frequency_dict = propensity_calc_func(\n",
    "                resampled_pairs_list, aa_dict\n",
    "            )\n",
    "\n",
    "        for prop_val in prop_vals:\n",
    "            for index, num_3 in enumerate(propensity_dict[prop_val]):\n",
    "                bootstrap_propensities_dict[prop_val][index][num_1] = propensity_dict[prop_val][index]\n",
    "                bootstrap_frequencies_dict[prop_val][index][num_1] = frequency_dict[prop_val][index]\n",
    "                bootstrap_normed_frequencies_dict[prop_val][index][num_1] = normed_frequency_dict[prop_val][index]\n",
    "\n",
    "    return bootstrap_propensities_dict, bootstrap_frequencies_dict, bootstrap_normed_frequencies_dict"
   ]
  },
  {
   "cell_type": "code",
   "execution_count": 11,
   "metadata": {
    "collapsed": true
   },
   "outputs": [],
   "source": [
    "def plot_bar_graphs(df, propensity_or_frequency):\n",
    "    \"\"\"\n",
    "    Plots a bar graph of property / propensity of interest vs. amino acid identity\n",
    "    Input: dataframe of barrel / sandwich properties, and string defining whether the input dataframe contains\n",
    "           propensity, frequency or normalised frequency values\n",
    "           (specified via the name of the corresponding column in the input dataframe)\n",
    "    \"\"\"\n",
    "    reshaped_df = pd.melt(df, id_vars='FASTA', var_name='Property', value_name=propensity_or_frequency)\n",
    "    reshaped_df = reshaped_df.dropna()\n",
    "    reshaped_df = reshaped_df.reset_index(drop=True)\n",
    "\n",
    "    plt.clf()\n",
    "    sns.catplot(x='FASTA', y=propensity_or_frequency, hue='Property', data=reshaped_df, kind='bar', height=15)\n",
    "    plt.show()"
   ]
  },
  {
   "cell_type": "code",
   "execution_count": 12,
   "metadata": {},
   "outputs": [],
   "source": [
    "def plot_bar_graphs_with_conf_limits(propensity_df, bootstrap_propensity_dict, propensity_or_frequency):\n",
    "    \"\"\"\n",
    "    Plots a bar graph of property / propensity of interest vs. amino acid identity with boostrapped 95%\n",
    "    confidence limits\n",
    "    Input: dataframe of barrel / sandwich properties, dictionary of bootstrapped barrel / sandwich properties,\n",
    "           and string defining whether the input dataframe contains propensity, frequency or normalised\n",
    "           frequency values\n",
    "    \"\"\"\n",
    "    reshaped_propensity_df = pd.melt(propensity_df, id_vars='FASTA', var_name='Property',\n",
    "                                     value_name=propensity_or_frequency)\n",
    "    reshaped_propensity_df = reshaped_propensity_df.dropna()\n",
    "    reshaped_propensity_df = reshaped_propensity_df.reset_index(drop=True)\n",
    "\n",
    "    aa_list = bootstrap_propensity_dict['FASTA']\n",
    "    lower_percentile_dict = OrderedDict({'FASTA': aa_list})\n",
    "    upper_percentile_dict = OrderedDict({'FASTA': aa_list})\n",
    "\n",
    "    for prop_val in list(bootstrap_propensity_dict.keys()):\n",
    "        if prop_val != 'FASTA':\n",
    "            lower_percentile_dict[prop_val] = [np.nan]*len(aa_list)\n",
    "            upper_percentile_dict[prop_val] = [np.nan]*len(aa_list)\n",
    "\n",
    "            for index, propensity_list in enumerate(bootstrap_propensity_dict[prop_val]):\n",
    "                lower_percentile = np.percentile(propensity_list, 2.5)\n",
    "                upper_percentile = np.percentile(propensity_list, 97.5)\n",
    "                lower_percentile_dict[prop_val][index] = lower_percentile\n",
    "                upper_percentile_dict[prop_val][index] = upper_percentile\n",
    "\n",
    "    lower_percentile_df = pd.DataFrame(lower_percentile_dict)\n",
    "    lower_percentile_df = pd.melt(lower_percentile_df, id_vars='FASTA', var_name='Property',\n",
    "                                  value_name=propensity_or_frequency)\n",
    "    upper_percentile_df = pd.DataFrame(upper_percentile_dict)\n",
    "    upper_percentile_df = pd.melt(upper_percentile_df, id_vars='FASTA', var_name='Property',\n",
    "                                  value_name=propensity_or_frequency)\n",
    "\n",
    "    # Plots bar graph with confidence limits\n",
    "    plt.clf()\n",
    "    plt.figure(figsize=(15,15))\n",
    "    sns.barplot(x='FASTA', y=propensity_or_frequency, hue='Property', data=reshaped_propensity_df)\n",
    "    sns.stripplot(x='FASTA', y=propensity_or_frequency, hue='Property', data=lower_percentile_df,\n",
    "                  jitter=False, dodge=True, palette='dark')\n",
    "    sns.stripplot(x='FASTA', y=propensity_or_frequency, hue='Property', data=upper_percentile_df,\n",
    "                  jitter=False, dodge=True, palette='dark')\n",
    "    plt.show()"
   ]
  },
  {
   "cell_type": "code",
   "execution_count": 13,
   "metadata": {
    "collapsed": true
   },
   "outputs": [],
   "source": [
    "def iterate_bootstrap_propensities(df, prop, aa_dict, bootstrap_samples_list, propensity_calc_func, propensity_df,\n",
    "                                   frequency_df, normed_frequency_df):\n",
    "    \"\"\"\n",
    "    Calculates 95% confidence limits about propensity, frequency and normalised frequecy values calculated for\n",
    "    discrete categorical features whilst varying the size of the bootstrap population (to determine the minimum\n",
    "    number of bootstrap samples required to obtain an accurate estimate of the confidence limits)\n",
    "    Input: dataframe of barrel / sandwich properties, name(s) of the feature(s) of interest (specified via a\n",
    "           name / list of names of the corresponding column(s) in the input dataframe), dictionary of amino\n",
    "           acid abbreviations, list of number of bootstrap samples to use in the confidence limit calculation,\n",
    "           name of the propensity calculation function (calc_indv_property_propensities,\n",
    "           calc_combined_property_propensities, or calc_aa_pair_propensities), dataframe of (non-bootstrapped)\n",
    "           propensity values, dataframe of (non-bootstrapped) frequency values, and dataframe of (non-bootstrapped)\n",
    "           normalised frequency values\n",
    "    Returns: dictionaries of propensity, frequency and normalised frequency values vs. number of bootstrap samples\n",
    "    \"\"\"\n",
    "    iterated_propensities_dict = OrderedDict()\n",
    "    iterated_frequencies_dict = OrderedDict()\n",
    "    iterated_normed_frequencies_dict = OrderedDict()\n",
    "\n",
    "    for num in bootstrap_samples_list:\n",
    "        print(num)\n",
    "        (bootstrap_propensities_dict, bootstrap_frequencies_dict, bootstrap_normed_frequencies_dict\n",
    "        ) = bootstrap_discrete_propensities(df, prop, aa_dict, num, propensity_calc_func)\n",
    "        \n",
    "        iterated_propensities_dict[num] = bootstrap_propensities_dict\n",
    "        iterated_frequencies_dict[num] = bootstrap_frequencies_dict\n",
    "        iterated_normed_frequencies_dict[num] = bootstrap_normed_frequencies_dict\n",
    "\n",
    "        plot_bar_graphs_with_conf_limits(propensity_df, bootstrap_propensities_dict, 'Propensity')\n",
    "        plot_bar_graphs_with_conf_limits(frequency_df, bootstrap_frequencies_dict, 'Frequency')\n",
    "        plot_bar_graphs_with_conf_limits(normed_frequency_df, bootstrap_normed_frequencies_dict,\n",
    "                                         'Normalised frequency')\n",
    "        \n",
    "    return iterated_propensities_dict, iterated_frequencies_dict, iterated_normed_frequencies_dict "
   ]
  },
  {
   "cell_type": "code",
   "execution_count": 14,
   "metadata": {
    "collapsed": true
   },
   "outputs": [],
   "source": [
    "def plot_heat_map(df):\n",
    "    \"\"\"\n",
    "    Plots a heat map.\n",
    "    Input: dataframe of propensity / count data of property of interest vs. amino acid identity (which must be in\n",
    "           a column labelled 'FASTA')\n",
    "    \"\"\"\n",
    "    df = df.set_index('FASTA', drop=True)  # \"FASTA\" label on y-axis of heat map refers to amino acid 2\n",
    "\n",
    "    plt.clf()\n",
    "    plt.figure(figsize=(20, 10))\n",
    "    sns.heatmap(df)\n",
    "    plt.show()"
   ]
  },
  {
   "cell_type": "code",
   "execution_count": 15,
   "metadata": {},
   "outputs": [],
   "source": [
    "def plot_aa_kdes(df, cont_props, indv_or_comp, aa_dict):\n",
    "    \"\"\"\n",
    "    Plots kernel density estimate of the distribution of each amino acid of interest vs. 1 / 2 continuous\n",
    "    property/ies of interest (typically z-coordinate)\n",
    "    Input: dataframe of barrel / sandwich properties, name of continuous property of interest (specified via a list\n",
    "           of the name(s) of the corresponding column in the input dataframe), whether to plot the distribution of\n",
    "           the amino acid alone ('individual') or whether to also plot the distribution of all amino acids\n",
    "           ('comparison'), and dictionary of amino acid abbreviations\n",
    "    \"\"\"\n",
    "    for prop in cont_props:\n",
    "        df = df[~df[prop].isin(['', 'NaN', 'nan', np.nan])]\n",
    "        df = df.reset_index(drop=True)\n",
    "\n",
    "    for aa in list(aa_dict.keys()):\n",
    "        print(aa)\n",
    "        aa_df = df[df['fasta_seq'] == aa]\n",
    "        aa_df = aa_df.reset_index(drop=True)\n",
    "        \n",
    "        plt.clf()\n",
    "        plt.figure(figsize=(10, 5))\n",
    "        if 'z_coords' in cont_props:\n",
    "            axes = plt.gca()\n",
    "            axes.set_xlim([-40,60])\n",
    "\n",
    "        if len(cont_props) == 1:\n",
    "            if indv_or_comp == 'comparison':\n",
    "                sns.distplot(df[cont_props[0]], hist=False, kde_kws={'bw':'scott'})\n",
    "            sns.distplot(aa_df[cont_props[0]], hist=False, rug=True, kde_kws={'bw':'scott'}, rug_kws={'alpha': 0.1})\n",
    "        elif len(cont_props) == 2:\n",
    "            if indv_or_comp == 'comparison':\n",
    "                sns.kdeplot(data=df[cont_props[0]], data2=df[cont_props[1]], bw='scott', shade=True,\n",
    "                            shade_lowest=False, cbar=True)\n",
    "            sns.kdeplot(data=aa_df[cont_props[0]], data2=aa_df[cont_props[1]], bw='scott', shade=False, cbar=True)\n",
    "        else:\n",
    "            return('Too many properties specified')\n",
    "\n",
    "        plt.show()"
   ]
  },
  {
   "cell_type": "code",
   "execution_count": 16,
   "metadata": {
    "collapsed": true
   },
   "outputs": [],
   "source": [
    "def plot_1d_indv_aa_propensities(df, cont_prop, aa_dict):\n",
    "    \"\"\"\n",
    "    Plots propensity of each amino acid of interest vs. a continuous property of interest (typically z-coordinate)\n",
    "    Input: dataframe of barrel / sandwich properties, name of continuous property of interest (specified via the\n",
    "           name of the corresponding column in the input dataframe), and dictionary of amino acid abbreviations\n",
    "    \"\"\"\n",
    "    df = df[~df[cont_prop].isin(['', 'NaN', 'nan', np.nan])]\n",
    "    df = df.reset_index(drop=True)\n",
    "\n",
    "    for aa in list(aa_dict.keys()):\n",
    "        print(aa)\n",
    "        \n",
    "        plt.clf()\n",
    "        overall_data = np.asarray(df[cont_prop].tolist())\n",
    "        overall_data = overall_data.astype(np.float64)\n",
    "        x_values_overall, y_values_overall = sns.distributions._statsmodels_univariate_kde(\n",
    "            data=overall_data, kernel='gau', bw='scott', gridsize=100, cut=3, clip=(-np.inf, np.inf),\n",
    "            cumulative=False\n",
    "        )\n",
    "\n",
    "        aa_df = df[df['fasta_seq'] == aa]\n",
    "        aa_df = aa_df.reset_index(drop=True)\n",
    "        \n",
    "        # Determines range over which interpolation is carried out\n",
    "        min_x_vals = [min(df[cont_prop]), min(aa_df[cont_prop])]\n",
    "        max_x_vals = [max(df[cont_prop]), max(aa_df[cont_prop])]\n",
    "        x_range = [max(min_x_vals), min(max_x_vals)]\n",
    "        \n",
    "        plt.clf()\n",
    "        indv_data = np.asarray(aa_df[cont_prop].tolist())\n",
    "        indv_data = indv_data.astype(np.float64)\n",
    "        x_values_indv, y_values_indv = sns.distributions._statsmodels_univariate_kde(\n",
    "            data=indv_data, kernel='gau', bw='scott', gridsize=100, cut=3, clip=(-np.inf, np.inf),\n",
    "            cumulative=False\n",
    "        )\n",
    "\n",
    "        x_values_indv_copy = list(copy.deepcopy(x_values_indv))\n",
    "        propensities = ['']*len(x_values_indv)\n",
    "\n",
    "        # Interpolate overall KDE since it has been calculated from more data points\n",
    "        for index_1, value_1 in np.ndenumerate(x_values_indv):\n",
    "            index_1 = index_1[0]\n",
    "            x_indv = x_values_indv[index_1]\n",
    "            y_indv = y_values_indv[index_1]\n",
    "\n",
    "            if (   x_indv < x_range[0]\n",
    "                or x_indv > x_range[-1]\n",
    "            ):\n",
    "                x_values_indv_copy[index_1] = ''\n",
    "            else:\n",
    "                interpolate_x_indices = []\n",
    "                for index_2, value_2 in np.ndenumerate(x_values_overall):\n",
    "                    index_2 = index_2[0]\n",
    "                    if x_values_overall[index_2] == x_indv:\n",
    "                        if index_2 < (len(x_values_overall)-1):\n",
    "                            interpolate_x_indices = [index_2, index_2+1]\n",
    "                        else:\n",
    "                            interpolate_x_indices = [index_2-1, index_2]\n",
    "                        break\n",
    "                    elif (    x_values_overall[index_2] < x_indv\n",
    "                        and x_values_overall[index_2+1] > x_indv\n",
    "                    ):\n",
    "                        interpolate_x_indices = [index_2, index_2+1]\n",
    "                        break\n",
    "\n",
    "                x_1 = x_values_overall[interpolate_x_indices[0]]\n",
    "                x_2 = x_values_overall[interpolate_x_indices[1]]\n",
    "                y_1 = y_values_overall[interpolate_x_indices[0]]\n",
    "                y_2 = y_values_overall[interpolate_x_indices[1]]\n",
    "\n",
    "                y_1_weight = abs(x_2 - x_indv) / abs(x_2 - x_1)\n",
    "                y_2_weight = abs(x_indv - x_1) / abs(x_2 - x_1)\n",
    "\n",
    "                y_overall = (y_1*y_1_weight) + (y_2*y_2_weight)\n",
    "                \n",
    "                propensity = y_indv / y_overall\n",
    "                propensities[index_1] = propensity\n",
    "\n",
    "        x_values_indv_copy = [x for x in x_values_indv_copy if x != '']\n",
    "        propensities = [y for y in propensities if y != '']\n",
    "\n",
    "        plt.clf()\n",
    "        plt.figure(figsize=(10, 5))\n",
    "        axes = plt.gca()\n",
    "        axes.set_xlim([-40,60])\n",
    "        # axes.set_ylim([0,10])\n",
    "        plt.plot(np.array(x_values_indv_copy), np.array(propensities))\n",
    "        plt.show()"
   ]
  },
  {
   "cell_type": "code",
   "execution_count": null,
   "metadata": {
    "collapsed": true
   },
   "outputs": [],
   "source": [
    "def plot_2d_indv_aa_propensities(df, cont_prop_1, cont_prop_2, aa_dict):\n",
    "    \"\"\"\n",
    "    Plots propensity of each amino acid of interest vs. a continuous property of interest (typically z-coordinate)\n",
    "    Input: dataframe of barrel / sandwich properties, name of continuous property of interest (specified via the\n",
    "           name of the corresponding column in the input dataframe), and dictionary of amino acid abbreviations\n",
    "    \"\"\"\n",
    "    for aa in list(aa_dict.keys()):\n",
    "        print(aa)\n",
    "        \n",
    "        plt.clf()\n",
    "        overall_data_1 = np.asarray(df[cont_prop_1].tolist())\n",
    "        overall_data_1 = overall_data_1.astype(np.float64)\n",
    "        overall_data_2 = np.asarray(df[cont_prop_2].tolist())\n",
    "        overall_data_2 = overall_data_2.astype(np.float64)\n",
    "        x_values_overall, y_values_overall, z_values_overall = sns.distributions._statsmodels_bivariate_kde(\n",
    "            x=overall_data_1, y=overall_data_2, bw='scott', gridsize=100, cut=3, clip=(-np.inf, np.inf)\n",
    "        )\n",
    "\n",
    "        # Keep separate from code for first plot - only one can be held in memory at a time!\n",
    "        aa_df = df[df['fasta_seq'] == aa]\n",
    "        aa_df = aa_df.reset_index(drop=True)\n",
    "        \n",
    "        plt.clf()\n",
    "        indv_data_1 = np.asarray(aa_df[cont_prop_1].tolist())\n",
    "        indv_data_1 = indv_data_1.astype(np.float64)\n",
    "        indv_data_2 = np.asarray(aa_df[cont_prop_2].tolist())\n",
    "        indv_data_2 = indv_data_2.astype(np.float64)\n",
    "        x_values_indv, y_values_indv, z_values_indv = sns.distributions._statsmodels_bivariate_kde(\n",
    "            x=indv_data_1, y=indv_data_2, bw='scott', gridsize=100, cut=3, clip=(-np.inf, np.inf)\n",
    "        )\n",
    "        \n",
    "        min_x_vals = [min(df[cont_prop_1]), min(aa_df[cont_prop_1])]\n",
    "        max_x_vals = [max(df[cont_prop_1]), max(aa_df[cont_prop_1])]\n",
    "        min_y_vals = [min(df[cont_prop_2]), min(aa_df[cont_prop_2])]\n",
    "        max_y_vals = [max(df[cont_prop_2]), max(aa_df[cont_prop_2])]\n",
    "        x_range = [max(min_x_vals), min(max_x_vals)]\n",
    "        y_range = [max(min_y_vals), min(max_y_vals)]\n",
    "\n",
    "        propensities = np.full((len(x_values_indv), len(y_values_indv)), np.nan)\n",
    "        # Interpolate overall KDE since it has been calculated from more data points\n",
    "        for index_1, value_1 in np.ndenumerate(z_values_indv):\n",
    "            row = index_1[0]\n",
    "            column = index_1[1]\n",
    "\n",
    "            x_indv = x_values_indv[row][column]\n",
    "            y_indv = y_values_indv[row][column]\n",
    "\n",
    "            interpolate_x_indices = []\n",
    "            interpolate_y_indices = []\n",
    "\n",
    "            # Finds x,y pairs in overall z distribution for interpolation\n",
    "            if (   x_indv < x_range[0]\n",
    "                or x_indv > x_range[-1]\n",
    "                or y_indv < y_range[0]\n",
    "                or y_indv > y_range[-1]\n",
    "            ):\n",
    "                interpolate_x_indices.append('')\n",
    "                interpolate_y_indices.append('')\n",
    "            else:\n",
    "                x_dist = x_values_overall[0]\n",
    "                for index_2, value_2 in np.ndenumerate(x_dist):\n",
    "                    index_2 = index_2[0]\n",
    "                    if x_dist[index_2] == x_indv:\n",
    "                        if index_2 != (len(x_dist)-1)\n",
    "                            interpolate_x_indices.append(index_2, index_2+1)\n",
    "                        else:\n",
    "                            interpolate_x_indices.append(index_2-1, index_2)\n",
    "                        break\n",
    "                    elif (    x_dist[index_2] < x_indv\n",
    "                        and x_dist[index_2+1] > x_indv\n",
    "                    ):\n",
    "                        interpolate_x_indices.append(index_2)\n",
    "                        interpolate_x_indices.append(index_2+1)\n",
    "                        break\n",
    "\n",
    "                y_dist = np.transpose(y_values_overall)[0]\n",
    "                for index_3, value_3 in np.ndenumerate(y_dist):\n",
    "                    index_3 = index_3[0]\n",
    "                    if y_dist[index_2] == y_indv:\n",
    "                        if index_2 != (len(y_dist)-1)\n",
    "                            interpolate_y_indices.append(index_2, index_2+1)\n",
    "                        else:\n",
    "                            interpolate_y_indices.append(index_2-1, index_2)\n",
    "                        break\n",
    "                    elif (    y_dist[index_2] < y_indv\n",
    "                        and y_dist[index_2+1] > y_indv\n",
    "                    ):\n",
    "                        interpolate_y_indices.append(index_2)\n",
    "                        interpolate_y_indices.append(index_2+1)\n",
    "                        break\n",
    "\n",
    "            # Bilinear interpolation calculation\n",
    "            if interpolate_x_indices != [''] and interpolate_y_indices != ['']:\n",
    "                x1 = x_values_overall[0][interpolate_x_indices[0]]\n",
    "                x2 = x_values_overall[0][interpolate_x_indices[1]]\n",
    "                y1 = y_values_overall[interpolate_y_indices[0]][0]\n",
    "                y2 = y_values_overall[interpolate_y_indices[1]][0]\n",
    "                z11 = z_values_overall[interpolate_x_indices[0]][interpolate_y_indices[0]]\n",
    "                z12 = z_values_overall[interpolate_x_indices[1]][interpolate_y_indices[0]]\n",
    "                z21 = z_values_overall[interpolate_x_indices[0]][interpolate_y_indices[1]]\n",
    "                z22 = z_values_overall[interpolate_x_indices[1]][interpolate_y_indices[1]]\n",
    "\n",
    "                # Interpolation in x\n",
    "                x1_weight = abs(x2 - x_indv) / abs(x2 - x1)\n",
    "                x2_weight = abs(x_indv - x1) / abs(x2 - x1)\n",
    "                x_y1 = (z11*x1_weight) + (z12*x2_weight)\n",
    "                x_y2 = (z21*x1_weight) + (z22*x2_weight)\n",
    "\n",
    "                # Interpolation in y\n",
    "                y1_weight = abs(y2 - y_indv) / abs(y2 - y1)\n",
    "                y2_weight = abs(y_indv - y1) / abs(y2 - y1)\n",
    "                z_indv = (x_y1*y1_weight) + (x_y2*y2_weight)\n",
    "\n",
    "                # Propensity calculation\n",
    "                z_overall = z_values_overall[row][column]\n",
    "                propensity = z_indv / z_overall\n",
    "                propensities[row][column] = propensity\n",
    "            else:\n",
    "                x_values_indv[row][column] = np.nan\n",
    "                y_values_indv[row][column] = np.nan\n",
    "\n",
    "        plt.clf()\n",
    "        fig, ax = plt.figure(figsize=(10, 5))\n",
    "        ax.contourf(x_values_indv, y_values_indv, propensities, levels=10)\n",
    "        plt.show()"
   ]
  },
  {
   "cell_type": "code",
   "execution_count": null,
   "metadata": {
    "collapsed": true
   },
   "outputs": [],
   "source": [
    "def plot_1d_pairwise_aa_propensities(df, interaction, prop_1, aa_dict, propensity_df):\n",
    "    \"\"\"\n",
    "    Calculates propensities of the different amino acids to interact with one another vs. z-coordinate\n",
    "    Input: Dictionary of amino acid pairs and their z_coordinates, dictionary of amino acid abbreviations,\n",
    "           dataframe of amino acid pairwise propensities (not corrected for z_coordinate)\n",
    "    \"\"\"\n",
    "    domain_res_ids_list = []\n",
    "    for row in range(df.shape[0]):\n",
    "        domain_id = df['domain_ids'][row]\n",
    "        res_id = df['res_ids'][row]\n",
    "        domain_res_id = domain_id + res_id\n",
    "        domain_res_ids_list.append(domain_res_id)\n",
    "\n",
    "    repeat_pairs_list = []\n",
    "    prop_1_dict = OrderedDict()\n",
    "\n",
    "    for row in range(df.shape[0]):\n",
    "        domain_res_id_1 = df['domain_ids'][row] + df['res_ids'][row]\n",
    "        aa_1 = df['fasta_seq'][row]\n",
    "        prop_1_val_1 = df[prop_1][row]\n",
    "\n",
    "        for res_id_2 in df[interaction][row]:\n",
    "            domain_res_id_2 = df['domain_ids'][row] + res_id_2\n",
    "\n",
    "            # Only considers amino acid pairs in which both (canonical) amino acids are located in the domain\n",
    "            if domain_res_id_2 in domain_res_ids_list:\n",
    "                res_id_2_index = domain_res_ids_list.index(domain_res_id_2)\n",
    "                aa_2 = df['fasta_seq'][res_id_2_index]\n",
    "                prop_1_val_2 = df[prop_1][res_id_2_index]\n",
    "\n",
    "                if (\n",
    "                        aa_1 in list(aa_dict.keys())\n",
    "                    and aa_2 in list(aa_dict.keys())\n",
    "                    and (not [domain_res_id_1, domain_res_id_2] in repeat_pairs_list)\n",
    "                    and (not [domain_res_id_2, domain_res_id_1] in repeat_pairs_list)\n",
    "                ):  # Each amino acid pair is counted once, in both orientations\n",
    "                    repeat_pairs_list.append([domain_res_id_1, domain_res_id_2])\n",
    "                    repeat_pairs_list.append([domain_res_id_2, domain_res_id_1])\n",
    "\n",
    "                    prop_1_dict['{}_{}_{}_{}'.format(domain_res_id_1, domain_res_id_2, aa_1, aa_2)] = [prop_1_val_1, prop_1_val_2]\n",
    "                    prop_1_dict['{}_{}_{}_{}'.format(domain_res_id_2, domain_res_id_1, aa_2, aa_1)] = [prop_1_val_2, prop_1_val_1]\n",
    "\n",
    "    propensity_df = propensity_df.set_index('FASTA', drop=True)\n",
    "\n",
    "    for aa_1 in list(aa_dict.keys()):\n",
    "        for aa_2 in list(aa_dict.keys()):\n",
    "            print('Propensity for {} to interact with {}'.format(aa_1, aa_2))\n",
    "\n",
    "            all_aa_prop_1_list = []\n",
    "            aa_1_prop_1_list = []\n",
    "            aa_2_prop_1_list = []\n",
    "            aa_1_aa_2_prop_1_list = []\n",
    "            \n",
    "            for aa_pair in list(prop_1_dict.keys()):\n",
    "                aas = aa_pair.split('_')[2:]\n",
    "\n",
    "                all_aa_prop_1_list.append(prop_1_dict[aa_pair][0])\n",
    "                if aa_1 == aas[0]:\n",
    "                    aa_1_prop_1_list.append(prop_1_dict[aa_pair][0])\n",
    "                if aa_2 == aas[-1]:\n",
    "                    aa_2_prop_1_list.append(prop_1_dict[aa_pair][0])  # Want z_coords of aas interacting with aa_2\n",
    "                if aa_1 == aas[0] and aa_2 == aas[-1]:\n",
    "                    aa_1_aa_2_prop_1_list.append(prop_1_dict[aa_pair][0])\n",
    "            \n",
    "            plt.clf()\n",
    "            all_aa_prop_1 = np.asarray(all_aa_prop_1_list)\n",
    "            all_aa_prop_1 = all_aa_prop_1.astype(np.float64)\n",
    "            x_all_aa_list, y_all_aa_list = sns.distributions._statsmodels_univariate_kde(\n",
    "                data=all_aa_prop_1, kernel='gau', bw='scott', gridsize=100, cut=3, clip=(-np.inf, np.inf),\n",
    "                cumulative=False\n",
    "            )\n",
    "\n",
    "            plt.clf()\n",
    "            aa_1_prop_1 = np.asarray(aa_1_prop_1_list)\n",
    "            aa_1_prop_1 = aa_1_prop_1.astype(np.float64)\n",
    "            x_aa_1_list, y_aa_1_list = sns.distributions._statsmodels_univariate_kde(\n",
    "                data=aa_1_prop_1, kernel='gau', bw='scott', gridsize=100, cut=3, clip=(-np.inf, np.inf),\n",
    "                cumulative=False\n",
    "            )\n",
    "\n",
    "            plt.clf()\n",
    "            aa_2_prop_1 = np.asarray(aa_2_prop_1_list)\n",
    "            aa_2_prop_1 = aa_2_prop_1.astype(np.float64)\n",
    "            x_aa_2_list, y_aa_2_list = sns.distributions._statsmodels_univariate_kde(\n",
    "                data=aa_2_prop_1, kernel='gau', bw='scott', gridsize=100, cut=3, clip=(-np.inf, np.inf),\n",
    "                cumulative=False\n",
    "            )\n",
    " \n",
    "            plt.clf()\n",
    "            aa_1_aa_2_prop_1 = np.asarray(aa_1_aa_2_prop_1_list)\n",
    "            aa_1_aa_2_prop_1 = aa_1_aa_2_prop_1.astype(np.float64)\n",
    "            x_aa_1_aa_2_list, y_aa_1_aa_2_list = sns.distributions._statsmodels_univariate_kde(\n",
    "                data=aa_1_aa_2_prop_1, kernel='gau', bw='scott', gridsize=100, cut=3, clip=(-np.inf, np.inf),\n",
    "                cumulative=False\n",
    "            )\n",
    "            \n",
    "            x_coord_lists = [x_all_aa_list, x_aa_1_list, x_aa_2_list]\n",
    "            y_coord_lists = [y_all_aa_list, y_aa_1_list, y_aa_2_list]\n",
    "\n",
    "            x_aa_1_aa_2_list_copy = copy.deepcopy(x_aa_1_aa_2_list)\n",
    "            interpolated_y_coord_lists = [['']*len(x_aa_1_aa_2_list_copy) for num in range(3)]\n",
    "            propensities = ['']*len(x_aa_1_aa_2_list_copy)\n",
    "            x_min = max([min(all_aa_prop_1_list), min(aa_1_prop_1_list), min(aa_2_prop_1_list), min(aa_1_aa_2_prop_1_list)])\n",
    "            x_max = min([max(all_aa_prop_1_list), max(aa_1_prop_1_list), max(aa_2_prop_1_list), max(aa_1_aa_2_prop_1_list)])\n",
    "\n",
    "            for index_1, value_1 in enumerate(x_aa_1_aa_2_list):\n",
    "                x_aa_1_aa_2 = x_aa_1_aa_2_list[index_1]\n",
    "                y_aa_1_aa_2 = y_aa_1_aa_2_list[index_1]\n",
    "                \n",
    "                if (\n",
    "                       x_aa_1_aa_2 < x_min\n",
    "                    or x_aa_1_aa_2 > x_max\n",
    "                ):\n",
    "                    x_aa_1_aa_2_list_copy[index_1] = ''\n",
    "                else:\n",
    "                    for index_2, value_2 in enumerate(x_coord_lists):\n",
    "                        x_coord_list = x_coord_lists[index_2]\n",
    "                        y_coord_list = y_coord_lists[index_2]\n",
    "                        \n",
    "                        interpolate_x_indices = []\n",
    "                        for index_3, value_3 in enumerate(x_coord_list):\n",
    "                            x_coord = copy.deepcopy(value_3)\n",
    "                            if x_aa_1_aa_2 == x_coord:\n",
    "                                interpolate_x_indices.append(index_3)\n",
    "                                break\n",
    "                            elif x_coord_list[index_3] < x_aa_1_aa_2 and x_coord_list[index_3+1] > x_aa_1_aa_2:\n",
    "                                interpolate_x_indices.append(index_3)\n",
    "                                interpolate_x_indices.append(index_3+1)\n",
    "                                break\n",
    "\n",
    "                        if len(interpolate_x_indices) == 1:\n",
    "                            y = y_coord_list[interpolate_x_indices[0]]\n",
    "                            interpolated_y_coord_lists[index_2][index_1] = y\n",
    "                        elif len(interpolate_x_indices) == 2:\n",
    "                            x_1 = x_coord_list[interpolate_x_indices[0]]\n",
    "                            x_2 = x_coord_list[interpolate_x_indices[1]]\n",
    "                            y_1 = y_coord_list[interpolate_x_indices[0]]\n",
    "                            y_2 = y_coord_list[interpolate_x_indices[1]]\n",
    "\n",
    "                            y_1_weight = abs(x_2 - x_aa_1_aa_2) / abs(x_2 - x_1)\n",
    "                            y_2_weight = abs(x_aa_1_aa_2 - x_1) / abs(x_2 - x_1)\n",
    "\n",
    "                            y = (y_1*y_1_weight) + (y_2*y_2_weight)\n",
    "                            interpolated_y_coord_lists[index_2][index_1] = y\n",
    "                        else:\n",
    "                            print('Error with interpolation calculation')\n",
    "                            print(interpolate_x_indices)\n",
    "                            x_aa_1_aa_2_list_copy[index_1] = ''\n",
    "                            \n",
    "            for index_1, value_1 in enumerate(x_aa_1_aa_2_list_copy):\n",
    "                if value_1 != '':\n",
    "                    y_all_aa = interpolated_y_coord_lists[0][index_1]\n",
    "                    y_aa_1 = interpolated_y_coord_lists[1][index_1]\n",
    "                    y_aa_2 = interpolated_y_coord_lists[2][index_1]\n",
    "                    y_aa_1_aa_2 = y_aa_1_aa_2_list[index_1]\n",
    "                    y_ratio = ((y_aa_1_aa_2 / y_aa_1)\n",
    "                               / (y_aa_2 / y_all_aa))\n",
    "                    propensity = y_ratio * propensity_df[aa_1][aa_2]  # Propensity of aa_1 to interact with aa_2 (not corrected for z)\n",
    "                    propensities[index_1] = propensity\n",
    "\n",
    "            # Plots kernel density estimates used in the calculation of the pairwise amino acid propensity plot\n",
    "            plt.clf()\n",
    "            plt.figure(figsize=(10, 5))\n",
    "            axes = plt.gca()\n",
    "            axes.set_xlim([-40,60])\n",
    "            \n",
    "            sns.distplot(all_aa_prop_1_list, hist=False, rug=True, kde_kws={'bw':'scott'}, rug_kws={'alpha': 0.1})\n",
    "            sns.distplot(aa_1_prop_1_list, hist=False, rug=True, kde_kws={'bw':'scott'}, rug_kws={'alpha': 0.1})\n",
    "            sns.distplot(aa_2_prop_1_list, hist=False, rug=True, kde_kws={'bw':'scott'}, rug_kws={'alpha': 0.1})\n",
    "            sns.distplot(aa_1_aa_2_prop_1_list, hist=False, rug=True, kde_kws={'bw':'scott'}, rug_kws={'alpha': 0.1})\n",
    "\n",
    "            plt.show()\n",
    "\n",
    "            # Plots pairwise amino acid propensities vs. z-coordinate\n",
    "            x_aa_1_aa_2_list_copy = [x for x in x_aa_1_aa_2_list_copy if x != '']\n",
    "            propensities = [y for y in propensities if y != '']\n",
    "\n",
    "            plt.clf()\n",
    "            plt.figure(figsize=(10, 5))\n",
    "            axes = plt.gca()\n",
    "            axes.set_xlim([-40,60])\n",
    "            # axes.set_ylim([0,10])\n",
    "            plt.plot(np.array(x_aa_1_aa_2_list_copy), np.array(propensities))\n",
    "            plt.show()"
   ]
  },
  {
   "cell_type": "code",
   "execution_count": null,
   "metadata": {
    "collapsed": true
   },
   "outputs": [],
   "source": [
    "def plot_2d_pairwise_aa_propensities(df, interaction, prop_1, prop_2, aa_dict, propensity_df):\n",
    "    \"\"\"\n",
    "    Calculates propensities of the different amino acids to interact with one another vs. z-coordinate\n",
    "    Input: Dictionary of amino acid pairs and their z_coordinates, dictionary of amino acid abbreviations,\n",
    "           dataframe of amino acid pairwise propensities (not corrected for z_coordinate)\n",
    "    \"\"\"\n",
    "    propensity_dict = OrderedDict()\n",
    "\n",
    "    domain_res_ids_list = []\n",
    "    for row in range(df.shape[0]):\n",
    "        domain_id = df['domain_ids'][row]\n",
    "        res_id = df['res_ids'][row]\n",
    "        domain_res_id = domain_id + res_id\n",
    "        domain_res_ids_list.append(domain_res_id)\n",
    "\n",
    "    repeat_pairs_list = []\n",
    "    prop_1_dict = OrderedDict()\n",
    "    prop_2_dict = OrderedDict()\n",
    "\n",
    "    for row in range(df.shape[0]):\n",
    "        domain_res_id_1 = df['domain_ids'][row] + df['res_ids'][row]\n",
    "        aa_1 = df['fasta_seq'][row]\n",
    "        prop_1_val_1 = df[prop_1][row]\n",
    "        prop_2_val_1 = df[prop_2][row]\n",
    "\n",
    "        for res_id_2 in df[interaction][row]:\n",
    "            domain_res_id_2 = df['domain_ids'][row] + res_id_2\n",
    "\n",
    "            # Only considers amino acid pairs in which both (canonical) amino acids are located in the domain\n",
    "            if domain_res_id_2 in domain_res_ids_list:\n",
    "                res_id_2_index = domain_res_ids_list.index(domain_res_id_2)\n",
    "                aa_2 = df['fasta_seq'][res_id_2_index]\n",
    "                prop_1_val_2 = df[prop_1][res_id_2_index]\n",
    "                prop_2_val_2 = df[prop_2][res_id_2_index]\n",
    "\n",
    "                if (\n",
    "                        aa_1 in list(aa_dict.keys())\n",
    "                    and aa_2 in list(aa_dict.keys())\n",
    "                    and (not [domain_res_id_1, domain_res_id_2] in repeat_pairs_list)\n",
    "                    and (not [domain_res_id_2, domain_res_id_1] in repeat_pairs_list)\n",
    "                ):  # Each amino acid pair is counted once, in both orientations\n",
    "                    repeat_pairs_list.append([domain_res_id_1, domain_res_id_2])\n",
    "                    repeat_pairs_list.append([domain_res_id_2, domain_res_id_1])\n",
    "\n",
    "                    prop_1_dict['{}_{}_{}_{}'.format(domain_res_id_1, domain_res_id_2, aa_1, aa_2)] = [prop_1_val_1, prop_1_val_2]\n",
    "                    prop_1_dict['{}_{}_{}_{}'.format(domain_res_id_2, domain_res_id_1, aa_2, aa_1)] = [prop_1_val_2, prop_1_val_1]\n",
    "                    prop_2_dict['{}_{}_{}_{}'.format(domain_res_id_1, domain_res_id_2, aa_1, aa_2)] = [prop_2_val_1, prop_2_val_2]\n",
    "                    prop_2_dict['{}_{}_{}_{}'.format(domain_res_id_2, domain_res_id_1, aa_2, aa_1)] = [prop_2_val_2, prop_2_val_1]\n",
    "\n",
    "    propensity_df = propensity_df.set_index('FASTA', drop=True)\n",
    "\n",
    "    for aa_1 in list(aa_dict.keys()):\n",
    "        for aa_2 in list(aa_dict.keys()):\n",
    "            print('Propensity for {} to interact with {}'.format(aa_1, aa_2))\n",
    "\n",
    "            all_aa_prop_1_list = []\n",
    "            aa_1_prop_1_list = []\n",
    "            aa_2_prop_1_list = []\n",
    "            aa_1_aa_2_prop_1_list = []\n",
    "            all_aa_prop_2_list = []\n",
    "            aa_1_prop_2_list = []\n",
    "            aa_2_prop_2_list = []\n",
    "            aa_1_aa_2_prop_2_list = []\n",
    "            \n",
    "            for aa_pair in list(prop_1_dict.keys()):\n",
    "                aas = aa_pair.split('_')[2:]\n",
    "\n",
    "                all_aa_prop_1_list.append(prop_1_dict[aa_pair][0])\n",
    "                if aa_1 == aas[0]:\n",
    "                    aa_1_prop_1_list.append(prop_1_dict[aa_pair][0])\n",
    "                if aa_2 == aas[-1]:\n",
    "                    aa_2_prop_1_list.append(prop_1_dict[aa_pair][0])  # Want z_coords of aas interacting with aa_2\n",
    "                if aa_1 == aas[0] and aa_2 == aas[-1]:\n",
    "                    aa_1_aa_2_prop_1_list.append(prop_1_dict[aa_pair][0])\n",
    "\n",
    "                all_aa_prop_2_list.append(prop_2_dict[aa_pair][0])\n",
    "                if aa_1 == aas[0]:\n",
    "                    aa_1_prop_2_list.append(prop_2_dict[aa_pair][0])\n",
    "                if aa_2 == aas[-1]:\n",
    "                    aa_2_prop_2_list.append(prop_2_dict[aa_pair][0])  # Want z_coords of aas interacting with aa_2\n",
    "                if aa_1 == aas[0] and aa_2 == aas[-1]:\n",
    "                    aa_1_aa_2_prop_2_list.append(prop_2_dict[aa_pair][0])\n",
    "\n",
    "            plt.clf()\n",
    "            all_aa_prop_1 = np.asarray(all_aa_prop_1_list)\n",
    "            all_aa_prop_1 = all_aa_prop_1.astype(np.float64)\n",
    "            all_aa_prop_2 = np.asarray(all_aa_prop_2_list)\n",
    "            all_aa_prop_2 = all_aa_prop_2.astype(np.float64)\n",
    "            x_all_aa_list, y_all_aa_list, z_all_aa_list = sns.distributions._statsmodels_bivariate_kde(\n",
    "                x=all_aa_prop_1, y=all_aa_prop_2, bw='scott', gridsize=100, cut=3, clip=(-np.inf, np.inf)\n",
    "            )\n",
    "\n",
    "            plt.clf()\n",
    "            aa_1_prop_1 = np.asarray(aa_1_prop_1_list)\n",
    "            aa_1_prop_1 = aa_1_prop_1.astype(np.float64)\n",
    "            aa_1_prop_2 = np.asarray(aa_1_prop_2_list)\n",
    "            aa_1_prop_2 = aa_1_prop_2.astype(np.float64)\n",
    "            x_aa_1_list, y_aa_1_list, z_aa_1_list = sns.distributions._statsmodels_bivariate_kde(\n",
    "                x=aa_1_prop_1, y=aa_1_prop_2, bw='scott', gridsize=100, cut=3, clip=(-np.inf, np.inf)\n",
    "            )\n",
    "\n",
    "            plt.clf()\n",
    "            aa_2_prop_1 = np.asarray(aa_2_prop_1_list)\n",
    "            aa_2_prop_1 = aa_2_prop_1.astype(np.float64)\n",
    "            aa_2_prop_2 = np.asarray(aa_2_prop_2_list)\n",
    "            aa_2_prop_2 = aa_2_prop_2.astype(np.float64)\n",
    "            x_aa_2_list, y_aa_2_list, z_aa_2_list = sns.distributions._statsmodels_bivariate_kde(\n",
    "                x=aa_2_prop_1, y=aa_2_prop_2, bw='scott', gridsize=100, cut=3, clip=(-np.inf, np.inf)\n",
    "            )\n",
    " \n",
    "            plt.clf()\n",
    "            aa_1_aa_2_prop_1 = np.asarray(aa_1_aa_2_prop_1_list)\n",
    "            aa_1_aa_2_prop_1 = aa_1_aa_2_prop_1.astype(np.float64)\n",
    "            aa_1_aa_2_prop_2 = np.asarray(aa_1_aa_2_prop_2_list)\n",
    "            aa_1_aa_2_prop_2 = aa_1_aa_2_prop_2.astype(np.float64)\n",
    "            x_aa_1_aa_2_list, y_aa_1_aa_2_list, z_aa_1_aa_2_list = sns.distributions._statsmodels_bivariate_kde(\n",
    "                x=aa_1_aa_2_prop_1, y=aa_1_aa_2_prop_2, bw='scott', gridsize=100, cut=3, clip=(-np.inf, np.inf)\n",
    "            )\n",
    "            \n",
    "            x_coord_lists = [x_all_aa_list, x_aa_1_list, x_aa_2_list]\n",
    "            y_coord_lists = [y_all_aa_list, y_aa_1_list, y_aa_2_list]\n",
    "            z_coord_lists = [z_all_aa_list, z_aa_1_list, z_aa_2_list]\n",
    "\n",
    "            propensities = np.full((len(x_aa_1_aa_2_list), len(y_aa_1_aa_2_list)), np.nan)\n",
    "            \n",
    "            x_min = max([min(all_aa_prop_1_list), min(aa_1_prop_1_list), min(aa_2_prop_1_list), min(aa_1_aa_2_prop_1_list)])\n",
    "            x_max = min([max(all_aa_prop_1_list), max(aa_1_prop_1_list), max(aa_2_prop_1_list), max(aa_1_aa_2_prop_1_list)])\n",
    "            y_min = max([min(all_aa_prop_2_list), min(aa_1_prop_2_list), min(aa_2_prop_2_list), min(aa_1_aa_2_prop_2_list)])\n",
    "            y_max = min([max(all_aa_prop_2_list), max(aa_1_prop_2_list), max(aa_2_prop_2_list), max(aa_1_aa_2_prop_2_list)])\n",
    "\n",
    "\n",
    "            for index_1, value_1 in np.ndenumerate(z_aa_1_aa_2_list):\n",
    "                row = index_1[0]\n",
    "                column = index_1[1]\n",
    "\n",
    "                x_aa_1_aa_2 = x_aa_1_aa_2_list[row][column]\n",
    "                y_aa_1_aa_2 = y_aa_1_aa_2_list[row][column]\n",
    "                z_aa_1_aa_2 = z_aa_1_aa_2_list[row][column]\n",
    "                \n",
    "                interpolated_z_vals = []\n",
    "\n",
    "                # Finds x,y pairs in overall z distribution for interpolation\n",
    "                if (\n",
    "                       x_aa_1_aa_2 < x_min\n",
    "                    or x_aa_1_aa_2 > x_max\n",
    "                    or y_aa_1_aa_2 < y_min\n",
    "                    or y_aa_1_aa_2 > y_max\n",
    "                ):\n",
    "                    interpolated_z_vals.append('')\n",
    "                    interpolated_z_vals.append('')\n",
    "                else:\n",
    "                    for index_2, value_2 in enumerate(x_coord_lists):\n",
    "                        x_coord_list = x_coord_lists[index_2]\n",
    "                        y_coord_list = y_coord_lists[index_2]\n",
    "                        z_coord_list = z_coord_lists[index_2]\n",
    "                        \n",
    "                        interpolate_x_indices = []\n",
    "                        for index_3, value_3 in enumerate(x_coord_list):\n",
    "                            x_coord = copy.deepcopy(value_3)\n",
    "                            if x_aa_1_aa_2 == x_coord:\n",
    "                                if index_3 < (len(x_coord_list)-1):\n",
    "                                    interpolate_x_indices = [index_3, index_3+1]\n",
    "                                else:\n",
    "                                    interpolate_x_indices = [index_3-1, index_3]\n",
    "                                break\n",
    "                            elif x_coord_list[index_3] < x_aa_1_aa_2 and x_coord_list[index_3+1] > x_aa_1_aa_2:\n",
    "                                interpolate_x_indices = [index_3, index_3+1]\n",
    "                                break\n",
    "                                \n",
    "                        interpolate_y_indices = []\n",
    "                        for index_4, value_4 in enumerate(y_coord_list):\n",
    "                            y_coord = copy.deepcopy(value_4)\n",
    "                            if y_aa_1_aa_2 == y_coord:\n",
    "                                if index_3 < (len(y_coord_list)-1):\n",
    "                                    interpolate_y_indices = [index_4, index_4+1]\n",
    "                                else:\n",
    "                                    interpolate_y_indices = [index_4-1, index_4]\n",
    "                                break\n",
    "                            elif y_coord_list[index_4] < y_aa_1_aa_2 and y_coord_list[index_4+1] > y_aa_1_aa_2:\n",
    "                                interpolate_y_indices = [index_4, index_4+1]\n",
    "                                break\n",
    "\n",
    "                        # Bilinear interpolation\n",
    "                        x1 = x_coord_list[0][interpolate_x_indices[0]]\n",
    "                        x2 = x_coord_list[0][interpolate_x_indices[1]]\n",
    "                        y1 = y_coord_list[interpolate_x_indices[0]][0]\n",
    "                        y2 = y_coord_list[interpolate_x_indices[1]][0]\n",
    "                        z11 = z_coord_list[interpolate_x_indices[0]][interpolate_y_indices[0]]\n",
    "                        z12 = z_coord_list[interpolate_x_indices[1]][interpolate_y_indices[0]]\n",
    "                        z21 = z_coord_list[interpolate_x_indices[0]][interpolate_y_indices[1]]\n",
    "                        z22 = z_coord_list[interpolate_x_indices[1]][interpolate_y_indices[1]]\n",
    "\n",
    "                        x1_weight = abs(x2 - x_aa_1_aa_2) / abs(x2 - x1)\n",
    "                        x2_weight = abs(x_aa_1_aa_2 - x1) / abs(x2 - x1)\n",
    "                        y1_weight = abs(y2 - y_aa_1_aa_2) / abs(y2 - y1)\n",
    "                        y2_weight = abs(y_aa_1_aa_2 - y1) / abs(y2 - y1)\n",
    "\n",
    "                        xy1 = (z11*x1_weight) + (z12*x2_weight)\n",
    "                        xy2 = (z21*x1_weight) + (z22*x2_weight)\n",
    "                        \n",
    "                        z = (xy1*y1_weight)+(xy2*y2_weight)\n",
    "                        interpolated_z_vals.append(z)\n",
    "                \n",
    "                if interpolated_z_vals != ['']:\n",
    "                    z_all_aa = interpolated_z_vals[0]\n",
    "                    z_aa_1 = interpolated_z_vals[1]\n",
    "                    z_aa_2 = interpolated_z_vals[2]\n",
    "                    z_ratio = ((z_aa_1_aa_2 / z_aa_1)\n",
    "                               / (z_aa_2 / z_all_aa))\n",
    "                    propensity = z_ratio * propensity_df[aa_1][aa_2]  # Propensity of aa_1 to interact with aa_2 (not corrected for z)\n",
    "                    propensities[row][column] = propensity\n",
    "\n",
    "            propensity_dict['{}_{}'.format(aa_1, aa_2)] = propensities\n",
    "                    \n",
    "            # Plots propensity KDE\n",
    "            plt.clf()\n",
    "            fig, ax = plt.figure(figsize=(10, 5))\n",
    "            ax.contourf(x_aa_1_aa_2_list, y_aa_1_aa_2_list, propensities, levels=10)\n",
    "            plt.show()\n",
    "\n",
    "            # Plots individual pairwise KDEs used in propensity calculation\n",
    "            plt.clf()\n",
    "            fig, ax = plt.figure(figsize=(10, 5))\n",
    "            ax.contourf(x_all_aa_list, y_all_aa_list, z_all_aa_list, levels=10)\n",
    "            ax.contourf(x_aa_1_list, y_aa_1_list, z_aa_1_list, levels=10)\n",
    "            ax.contourf(x_aa_2_list, y_aa_2_list, z_aa_2_list, levels=10)\n",
    "            ax.contourf(x_aa_1_aa_2_list, y_aa_1_aa_2_list, z_aa_1_aa_2_list, levels=10)\n",
    "            plt.show()\n",
    "            \n",
    "    return propensity_dict"
   ]
  },
  {
   "cell_type": "code",
   "execution_count": 17,
   "metadata": {
    "collapsed": true
   },
   "outputs": [],
   "source": [
    "def plot_discrete_prop_frequency_kdes(df, cont_prop, discrete_props):\n",
    "    \"\"\"\n",
    "    Plots kernel density estimate of the distribution of a discrete property (e.g. the number of interactions of a\n",
    "    particular type (e.g. hydrogen bonds) formed by an amino acid)  vs. a continuous property (typically z-coordinate)\n",
    "    Input: dataframe of barrel / sandwich properties, name of continuous property of interest (specified via the\n",
    "           name of the corresponding column in the input dataframe), and list of discrete properties (each discrete\n",
    "           property is considered individually, in a separate kde plot)\n",
    "    \"\"\"\n",
    "    domain_res_ids_list = []\n",
    "    for row in range(df.shape[0]):\n",
    "        domain_res_id = df['domain_ids'][row] + df['res_ids'][row]\n",
    "        domain_res_ids_list.append(domain_res_id)\n",
    "\n",
    "    for discrete_prop in discrete_props:\n",
    "        print(discrete_prop)\n",
    "\n",
    "        cont_prop_distribution = []\n",
    "        for row in range(df.shape[0]):\n",
    "            interacting_domain_neighbours = []\n",
    "\n",
    "            for res_id in df[discrete_prop][row]:\n",
    "                domain_res_id = df['domain_ids'][row] + res_id\n",
    "                # Only considers interactions with residues that are also within the domain\n",
    "                if domain_res_id in domain_res_ids_list:\n",
    "                    interacting_domain_neighbours.append(domain_res_id)\n",
    "\n",
    "            interaction_num = len(interacting_domain_neighbours)\n",
    "            count = 0\n",
    "            while count < interaction_num:\n",
    "                cont_prop_distribution.append(df[cont_prop][row])\n",
    "                count += 1\n",
    "\n",
    "        plt.clf()\n",
    "        plt.figure(figsize=(10, 5))\n",
    "        sns.distplot(pd.DataFrame({cont_prop: cont_prop_distribution}), hist=False, rug=True,\n",
    "                     kde_kws={'bw':'scott'}, rug_kws={'alpha': 0.1})\n",
    "        plt.show()"
   ]
  },
  {
   "cell_type": "code",
   "execution_count": 18,
   "metadata": {
    "collapsed": true
   },
   "outputs": [],
   "source": [
    "def plot_prop_vs_prop(df, cont_prop_1, cont_prop_dict_2, cont_prop_2, bw_1, bw_2):\n",
    "    \"\"\"\n",
    "    Plots the 2D kernel desity estimate of two continuous properties\n",
    "    Input: dataframe of barrel / sandwich properties, name of first continuous property of interest (specified via\n",
    "           the name of the corresponding column in the input dataframe), dictionary of amino acid identities vs.\n",
    "           their values of the second continuous property of interest, the name of the second continuous property\n",
    "           of interest, the kernel bandwidth of the first property and the kernel bandwidth of the second property\n",
    "    \"\"\"\n",
    "    cont_prop_2_list = ['']*df.shape[0]\n",
    "    unprocessed_indices = []\n",
    "\n",
    "    for row in range(df.shape[0]):\n",
    "        fasta = df['fasta_seq'][row]\n",
    "\n",
    "        if fasta in cont_prop_dict_2:\n",
    "            cont_prop_2_list[row] = cont_prop_dict_2[fasta]\n",
    "        else:\n",
    "            unprocessed_indices.append(row)\n",
    "\n",
    "    cont_prop_1_list = [val for index, val in enumerate(df[cont_prop_1].tolist()) if not index in unprocessed_indices]\n",
    "    cont_prop_2_list = [val for index, val in enumerate(cont_prop_2_list) if not index in unprocessed_indices]\n",
    "\n",
    "    prop_df = pd.DataFrame({cont_prop_1: cont_prop_1_list,\n",
    "                            cont_prop_2: cont_prop_2_list})\n",
    "\n",
    "    plt.clf()\n",
    "    plt.figure(figsize=(10, 10))\n",
    "    sns.kdeplot(data=prop_df[cont_prop_1], data2=prop_df[cont_prop_2], bw=(bw_1,bw_2), shade=True, cbar=True)\n",
    "    # plt.scatter(prop_df[cont_prop_1], prop_df[cont_prop_2], marker='.', c='y')\n",
    "    plt.show()"
   ]
  },
  {
   "cell_type": "code",
   "execution_count": 19,
   "metadata": {
    "collapsed": true
   },
   "outputs": [],
   "source": [
    "def plot_prop_vs_dihedral(df, cont_prop, dihedral):\n",
    "    \"\"\"\n",
    "    Plots the 2D kernel desity estimate of a continuous property of interest vs. a dihedral angle\n",
    "    Input: dataframe of barrel / sandwich properties, name of continuous property of interest (specified via\n",
    "           the name of the corresponding column in the input dataframe), name of dihedral angle of interest\n",
    "           (specified via the name of the corresponding column in the input dataframe)\n",
    "    \"\"\"\n",
    "    df = df[~df[dihedral].isin(['', 'NaN', 'nan', np.nan])]\n",
    "    df = df.reset_index(drop=True)\n",
    "\n",
    "    dihedral_df = pd.DataFrame({cont_prop: df[cont_prop].tolist(),\n",
    "                                dihedral: df[dihedral].tolist()})\n",
    "\n",
    "    plt.clf()\n",
    "    plt.figure(figsize=(10, 10))\n",
    "    sns.kdeplot(data=dihedral_df[cont_prop], data2=dihedral_df[dihedral], bw='scott', shade=True, cbar=True)\n",
    "    plt.show()"
   ]
  },
  {
   "cell_type": "code",
   "execution_count": null,
   "metadata": {
    "collapsed": true
   },
   "outputs": [],
   "source": [
    "def calc_dist(df, cont_prop):\n",
    "    \"\"\"\n",
    "    Generates ordered array of a (numeric) property of interest in the input dataframe, without '', 'NaN' and\n",
    "    np.nan values\n",
    "    Input: dataframe of barrel / sandwich properties, name of property of interest (specified via the name of\n",
    "           the corresponding column in the input dataframe)\n",
    "    Returns: ordered numpy array of the property of interest\n",
    "    \"\"\"\n",
    "    cont_prop_vals = df[cont_prop].tolist()\n",
    "    cont_prop_vals = remove_nan(cont_prop_vals)\n",
    "    cont_prop_vals = np.array(sorted(cont_prop_vals))\n",
    "\n",
    "    return cont_prop_vals\n",
    "\n",
    "\n",
    "def gen_random_array(ordered_array):\n",
    "    \"\"\"\n",
    "    Generates a random array by sampling, with replacement, an input array\n",
    "    Input: ordered array\n",
    "    Returns: ordered array, of the same length as the input array, generated by sampling the input array with\n",
    "             replacement\n",
    "    \"\"\"\n",
    "    random_array_indices = np.empty(len(ordered_array),)\n",
    "\n",
    "    for num in range(len(ordered_array)):\n",
    "        rand_index = random.randint(0, (len(ordered_array)-1))\n",
    "        rand_z_coord = ordered_array[rand_index]\n",
    "        random_array_indices[num] = rand_z_coord\n",
    "\n",
    "    return np.sort(random_array_indices)\n",
    "\n",
    "\n",
    "def run_ks_2samp_test(df, cont_prop, aa, bootstrap):\n",
    "    \"\"\"\n",
    "    Runs the 1D 2 sample Kolmogorov-Smirnov test with scipy to calculate the likelihood that two samples come from\n",
    "    the same distribution (where sample 1 is the distribution of an individual amino acid with respect to a\n",
    "    continuous property of interest (typically z-coordinate), and sample 2 is the distribution of all amino acids\n",
    "    with respect to that property)\n",
    "    Input: dataframe of barrel / sandwich properties, name of the continuous property of interest (specified via\n",
    "           the name of the corresponding column in the input dataframe), the name of the individual amino acid, and\n",
    "           whether this test is being run as part of a bootstrap test or not\n",
    "    \"\"\"\n",
    "    aa_df = df[df['fasta_seq'] == aa]\n",
    "    aa_df = aa_df.reset_index(drop=True)\n",
    "\n",
    "    indv_aa_cont_prop_vals = remove_nan(aa_df[cont_prop].tolist())\n",
    "    indv_aa_cont_prop_vals = np.array(sorted(indv_aa_cont_prop_vals))\n",
    "\n",
    "    # If performing bootstrap analysis, generate a random array from the df[cont_prop] distribution\n",
    "    if bootstrap:\n",
    "        indv_aa_cont_prop_vals = gen_random_array(indv_aa_cont_prop_vals)\n",
    "\n",
    "    D, p = scipy.stats.ks_2samp(indv_aa_cont_prop_vals, calc_dist(df, cont_prop))\n",
    "\n",
    "    return D, p\n",
    "\n",
    "\n",
    "def initial_ks_test(df, cont_prop, ks_func, aa_dict):\n",
    "    \"\"\"\n",
    "    Wrapper to run the 1D 2 sample Kolmogorov-Smirnov test for the original (i.e. not resampled) individual amino\n",
    "    acid distribution and the overall amino acid distribution\n",
    "    Input: dataframe of barrel / sandwich properties, name of the continuous property of interest (typically\n",
    "           z-coordinate) (specified via the name of the corresponding column in the input dataframe), the function\n",
    "           to run the KS test, and dictionary of amino acid abbreviations\n",
    "    Returns: dictionaries of D and p values output from KS test\n",
    "    \"\"\"\n",
    "    D_dict = OrderedDict()\n",
    "    p_dict = OrderedDict()\n",
    "\n",
    "    for aa in list(aa_dict.keys()):\n",
    "        D_dict[aa] = []\n",
    "        p_dict[aa] = []\n",
    "\n",
    "    for aa in list(aa_dict.keys()):\n",
    "        D, p = ks_func(df, cont_prop, aa, False)\n",
    "        D_dict[aa].append(D)\n",
    "        p_dict[aa].append(p)\n",
    "\n",
    "    return D_dict, p_dict\n",
    "\n",
    "def bootstrap_ks_test(df, cont_prop, bootstrap_num, ks_func, aa_dict):\n",
    "    \"\"\"\n",
    "    Wrapper to run the 1D 2 sample Kolmogorov-Smirnov test a specified number of times on different resamplings\n",
    "    of the original individual amino acid distribution and the overall amino acid distribution\n",
    "    Input: dataframe of barrel / sandwich properties, name of the continuous property of interest (typically\n",
    "           z-coordinate) (specified via the name of the corresponding column in the input dataframe), the number\n",
    "           of KS tests to run (i.e. the size of the bootstrap), the function\n",
    "           to run the KS test, dictionary of amino acid abbreviations\n",
    "    Returns: dictionaries of D and p values output from KS test\n",
    "    \"\"\"\n",
    "    D_dict = OrderedDict()\n",
    "    p_dict = OrderedDict()\n",
    "\n",
    "    for aa in list(aa_dict.keys()):\n",
    "        D_dict[aa] = []\n",
    "        p_dict[aa] = []\n",
    "\n",
    "    for num in range(bootstrap_num):\n",
    "        for aa in list(aa_dict.keys()):\n",
    "            D, p = ks_func(df, cont_prop, aa, True)\n",
    "            D_dict[aa].append(D)\n",
    "            p_dict[aa].append(p)\n",
    "\n",
    "    return D_dict, p_dict\n",
    "\n",
    "\n",
    "def draw_plot(plot_type, stat_dict, x_list, x_label, y_label):\n",
    "    \"\"\"\n",
    "    Generates swarmplot / violinplot of D / p values vs. amino acid identity\n",
    "    Input: dictionary of D or p values, list of amino acid identities, label for x-axis (e.g. 'FASTA'), label for\n",
    "           y-axis (e.g. 'D' or 'p')\n",
    "    \"\"\"\n",
    "    plt.clf()\n",
    "    plt.figure(figsize=(15,10))\n",
    "\n",
    "    x_values = []\n",
    "    y_values = []    \n",
    "    for x in x_list:\n",
    "        for y in stat_dict[x]:\n",
    "            x_values.append(x)\n",
    "            y_values.append(y)\n",
    "\n",
    "    # \"Melted\" df of aa vs. stat (either p or D)\n",
    "    df = pd.DataFrame({'{}'.format(x_label): x_values,\n",
    "                       '{}'.format(y_label): y_values})\n",
    "\n",
    "    plot_type(x='{}'.format(x_label), y='{}'.format(y_label), data=df)\n",
    "\n",
    "    plt.show()\n",
    "\n",
    "\n",
    "def calc_95_conf_limits(initial_stat_dict, bootstrap_stat_dict):\n",
    "    \"\"\"\n",
    "    Calculates 95% confidence limits on D / p from a bootstrap sample\n",
    "    Input: dictionary of D / p values for original individual amino acid samples, dictionary of D / p values for\n",
    "           bootstrapped individual amino acid samples\n",
    "    Returns: dictionary of 95% confidence intervals for D / p\n",
    "    \"\"\"\n",
    "    conf_int_dict = OrderedDict()\n",
    "\n",
    "    for aa in list(initial_stat_dict.keys()):\n",
    "        initial_stat = initial_stat_dict[aa][0]\n",
    "        bootstrap_stat_values = np.sort(np.array(bootstrap_stat_dict[aa]))\n",
    "\n",
    "        # Crude method of calculating 95% confidence interval, but good enough for my purposes (to complement\n",
    "        # \"by eye\" analysis)\n",
    "        lower_percentile = np.percentile(bootstrap_stat_values, 2.5)\n",
    "        upper_percentile = np.percentile(bootstrap_stat_values, 97.5)\n",
    "\n",
    "        conf_int_dict[aa] = [lower_percentile, initial_stat, upper_percentile]\n",
    "        \n",
    "    return conf_int_dict\n",
    "\n",
    "\n",
    "def iterate_bootstrap_conf_limits(df, cont_prop, ks_func, bootstrap_range, aa_dict):\n",
    "    \"\"\"\n",
    "    Performs KS test with increasing number of bootstrap samples and plots output to allow user to determine when the\n",
    "    confidence intervals converge (and so the minimum number of bootstrap samples they need to run)\n",
    "    Input: dataframe of barrel / sandwich properties, name of the continuous property of interest (typically\n",
    "           z-coordinate) (specified via the name of the corresponding column in the input dataframe), the function\n",
    "           to run the KS test, list of numbers of bootstrap samples to test (e.g. [100, 300, 1000, 3000, 10000, 30000,\n",
    "           100000]), dictionary of amino acid abbreviations\n",
    "    \"\"\"\n",
    "    initial_D_dict, initial_p_dict = initial_ks_test(df, cont_prop, ks_func, aa_dict)\n",
    "\n",
    "    bootstrap_D_dict = OrderedDict()\n",
    "    bootstrap_p_dict = OrderedDict()\n",
    "\n",
    "    for num in bootstrap_range:\n",
    "        print(num)\n",
    "        D_dict, p_dict = bootstrap_ks_test(df, cont_prop, num, ks_func, aa_dict)\n",
    "        bootstrap_D_dict[num] = D_dict\n",
    "        bootstrap_p_dict[num] = p_dict\n",
    "\n",
    "    bootstrap_conf_intv_D_dict = OrderedDict()\n",
    "    bootstrap_conf_intv_p_dict = OrderedDict()\n",
    "    for num in bootstrap_range:\n",
    "        conf_int_D_dict = calc_95_conf_limits(initial_D_dict, bootstrap_D_dict[num])\n",
    "        bootstrap_conf_intv_D_dict[num] = conf_int_D_dict\n",
    "        conf_int_p_dict = calc_95_conf_limits(initial_p_dict, bootstrap_p_dict[num])\n",
    "        bootstrap_conf_intv_p_dict[num] = conf_int_p_dict\n",
    "\n",
    "    for aa in list(aa_dict.keys()):\n",
    "        aa_bootstrap_D_dict = OrderedDict()\n",
    "        aa_bootstrap_p_dict = OrderedDict()\n",
    "        \n",
    "        for num in bootstrap_range:\n",
    "            aa_bootstrap_D_dict[num] = bootstrap_conf_intv_D_dict[num][aa]\n",
    "            aa_bootstrap_p_dict[num] = bootstrap_conf_intv_p_dict[num][aa]\n",
    "        \n",
    "        print(aa)\n",
    "        draw_plot(sns.swarmplot, aa_bootstrap_p_dict, bootstrap_range, 'Num_bootstrap_samples', 'p')"
   ]
  },
  {
   "cell_type": "code",
   "execution_count": null,
   "metadata": {
    "collapsed": true
   },
   "outputs": [],
   "source": [
    "def calc_pair_proportions(df, pair_type, aa_dict):\n",
    "    \"\"\"\n",
    "    For every pairwise combination of amino acids listed in the input dictionary of amino acid abbreviations, aa1aa2,\n",
    "    calculates proportions of amino acid pairs at a location of interest (e.g. HB, or NHB, pairs) that are of that\n",
    "    identity. Note each pair is counted twice, once for each amino acid\n",
    "    Input: dataframe of sandwich / barrel properties, name of amino acid pair type of interest (specified via the\n",
    "           name of its corresponding column in the input dataframe), and dictionary of amino acid abbreviations\n",
    "    Returns: dictionary of aa1aa2 pair count, total number of amino acid pairs of type of interest\n",
    "    \"\"\"\n",
    "    domain_res_ids_list = []\n",
    "    for row in range(df.shape[0]):\n",
    "        domain_id = df['domain_strand_ids'][row][0:7]\n",
    "        res_id = df['res_ids'][row]\n",
    "        domain_res_id = domain_id + res_id\n",
    "        domain_res_ids_list.append(domain_res_id)\n",
    "\n",
    "    res_id_pairs = []\n",
    "    fasta_pairs = []\n",
    "\n",
    "    for row in range(df.shape[0]):\n",
    "        domain_res_id_1 = df['domain_strand_ids'][row][0:7] + domain['res_ids'][row]\n",
    "        fasta_1 = df['fasta_seq'][row]\n",
    "\n",
    "        domain_res_id_2 = np.nan\n",
    "        fasta_2 = np.nan\n",
    "        if len(df[pair_type][row]) == 1:\n",
    "            domain_res_id_2 = df['domain_strand_ids'][row][0:7] + df[pair_type][row][0]\n",
    "            if domain_res_id_2 in domain_res_ids_list:\n",
    "                fasta_2 = df['{}_fasta_intra'.format(pair_type)][row][0]\n",
    "\n",
    "        if (\n",
    "                domain_res_id_2 != np.nan\n",
    "            and fasta_2 != np.nan\n",
    "            and fasta_1 in list(aa_dict.keys())\n",
    "            and fasta_2 in list(aa_dict.keys())\n",
    "        ):\n",
    "            if (\n",
    "                not [domain_res_id_1, domain_res_id_2] in res_id_pairs\n",
    "                and not [domain_res_id_2, domain_res_id_1] in res_id_pairs\n",
    "            ):\n",
    "                res_id_pairs.append([domain_res_id_1, domain_res_id_2])\n",
    "                res_id_pairs.append([domain_res_id_2, domain_res_id_1])\n",
    "\n",
    "                fasta_pairs.append('{}_{}'.format(fasta_1, fasta_2))\n",
    "                fasta_pairs.append('{}_{}'.format(fasta_2, fasta_1))\n",
    "\n",
    "    pairs_count_dict = OrderedDict()\n",
    "    for aa_pair in itertools.combinations_with_replacement(list(aa_dict.keys()), 2):\n",
    "        aa_pair = '{}_{}'.format(aa_pair[0], aa_pair[1])\n",
    "        pairs_count_dict[aa_pair] = 0\n",
    "\n",
    "    for aa_pair in fasta_pairs:\n",
    "        if aa_pair in list(pairs_count_dict.keys()):\n",
    "            pairs_count_dict[aa_pair] += 1\n",
    "\n",
    "    pairs_total = len(res_id_pairs)\n",
    "    for aa_pair in list(pairs_count_dict.keys()):\n",
    "        pairs_count_dict[aa_pair] = pairs_count_dict[aa_pair] / pairs_total\n",
    "\n",
    "    return pairs_count_dict, pairs_total\n",
    "\n",
    "\n",
    "def gen_dek_sandwich_dicts(aa_dict, hb_or_nhb):\n",
    "    \"\"\"\n",
    "    Reads beta-sandwich HB / NHB count data from Dek's 1998 paper (which is stored in two separate csv files in\n",
    "    the BetaStats directory) into a dictionary\n",
    "    Input: dictionary of amino acid abbreviations, whether to read in HB (hb_or_nhb = 'hb') or NHB (hb_or_nhb = 'nhb')\n",
    "           count data\n",
    "    Returns: dictionary of amino acid pair proportions, total number of HB (hb_or_nhb = 'hb') or NHB\n",
    "             (hb_or_nhb = 'nhb') amino acid pairs\n",
    "    \"\"\"\n",
    "    pairs_count_dict = OrderedDict()\n",
    "    for aa_pair in itertools.combinations_with_replacement(list(aa_dict.keys()), 2):\n",
    "        aa_pair = '{}_{}'.format(aa_pair[0], aa_pair[1])\n",
    "        pairs_count_dict[aa_pair] = 0\n",
    "        \n",
    "    file_name = 'Beta_{}_count_data_Hutchinson_et_al_1998.csv'.format(hb_or_nhb.upper())\n",
    "    df = pd.read_csv(file_name, header=0, index_col=0)\n",
    "    for col in df.columns.values.tolist():\n",
    "        df[col] = pd.to_numeric(df[col].tolist())\n",
    "        \n",
    "    pairs_total = 0\n",
    "    for aa_pair in list(pairs_count_dict.keys()):\n",
    "        aa_1 = aa_pair.split('_')[0]\n",
    "        aa_2 = aa_pair.split('_')[1]\n",
    "\n",
    "        count = df[aa_1][aa_2]\n",
    "        pairs_total += count\n",
    "        pairs_count_dict[aa_pair] = count\n",
    "        \n",
    "    for aa_pair in list(pairs_count_dict.keys()):\n",
    "        pairs_count_dict[aa_pair] = pairs_count_dict[aa_pair] / pairs_total\n",
    "\n",
    "    return pairs_count_dict, pairs_total\n",
    "\n",
    "\n",
    "def calc_std_error_proportion(aa_dict, hb_pairs_count_dict, nhb_pairs_count_dict, hb_pairs_total,\n",
    "                              nhb_pairs_total):\n",
    "    \"\"\"\n",
    "    Calculates standard error of proportion of amino acid pairs that form HB as compared with NHB pairs. These\n",
    "    results can be used to determine if there is a significant difference between the proportion of aa1aa2 pairs\n",
    "    at HB positions as compared to NHB positions.\n",
    "    Input: dataframe of barrel / sandwich properties, dictionary of amino acid abbreviations\n",
    "    Returns: dictionary of z scores, dictionary of ratios of proportion of aa1aa2 pairs at HB sites to proportion\n",
    "             of aa1aa2 pairs at NHB sites\n",
    "    \"\"\"\n",
    "    z_score_dict = OrderedDict()\n",
    "    ratios_dict = OrderedDict()\n",
    "    for aa_pair in itertools.combinations_with_replacement(list(aa_dict.keys()), 2):\n",
    "        aa_pair = '{}_{}'.format(aa_pair[0], aa_pair[1])\n",
    "        z_score_dict[aa_pair] = np.nan\n",
    "        ratios_dict[aa_pair] = np.nan\n",
    "\n",
    "    for aa_pair in list(hb_pairs_count_dict):\n",
    "        p_hb = hb_pairs_count_dict[aa_pair]\n",
    "        p_nhb = nhb_pairs_count_dict[aa_pair]\n",
    "        \n",
    "        if p_hb > 0 and p_nhb > 0:\n",
    "            variance_hb = (p_hb*(1-p_hb)) / hb_pairs_total\n",
    "            variance_nhb = (p_nhb*(1-p_nhb)) / nhb_pairs_total\n",
    "\n",
    "            std_dev = (variance_hb + variance_nhb)**0.5\n",
    "            z = (p_hb - p_nhb) / std_dev\n",
    "            z_score_dict[aa_pair] = z\n",
    "            \n",
    "            ratios_dict[aa_pair] = p_hb / p_nhb\n",
    "\n",
    "    return z_score_dict, ratios_dict\n",
    "\n",
    "\n",
    "def print_significant_z_scores(z_score_dict):\n",
    "    \"\"\"\n",
    "    Prints z-scores above / below 95 and 99% confidence limits\n",
    "    Input: dictionary of z scores\n",
    "    \"\"\"\n",
    "    for aa_pair, score in z_score_dict.items():\n",
    "        if score > 2.58:\n",
    "            print('Outside 99% confidence limit, favours HB: {}'.format(aa_pair))\n",
    "        elif 1.96 < score <= 2.58:\n",
    "            print('Outside 95% confidence limit, favours HB: {}'.format(aa_pair))\n",
    "        elif score < -2.58:\n",
    "            print('Outside 99% confidence limit, favours NHB: {}'.format(aa_pair))\n",
    "        elif -2.58 <= score < -1.96:\n",
    "            print('Outside 95% confidence limit, favours NHB: {}'.format(aa_pair))\n",
    "\n",
    "\n",
    "def calc_z_diff(z_score_dict, dek_sandwich_z_dict):\n",
    "    \"\"\"\n",
    "    Calculates the difference in area underneath the normal distribution curve between two z-scores\n",
    "    Input: first dictionary of z scores, second dictionary of z scores\n",
    "    Returns: dictionary of differences\n",
    "    \"\"\"\n",
    "    z_diff_dict = OrderedDict()\n",
    "\n",
    "    for aa_pair in list(z_score_dict.keys()):\n",
    "        z_score_old = dek_sandwich_z_dict[aa_pair]\n",
    "        z_score_new = z_score_dict[aa_pair]\n",
    "        \n",
    "        p_old = scipy.stats.norm.cdf(z_score_old)\n",
    "        p_new = scipy.stats.norm.cdf(z_score_new)\n",
    "        \n",
    "        area_diff = abs(p_new - p_old)\n",
    "        z_diff_dict[aa_pair] = area_diff\n",
    "\n",
    "    return z_diff_dict"
   ]
  },
  {
   "cell_type": "markdown",
   "metadata": {},
   "source": [
    "## Beta_barrels"
   ]
  },
  {
   "cell_type": "markdown",
   "metadata": {},
   "source": [
    "### Specify input dataframe location:"
   ]
  },
  {
   "cell_type": "code",
   "execution_count": 20,
   "metadata": {
    "collapsed": true
   },
   "outputs": [],
   "source": [
    "\"\"\"\n",
    "barrel_file_loc = (\n",
    "    '/Users/ks17361/Lab_work_DW/Beta_structure/Parametrisation/My_beta_sandwich_and_barrel_datasets/'\n",
    "    'Beta_Datasets_30_10_2018/seqid_20/CATH_2.40.160_2.40.170_2.40.230_2.40.128_resn_2.5_rfac_0.3_au/'\n",
    "    'Beta_res_dataframe.pkl'\n",
    ")\n",
    "\"\"\"\n",
    "barrel_file_loc = '/Users/ks17361/Downloads/Beta_res_dataframe.pkl'"
   ]
  },
  {
   "cell_type": "code",
   "execution_count": 21,
   "metadata": {},
   "outputs": [],
   "source": [
    "barrel_df = pd.read_pickle(barrel_file_loc)\n",
    "barrel_df = barrel_df[barrel_df['fasta_seq'].isin(list(aa_dict.keys()))]\n",
    "barrel_df = barrel_df.reset_index(drop=True)"
   ]
  },
  {
   "cell_type": "code",
   "execution_count": 22,
   "metadata": {},
   "outputs": [
    {
     "data": {
      "text/html": [
       "<div>\n",
       "<style>\n",
       "    .dataframe thead tr:only-child th {\n",
       "        text-align: right;\n",
       "    }\n",
       "\n",
       "    .dataframe thead th {\n",
       "        text-align: left;\n",
       "    }\n",
       "\n",
       "    .dataframe tbody tr th {\n",
       "        vertical-align: top;\n",
       "    }\n",
       "</style>\n",
       "<table border=\"1\" class=\"dataframe\">\n",
       "  <thead>\n",
       "    <tr style=\"text-align: right;\">\n",
       "      <th></th>\n",
       "      <th>domain_ids</th>\n",
       "      <th>domain_strand_ids</th>\n",
       "      <th>tilt_angle</th>\n",
       "      <th>total_strand_number</th>\n",
       "      <th>indv_strand_number</th>\n",
       "      <th>shear_number</th>\n",
       "      <th>res_ids</th>\n",
       "      <th>res_nums</th>\n",
       "      <th>fasta_seq</th>\n",
       "      <th>z_coords</th>\n",
       "      <th>...</th>\n",
       "      <th>van_der_waals_fasta_inter_sc_sc</th>\n",
       "      <th>h_bonds_fasta_inter_sc_sc</th>\n",
       "      <th>ionic_fasta_inter_sc_sc</th>\n",
       "      <th>ss_bonds_fasta_inter_sc_sc</th>\n",
       "      <th>pi_pi_stacking_fasta_inter_sc_sc</th>\n",
       "      <th>pi_pi_stacking_fasta_inter_sc_sc_p</th>\n",
       "      <th>pi_pi_stacking_fasta_inter_sc_sc_n</th>\n",
       "      <th>pi_pi_stacking_fasta_inter_sc_sc_l</th>\n",
       "      <th>pi_pi_stacking_fasta_inter_sc_sc_t</th>\n",
       "      <th>cation_pi_fasta_inter_sc_sc</th>\n",
       "    </tr>\n",
       "  </thead>\n",
       "  <tbody>\n",
       "    <tr>\n",
       "      <th>0</th>\n",
       "      <td>2x55A00</td>\n",
       "      <td>2x55A00_strand_1</td>\n",
       "      <td>2</td>\n",
       "      <td>13.0</td>\n",
       "      <td>1.0</td>\n",
       "      <td></td>\n",
       "      <td>A32</td>\n",
       "      <td>32.0</td>\n",
       "      <td>Y</td>\n",
       "      <td>34.364</td>\n",
       "      <td>...</td>\n",
       "      <td>[]</td>\n",
       "      <td>[]</td>\n",
       "      <td>[]</td>\n",
       "      <td>[]</td>\n",
       "      <td>[]</td>\n",
       "      <td>[]</td>\n",
       "      <td>[]</td>\n",
       "      <td>[]</td>\n",
       "      <td>[]</td>\n",
       "      <td>[]</td>\n",
       "    </tr>\n",
       "    <tr>\n",
       "      <th>1</th>\n",
       "      <td>2x55A00</td>\n",
       "      <td>2x55A00_strand_1</td>\n",
       "      <td>2</td>\n",
       "      <td>13.0</td>\n",
       "      <td>1.0</td>\n",
       "      <td></td>\n",
       "      <td>A31</td>\n",
       "      <td>31.0</td>\n",
       "      <td>L</td>\n",
       "      <td>33.709</td>\n",
       "      <td>...</td>\n",
       "      <td>[]</td>\n",
       "      <td>[]</td>\n",
       "      <td>[]</td>\n",
       "      <td>[]</td>\n",
       "      <td>[]</td>\n",
       "      <td>[]</td>\n",
       "      <td>[]</td>\n",
       "      <td>[]</td>\n",
       "      <td>[]</td>\n",
       "      <td>[]</td>\n",
       "    </tr>\n",
       "    <tr>\n",
       "      <th>2</th>\n",
       "      <td>2x55A00</td>\n",
       "      <td>2x55A00_strand_1</td>\n",
       "      <td>2</td>\n",
       "      <td>13.0</td>\n",
       "      <td>1.0</td>\n",
       "      <td></td>\n",
       "      <td>A30</td>\n",
       "      <td>30.0</td>\n",
       "      <td>M</td>\n",
       "      <td>30.590</td>\n",
       "      <td>...</td>\n",
       "      <td>[]</td>\n",
       "      <td>[]</td>\n",
       "      <td>[]</td>\n",
       "      <td>[]</td>\n",
       "      <td>[]</td>\n",
       "      <td>[]</td>\n",
       "      <td>[]</td>\n",
       "      <td>[]</td>\n",
       "      <td>[]</td>\n",
       "      <td>[]</td>\n",
       "    </tr>\n",
       "    <tr>\n",
       "      <th>3</th>\n",
       "      <td>2x55A00</td>\n",
       "      <td>2x55A00_strand_1</td>\n",
       "      <td>2</td>\n",
       "      <td>13.0</td>\n",
       "      <td>1.0</td>\n",
       "      <td></td>\n",
       "      <td>A29</td>\n",
       "      <td>29.0</td>\n",
       "      <td>E</td>\n",
       "      <td>28.561</td>\n",
       "      <td>...</td>\n",
       "      <td>[]</td>\n",
       "      <td>[]</td>\n",
       "      <td>[]</td>\n",
       "      <td>[]</td>\n",
       "      <td>[]</td>\n",
       "      <td>[]</td>\n",
       "      <td>[]</td>\n",
       "      <td>[]</td>\n",
       "      <td>[]</td>\n",
       "      <td>[]</td>\n",
       "    </tr>\n",
       "    <tr>\n",
       "      <th>4</th>\n",
       "      <td>2x55A00</td>\n",
       "      <td>2x55A00_strand_1</td>\n",
       "      <td>2</td>\n",
       "      <td>13.0</td>\n",
       "      <td>1.0</td>\n",
       "      <td></td>\n",
       "      <td>A28</td>\n",
       "      <td>28.0</td>\n",
       "      <td>H</td>\n",
       "      <td>26.001</td>\n",
       "      <td>...</td>\n",
       "      <td>[]</td>\n",
       "      <td>[]</td>\n",
       "      <td>[]</td>\n",
       "      <td>[]</td>\n",
       "      <td>[]</td>\n",
       "      <td>[]</td>\n",
       "      <td>[]</td>\n",
       "      <td>[]</td>\n",
       "      <td>[]</td>\n",
       "      <td>[]</td>\n",
       "    </tr>\n",
       "  </tbody>\n",
       "</table>\n",
       "<p>5 rows × 188 columns</p>\n",
       "</div>"
      ],
      "text/plain": [
       "  domain_ids domain_strand_ids tilt_angle  total_strand_number  \\\n",
       "0    2x55A00  2x55A00_strand_1          2                 13.0   \n",
       "1    2x55A00  2x55A00_strand_1          2                 13.0   \n",
       "2    2x55A00  2x55A00_strand_1          2                 13.0   \n",
       "3    2x55A00  2x55A00_strand_1          2                 13.0   \n",
       "4    2x55A00  2x55A00_strand_1          2                 13.0   \n",
       "\n",
       "   indv_strand_number shear_number res_ids  res_nums fasta_seq  z_coords  \\\n",
       "0                 1.0                  A32      32.0         Y    34.364   \n",
       "1                 1.0                  A31      31.0         L    33.709   \n",
       "2                 1.0                  A30      30.0         M    30.590   \n",
       "3                 1.0                  A29      29.0         E    28.561   \n",
       "4                 1.0                  A28      28.0         H    26.001   \n",
       "\n",
       "              ...             van_der_waals_fasta_inter_sc_sc  \\\n",
       "0             ...                                          []   \n",
       "1             ...                                          []   \n",
       "2             ...                                          []   \n",
       "3             ...                                          []   \n",
       "4             ...                                          []   \n",
       "\n",
       "  h_bonds_fasta_inter_sc_sc ionic_fasta_inter_sc_sc  \\\n",
       "0                        []                      []   \n",
       "1                        []                      []   \n",
       "2                        []                      []   \n",
       "3                        []                      []   \n",
       "4                        []                      []   \n",
       "\n",
       "  ss_bonds_fasta_inter_sc_sc pi_pi_stacking_fasta_inter_sc_sc  \\\n",
       "0                         []                               []   \n",
       "1                         []                               []   \n",
       "2                         []                               []   \n",
       "3                         []                               []   \n",
       "4                         []                               []   \n",
       "\n",
       "  pi_pi_stacking_fasta_inter_sc_sc_p pi_pi_stacking_fasta_inter_sc_sc_n  \\\n",
       "0                                 []                                 []   \n",
       "1                                 []                                 []   \n",
       "2                                 []                                 []   \n",
       "3                                 []                                 []   \n",
       "4                                 []                                 []   \n",
       "\n",
       "   pi_pi_stacking_fasta_inter_sc_sc_l pi_pi_stacking_fasta_inter_sc_sc_t  \\\n",
       "0                                  []                                 []   \n",
       "1                                  []                                 []   \n",
       "2                                  []                                 []   \n",
       "3                                  []                                 []   \n",
       "4                                  []                                 []   \n",
       "\n",
       "  cation_pi_fasta_inter_sc_sc  \n",
       "0                          []  \n",
       "1                          []  \n",
       "2                          []  \n",
       "3                          []  \n",
       "4                          []  \n",
       "\n",
       "[5 rows x 188 columns]"
      ]
     },
     "execution_count": 22,
     "metadata": {},
     "output_type": "execute_result"
    }
   ],
   "source": [
    "barrel_df.head()"
   ]
  },
  {
   "cell_type": "markdown",
   "metadata": {},
   "source": [
    "### Amino acid distribution in beta-barrels"
   ]
  },
  {
   "cell_type": "code",
   "execution_count": 23,
   "metadata": {},
   "outputs": [
    {
     "data": {
      "text/plain": [
       "<matplotlib.figure.Figure at 0x1a168dd2b0>"
      ]
     },
     "metadata": {},
     "output_type": "display_data"
    },
    {
     "data": {
      "image/png": "[encoded data removed]",
      "text/plain": [
       "<matplotlib.figure.Figure at 0x1a115592e8>"
      ]
     },
     "metadata": {},
     "output_type": "display_data"
    }
   ],
   "source": [
    "barrel_distribution = calc_distribution(barrel_df, aa_dict)\n",
    "\n",
    "plt.clf()\n",
    "plt.figure(figsize=(20, 10))\n",
    "sns.barplot(x='FASTA', y='Normalised frequency', data=barrel_distribution)\n",
    "plt.show()"
   ]
  },
  {
   "cell_type": "code",
   "execution_count": 24,
   "metadata": {},
   "outputs": [
    {
     "name": "stdout",
     "output_type": "stream",
     "text": [
      "A: 492\n",
      "R: 287\n",
      "N: 246\n",
      "D: 285\n",
      "C: 2\n",
      "Q: 239\n",
      "E: 236\n",
      "G: 587\n",
      "H: 106\n",
      "I: 232\n",
      "L: 506\n",
      "K: 267\n",
      "M: 90\n",
      "F: 300\n",
      "P: 77\n",
      "S: 393\n",
      "T: 412\n",
      "W: 181\n",
      "Y: 450\n",
      "V: 415\n"
     ]
    }
   ],
   "source": [
    "for aa in list(aa_dict.keys()):\n",
    "    print(aa + ': ' + str(barrel_df['fasta_seq'].tolist().count(aa)))"
   ]
  },
  {
   "cell_type": "markdown",
   "metadata": {},
   "source": [
    "Too few Cys residues for meaningful analysis => discounted from further analysis"
   ]
  },
  {
   "cell_type": "code",
   "execution_count": 25,
   "metadata": {
    "collapsed": true
   },
   "outputs": [],
   "source": [
    "aa_dict_no_cys = copy.deepcopy(aa_dict)\n",
    "aa_dict_no_cys.pop('C')\n",
    "\n",
    "barrel_df = barrel_df[barrel_df['fasta_seq'] != 'C']\n",
    "barrel_df = barrel_df.reset_index(drop=True)"
   ]
  },
  {
   "cell_type": "code",
   "execution_count": 26,
   "metadata": {},
   "outputs": [
    {
     "data": {
      "text/plain": [
       "OrderedDict([('A', 'Ala'),\n",
       "             ('R', 'Arg'),\n",
       "             ('N', 'Asn'),\n",
       "             ('D', 'Asp'),\n",
       "             ('Q', 'Gln'),\n",
       "             ('E', 'Glu'),\n",
       "             ('G', 'Gly'),\n",
       "             ('H', 'His'),\n",
       "             ('I', 'Ile'),\n",
       "             ('L', 'Leu'),\n",
       "             ('K', 'Lys'),\n",
       "             ('M', 'Met'),\n",
       "             ('F', 'Phe'),\n",
       "             ('P', 'Pro'),\n",
       "             ('S', 'Ser'),\n",
       "             ('T', 'Thr'),\n",
       "             ('W', 'Trp'),\n",
       "             ('Y', 'Tyr'),\n",
       "             ('V', 'Val')])"
      ]
     },
     "execution_count": 26,
     "metadata": {},
     "output_type": "execute_result"
    }
   ],
   "source": [
    "aa_dict_no_cys"
   ]
  },
  {
   "cell_type": "code",
   "execution_count": 27,
   "metadata": {},
   "outputs": [
    {
     "data": {
      "text/plain": [
       "<matplotlib.figure.Figure at 0x1a16bc4128>"
      ]
     },
     "metadata": {},
     "output_type": "display_data"
    },
    {
     "data": {
      "image/png": "[encoded data removed]",
      "text/plain": [
       "<matplotlib.figure.Figure at 0x1a168dd080>"
      ]
     },
     "metadata": {},
     "output_type": "display_data"
    }
   ],
   "source": [
    "barrel_distribution = calc_distribution(barrel_df, aa_dict)\n",
    "\n",
    "plt.clf()\n",
    "plt.figure(figsize=(20, 10))\n",
    "sns.barplot(x='FASTA', y='Normalised frequency', data=barrel_distribution)\n",
    "plt.show()"
   ]
  },
  {
   "cell_type": "code",
   "execution_count": 28,
   "metadata": {},
   "outputs": [
    {
     "name": "stdout",
     "output_type": "stream",
     "text": [
      "A: 492\n",
      "R: 287\n",
      "N: 246\n",
      "D: 285\n",
      "Q: 239\n",
      "E: 236\n",
      "G: 587\n",
      "H: 106\n",
      "I: 232\n",
      "L: 506\n",
      "K: 267\n",
      "M: 90\n",
      "F: 300\n",
      "P: 77\n",
      "S: 393\n",
      "T: 412\n",
      "W: 181\n",
      "Y: 450\n",
      "V: 415\n"
     ]
    }
   ],
   "source": [
    "for aa in list(aa_dict_no_cys.keys()):\n",
    "    print(aa + ': ' + str(barrel_df['fasta_seq'].tolist().count(aa)))"
   ]
  },
  {
   "cell_type": "markdown",
   "metadata": {},
   "source": [
    "How does this distribution compare to those previously determined?"
   ]
  },
  {
   "cell_type": "code",
   "execution_count": null,
   "metadata": {
    "collapsed": true
   },
   "outputs": [],
   "source": [
    "levitt_dict = OrderedDict({'A': 0.900, 'R': 0.990, 'N': 0.760, 'D': 0.720, 'C': 0.740, 'Q': 0.800, 'E': 0.750,\n",
    "                           'G': 0.920, 'H': 1.080, 'I': 1.450, 'L': 1.020, 'K': 0.770, 'M': 0.970, 'F': 1.320,\n",
    "                           'P': 0.640, 'S': 0.950, 'T': 1.210, 'W': 1.140, 'Y': 1.250, 'V': 1.490})\n",
    "levitt_df = pd.DataFrame({'FASTA': list(levitt_dict.keys()),\n",
    "                          'Propensity': list(levitt_dict.values())})\n",
    "\n",
    "plt.clf()\n",
    "plt.figure(figsize=(20, 10))\n",
    "sns.barplot(x='FASTA', y='Propensity', data=levitt_df)\n",
    "plt.show()"
   ]
  },
  {
   "cell_type": "code",
   "execution_count": null,
   "metadata": {
    "collapsed": true
   },
   "outputs": [],
   "source": [
    "chou_fasman_dict = OrderedDict({'A': 0.830, 'R': 0.930, 'N': 0.890, 'D': 0.540, 'C': 1.190, 'Q': 1.100, 'E': 0.370,\n",
    "                                'G': 0.750, 'H': 0.870, 'I': 1.600, 'L': 1.300, 'K': 0.740, 'M': 1.050, 'F': 1.380, \n",
    "                                'P': 0.550, 'S': 0.750, 'T': 1.190, 'W': 1.370, 'Y': 1.470, 'V': 1.700})\n",
    "chou_fasman_df = pd.DataFrame({'FASTA': list(chou_fasman_dict.keys()),\n",
    "                               'Propensity': list(chou_fasman_dict.values())})\n",
    "\n",
    "plt.clf()\n",
    "plt.figure(figsize=(20, 10))\n",
    "sns.barplot(x='FASTA', y='Propensity', data=chou_fasman_df)\n",
    "plt.show()"
   ]
  },
  {
   "cell_type": "markdown",
   "metadata": {},
   "source": [
    "### Interior / exterior propensity"
   ]
  },
  {
   "cell_type": "code",
   "execution_count": null,
   "metadata": {
    "collapsed": true
   },
   "outputs": [],
   "source": [
    "int_ext_propensity, int_ext_frequency, int_ext_normed_frequencies = calc_indv_property_propensities(\n",
    "    barrel_df, 'int_ext', aa_dict_no_cys\n",
    ")"
   ]
  },
  {
   "cell_type": "code",
   "execution_count": null,
   "metadata": {},
   "outputs": [],
   "source": [
    "int_ext_propensity"
   ]
  },
  {
   "cell_type": "code",
   "execution_count": null,
   "metadata": {},
   "outputs": [],
   "source": [
    "int_ext_frequency"
   ]
  },
  {
   "cell_type": "code",
   "execution_count": null,
   "metadata": {},
   "outputs": [],
   "source": [
    "int_ext_normed_frequencies"
   ]
  },
  {
   "cell_type": "code",
   "execution_count": null,
   "metadata": {},
   "outputs": [],
   "source": [
    "plot_bar_graphs(int_ext_propensity, 'Propensity')"
   ]
  },
  {
   "cell_type": "code",
   "execution_count": null,
   "metadata": {},
   "outputs": [],
   "source": [
    "plot_bar_graphs(int_ext_frequency, 'Frequency')"
   ]
  },
  {
   "cell_type": "code",
   "execution_count": null,
   "metadata": {},
   "outputs": [],
   "source": [
    "plot_bar_graphs(int_ext_normed_frequencies, 'Normalised frequencies')"
   ]
  },
  {
   "cell_type": "code",
   "execution_count": null,
   "metadata": {},
   "outputs": [],
   "source": [
    "plot_heat_map(int_ext_propensity)"
   ]
  },
  {
   "cell_type": "code",
   "execution_count": null,
   "metadata": {},
   "outputs": [],
   "source": [
    "plot_heat_map(int_ext_frequency)"
   ]
  },
  {
   "cell_type": "code",
   "execution_count": null,
   "metadata": {},
   "outputs": [],
   "source": [
    "plot_heat_map(int_ext_normed_frequencies)"
   ]
  },
  {
   "cell_type": "code",
   "execution_count": null,
   "metadata": {},
   "outputs": [],
   "source": [
    "(\n",
    "    int_ext_bootstrap_propensity_dict, int_ext_bootstrap_frequency_dict, int_ext_bootstrap_normed_frequencies_dict\n",
    ") = bootstrap_discrete_propensities(\n",
    "    barrel_df, 'int_ext', aa_dict_no_cys, 100, calc_indv_property_propensities\n",
    ")"
   ]
  },
  {
   "cell_type": "code",
   "execution_count": null,
   "metadata": {
    "scrolled": false
   },
   "outputs": [],
   "source": [
    "plot_bar_graphs_with_conf_limits(\n",
    "    int_ext_propensity, int_ext_bootstrap_propensity_dict, 'Propensity'\n",
    ")"
   ]
  },
  {
   "cell_type": "code",
   "execution_count": null,
   "metadata": {
    "scrolled": false
   },
   "outputs": [],
   "source": [
    "plot_bar_graphs_with_conf_limits(\n",
    "    int_ext_frequency, int_ext_bootstrap_frequency_dict, 'Frequency'\n",
    ")"
   ]
  },
  {
   "cell_type": "code",
   "execution_count": null,
   "metadata": {
    "scrolled": false
   },
   "outputs": [],
   "source": [
    "plot_bar_graphs_with_conf_limits(\n",
    "    int_ext_normed_frequencies, int_ext_bootstrap_normed_frequencies_dict, 'Normalised frequency'\n",
    ")"
   ]
  },
  {
   "cell_type": "code",
   "execution_count": null,
   "metadata": {
    "scrolled": false
   },
   "outputs": [],
   "source": [
    "(\n",
    "    int_ext_iterated_propensity_dict, int_ext_iterated_frequency_dict, int_ext_iterated_normed_frequencies_dict\n",
    ") = iterate_bootstrap_propensities(\n",
    "    barrel_df, 'int_ext', aa_dict_no_cys, [10, 30, 100, 300], calc_indv_property_propensities, int_ext_propensity,\n",
    "    int_ext_frequency, int_ext_normed_frequencies\n",
    ")"
   ]
  },
  {
   "cell_type": "code",
   "execution_count": null,
   "metadata": {
    "scrolled": true
   },
   "outputs": [],
   "source": [
    "int_ext_iterated_propensity_dict"
   ]
  },
  {
   "cell_type": "markdown",
   "metadata": {},
   "source": [
    "### Transmembrane / external propensity"
   ]
  },
  {
   "cell_type": "code",
   "execution_count": null,
   "metadata": {
    "collapsed": true
   },
   "outputs": [],
   "source": [
    "tm_ext_propensity, tm_ext_frequency, tm_ext_normed_frequencies = calc_indv_property_propensities(\n",
    "    barrel_df, 'tm_ext', aa_dict_no_cys\n",
    ")"
   ]
  },
  {
   "cell_type": "code",
   "execution_count": null,
   "metadata": {},
   "outputs": [],
   "source": [
    "tm_ext_propensity"
   ]
  },
  {
   "cell_type": "code",
   "execution_count": null,
   "metadata": {},
   "outputs": [],
   "source": [
    "tm_ext_frequency"
   ]
  },
  {
   "cell_type": "code",
   "execution_count": null,
   "metadata": {},
   "outputs": [],
   "source": [
    "tm_ext_normed_frequencies"
   ]
  },
  {
   "cell_type": "code",
   "execution_count": null,
   "metadata": {
    "scrolled": false
   },
   "outputs": [],
   "source": [
    "plot_bar_graphs(tm_ext_propensity, 'Propensity')"
   ]
  },
  {
   "cell_type": "code",
   "execution_count": null,
   "metadata": {},
   "outputs": [],
   "source": [
    "plot_bar_graphs(tm_ext_frequency, 'Frequency')"
   ]
  },
  {
   "cell_type": "code",
   "execution_count": null,
   "metadata": {},
   "outputs": [],
   "source": [
    "plot_bar_graphs(tm_ext_normed_frequencies, 'Normalised frequencies')"
   ]
  },
  {
   "cell_type": "code",
   "execution_count": null,
   "metadata": {},
   "outputs": [],
   "source": [
    "plot_heat_map(tm_ext_propensity)"
   ]
  },
  {
   "cell_type": "code",
   "execution_count": null,
   "metadata": {},
   "outputs": [],
   "source": [
    "plot_heat_map(tm_ext_frequency)"
   ]
  },
  {
   "cell_type": "code",
   "execution_count": null,
   "metadata": {},
   "outputs": [],
   "source": [
    "plot_heat_map(tm_ext_normed_frequencies)"
   ]
  },
  {
   "cell_type": "code",
   "execution_count": null,
   "metadata": {
    "collapsed": true
   },
   "outputs": [],
   "source": [
    "(\n",
    "    tm_ext_bootstrap_propensity_dict, tm_ext_bootstrap_frequency_dict, tm_ext_bootstrap_normed_frequencies_dict\n",
    ") = bootstrap_discrete_propensities(\n",
    "    barrel_df, 'tm_ext', aa_dict_no_cys, 10000, calc_indv_property_propensities\n",
    ")"
   ]
  },
  {
   "cell_type": "code",
   "execution_count": null,
   "metadata": {
    "scrolled": false
   },
   "outputs": [],
   "source": [
    "plot_bar_graphs_with_conf_limits(\n",
    "    tm_ext_propensity, tm_ext_bootstrap_propensity_dict, 'Propensity'\n",
    ")"
   ]
  },
  {
   "cell_type": "code",
   "execution_count": null,
   "metadata": {
    "scrolled": false
   },
   "outputs": [],
   "source": [
    "plot_bar_graphs_with_conf_limits(\n",
    "    tm_ext_frequency, tm_ext_bootstrap_frequency_dict, 'Frequency'\n",
    ")"
   ]
  },
  {
   "cell_type": "code",
   "execution_count": null,
   "metadata": {
    "scrolled": false
   },
   "outputs": [],
   "source": [
    "plot_bar_graphs_with_conf_limits(\n",
    "    tm_ext_normed_frequencies, tm_ext_bootstrap_normed_frequencies_dict, 'Normalised frequency'\n",
    ")"
   ]
  },
  {
   "cell_type": "markdown",
   "metadata": {},
   "source": [
    "### All combinations propensities"
   ]
  },
  {
   "cell_type": "code",
   "execution_count": null,
   "metadata": {
    "collapsed": true
   },
   "outputs": [],
   "source": [
    "(int_ext_tm_ext_propensity, int_ext_tm_ext_frequency, int_ext_tm_ext_normed_frequencies\n",
    " ) = calc_combined_property_propensities(barrel_df, ['int_ext', 'tm_ext'], aa_dict_no_cys)"
   ]
  },
  {
   "cell_type": "code",
   "execution_count": null,
   "metadata": {},
   "outputs": [],
   "source": [
    "int_ext_tm_ext_propensity"
   ]
  },
  {
   "cell_type": "code",
   "execution_count": null,
   "metadata": {},
   "outputs": [],
   "source": [
    "int_ext_tm_ext_frequency"
   ]
  },
  {
   "cell_type": "code",
   "execution_count": null,
   "metadata": {},
   "outputs": [],
   "source": [
    "int_ext_tm_ext_normed_frequencies"
   ]
  },
  {
   "cell_type": "code",
   "execution_count": null,
   "metadata": {},
   "outputs": [],
   "source": [
    "plot_bar_graphs(int_ext_tm_ext_propensity, 'Propensity')"
   ]
  },
  {
   "cell_type": "code",
   "execution_count": null,
   "metadata": {},
   "outputs": [],
   "source": [
    "plot_bar_graphs(int_ext_tm_ext_frequency, 'Frequency')"
   ]
  },
  {
   "cell_type": "code",
   "execution_count": null,
   "metadata": {},
   "outputs": [],
   "source": [
    "plot_bar_graphs(int_ext_tm_ext_normed_frequencies, 'Normalised frequencies')"
   ]
  },
  {
   "cell_type": "code",
   "execution_count": null,
   "metadata": {},
   "outputs": [],
   "source": [
    "plot_heat_map(int_ext_tm_ext_propensity)"
   ]
  },
  {
   "cell_type": "code",
   "execution_count": null,
   "metadata": {},
   "outputs": [],
   "source": [
    "plot_heat_map(int_ext_tm_ext_frequency)"
   ]
  },
  {
   "cell_type": "code",
   "execution_count": null,
   "metadata": {},
   "outputs": [],
   "source": [
    "plot_heat_map(int_ext_tm_ext_normed_frequencies)"
   ]
  },
  {
   "cell_type": "code",
   "execution_count": null,
   "metadata": {},
   "outputs": [],
   "source": [
    "(\n",
    "    int_ext_tm_ext_bootstrap_propensity_dict, int_ext_tm_ext_bootstrap_frequency_dict,\n",
    "    int_ext_tm_ext_bootstrap_normed_frequencies_dict\n",
    ") = bootstrap_discrete_propensities(\n",
    "    barrel_df, ['int_ext', 'tm_ext'], aa_dict_no_cys, 10000, calc_combined_property_propensities\n",
    ")"
   ]
  },
  {
   "cell_type": "code",
   "execution_count": null,
   "metadata": {
    "scrolled": false
   },
   "outputs": [],
   "source": [
    "plot_bar_graphs_with_conf_limits(\n",
    "    int_ext_tm_ext_propensity, int_ext_tm_ext_bootstrap_propensity_dict, 'Propensity'\n",
    ")"
   ]
  },
  {
   "cell_type": "code",
   "execution_count": null,
   "metadata": {
    "scrolled": false
   },
   "outputs": [],
   "source": [
    "plot_bar_graphs_with_conf_limits(\n",
    "    int_ext_tm_ext_frequency, int_ext_tm_ext_bootstrap_frequency_dict, 'Frequency'\n",
    ")"
   ]
  },
  {
   "cell_type": "code",
   "execution_count": null,
   "metadata": {
    "scrolled": false
   },
   "outputs": [],
   "source": [
    "plot_bar_graphs_with_conf_limits(\n",
    "    int_ext_tm_ext_normed_frequencies, int_ext_tm_ext_bootstrap_normed_frequencies_dict, 'Normalised frequency'\n",
    ")"
   ]
  },
  {
   "cell_type": "markdown",
   "metadata": {},
   "source": [
    "### Z-coordinate amino acid KDEs"
   ]
  },
  {
   "cell_type": "code",
   "execution_count": null,
   "metadata": {
    "scrolled": false
   },
   "outputs": [],
   "source": [
    "plot_aa_kdes(barrel_df, ['z_coords'], 'individual', aa_dict_no_cys)"
   ]
  },
  {
   "cell_type": "code",
   "execution_count": null,
   "metadata": {
    "scrolled": false
   },
   "outputs": [],
   "source": [
    "int_barrel_df = barrel_df[barrel_df['int_ext'] == 'interior']\n",
    "int_barrel_df = int_barrel_df.reset_index(drop=True)\n",
    "plot_aa_kdes(int_barrel_df, ['z_coords'], 'individual', aa_dict_no_cys)"
   ]
  },
  {
   "cell_type": "code",
   "execution_count": null,
   "metadata": {
    "scrolled": false
   },
   "outputs": [],
   "source": [
    "ext_barrel_df = barrel_df[barrel_df['int_ext'] == 'exterior']\n",
    "ext_barrel_df = ext_barrel_df.reset_index(drop=True)\n",
    "plot_aa_kdes(ext_barrel_df, ['z_coords'], 'individual', aa_dict_no_cys)"
   ]
  },
  {
   "cell_type": "code",
   "execution_count": null,
   "metadata": {
    "scrolled": false
   },
   "outputs": [],
   "source": [
    "plot_aa_kdes(barrel_df, ['z_coords'], 'comparison', aa_dict_no_cys)"
   ]
  },
  {
   "cell_type": "code",
   "execution_count": null,
   "metadata": {
    "scrolled": false
   },
   "outputs": [],
   "source": [
    "plot_aa_kdes(int_barrel_df, ['z_coords'], 'comparison', aa_dict_no_cys)"
   ]
  },
  {
   "cell_type": "code",
   "execution_count": null,
   "metadata": {
    "scrolled": false
   },
   "outputs": [],
   "source": [
    "plot_aa_kdes(ext_barrel_df, ['z_coords'], 'comparison', aa_dict_no_cys)"
   ]
  },
  {
   "cell_type": "code",
   "execution_count": null,
   "metadata": {
    "scrolled": false
   },
   "outputs": [],
   "source": [
    "plot_1d_indv_aa_propensities(barrel_df, 'z_coords', aa_dict_no_cys)"
   ]
  },
  {
   "cell_type": "code",
   "execution_count": null,
   "metadata": {
    "scrolled": false
   },
   "outputs": [],
   "source": [
    "plot_1d_indv_aa_propensities(int_barrel_df, 'z_coords', aa_dict_no_cys)"
   ]
  },
  {
   "cell_type": "code",
   "execution_count": null,
   "metadata": {
    "scrolled": false
   },
   "outputs": [],
   "source": [
    "plot_1d_indv_aa_propensities(ext_barrel_df, 'z_coords', aa_dict_no_cys)"
   ]
  },
  {
   "cell_type": "markdown",
   "metadata": {},
   "source": [
    "### 2D Kolmogorov-Smirnov test to compare individual and overall amino acid z-coordinate distributions"
   ]
  },
  {
   "cell_type": "markdown",
   "metadata": {},
   "source": [
    "How many bootstrap samples should I use (all residues)?"
   ]
  },
  {
   "cell_type": "code",
   "execution_count": null,
   "metadata": {
    "collapsed": true,
    "scrolled": false
   },
   "outputs": [],
   "source": [
    "iterate_bootstrap_conf_limits(\n",
    "    barrel_df, 'z_coords', run_ks_2samp_test, [100, 300, 1000, 3000, 10000, 30000, 100000], aa_dict_no_cys\n",
    ")"
   ]
  },
  {
   "cell_type": "markdown",
   "metadata": {},
   "source": [
    "Are the differences I observe between individual amino acid and overall amino acid distributions significant?"
   ]
  },
  {
   "cell_type": "code",
   "execution_count": null,
   "metadata": {
    "collapsed": true,
    "scrolled": false
   },
   "outputs": [],
   "source": [
    "initial_D_dict, initial_p_dict = initial_ks_test(barrel_df, 'z_coords', run_ks_2samp_test, aa_dict_no_cys)\n",
    "\n",
    "D_dict_bootstrap, p_dict_bootstrap = bootstrap_ks_test(barrel_df, 'z_coords', 10000, run_ks_2samp_test, aa_dict_no_cys)\n",
    "draw_plot(sns.violinplot, p_dict_bootstrap, list(aa_dict_no_cys.keys()), 'Amino acid', 'p')\n",
    "\n",
    "barrel_conf_intv_p_dict = calc_95_conf_limits(initial_p_dict, p_dict_bootstrap)\n",
    "draw_plot(sns.swarmplot, barrel_conf_intv_p_dict, list(aa_dict_no_cys.keys()), 'Amino acid', 'p')"
   ]
  },
  {
   "cell_type": "markdown",
   "metadata": {},
   "source": [
    "How many bootstrap samples should I use (interior residues)?"
   ]
  },
  {
   "cell_type": "code",
   "execution_count": null,
   "metadata": {
    "collapsed": true,
    "scrolled": false
   },
   "outputs": [],
   "source": [
    "iterate_bootstrap_conf_limits(\n",
    "    int_barrel_df, 'z_coords', run_ks_2samp_test, [100, 300, 1000, 3000, 10000, 30000, 100000], aa_dict_no_cys\n",
    ")"
   ]
  },
  {
   "cell_type": "markdown",
   "metadata": {},
   "source": [
    "Are the differences I observe between individual amino acid and overall amino acid distributions significant?"
   ]
  },
  {
   "cell_type": "code",
   "execution_count": null,
   "metadata": {
    "collapsed": true,
    "scrolled": false
   },
   "outputs": [],
   "source": [
    "initial_D_dict_int, initial_p_dict_int = initial_ks_test(int_barrel_df, 'z_coords', run_ks_2samp_test, aa_dict_no_cys)\n",
    "\n",
    "D_dict_bootstrap_int, p_dict_bootstrap_int = bootstrap_ks_test(\n",
    "    int_barrel_df, 'z_coords', 10000, run_ks_2samp_test, aa_dict_no_cys\n",
    ")\n",
    "draw_plot(sns.violinplot, p_dict_bootstrap_int, list(aa_dict_no_cys.keys()), 'Amino acid', 'p')\n",
    "\n",
    "barrel_conf_intv_p_dict_int = calc_95_conf_limits(initial_p_dict_int, p_dict_bootstrap_int)\n",
    "draw_plot(sns.swarmplot, barrel_conf_intv_p_dict_int, list(aa_dict_no_cys.keys()), 'Amino acid', 'p')"
   ]
  },
  {
   "cell_type": "markdown",
   "metadata": {},
   "source": [
    "How many bootstrap samples should I use (exterior residues)?"
   ]
  },
  {
   "cell_type": "code",
   "execution_count": null,
   "metadata": {
    "collapsed": true,
    "scrolled": false
   },
   "outputs": [],
   "source": [
    "iterate_bootstrap_conf_limits(\n",
    "    ext_barrel_df, 'z_coords', run_ks_2samp_test, [100, 300, 1000, 3000, 10000, 30000, 100000], aa_dict_no_cys\n",
    ")"
   ]
  },
  {
   "cell_type": "markdown",
   "metadata": {},
   "source": [
    "Are the differences I observe between individual amino acid and overall amino acid distributions significant?"
   ]
  },
  {
   "cell_type": "code",
   "execution_count": null,
   "metadata": {
    "collapsed": true,
    "scrolled": false
   },
   "outputs": [],
   "source": [
    "initial_D_dict_ext, initial_p_dict_ext = initial_ks_test(ext_barrel_df, 'z_coords', run_ks_2samp_test, aa_dict_no_cys)\n",
    "\n",
    "D_dict_bootstrap_ext, p_dict_bootstrap_ext = bootstrap_ks_test(\n",
    "    ext_barrel_df, 'z_coords', 10000, run_ks_2samp_test, aa_dict_no_cys\n",
    ")\n",
    "draw_plot(sns.violinplot, p_dict_bootstrap_ext, list(aa_dict_no_cys.keys()), 'Amino acid', 'p')\n",
    "\n",
    "barrel_conf_intv_p_dict_ext = calc_95_conf_limits(initial_p_dict_ext, p_dict_bootstrap_ext)\n",
    "draw_plot(sns.swarmplot, barrel_conf_intv_p_dict_ext, list(aa_dict_no_cys.keys()), 'Amino acid', 'p')"
   ]
  },
  {
   "cell_type": "markdown",
   "metadata": {},
   "source": [
    "### Z-coordinate interaction type KDEs"
   ]
  },
  {
   "cell_type": "code",
   "execution_count": null,
   "metadata": {
    "scrolled": false
   },
   "outputs": [],
   "source": [
    "plot_discrete_prop_frequency_kdes(\n",
    "    barrel_df, 'z_coords', ['van_der_waals', 'h_bonds', 'ionic', 'ss_bonds', 'pi_pi_stacking', 'pi_pi_stacking_p',\n",
    "                            'pi_pi_stacking_l', 'pi_pi_stacking_n', 'pi_pi_stacking_t', 'cation_pi']\n",
    ")"
   ]
  },
  {
   "cell_type": "code",
   "execution_count": null,
   "metadata": {
    "scrolled": false
   },
   "outputs": [],
   "source": [
    "plot_discrete_prop_frequency_kdes(\n",
    "    int_barrel_df, 'z_coords', ['van_der_waals', 'h_bonds', 'ionic', 'ss_bonds', 'pi_pi_stacking', 'pi_pi_stacking_p',\n",
    "                                'pi_pi_stacking_l', 'pi_pi_stacking_n', 'pi_pi_stacking_t', 'cation_pi']\n",
    ")"
   ]
  },
  {
   "cell_type": "code",
   "execution_count": null,
   "metadata": {
    "collapsed": true,
    "scrolled": false
   },
   "outputs": [],
   "source": [
    "plot_discrete_prop_frequency_kdes(\n",
    "    ext_barrel_df, 'z_coords', ['van_der_waals', 'h_bonds', 'ionic', 'ss_bonds', 'pi_pi_stacking', 'pi_pi_stacking_p',\n",
    "                                'pi_pi_stacking_l', 'pi_pi_stacking_n', 'pi_pi_stacking_t', 'cation_pi']\n",
    ")"
   ]
  },
  {
   "cell_type": "markdown",
   "metadata": {},
   "source": [
    "### Residue mass KDEs"
   ]
  },
  {
   "cell_type": "code",
   "execution_count": null,
   "metadata": {
    "collapsed": true
   },
   "outputs": [],
   "source": [
    "# Average residue mass (Burlingame and Carr, 1996)\n",
    "mass_list = [71.0788, 156.1876, 114.1039, 115.0886, 103.1448, 128.1308, 129.1155, 57.0520, 137.1412, 113.1595,\n",
    "             113.1595, 128.1742, 131.1986, 147.1766, 97.1167, 87.0782, 101.1051, 186.2133, 163.1760, 99.1326]\n",
    "mass_dict = define_dict(mass_list)"
   ]
  },
  {
   "cell_type": "code",
   "execution_count": null,
   "metadata": {},
   "outputs": [],
   "source": [
    "plot_prop_vs_prop(barrel_df, 'z_coords', mass_dict, 'mass', 3, 8)"
   ]
  },
  {
   "cell_type": "code",
   "execution_count": null,
   "metadata": {
    "collapsed": true
   },
   "outputs": [],
   "source": [
    "plot_prop_vs_prop(int_barrel_df, 'z_coords', mass_dict, 'mass', 3, 8)"
   ]
  },
  {
   "cell_type": "code",
   "execution_count": null,
   "metadata": {
    "collapsed": true
   },
   "outputs": [],
   "source": [
    "plot_prop_vs_prop(ext_barrel_df, 'z_coords', mass_dict, 'mass', 3, 8)"
   ]
  },
  {
   "cell_type": "markdown",
   "metadata": {},
   "source": [
    "### Hydrophobicity KDEs"
   ]
  },
  {
   "cell_type": "code",
   "execution_count": null,
   "metadata": {
    "collapsed": true
   },
   "outputs": [],
   "source": [
    "# Kyte and Doolittle scale\n",
    "hydrophobicity_list = [1.8, -4.5, -3.5, -3.5, 2.5, -3.5, -3.5, -0.4, -3.2, 4.5, 3.8, -3.9, 1.9, 2.8, -1.6, -0.8,\n",
    "                       -0.7, -0.9, -1.3, 4.2]\n",
    "hydrophobicity_dict = define_dict(hydrophobicity_list)"
   ]
  },
  {
   "cell_type": "code",
   "execution_count": null,
   "metadata": {
    "collapsed": true
   },
   "outputs": [],
   "source": [
    "plot_prop_vs_prop(barrel_df, 'z_coords', hydrophobicity_dict, 'hydrophobicity', 3, 0.5)"
   ]
  },
  {
   "cell_type": "code",
   "execution_count": null,
   "metadata": {
    "collapsed": true
   },
   "outputs": [],
   "source": [
    "plot_prop_vs_prop(int_barrel_df, 'z_coords', hydrophobicity_dict, 'hydrophobicity', 3, 0.5)"
   ]
  },
  {
   "cell_type": "code",
   "execution_count": null,
   "metadata": {
    "collapsed": true
   },
   "outputs": [],
   "source": [
    "plot_prop_vs_prop(ext_barrel_df, 'z_coords', hydrophobicity_dict, 'hydrophobicity', 3, 0.5)"
   ]
  },
  {
   "cell_type": "markdown",
   "metadata": {},
   "source": [
    "### Side chain volume KDEs"
   ]
  },
  {
   "cell_type": "code",
   "execution_count": null,
   "metadata": {
    "collapsed": true
   },
   "outputs": [],
   "source": [
    "# Side chain volume (Krigbaum-Komoriya, 1979)\n",
    "side_chain_volume_list = [27.5, 105.0, 58.7, 40.0, 44.6, 80.7, 62.0, 0.0, 79.0, 93.5, 93.5, 100.0, 94.1, 115.5, 41.9,\n",
    "                          29.3, 51.3, 145.5, 117.3, 71.5]\n",
    "side_chain_volume_dict = define_dict(side_chain_volume_list)"
   ]
  },
  {
   "cell_type": "code",
   "execution_count": null,
   "metadata": {
    "collapsed": true
   },
   "outputs": [],
   "source": [
    "plot_prop_vs_prop(barrel_df, 'z_coords', side_chain_volume_dict, 'side_chain_volume', 3, 10)"
   ]
  },
  {
   "cell_type": "code",
   "execution_count": null,
   "metadata": {
    "collapsed": true
   },
   "outputs": [],
   "source": [
    "plot_prop_vs_prop(int_barrel_df, 'z_coords', side_chain_volume_dict, 'side_chain_volume', 3, 10)"
   ]
  },
  {
   "cell_type": "code",
   "execution_count": null,
   "metadata": {
    "collapsed": true
   },
   "outputs": [],
   "source": [
    "plot_prop_vs_prop(ext_barrel_df, 'z_coords', side_chain_volume_dict, 'side_chain_volume', 3, 10)"
   ]
  },
  {
   "cell_type": "markdown",
   "metadata": {},
   "source": [
    "### Side chain solvent accessible surface area KDEs"
   ]
  },
  {
   "cell_type": "code",
   "execution_count": null,
   "metadata": {
    "collapsed": true
   },
   "outputs": [],
   "source": [
    "# Side chain solvent accessible surface area (Miller et al, 1987)\n",
    "side_chain_sasa_list = [67, 196, 113, 106, 104, 144, 138, 0, 151, 140, 137, 167, 160, 175, 105, 80, 102, 217, 187,\n",
    "                        117]\n",
    "sasa_dict = define_dict(side_chain_sasa_list)"
   ]
  },
  {
   "cell_type": "code",
   "execution_count": null,
   "metadata": {
    "collapsed": true
   },
   "outputs": [],
   "source": [
    "plot_prop_vs_prop(barrel_df, 'z_coords', sasa_dict, 'solvent_accessible_surface_area', 3, 15)"
   ]
  },
  {
   "cell_type": "code",
   "execution_count": null,
   "metadata": {
    "collapsed": true
   },
   "outputs": [],
   "source": [
    "plot_prop_vs_prop(int_barrel_df, 'z_coords', sasa_dict, 'solvent_accessible_surface_area', 3, 15)"
   ]
  },
  {
   "cell_type": "code",
   "execution_count": null,
   "metadata": {
    "collapsed": true
   },
   "outputs": [],
   "source": [
    "plot_prop_vs_prop(ext_barrel_df, 'z_coords', sasa_dict, 'solvent_accessible_surface_area', 3, 15)"
   ]
  },
  {
   "cell_type": "markdown",
   "metadata": {},
   "source": [
    "### Charge KDEs"
   ]
  },
  {
   "cell_type": "code",
   "execution_count": null,
   "metadata": {
    "collapsed": true
   },
   "outputs": [],
   "source": [
    "# From pKa values of Cantor and Schimmel (1980)\n",
    "\"\"\"\n",
    "pka_dict = {'A': '',\n",
    "            'R': 12,\n",
    "            'N': '',\n",
    "            'D': 4.5,\n",
    "            'C': 8.65,\n",
    "            'Q': '',\n",
    "            'E': 4.5,\n",
    "            'G': '',\n",
    "            'H': 6.75,\n",
    "            'I': '',\n",
    "            'L': '',\n",
    "            'K': 10.1,\n",
    "            'M': '',\n",
    "            'F': '',\n",
    "            'P': '',\n",
    "            'S': '',\n",
    "            'T': '',\n",
    "            'W': '',\n",
    "            'Y': 9.8,\n",
    "            'V': ''}\n",
    "\"\"\"\n",
    "\n",
    "charge_at_ph_7_list = [0, 1, 0, -1, -0.02, 0, -1, 0, 0.36, 0, 0, 1, 0, 0, 0, 0, 0, 0, 0, 0]\n",
    "charge_at_ph_7_dict = define_dict(charge_at_ph_7_list)"
   ]
  },
  {
   "cell_type": "code",
   "execution_count": null,
   "metadata": {
    "collapsed": true
   },
   "outputs": [],
   "source": [
    "plot_prop_vs_prop(barrel_df, 'z_coords', charge_at_ph_7_dict, 'net_charge', 3, 0.1)"
   ]
  },
  {
   "cell_type": "code",
   "execution_count": null,
   "metadata": {
    "collapsed": true
   },
   "outputs": [],
   "source": [
    "plot_prop_vs_prop(int_barrel_df, 'z_coords', charge_at_ph_7_dict, 'net_charge', 3, 0.1)"
   ]
  },
  {
   "cell_type": "code",
   "execution_count": null,
   "metadata": {
    "collapsed": true
   },
   "outputs": [],
   "source": [
    "plot_prop_vs_prop(ext_barrel_df, 'z_coords', charge_at_ph_7_dict, 'net_charge', 3, 0.1)"
   ]
  },
  {
   "cell_type": "markdown",
   "metadata": {},
   "source": [
    "### Positive charge KDEs"
   ]
  },
  {
   "cell_type": "code",
   "execution_count": null,
   "metadata": {
    "collapsed": true
   },
   "outputs": [],
   "source": [
    "posi_charge_at_ph_7_list = [0, 1, 0, 0, 0, 0, 0, 0, 0.36, 0, 0, 1, 0, 0, 0, 0, 0, 0, 0, 0]\n",
    "posi_charge_at_ph_7_dict = define_dict(posi_charge_at_ph_7_list)"
   ]
  },
  {
   "cell_type": "code",
   "execution_count": null,
   "metadata": {
    "collapsed": true
   },
   "outputs": [],
   "source": [
    "plot_prop_vs_prop(barrel_df, 'z_coords', posi_charge_at_ph_7_dict, 'positive_charge', 3, 0.1)"
   ]
  },
  {
   "cell_type": "code",
   "execution_count": null,
   "metadata": {
    "collapsed": true
   },
   "outputs": [],
   "source": [
    "plot_prop_vs_prop(int_barrel_df, 'z_coords', posi_charge_at_ph_7_dict, 'positive_charge', 3, 0.1)"
   ]
  },
  {
   "cell_type": "code",
   "execution_count": null,
   "metadata": {
    "collapsed": true
   },
   "outputs": [],
   "source": [
    "plot_prop_vs_prop(ext_barrel_df, 'z_coords', posi_charge_at_ph_7_dict, 'positive_charge', 3, 0.1)"
   ]
  },
  {
   "cell_type": "markdown",
   "metadata": {},
   "source": [
    "### Negative KDEs"
   ]
  },
  {
   "cell_type": "code",
   "execution_count": null,
   "metadata": {
    "collapsed": true
   },
   "outputs": [],
   "source": [
    "neg_charge_at_ph_7_list = [0, 0, 0, -1, -0.02, 0, -1, 0, 0, 0, 0, 0, 0, 0, 0, 0, 0, 0, 0, 0]\n",
    "neg_charge_at_ph_7_dict = define_dict(neg_charge_at_ph_7_list)"
   ]
  },
  {
   "cell_type": "code",
   "execution_count": null,
   "metadata": {
    "collapsed": true
   },
   "outputs": [],
   "source": [
    "plot_prop_vs_prop(barrel_df, 'z_coords', neg_charge_at_ph_7_dict, 'negative_charge', 3, 0.1)"
   ]
  },
  {
   "cell_type": "code",
   "execution_count": null,
   "metadata": {
    "collapsed": true
   },
   "outputs": [],
   "source": [
    "plot_prop_vs_prop(int_barrel_df, 'z_coords', neg_charge_at_ph_7_dict, 'negative_charge', 3, 0.1)"
   ]
  },
  {
   "cell_type": "code",
   "execution_count": null,
   "metadata": {
    "collapsed": true
   },
   "outputs": [],
   "source": [
    "plot_prop_vs_prop(ext_barrel_df, 'z_coords', neg_charge_at_ph_7_dict, 'negative_charge', 3, 0.1)"
   ]
  },
  {
   "cell_type": "markdown",
   "metadata": {},
   "source": [
    "### Polarity KDEs"
   ]
  },
  {
   "cell_type": "code",
   "execution_count": null,
   "metadata": {
    "collapsed": true
   },
   "outputs": [],
   "source": [
    "# Mean polarity (Radzicka-Wolfenden, 1988)\n",
    "polarity_list = [-0.06, -0.84, -0.48, -0.80, 1.36, -0.73, -0.77, -0.41, 0.49, 1.31, 1.21, -1.18, 1.27, 1.27, 0.0,\n",
    "                 -0.50, -0.27, 0.88, 0.33,  1.09]\n",
    "polarity_dict = define_dict(polarity_list)"
   ]
  },
  {
   "cell_type": "code",
   "execution_count": null,
   "metadata": {
    "collapsed": true
   },
   "outputs": [],
   "source": [
    "plot_prop_vs_prop(barrel_df, 'z_coords', polarity_dict, 'polarity', 3, 0.17)"
   ]
  },
  {
   "cell_type": "code",
   "execution_count": null,
   "metadata": {
    "collapsed": true
   },
   "outputs": [],
   "source": [
    "plot_prop_vs_prop(int_barrel_df, 'z_coords', polarity_dict, 'polarity', 3, 0.17)"
   ]
  },
  {
   "cell_type": "code",
   "execution_count": null,
   "metadata": {
    "collapsed": true
   },
   "outputs": [],
   "source": [
    "plot_prop_vs_prop(ext_barrel_df, 'z_coords', polarity_dict, 'polarity', 3, 0.17)"
   ]
  },
  {
   "cell_type": "markdown",
   "metadata": {},
   "source": [
    "### Aromaticity KDEs"
   ]
  },
  {
   "cell_type": "code",
   "execution_count": null,
   "metadata": {
    "collapsed": true
   },
   "outputs": [],
   "source": [
    "# 1 = aromatic, 0 = not aromatic\n",
    "aromaticity_list = [0, 0, 0, 0, 0, 0, 0, 0, 1, 0, 0, 0, 0, 1, 0, 0, 0, 1, 1, 0]\n",
    "aromaticity_dict = define_dict(aromaticity_list)"
   ]
  },
  {
   "cell_type": "code",
   "execution_count": null,
   "metadata": {
    "collapsed": true
   },
   "outputs": [],
   "source": [
    "plot_prop_vs_prop(barrel_df, 'z_coords', aromaticity_dict, 'aromaticity', 3, 0.1)"
   ]
  },
  {
   "cell_type": "code",
   "execution_count": null,
   "metadata": {
    "collapsed": true
   },
   "outputs": [],
   "source": [
    "plot_prop_vs_prop(int_barrel_df, 'z_coords', aromaticity_dict, 'aromaticity', 3, 0.1)"
   ]
  },
  {
   "cell_type": "code",
   "execution_count": null,
   "metadata": {
    "collapsed": true
   },
   "outputs": [],
   "source": [
    "plot_prop_vs_prop(ext_barrel_df, 'z_coords', aromaticity_dict, 'aromaticity', 3, 0.1)"
   ]
  },
  {
   "cell_type": "markdown",
   "metadata": {},
   "source": [
    "### Flexibility KDEs"
   ]
  },
  {
   "cell_type": "code",
   "execution_count": null,
   "metadata": {
    "collapsed": true
   },
   "outputs": [],
   "source": [
    "# Average flexibility indices in globular proteins (Bhaskaran-Ponnuswamy, 1988)\n",
    "flexibility_list = [52.6, 109.1, 75.7, 68.4, 68.3, 89.7, 84.7, 36.3, 91.9, 102.0, 102.0, 105.1, 97.7, 113.9, 73.6,\n",
    "                    54.9, 71.2, 135.4, 116.2, 85.1]\n",
    "flexibility_dict = define_dict(flexibility_list)"
   ]
  },
  {
   "cell_type": "code",
   "execution_count": null,
   "metadata": {
    "collapsed": true
   },
   "outputs": [],
   "source": [
    "plot_prop_vs_prop(barrel_df, 'z_coords', flexibility_dict, 'flexibility', 3, 10)"
   ]
  },
  {
   "cell_type": "code",
   "execution_count": null,
   "metadata": {
    "collapsed": true
   },
   "outputs": [],
   "source": [
    "plot_prop_vs_prop(int_barrel_df, 'z_coords', flexibility_dict, 'flexibility', 3, 10)"
   ]
  },
  {
   "cell_type": "code",
   "execution_count": null,
   "metadata": {
    "collapsed": true
   },
   "outputs": [],
   "source": [
    "plot_prop_vs_prop(ext_barrel_df, 'z_coords', flexibility_dict, 'flexibility', 3, 10)"
   ]
  },
  {
   "cell_type": "markdown",
   "metadata": {},
   "source": [
    "### Dihedral angle KDEs"
   ]
  },
  {
   "cell_type": "code",
   "execution_count": null,
   "metadata": {
    "scrolled": false
   },
   "outputs": [],
   "source": [
    "plot_prop_vs_dihedral(barrel_df, 'z_coords', 'phi')"
   ]
  },
  {
   "cell_type": "code",
   "execution_count": null,
   "metadata": {
    "collapsed": true
   },
   "outputs": [],
   "source": [
    "plot_prop_vs_dihedral(barrel_df, 'z_coords', 'psi')"
   ]
  },
  {
   "cell_type": "code",
   "execution_count": null,
   "metadata": {
    "collapsed": true
   },
   "outputs": [],
   "source": [
    "plot_prop_vs_dihedral(barrel_df, 'z_coords', 'omega')"
   ]
  },
  {
   "cell_type": "code",
   "execution_count": null,
   "metadata": {
    "collapsed": true
   },
   "outputs": [],
   "source": [
    "plot_prop_vs_dihedral(int_barrel_df, 'z_coords', 'phi')"
   ]
  },
  {
   "cell_type": "code",
   "execution_count": null,
   "metadata": {
    "collapsed": true
   },
   "outputs": [],
   "source": [
    "plot_prop_vs_dihedral(int_barrel_df, 'z_coords', 'psi')"
   ]
  },
  {
   "cell_type": "code",
   "execution_count": null,
   "metadata": {
    "collapsed": true
   },
   "outputs": [],
   "source": [
    "plot_prop_vs_dihedral(int_barrel_df, 'z_coords', 'omega')"
   ]
  },
  {
   "cell_type": "code",
   "execution_count": null,
   "metadata": {
    "collapsed": true
   },
   "outputs": [],
   "source": [
    "plot_prop_vs_dihedral(ext_barrel_df, 'z_coords', 'phi')"
   ]
  },
  {
   "cell_type": "code",
   "execution_count": null,
   "metadata": {
    "collapsed": true
   },
   "outputs": [],
   "source": [
    "plot_prop_vs_dihedral(ext_barrel_df, 'z_coords', 'psi')"
   ]
  },
  {
   "cell_type": "code",
   "execution_count": null,
   "metadata": {
    "collapsed": true
   },
   "outputs": [],
   "source": [
    "plot_prop_vs_dihedral(ext_barrel_df, 'z_coords', 'omega')"
   ]
  },
  {
   "cell_type": "markdown",
   "metadata": {},
   "source": [
    "### Van der Waals interactions amino acid pair propensities"
   ]
  },
  {
   "cell_type": "code",
   "execution_count": null,
   "metadata": {
    "scrolled": false
   },
   "outputs": [],
   "source": [
    "vdw_pairs = gen_neighbouring_pairs_list(barrel_df, 'van_der_waals', aa_dict_no_cys)\n",
    "vdw_propensity, vdw_frequency, vdw_normed_frequencies = calc_aa_pair_propensities(vdw_pairs, aa_dict_no_cys)"
   ]
  },
  {
   "cell_type": "code",
   "execution_count": null,
   "metadata": {},
   "outputs": [],
   "source": [
    "vdw_propensity"
   ]
  },
  {
   "cell_type": "code",
   "execution_count": null,
   "metadata": {
    "scrolled": false
   },
   "outputs": [],
   "source": [
    "vdw_frequency"
   ]
  },
  {
   "cell_type": "code",
   "execution_count": null,
   "metadata": {},
   "outputs": [],
   "source": [
    "vdw_normed_frequencies"
   ]
  },
  {
   "cell_type": "code",
   "execution_count": null,
   "metadata": {},
   "outputs": [],
   "source": [
    "plot_heat_map(vdw_propensity)"
   ]
  },
  {
   "cell_type": "code",
   "execution_count": null,
   "metadata": {},
   "outputs": [],
   "source": [
    "plot_heat_map(vdw_frequency)"
   ]
  },
  {
   "cell_type": "code",
   "execution_count": null,
   "metadata": {},
   "outputs": [],
   "source": [
    "plot_heat_map(vdw_normed_frequencies)"
   ]
  },
  {
   "cell_type": "code",
   "execution_count": null,
   "metadata": {},
   "outputs": [],
   "source": [
    "(\n",
    "    vdw_bootstrap_propensity_dict, vdw_bootstrap_frequency_dict, vdw_bootstrap_normed_frequencies_dict\n",
    ") = bootstrap_discrete_propensities(\n",
    "    barrel_df, 'van_der_waals', aa_dict_no_cys, 10000, calc_aa_pair_propensities\n",
    ")"
   ]
  },
  {
   "cell_type": "code",
   "execution_count": null,
   "metadata": {
    "scrolled": false
   },
   "outputs": [],
   "source": [
    "plot_bar_graphs_with_conf_limits(\n",
    "    vdw_propensity, vdw_bootstrap_propensity_dict, 'Propensity'\n",
    ")"
   ]
  },
  {
   "cell_type": "code",
   "execution_count": null,
   "metadata": {
    "scrolled": false
   },
   "outputs": [],
   "source": [
    "plot_bar_graphs_with_conf_limits(\n",
    "    vdw_frequency, vdw_bootstrap_frequency_dict, 'Frequency'\n",
    ")"
   ]
  },
  {
   "cell_type": "code",
   "execution_count": null,
   "metadata": {
    "scrolled": false
   },
   "outputs": [],
   "source": [
    "plot_bar_graphs_with_conf_limits(\n",
    "    vdw_normed_frequencies, vdw_bootstrap_normed_frequencies_dict, 'Normalised frequency'\n",
    ")"
   ]
  },
  {
   "cell_type": "code",
   "execution_count": null,
   "metadata": {
    "scrolled": false
   },
   "outputs": [],
   "source": [
    "plot_pairwise_propensities(barrel_vdw_z_dict, aa_dict_no_cys, barrel_vdw_propensity)"
   ]
  },
  {
   "cell_type": "code",
   "execution_count": null,
   "metadata": {
    "collapsed": true
   },
   "outputs": [],
   "source": [
    "(int_barrel_vdw_propensity, int_barrel_vdw_frequency, int_barrel_vdw_normed_frequencies, int_barrel_vdw_z_dict\n",
    " ) = calc_aa_pair_propensities(int_barrel_df, 'van_der_waals_fasta_intra', aa_dict_no_cys)"
   ]
  },
  {
   "cell_type": "code",
   "execution_count": null,
   "metadata": {
    "collapsed": true
   },
   "outputs": [],
   "source": [
    "int_barrel_vdw_propensity"
   ]
  },
  {
   "cell_type": "code",
   "execution_count": null,
   "metadata": {
    "collapsed": true,
    "scrolled": false
   },
   "outputs": [],
   "source": [
    "int_barrel_vdw_frequency"
   ]
  },
  {
   "cell_type": "code",
   "execution_count": null,
   "metadata": {
    "collapsed": true
   },
   "outputs": [],
   "source": [
    "int_barrel_vdw_normed_frequencies"
   ]
  },
  {
   "cell_type": "code",
   "execution_count": null,
   "metadata": {
    "collapsed": true
   },
   "outputs": [],
   "source": [
    "plot_heat_map(int_barrel_vdw_propensity)"
   ]
  },
  {
   "cell_type": "code",
   "execution_count": null,
   "metadata": {
    "collapsed": true
   },
   "outputs": [],
   "source": [
    "plot_heat_map(int_barrel_vdw_frequency)"
   ]
  },
  {
   "cell_type": "code",
   "execution_count": null,
   "metadata": {
    "collapsed": true
   },
   "outputs": [],
   "source": [
    "plot_heat_map(int_barrel_vdw_normed_frequencies)"
   ]
  },
  {
   "cell_type": "code",
   "execution_count": null,
   "metadata": {
    "collapsed": true
   },
   "outputs": [],
   "source": [
    "plot_pairwise_propensities(int_barrel_vdw_z_dict, aa_dict_no_cys, int_barrel_vdw_propensity)"
   ]
  },
  {
   "cell_type": "code",
   "execution_count": null,
   "metadata": {
    "collapsed": true
   },
   "outputs": [],
   "source": [
    "(ext_barrel_vdw_propensity, ext_barrel_vdw_frequency, ext_barrel_vdw_normed_frequencies, ext_barrel_vdw_z_dict\n",
    " ) = calc_aa_pair_propensities(ext_barrel_df, 'van_der_waals_fasta_intra', aa_dict_no_cys)"
   ]
  },
  {
   "cell_type": "code",
   "execution_count": null,
   "metadata": {
    "collapsed": true
   },
   "outputs": [],
   "source": [
    "ext_barrel_vdw_propensity"
   ]
  },
  {
   "cell_type": "code",
   "execution_count": null,
   "metadata": {
    "collapsed": true,
    "scrolled": false
   },
   "outputs": [],
   "source": [
    "ext_barrel_vdw_frequency"
   ]
  },
  {
   "cell_type": "code",
   "execution_count": null,
   "metadata": {
    "collapsed": true
   },
   "outputs": [],
   "source": [
    "ext_barrel_vdw_normed_frequencies"
   ]
  },
  {
   "cell_type": "code",
   "execution_count": null,
   "metadata": {
    "collapsed": true
   },
   "outputs": [],
   "source": [
    "plot_heat_map(ext_barrel_vdw_propensity)"
   ]
  },
  {
   "cell_type": "code",
   "execution_count": null,
   "metadata": {
    "collapsed": true
   },
   "outputs": [],
   "source": [
    "plot_heat_map(ext_barrel_vdw_frequency)"
   ]
  },
  {
   "cell_type": "code",
   "execution_count": null,
   "metadata": {
    "collapsed": true
   },
   "outputs": [],
   "source": [
    "plot_heat_map(ext_barrel_vdw_normed_frequencies)"
   ]
  },
  {
   "cell_type": "code",
   "execution_count": null,
   "metadata": {
    "collapsed": true
   },
   "outputs": [],
   "source": [
    "plot_pairwise_propensities(ext_barrel_vdw_z_dict, aa_dict_no_cys, ext_barrel_vdw_propensity)"
   ]
  },
  {
   "cell_type": "markdown",
   "metadata": {},
   "source": [
    "### Hydrogen bonding interaction amino acid pair propensities"
   ]
  },
  {
   "cell_type": "code",
   "execution_count": null,
   "metadata": {
    "collapsed": true
   },
   "outputs": [],
   "source": [
    "(barrel_hbonds_propensity, barrel_hbonds_frequency, barrel_hbonds_normed_frequencies, barrel_hbonds_z_dict\n",
    " ) = calc_aa_pair_propensities(barrel_df, 'h_bonds_fasta_intra', aa_dict_no_cys)"
   ]
  },
  {
   "cell_type": "code",
   "execution_count": null,
   "metadata": {
    "collapsed": true
   },
   "outputs": [],
   "source": [
    "barrel_hbonds_propensity"
   ]
  },
  {
   "cell_type": "code",
   "execution_count": null,
   "metadata": {
    "collapsed": true
   },
   "outputs": [],
   "source": [
    "barrel_hbonds_frequency"
   ]
  },
  {
   "cell_type": "code",
   "execution_count": null,
   "metadata": {
    "collapsed": true
   },
   "outputs": [],
   "source": [
    "barrel_hbonds_normed_frequencies"
   ]
  },
  {
   "cell_type": "code",
   "execution_count": null,
   "metadata": {
    "collapsed": true
   },
   "outputs": [],
   "source": [
    "plot_heat_map(barrel_hbonds_propensity)"
   ]
  },
  {
   "cell_type": "code",
   "execution_count": null,
   "metadata": {
    "collapsed": true
   },
   "outputs": [],
   "source": [
    "plot_heat_map(barrel_hbonds_frequency)"
   ]
  },
  {
   "cell_type": "code",
   "execution_count": null,
   "metadata": {
    "collapsed": true
   },
   "outputs": [],
   "source": [
    "plot_heat_map(barrel_hbonds_normed_frequencies)"
   ]
  },
  {
   "cell_type": "code",
   "execution_count": null,
   "metadata": {
    "collapsed": true
   },
   "outputs": [],
   "source": [
    "plot_pairwise_propensities(barrel_hbonds_z_dict, aa_dict_no_cys, barrel_hbonds_propensity)"
   ]
  },
  {
   "cell_type": "code",
   "execution_count": null,
   "metadata": {
    "collapsed": true
   },
   "outputs": [],
   "source": [
    "(int_barrel_hbonds_propensity, int_barrel_hbonds_frequency, int_barrel_hbonds_normed_frequencies, int_barrel_hbonds_z_dict\n",
    " ) = calc_aa_pair_propensities(int_barrel_df, 'h_bonds_fasta_intra', aa_dict_no_cys)"
   ]
  },
  {
   "cell_type": "code",
   "execution_count": null,
   "metadata": {
    "collapsed": true
   },
   "outputs": [],
   "source": [
    "int_barrel_hbonds_propensity"
   ]
  },
  {
   "cell_type": "code",
   "execution_count": null,
   "metadata": {
    "collapsed": true
   },
   "outputs": [],
   "source": [
    "int_barrel_hbonds_frequency"
   ]
  },
  {
   "cell_type": "code",
   "execution_count": null,
   "metadata": {
    "collapsed": true
   },
   "outputs": [],
   "source": [
    "int_barrel_hbonds_normed_frequencies"
   ]
  },
  {
   "cell_type": "code",
   "execution_count": null,
   "metadata": {
    "collapsed": true
   },
   "outputs": [],
   "source": [
    "plot_heat_map(int_barrel_hbonds_propensity)"
   ]
  },
  {
   "cell_type": "code",
   "execution_count": null,
   "metadata": {
    "collapsed": true
   },
   "outputs": [],
   "source": [
    "plot_heat_map(int_barrel_hbonds_frequency)"
   ]
  },
  {
   "cell_type": "code",
   "execution_count": null,
   "metadata": {
    "collapsed": true
   },
   "outputs": [],
   "source": [
    "plot_heat_map(int_barrel_hbonds_normed_frequencies)"
   ]
  },
  {
   "cell_type": "code",
   "execution_count": null,
   "metadata": {
    "collapsed": true
   },
   "outputs": [],
   "source": [
    "plot_pairwise_propensities(int_barrel_hbonds_z_dict, aa_dict_no_cys, int_barrel_hbonds_propensity)"
   ]
  },
  {
   "cell_type": "code",
   "execution_count": null,
   "metadata": {
    "collapsed": true
   },
   "outputs": [],
   "source": [
    "(ext_barrel_hbonds_propensity, ext_barrel_hbonds_frequency, ext_barrel_hbonds_normed_frequencies, ext_barrel_hbonds_z_dict\n",
    " ) = calc_aa_pair_propensities(ext_barrel_df, 'h_bonds_fasta_intra', aa_dict_no_cys)"
   ]
  },
  {
   "cell_type": "code",
   "execution_count": null,
   "metadata": {
    "collapsed": true
   },
   "outputs": [],
   "source": [
    "ext_barrel_hbonds_propensity"
   ]
  },
  {
   "cell_type": "code",
   "execution_count": null,
   "metadata": {
    "collapsed": true
   },
   "outputs": [],
   "source": [
    "ext_barrel_hbonds_frequency"
   ]
  },
  {
   "cell_type": "code",
   "execution_count": null,
   "metadata": {
    "collapsed": true
   },
   "outputs": [],
   "source": [
    "ext_barrel_hbonds_normed_frequencies"
   ]
  },
  {
   "cell_type": "code",
   "execution_count": null,
   "metadata": {
    "collapsed": true
   },
   "outputs": [],
   "source": [
    "plot_heat_map(ext_barrel_hbonds_propensity)"
   ]
  },
  {
   "cell_type": "code",
   "execution_count": null,
   "metadata": {
    "collapsed": true
   },
   "outputs": [],
   "source": [
    "plot_heat_map(ext_barrel_hbonds_frequency)"
   ]
  },
  {
   "cell_type": "code",
   "execution_count": null,
   "metadata": {
    "collapsed": true
   },
   "outputs": [],
   "source": [
    "plot_heat_map(ext_barrel_hbonds_normed_frequencies)"
   ]
  },
  {
   "cell_type": "code",
   "execution_count": null,
   "metadata": {
    "collapsed": true
   },
   "outputs": [],
   "source": [
    "plot_pairwise_propensities(ext_barrel_hbonds_z_dict, aa_dict_no_cys, ext_barrel_hbonds_propensity)"
   ]
  },
  {
   "cell_type": "markdown",
   "metadata": {},
   "source": [
    "### Ionic interactions amino acid propensities"
   ]
  },
  {
   "cell_type": "code",
   "execution_count": null,
   "metadata": {
    "collapsed": true
   },
   "outputs": [],
   "source": [
    "(barrel_ionic_propensity, barrel_ionic_frequency, barrel_ionic_normed_frequencies, barrel_ionic_z_dict\n",
    " ) = calc_aa_pair_propensities(barrel_df, 'ionic_fasta_intra', aa_dict_no_cys)"
   ]
  },
  {
   "cell_type": "code",
   "execution_count": null,
   "metadata": {
    "collapsed": true
   },
   "outputs": [],
   "source": [
    "barrel_ionic_propensity"
   ]
  },
  {
   "cell_type": "code",
   "execution_count": null,
   "metadata": {
    "collapsed": true
   },
   "outputs": [],
   "source": [
    "barrel_ionic_frequency"
   ]
  },
  {
   "cell_type": "code",
   "execution_count": null,
   "metadata": {
    "collapsed": true
   },
   "outputs": [],
   "source": [
    "barrel_ionic_normed_frequencies"
   ]
  },
  {
   "cell_type": "code",
   "execution_count": null,
   "metadata": {
    "collapsed": true
   },
   "outputs": [],
   "source": [
    "plot_heat_map(barrel_ionic_propensity)"
   ]
  },
  {
   "cell_type": "code",
   "execution_count": null,
   "metadata": {
    "collapsed": true
   },
   "outputs": [],
   "source": [
    "plot_heat_map(barrel_ionic_frequency)"
   ]
  },
  {
   "cell_type": "code",
   "execution_count": null,
   "metadata": {
    "collapsed": true
   },
   "outputs": [],
   "source": [
    "plot_heat_map(barrel_ionic_normed_frequencies)"
   ]
  },
  {
   "cell_type": "code",
   "execution_count": null,
   "metadata": {
    "collapsed": true
   },
   "outputs": [],
   "source": [
    "plot_pairwise_propensities(barrel_ionic_z_dict, aa_dict_no_cys, barrel_ionic_propensity)"
   ]
  },
  {
   "cell_type": "code",
   "execution_count": null,
   "metadata": {
    "collapsed": true
   },
   "outputs": [],
   "source": [
    "(int_barrel_ionic_propensity, int_barrel_ionic_frequency, int_barrel_ionic_normed_frequencies, int_barrel_ionic_z_dict\n",
    " ) = calc_aa_pair_propensities(int_barrel_df, 'ionic_fasta_intra', aa_dict_no_cys)"
   ]
  },
  {
   "cell_type": "code",
   "execution_count": null,
   "metadata": {
    "collapsed": true
   },
   "outputs": [],
   "source": [
    "int_barrel_ionic_propensity"
   ]
  },
  {
   "cell_type": "code",
   "execution_count": null,
   "metadata": {
    "collapsed": true
   },
   "outputs": [],
   "source": [
    "int_barrel_ionic_frequency"
   ]
  },
  {
   "cell_type": "code",
   "execution_count": null,
   "metadata": {
    "collapsed": true
   },
   "outputs": [],
   "source": [
    "int_barrel_ionic_normed_frequencies"
   ]
  },
  {
   "cell_type": "code",
   "execution_count": null,
   "metadata": {
    "collapsed": true
   },
   "outputs": [],
   "source": [
    "plot_heat_map(int_barrel_ionic_propensity)"
   ]
  },
  {
   "cell_type": "code",
   "execution_count": null,
   "metadata": {
    "collapsed": true
   },
   "outputs": [],
   "source": [
    "plot_heat_map(int_barrel_ionic_frequency)"
   ]
  },
  {
   "cell_type": "code",
   "execution_count": null,
   "metadata": {
    "collapsed": true
   },
   "outputs": [],
   "source": [
    "plot_heat_map(int_barrel_ionic_normed_frequencies)"
   ]
  },
  {
   "cell_type": "code",
   "execution_count": null,
   "metadata": {
    "collapsed": true
   },
   "outputs": [],
   "source": [
    "plot_pairwise_propensities(int_barrel_ionic_z_dict, aa_dict_no_cys, int_barrel_ionic_propensity)"
   ]
  },
  {
   "cell_type": "code",
   "execution_count": null,
   "metadata": {
    "collapsed": true
   },
   "outputs": [],
   "source": [
    "(ext_barrel_ionic_propensity, ext_barrel_ionic_frequency, ext_barrel_ionic_normed_frequencies, ext_barrel_ionic_z_dict\n",
    " ) = calc_aa_pair_propensities(ext_barrel_df, 'ionic_fasta_intra', aa_dict_no_cys)"
   ]
  },
  {
   "cell_type": "code",
   "execution_count": null,
   "metadata": {
    "collapsed": true
   },
   "outputs": [],
   "source": [
    "ext_barrel_ionic_propensity"
   ]
  },
  {
   "cell_type": "code",
   "execution_count": null,
   "metadata": {
    "collapsed": true
   },
   "outputs": [],
   "source": [
    "ext_barrel_ionic_frequency"
   ]
  },
  {
   "cell_type": "code",
   "execution_count": null,
   "metadata": {
    "collapsed": true
   },
   "outputs": [],
   "source": [
    "ext_barrel_ionic_normed_frequencies"
   ]
  },
  {
   "cell_type": "code",
   "execution_count": null,
   "metadata": {
    "collapsed": true
   },
   "outputs": [],
   "source": [
    "plot_heat_map(ext_barrel_ionic_propensity)"
   ]
  },
  {
   "cell_type": "code",
   "execution_count": null,
   "metadata": {
    "collapsed": true
   },
   "outputs": [],
   "source": [
    "plot_heat_map(ext_barrel_ionic_frequency)"
   ]
  },
  {
   "cell_type": "code",
   "execution_count": null,
   "metadata": {
    "collapsed": true
   },
   "outputs": [],
   "source": [
    "plot_heat_map(ext_barrel_ionic_normed_frequencies)"
   ]
  },
  {
   "cell_type": "code",
   "execution_count": null,
   "metadata": {
    "collapsed": true
   },
   "outputs": [],
   "source": [
    "plot_pairwise_propensities(ext_barrel_ionic_z_dict, aa_dict_no_cys, ext_barrel_ionic_propensity)"
   ]
  },
  {
   "cell_type": "markdown",
   "metadata": {},
   "source": [
    "### Disulphide bonds amino acid propensities"
   ]
  },
  {
   "cell_type": "code",
   "execution_count": null,
   "metadata": {
    "collapsed": true
   },
   "outputs": [],
   "source": [
    "(barrel_ss_propensity, barrel_ss_frequency, barrel_ss_normed_frequencies, barrel_ss_z_dict\n",
    " ) = calc_aa_pair_propensities(barrel_df, 'ss_bonds_fasta_intra', aa_dict_no_cys)"
   ]
  },
  {
   "cell_type": "code",
   "execution_count": null,
   "metadata": {
    "collapsed": true
   },
   "outputs": [],
   "source": [
    "barrel_ss_propensity"
   ]
  },
  {
   "cell_type": "code",
   "execution_count": null,
   "metadata": {
    "collapsed": true
   },
   "outputs": [],
   "source": [
    "barrel_ss_frequency"
   ]
  },
  {
   "cell_type": "code",
   "execution_count": null,
   "metadata": {
    "collapsed": true
   },
   "outputs": [],
   "source": [
    "barrel_ss_normed_frequencies"
   ]
  },
  {
   "cell_type": "markdown",
   "metadata": {},
   "source": [
    "### Pi-pi stacking interactions amino acid propensities"
   ]
  },
  {
   "cell_type": "code",
   "execution_count": null,
   "metadata": {
    "collapsed": true
   },
   "outputs": [],
   "source": [
    "(barrel_pipi_propensity, barrel_pipi_frequency, barrel_pipi_normed_frequencies, barrel_pipi_z_dict\n",
    " ) = calc_aa_pair_propensities(barrel_df, 'pi_pi_stacking_fasta_intra', aa_dict_no_cys)"
   ]
  },
  {
   "cell_type": "code",
   "execution_count": null,
   "metadata": {
    "collapsed": true
   },
   "outputs": [],
   "source": [
    "barrel_pipi_propensity"
   ]
  },
  {
   "cell_type": "code",
   "execution_count": null,
   "metadata": {
    "collapsed": true
   },
   "outputs": [],
   "source": [
    "barrel_pipi_frequency"
   ]
  },
  {
   "cell_type": "code",
   "execution_count": null,
   "metadata": {
    "collapsed": true
   },
   "outputs": [],
   "source": [
    "barrel_pipi_normed_frequencies"
   ]
  },
  {
   "cell_type": "code",
   "execution_count": null,
   "metadata": {
    "collapsed": true
   },
   "outputs": [],
   "source": [
    "plot_heat_map(barrel_pipi_propensity)"
   ]
  },
  {
   "cell_type": "code",
   "execution_count": null,
   "metadata": {
    "collapsed": true
   },
   "outputs": [],
   "source": [
    "plot_heat_map(barrel_pipi_frequency)"
   ]
  },
  {
   "cell_type": "code",
   "execution_count": null,
   "metadata": {
    "collapsed": true
   },
   "outputs": [],
   "source": [
    "plot_heat_map(barrel_pipi_normed_frequencies)"
   ]
  },
  {
   "cell_type": "code",
   "execution_count": null,
   "metadata": {
    "collapsed": true
   },
   "outputs": [],
   "source": [
    "plot_pairwise_propensities(barrel_pipi_z_dict, aa_dict_no_cys, barrel_pipi_propensity)"
   ]
  },
  {
   "cell_type": "code",
   "execution_count": null,
   "metadata": {
    "collapsed": true
   },
   "outputs": [],
   "source": [
    "(int_barrel_pipi_propensity, int_barrel_pipi_frequency, int_barrel_pipi_normed_frequencies, int_barrel_pipi_z_dict\n",
    " ) = calc_aa_pair_propensities(int_barrel_df, 'pi_pi_stacking_fasta_intra', aa_dict_no_cys)"
   ]
  },
  {
   "cell_type": "code",
   "execution_count": null,
   "metadata": {
    "collapsed": true
   },
   "outputs": [],
   "source": [
    "int_barrel_pipi_propensity"
   ]
  },
  {
   "cell_type": "code",
   "execution_count": null,
   "metadata": {
    "collapsed": true
   },
   "outputs": [],
   "source": [
    "int_barrel_pipi_frequency"
   ]
  },
  {
   "cell_type": "code",
   "execution_count": null,
   "metadata": {
    "collapsed": true
   },
   "outputs": [],
   "source": [
    "int_barrel_pipi_normed_frequencies"
   ]
  },
  {
   "cell_type": "code",
   "execution_count": null,
   "metadata": {
    "collapsed": true
   },
   "outputs": [],
   "source": [
    "plot_heat_map(int_barrel_pipi_propensity)"
   ]
  },
  {
   "cell_type": "code",
   "execution_count": null,
   "metadata": {
    "collapsed": true
   },
   "outputs": [],
   "source": [
    "plot_heat_map(int_barrel_pipi_frequency)"
   ]
  },
  {
   "cell_type": "code",
   "execution_count": null,
   "metadata": {
    "collapsed": true
   },
   "outputs": [],
   "source": [
    "plot_heat_map(int_barrel_pipi_normed_frequencies)"
   ]
  },
  {
   "cell_type": "code",
   "execution_count": null,
   "metadata": {
    "collapsed": true
   },
   "outputs": [],
   "source": [
    "plot_pairwise_propensities(int_barrel_pipi_z_dict, aa_dict_no_cys, int_barrel_pipi_propensity)"
   ]
  },
  {
   "cell_type": "code",
   "execution_count": null,
   "metadata": {
    "collapsed": true
   },
   "outputs": [],
   "source": [
    "(ext_barrel_pipi_propensity, ext_barrel_pipi_frequency, ext_barrel_pipi_normed_frequencies, ext_barrel_pipi_z_dict\n",
    " ) = calc_aa_pair_propensities(ext_barrel_df, 'pi_pi_stacking_fasta_intra', aa_dict_no_cys)"
   ]
  },
  {
   "cell_type": "code",
   "execution_count": null,
   "metadata": {
    "collapsed": true
   },
   "outputs": [],
   "source": [
    "ext_barrel_pipi_propensity"
   ]
  },
  {
   "cell_type": "code",
   "execution_count": null,
   "metadata": {
    "collapsed": true
   },
   "outputs": [],
   "source": [
    "ext_barrel_pipi_frequency"
   ]
  },
  {
   "cell_type": "code",
   "execution_count": null,
   "metadata": {
    "collapsed": true
   },
   "outputs": [],
   "source": [
    "ext_barrel_pipi_normed_frequencies"
   ]
  },
  {
   "cell_type": "code",
   "execution_count": null,
   "metadata": {
    "collapsed": true
   },
   "outputs": [],
   "source": [
    "plot_heat_map(ext_barrel_pipi_propensity)"
   ]
  },
  {
   "cell_type": "code",
   "execution_count": null,
   "metadata": {
    "collapsed": true
   },
   "outputs": [],
   "source": [
    "plot_heat_map(ext_barrel_pipi_frequency)"
   ]
  },
  {
   "cell_type": "code",
   "execution_count": null,
   "metadata": {
    "collapsed": true
   },
   "outputs": [],
   "source": [
    "plot_heat_map(ext_barrel_pipi_normed_frequencies)"
   ]
  },
  {
   "cell_type": "code",
   "execution_count": null,
   "metadata": {
    "collapsed": true
   },
   "outputs": [],
   "source": [
    "plot_pairwise_propensities(ext_barrel_pipi_z_dict, aa_dict_no_cys, ext_barrel_pipi_propensity)"
   ]
  },
  {
   "cell_type": "markdown",
   "metadata": {},
   "source": [
    "### Pi-pi stacking P interactions amino acid propensities"
   ]
  },
  {
   "cell_type": "code",
   "execution_count": null,
   "metadata": {
    "collapsed": true
   },
   "outputs": [],
   "source": [
    "(barrel_pipi_p_propensity, barrel_pipi_p_frequency, barrel_pipi_p_normed_frequencies, barrel_pipi_p_z_dict\n",
    " ) = calc_aa_pair_propensities(barrel_df, 'pi_pi_stacking_fasta_intra_p', aa_dict_no_cys)"
   ]
  },
  {
   "cell_type": "code",
   "execution_count": null,
   "metadata": {
    "collapsed": true
   },
   "outputs": [],
   "source": [
    "barrel_pipi_p_propensity"
   ]
  },
  {
   "cell_type": "code",
   "execution_count": null,
   "metadata": {
    "collapsed": true
   },
   "outputs": [],
   "source": [
    "barrel_pipi_p_frequency"
   ]
  },
  {
   "cell_type": "code",
   "execution_count": null,
   "metadata": {
    "collapsed": true
   },
   "outputs": [],
   "source": [
    "barrel_pipi_p_normed_frequencies"
   ]
  },
  {
   "cell_type": "code",
   "execution_count": null,
   "metadata": {
    "collapsed": true
   },
   "outputs": [],
   "source": [
    "plot_heat_map(barrel_pipi_p_propensity)"
   ]
  },
  {
   "cell_type": "code",
   "execution_count": null,
   "metadata": {
    "collapsed": true
   },
   "outputs": [],
   "source": [
    "plot_heat_map(barrel_pipi_p_frequency)"
   ]
  },
  {
   "cell_type": "code",
   "execution_count": null,
   "metadata": {
    "collapsed": true
   },
   "outputs": [],
   "source": [
    "plot_heat_map(barrel_pipi_p_normed_frequencies)"
   ]
  },
  {
   "cell_type": "code",
   "execution_count": null,
   "metadata": {
    "collapsed": true
   },
   "outputs": [],
   "source": [
    "plot_pairwise_propensities(barrel_pipi_p_z_dict, aa_dict_no_cys, barrel_pipi_p_propensity)"
   ]
  },
  {
   "cell_type": "code",
   "execution_count": null,
   "metadata": {
    "collapsed": true
   },
   "outputs": [],
   "source": [
    "(int_barrel_pipi_p_propensity, int_barrel_pipi_p_frequency, int_barrel_pipi_p_normed_frequencies, int_barrel_pipi_p_z_dict\n",
    " ) = calc_aa_pair_propensities(int_barrel_df, 'pi_pi_stacking_fasta_intra_p', aa_dict_no_cys)"
   ]
  },
  {
   "cell_type": "code",
   "execution_count": null,
   "metadata": {
    "collapsed": true
   },
   "outputs": [],
   "source": [
    "int_barrel_pipi_p_propensity"
   ]
  },
  {
   "cell_type": "code",
   "execution_count": null,
   "metadata": {
    "collapsed": true
   },
   "outputs": [],
   "source": [
    "int_barrel_pipi_p_frequency"
   ]
  },
  {
   "cell_type": "code",
   "execution_count": null,
   "metadata": {
    "collapsed": true
   },
   "outputs": [],
   "source": [
    "int_barrel_pipi_p_normed_frequencies"
   ]
  },
  {
   "cell_type": "code",
   "execution_count": null,
   "metadata": {
    "collapsed": true
   },
   "outputs": [],
   "source": [
    "plot_heat_map(int_barrel_pipi_p_propensity)"
   ]
  },
  {
   "cell_type": "code",
   "execution_count": null,
   "metadata": {
    "collapsed": true
   },
   "outputs": [],
   "source": [
    "plot_heat_map(int_barrel_pipi_p_frequency)"
   ]
  },
  {
   "cell_type": "code",
   "execution_count": null,
   "metadata": {
    "collapsed": true
   },
   "outputs": [],
   "source": [
    "plot_heat_map(int_barrel_pipi_p_normed_frequencies)"
   ]
  },
  {
   "cell_type": "code",
   "execution_count": null,
   "metadata": {
    "collapsed": true
   },
   "outputs": [],
   "source": [
    "plot_pairwise_propensities(int_barrel_pipi_p_z_dict, aa_dict_no_cys, int_barrel_pipi_p_propensity)"
   ]
  },
  {
   "cell_type": "code",
   "execution_count": null,
   "metadata": {
    "collapsed": true
   },
   "outputs": [],
   "source": [
    "(ext_barrel_pipi_p_propensity, ext_barrel_pipi_p_frequency, ext_barrel_pipi_p_normed_frequencies, ext_barrel_pipi_p_z_dict\n",
    " ) = calc_aa_pair_propensities(ext_barrel_df, 'pi_pi_stacking_fasta_intra_p', aa_dict_no_cys)"
   ]
  },
  {
   "cell_type": "code",
   "execution_count": null,
   "metadata": {
    "collapsed": true
   },
   "outputs": [],
   "source": [
    "ext_barrel_pipi_p_propensity"
   ]
  },
  {
   "cell_type": "code",
   "execution_count": null,
   "metadata": {
    "collapsed": true
   },
   "outputs": [],
   "source": [
    "ext_barrel_pipi_p_frequency"
   ]
  },
  {
   "cell_type": "code",
   "execution_count": null,
   "metadata": {
    "collapsed": true
   },
   "outputs": [],
   "source": [
    "ext_barrel_pipi_p_normed_frequencies"
   ]
  },
  {
   "cell_type": "code",
   "execution_count": null,
   "metadata": {
    "collapsed": true
   },
   "outputs": [],
   "source": [
    "plot_heat_map(ext_barrel_pipi_p_propensity)"
   ]
  },
  {
   "cell_type": "code",
   "execution_count": null,
   "metadata": {
    "collapsed": true
   },
   "outputs": [],
   "source": [
    "plot_heat_map(ext_barrel_pipi_p_frequency)"
   ]
  },
  {
   "cell_type": "code",
   "execution_count": null,
   "metadata": {
    "collapsed": true
   },
   "outputs": [],
   "source": [
    "plot_heat_map(ext_barrel_pipi_p_normed_frequencies)"
   ]
  },
  {
   "cell_type": "code",
   "execution_count": null,
   "metadata": {
    "collapsed": true
   },
   "outputs": [],
   "source": [
    "plot_pairwise_propensities(ext_barrel_pipi_p_z_dict, aa_dict_no_cys, ext_barrel_pipi_p_propensity)"
   ]
  },
  {
   "cell_type": "markdown",
   "metadata": {},
   "source": [
    "### Pi-pi stacking L interactions amino acid propensities"
   ]
  },
  {
   "cell_type": "code",
   "execution_count": null,
   "metadata": {
    "collapsed": true
   },
   "outputs": [],
   "source": [
    "(barrel_pipi_l_propensity, barrel_pipi_l_frequency, barrel_pipi_l_normed_frequencies, barrel_pipi_l_z_dict\n",
    " ) = calc_aa_pair_propensities(barrel_df, 'pi_pi_stacking_fasta_intra_l', aa_dict_no_cys)"
   ]
  },
  {
   "cell_type": "code",
   "execution_count": null,
   "metadata": {
    "collapsed": true
   },
   "outputs": [],
   "source": [
    "barrel_pipi_l_propensity"
   ]
  },
  {
   "cell_type": "code",
   "execution_count": null,
   "metadata": {
    "collapsed": true
   },
   "outputs": [],
   "source": [
    "barrel_pipi_l_frequency"
   ]
  },
  {
   "cell_type": "code",
   "execution_count": null,
   "metadata": {
    "collapsed": true
   },
   "outputs": [],
   "source": [
    "barrel_pipi_l_normed_frequencies"
   ]
  },
  {
   "cell_type": "code",
   "execution_count": null,
   "metadata": {
    "collapsed": true
   },
   "outputs": [],
   "source": [
    "plot_heat_map(barrel_pipi_l_propensity)"
   ]
  },
  {
   "cell_type": "code",
   "execution_count": null,
   "metadata": {
    "collapsed": true
   },
   "outputs": [],
   "source": [
    "plot_heat_map(barrel_pipi_l_frequency)"
   ]
  },
  {
   "cell_type": "code",
   "execution_count": null,
   "metadata": {
    "collapsed": true
   },
   "outputs": [],
   "source": [
    "plot_heat_map(barrel_pipi_l_normed_frequencies)"
   ]
  },
  {
   "cell_type": "code",
   "execution_count": null,
   "metadata": {
    "collapsed": true
   },
   "outputs": [],
   "source": [
    "plot_pairwise_propensities(barrel_pipi_l_z_dict, aa_dict_no_cys, barrel_pipi_l_propensity)"
   ]
  },
  {
   "cell_type": "code",
   "execution_count": null,
   "metadata": {
    "collapsed": true
   },
   "outputs": [],
   "source": [
    "(int_barrel_pipi_l_propensity, int_barrel_pipi_l_frequency, int_barrel_pipi_l_normed_frequencies, int_barrel_pipi_l_z_dict\n",
    " ) = calc_aa_pair_propensities(int_barrel_df, 'pi_pi_stacking_fasta_intra_l', aa_dict_no_cys)"
   ]
  },
  {
   "cell_type": "code",
   "execution_count": null,
   "metadata": {
    "collapsed": true
   },
   "outputs": [],
   "source": [
    "int_barrel_pipi_l_propensity"
   ]
  },
  {
   "cell_type": "code",
   "execution_count": null,
   "metadata": {
    "collapsed": true
   },
   "outputs": [],
   "source": [
    "int_barrel_pipi_l_frequency"
   ]
  },
  {
   "cell_type": "code",
   "execution_count": null,
   "metadata": {
    "collapsed": true
   },
   "outputs": [],
   "source": [
    "int_barrel_pipi_l_normed_frequencies"
   ]
  },
  {
   "cell_type": "code",
   "execution_count": null,
   "metadata": {
    "collapsed": true
   },
   "outputs": [],
   "source": [
    "plot_heat_map(int_barrel_pipi_l_propensity)"
   ]
  },
  {
   "cell_type": "code",
   "execution_count": null,
   "metadata": {
    "collapsed": true
   },
   "outputs": [],
   "source": [
    "plot_heat_map(int_barrel_pipi_l_frequency)"
   ]
  },
  {
   "cell_type": "code",
   "execution_count": null,
   "metadata": {
    "collapsed": true
   },
   "outputs": [],
   "source": [
    "plot_heat_map(int_barrel_pipi_l_normed_frequencies)"
   ]
  },
  {
   "cell_type": "code",
   "execution_count": null,
   "metadata": {
    "collapsed": true
   },
   "outputs": [],
   "source": [
    "plot_pairwise_propensities(int_barrel_pipi_l_z_dict, aa_dict_no_cys, int_barrel_pipi_l_propensity)"
   ]
  },
  {
   "cell_type": "code",
   "execution_count": null,
   "metadata": {
    "collapsed": true
   },
   "outputs": [],
   "source": [
    "(ext_barrel_pipi_l_propensity, ext_barrel_pipi_l_frequency, ext_barrel_pipi_l_normed_frequencies, ext_barrel_pipi_l_z_dict\n",
    " ) = calc_aa_pair_propensities(ext_barrel_df, 'pi_pi_stacking_fasta_intra_l', aa_dict_no_cys)"
   ]
  },
  {
   "cell_type": "code",
   "execution_count": null,
   "metadata": {
    "collapsed": true
   },
   "outputs": [],
   "source": [
    "ext_barrel_pipi_l_propensity"
   ]
  },
  {
   "cell_type": "code",
   "execution_count": null,
   "metadata": {
    "collapsed": true
   },
   "outputs": [],
   "source": [
    "ext_barrel_pipi_l_frequency"
   ]
  },
  {
   "cell_type": "code",
   "execution_count": null,
   "metadata": {
    "collapsed": true
   },
   "outputs": [],
   "source": [
    "ext_barrel_pipi_l_normed_frequencies"
   ]
  },
  {
   "cell_type": "code",
   "execution_count": null,
   "metadata": {
    "collapsed": true
   },
   "outputs": [],
   "source": [
    "plot_heat_map(ext_barrel_pipi_l_propensity)"
   ]
  },
  {
   "cell_type": "code",
   "execution_count": null,
   "metadata": {
    "collapsed": true
   },
   "outputs": [],
   "source": [
    "plot_heat_map(ext_barrel_pipi_l_frequency)"
   ]
  },
  {
   "cell_type": "code",
   "execution_count": null,
   "metadata": {
    "collapsed": true
   },
   "outputs": [],
   "source": [
    "plot_heat_map(ext_barrel_pipi_l_normed_frequencies)"
   ]
  },
  {
   "cell_type": "code",
   "execution_count": null,
   "metadata": {
    "collapsed": true
   },
   "outputs": [],
   "source": [
    "plot_pairwise_propensities(ext_barrel_pipi_l_z_dict, aa_dict_no_cys, ext_barrel_pipi_l_propensity)"
   ]
  },
  {
   "cell_type": "markdown",
   "metadata": {},
   "source": [
    "### Pi-pi stacking N interactions amino acid propensities"
   ]
  },
  {
   "cell_type": "code",
   "execution_count": null,
   "metadata": {
    "collapsed": true
   },
   "outputs": [],
   "source": [
    "(barrel_pipi_n_propensity, barrel_pipi_n_frequency, barrel_pipi_n_normed_frequencies, barrel_pipi_n_z_dict\n",
    " ) = calc_aa_pair_propensities(barrel_df, 'pi_pi_stacking_fasta_intra_n', aa_dict_no_cys)"
   ]
  },
  {
   "cell_type": "code",
   "execution_count": null,
   "metadata": {
    "collapsed": true
   },
   "outputs": [],
   "source": [
    "barrel_pipi_n_propensity"
   ]
  },
  {
   "cell_type": "code",
   "execution_count": null,
   "metadata": {
    "collapsed": true
   },
   "outputs": [],
   "source": [
    "barrel_pipi_n_frequency"
   ]
  },
  {
   "cell_type": "code",
   "execution_count": null,
   "metadata": {
    "collapsed": true
   },
   "outputs": [],
   "source": [
    "barrel_pipi_n_normed_frequencies"
   ]
  },
  {
   "cell_type": "code",
   "execution_count": null,
   "metadata": {
    "collapsed": true
   },
   "outputs": [],
   "source": [
    "plot_heat_map(barrel_pipi_n_propensity)"
   ]
  },
  {
   "cell_type": "code",
   "execution_count": null,
   "metadata": {
    "collapsed": true
   },
   "outputs": [],
   "source": [
    "plot_heat_map(barrel_pipi_n_frequency)"
   ]
  },
  {
   "cell_type": "code",
   "execution_count": null,
   "metadata": {
    "collapsed": true
   },
   "outputs": [],
   "source": [
    "plot_heat_map(barrel_pipi_n_normed_frequencies)"
   ]
  },
  {
   "cell_type": "code",
   "execution_count": null,
   "metadata": {
    "collapsed": true
   },
   "outputs": [],
   "source": [
    "plot_pairwise_propensities(barrel_pipi_n_z_dict, aa_dict_no_cys, barrel_pipi_n_propensity)"
   ]
  },
  {
   "cell_type": "code",
   "execution_count": null,
   "metadata": {
    "collapsed": true
   },
   "outputs": [],
   "source": [
    "(int_barrel_pipi_n_propensity, int_barrel_pipi_n_frequency, int_barrel_pipi_n_normed_frequencies, int_barrel_pipi_n_z_dict\n",
    " ) = calc_aa_pair_propensities(int_barrel_df, 'pi_pi_stacking_fasta_intra_n', aa_dict_no_cys)"
   ]
  },
  {
   "cell_type": "code",
   "execution_count": null,
   "metadata": {
    "collapsed": true
   },
   "outputs": [],
   "source": [
    "int_barrel_pipi_n_propensity"
   ]
  },
  {
   "cell_type": "code",
   "execution_count": null,
   "metadata": {
    "collapsed": true
   },
   "outputs": [],
   "source": [
    "int_barrel_pipi_n_frequency"
   ]
  },
  {
   "cell_type": "code",
   "execution_count": null,
   "metadata": {
    "collapsed": true
   },
   "outputs": [],
   "source": [
    "int_barrel_pipi_n_normed_frequencies"
   ]
  },
  {
   "cell_type": "code",
   "execution_count": null,
   "metadata": {
    "collapsed": true
   },
   "outputs": [],
   "source": [
    "plot_heat_map(int_barrel_pipi_n_propensity)"
   ]
  },
  {
   "cell_type": "code",
   "execution_count": null,
   "metadata": {
    "collapsed": true
   },
   "outputs": [],
   "source": [
    "plot_heat_map(int_barrel_pipi_n_frequency)"
   ]
  },
  {
   "cell_type": "code",
   "execution_count": null,
   "metadata": {
    "collapsed": true
   },
   "outputs": [],
   "source": [
    "plot_heat_map(int_barrel_pipi_n_normed_frequencies)"
   ]
  },
  {
   "cell_type": "code",
   "execution_count": null,
   "metadata": {
    "collapsed": true
   },
   "outputs": [],
   "source": [
    "plot_pairwise_propensities(int_barrel_pipi_n_z_dict, aa_dict_no_cys, int_barrel_pipi_n_propensity)"
   ]
  },
  {
   "cell_type": "code",
   "execution_count": null,
   "metadata": {
    "collapsed": true
   },
   "outputs": [],
   "source": [
    "(ext_barrel_pipi_n_propensity, ext_barrel_pipi_n_frequency, ext_barrel_pipi_n_normed_frequencies, ext_barrel_pipi_n_z_dict\n",
    " ) = calc_aa_pair_propensities(ext_barrel_df, 'pi_pi_stacking_fasta_intra_n', aa_dict_no_cys)"
   ]
  },
  {
   "cell_type": "code",
   "execution_count": null,
   "metadata": {
    "collapsed": true
   },
   "outputs": [],
   "source": [
    "ext_barrel_pipi_n_propensity"
   ]
  },
  {
   "cell_type": "code",
   "execution_count": null,
   "metadata": {
    "collapsed": true
   },
   "outputs": [],
   "source": [
    "ext_barrel_pipi_n_frequency"
   ]
  },
  {
   "cell_type": "code",
   "execution_count": null,
   "metadata": {
    "collapsed": true
   },
   "outputs": [],
   "source": [
    "ext_barrel_pipi_n_normed_frequencies"
   ]
  },
  {
   "cell_type": "code",
   "execution_count": null,
   "metadata": {
    "collapsed": true
   },
   "outputs": [],
   "source": [
    "plot_heat_map(ext_barrel_pipi_n_propensity)"
   ]
  },
  {
   "cell_type": "code",
   "execution_count": null,
   "metadata": {
    "collapsed": true
   },
   "outputs": [],
   "source": [
    "plot_heat_map(ext_barrel_pipi_n_frequency)"
   ]
  },
  {
   "cell_type": "code",
   "execution_count": null,
   "metadata": {
    "collapsed": true
   },
   "outputs": [],
   "source": [
    "plot_heat_map(ext_barrel_pipi_n_normed_frequencies)"
   ]
  },
  {
   "cell_type": "code",
   "execution_count": null,
   "metadata": {
    "collapsed": true
   },
   "outputs": [],
   "source": [
    "plot_pairwise_propensities(ext_barrel_pipi_n_z_dict, aa_dict_no_cys, ext_barrel_pipi_n_propensity)"
   ]
  },
  {
   "cell_type": "markdown",
   "metadata": {},
   "source": [
    "### Pi-pi stacking T interactions amino acid propensities"
   ]
  },
  {
   "cell_type": "code",
   "execution_count": null,
   "metadata": {
    "collapsed": true
   },
   "outputs": [],
   "source": [
    "(barrel_pipi_t_propensity, barrel_pipi_t_frequency, barrel_pipi_t_normed_frequencies, barrel_pipi_t_z_dict\n",
    " ) = calc_aa_pair_propensities(barrel_df, 'pi_pi_stacking_fasta_intra_t', aa_dict_no_cys)"
   ]
  },
  {
   "cell_type": "code",
   "execution_count": null,
   "metadata": {
    "collapsed": true
   },
   "outputs": [],
   "source": [
    "barrel_pipi_t_propensity"
   ]
  },
  {
   "cell_type": "code",
   "execution_count": null,
   "metadata": {
    "collapsed": true
   },
   "outputs": [],
   "source": [
    "barrel_pipi_t_frequency"
   ]
  },
  {
   "cell_type": "code",
   "execution_count": null,
   "metadata": {
    "collapsed": true
   },
   "outputs": [],
   "source": [
    "barrel_pipi_t_normed_frequencies"
   ]
  },
  {
   "cell_type": "code",
   "execution_count": null,
   "metadata": {
    "collapsed": true
   },
   "outputs": [],
   "source": [
    "plot_heat_map(barrel_pipi_t_propensity)"
   ]
  },
  {
   "cell_type": "code",
   "execution_count": null,
   "metadata": {
    "collapsed": true
   },
   "outputs": [],
   "source": [
    "plot_heat_map(barrel_pipi_t_frequency)"
   ]
  },
  {
   "cell_type": "code",
   "execution_count": null,
   "metadata": {
    "collapsed": true
   },
   "outputs": [],
   "source": [
    "plot_heat_map(barrel_pipi_t_normed_frequencies)"
   ]
  },
  {
   "cell_type": "code",
   "execution_count": null,
   "metadata": {
    "collapsed": true
   },
   "outputs": [],
   "source": [
    "plot_pairwise_propensities(barrel_pipi_t_z_dict, aa_dict_no_cys, barrel_pipi_t_propensity)"
   ]
  },
  {
   "cell_type": "code",
   "execution_count": null,
   "metadata": {
    "collapsed": true
   },
   "outputs": [],
   "source": [
    "(int_barrel_pipi_t_propensity, int_barrel_pipi_t_frequency, int_barrel_pipi_t_normed_frequencies, int_barrel_pipi_t_z_dict\n",
    " ) = calc_aa_pair_propensities(int_barrel_df, 'pi_pi_stacking_fasta_intra_t', aa_dict_no_cys)"
   ]
  },
  {
   "cell_type": "code",
   "execution_count": null,
   "metadata": {
    "collapsed": true
   },
   "outputs": [],
   "source": [
    "int_barrel_pipi_t_propensity"
   ]
  },
  {
   "cell_type": "code",
   "execution_count": null,
   "metadata": {
    "collapsed": true
   },
   "outputs": [],
   "source": [
    "int_barrel_pipi_t_frequency"
   ]
  },
  {
   "cell_type": "code",
   "execution_count": null,
   "metadata": {
    "collapsed": true
   },
   "outputs": [],
   "source": [
    "int_barrel_pipi_t_normed_frequencies"
   ]
  },
  {
   "cell_type": "code",
   "execution_count": null,
   "metadata": {
    "collapsed": true
   },
   "outputs": [],
   "source": [
    "plot_heat_map(int_barrel_pipi_t_propensity)"
   ]
  },
  {
   "cell_type": "code",
   "execution_count": null,
   "metadata": {
    "collapsed": true
   },
   "outputs": [],
   "source": [
    "plot_heat_map(int_barrel_pipi_t_frequency)"
   ]
  },
  {
   "cell_type": "code",
   "execution_count": null,
   "metadata": {
    "collapsed": true
   },
   "outputs": [],
   "source": [
    "plot_heat_map(int_barrel_pipi_t_normed_frequencies)"
   ]
  },
  {
   "cell_type": "code",
   "execution_count": null,
   "metadata": {
    "collapsed": true
   },
   "outputs": [],
   "source": [
    "plot_pairwise_propensities(int_barrel_pipi_t_z_dict, aa_dict_no_cys, int_barrel_pipi_t_propensity)"
   ]
  },
  {
   "cell_type": "code",
   "execution_count": null,
   "metadata": {
    "collapsed": true
   },
   "outputs": [],
   "source": [
    "(ext_barrel_pipi_t_propensity, ext_barrel_pipi_t_frequency, ext_barrel_pipi_t_normed_frequencies, ext_barrel_pipi_t_z_dict\n",
    " ) = calc_aa_pair_propensities(ext_barrel_df, 'pi_pi_stacking_fasta_intra_t', aa_dict_no_cys)"
   ]
  },
  {
   "cell_type": "code",
   "execution_count": null,
   "metadata": {
    "collapsed": true
   },
   "outputs": [],
   "source": [
    "ext_barrel_pipi_t_propensity"
   ]
  },
  {
   "cell_type": "code",
   "execution_count": null,
   "metadata": {
    "collapsed": true
   },
   "outputs": [],
   "source": [
    "ext_barrel_pipi_t_frequency"
   ]
  },
  {
   "cell_type": "code",
   "execution_count": null,
   "metadata": {
    "collapsed": true
   },
   "outputs": [],
   "source": [
    "ext_barrel_pipi_t_normed_frequencies"
   ]
  },
  {
   "cell_type": "code",
   "execution_count": null,
   "metadata": {
    "collapsed": true
   },
   "outputs": [],
   "source": [
    "plot_heat_map(ext_barrel_pipi_t_propensity)"
   ]
  },
  {
   "cell_type": "code",
   "execution_count": null,
   "metadata": {
    "collapsed": true
   },
   "outputs": [],
   "source": [
    "plot_heat_map(ext_barrel_pipi_t_frequency)"
   ]
  },
  {
   "cell_type": "code",
   "execution_count": null,
   "metadata": {
    "collapsed": true
   },
   "outputs": [],
   "source": [
    "plot_heat_map(ext_barrel_pipi_t_normed_frequencies)"
   ]
  },
  {
   "cell_type": "code",
   "execution_count": null,
   "metadata": {
    "collapsed": true
   },
   "outputs": [],
   "source": [
    "plot_pairwise_propensities(ext_barrel_pipi_t_z_dict, aa_dict_no_cys, ext_barrel_pipi_t_propensity)"
   ]
  },
  {
   "cell_type": "markdown",
   "metadata": {},
   "source": [
    "### Cation-pi interactions amino acid propensities"
   ]
  },
  {
   "cell_type": "code",
   "execution_count": null,
   "metadata": {
    "collapsed": true
   },
   "outputs": [],
   "source": [
    "(barrel_cationpi_propensity, barrel_cationpi_frequency, barrel_cationpi_normed_frequencies, barrel_cationpi_z_dict\n",
    " ) = calc_aa_pair_propensities(barrel_df, 'cation_pi_fasta_intra', aa_dict_no_cys)"
   ]
  },
  {
   "cell_type": "code",
   "execution_count": null,
   "metadata": {
    "collapsed": true
   },
   "outputs": [],
   "source": [
    "barrel_cationpi_propensity"
   ]
  },
  {
   "cell_type": "code",
   "execution_count": null,
   "metadata": {
    "collapsed": true
   },
   "outputs": [],
   "source": [
    "barrel_cationpi_frequency"
   ]
  },
  {
   "cell_type": "code",
   "execution_count": null,
   "metadata": {
    "collapsed": true
   },
   "outputs": [],
   "source": [
    "barrel_cationpi_normed_frequencies"
   ]
  },
  {
   "cell_type": "code",
   "execution_count": null,
   "metadata": {
    "collapsed": true
   },
   "outputs": [],
   "source": [
    "plot_heat_map(barrel_cationpi_propensity)"
   ]
  },
  {
   "cell_type": "code",
   "execution_count": null,
   "metadata": {
    "collapsed": true
   },
   "outputs": [],
   "source": [
    "plot_heat_map(barrel_cationpi_frequency)"
   ]
  },
  {
   "cell_type": "code",
   "execution_count": null,
   "metadata": {
    "collapsed": true
   },
   "outputs": [],
   "source": [
    "plot_heat_map(barrel_cationpi_normed_frequencies)"
   ]
  },
  {
   "cell_type": "code",
   "execution_count": null,
   "metadata": {
    "collapsed": true
   },
   "outputs": [],
   "source": [
    "plot_pairwise_propensities(barrel_cationpi_z_dict, aa_dict_no_cys, barrel_cationpi_propensity)"
   ]
  },
  {
   "cell_type": "code",
   "execution_count": null,
   "metadata": {
    "collapsed": true
   },
   "outputs": [],
   "source": [
    "(int_barrel_cationpi_propensity, int_barrel_cationpi_frequency, int_barrel_cationpi_normed_frequencies, int_barrel_cationpi_z_dict\n",
    " ) = calc_aa_pair_propensities(int_barrel_df, 'cation_pi_fasta_intra', aa_dict_no_cys)"
   ]
  },
  {
   "cell_type": "code",
   "execution_count": null,
   "metadata": {
    "collapsed": true
   },
   "outputs": [],
   "source": [
    "int_barrel_cationpi_propensity"
   ]
  },
  {
   "cell_type": "code",
   "execution_count": null,
   "metadata": {
    "collapsed": true
   },
   "outputs": [],
   "source": [
    "int_barrel_cationpi_frequency"
   ]
  },
  {
   "cell_type": "code",
   "execution_count": null,
   "metadata": {
    "collapsed": true
   },
   "outputs": [],
   "source": [
    "int_barrel_cationpi_normed_frequencies"
   ]
  },
  {
   "cell_type": "code",
   "execution_count": null,
   "metadata": {
    "collapsed": true
   },
   "outputs": [],
   "source": [
    "plot_heat_map(int_barrel_cationpi_propensity)"
   ]
  },
  {
   "cell_type": "code",
   "execution_count": null,
   "metadata": {
    "collapsed": true
   },
   "outputs": [],
   "source": [
    "plot_heat_map(int_barrel_cationpi_frequency)"
   ]
  },
  {
   "cell_type": "code",
   "execution_count": null,
   "metadata": {
    "collapsed": true
   },
   "outputs": [],
   "source": [
    "plot_heat_map(int_barrel_cationpi_normed_frequencies)"
   ]
  },
  {
   "cell_type": "code",
   "execution_count": null,
   "metadata": {
    "collapsed": true
   },
   "outputs": [],
   "source": [
    "plot_pairwise_propensities(int_barrel_cationpi_z_dict, aa_dict_no_cys, int_barrel_cationpi_propensity)"
   ]
  },
  {
   "cell_type": "code",
   "execution_count": null,
   "metadata": {
    "collapsed": true
   },
   "outputs": [],
   "source": [
    "(ext_barrel_cationpi_propensity, ext_barrel_cationpi_frequency, ext_barrel_cationpi_normed_frequencies, ext_barrel_cationpi_z_dict\n",
    " ) = calc_aa_pair_propensities(ext_barrel_df, 'cation_pi_fasta_intra', aa_dict_no_cys)"
   ]
  },
  {
   "cell_type": "code",
   "execution_count": null,
   "metadata": {
    "collapsed": true
   },
   "outputs": [],
   "source": [
    "ext_barrel_cationpi_propensity"
   ]
  },
  {
   "cell_type": "code",
   "execution_count": null,
   "metadata": {
    "collapsed": true
   },
   "outputs": [],
   "source": [
    "ext_barrel_cationpi_frequency"
   ]
  },
  {
   "cell_type": "code",
   "execution_count": null,
   "metadata": {
    "collapsed": true
   },
   "outputs": [],
   "source": [
    "ext_barrel_cationpi_normed_frequencies"
   ]
  },
  {
   "cell_type": "code",
   "execution_count": null,
   "metadata": {
    "collapsed": true
   },
   "outputs": [],
   "source": [
    "plot_heat_map(ext_barrel_cationpi_propensity)"
   ]
  },
  {
   "cell_type": "code",
   "execution_count": null,
   "metadata": {
    "collapsed": true
   },
   "outputs": [],
   "source": [
    "plot_heat_map(ext_barrel_cationpi_frequency)"
   ]
  },
  {
   "cell_type": "code",
   "execution_count": null,
   "metadata": {
    "collapsed": true
   },
   "outputs": [],
   "source": [
    "plot_heat_map(ext_barrel_cationpi_normed_frequencies)"
   ]
  },
  {
   "cell_type": "code",
   "execution_count": null,
   "metadata": {
    "collapsed": true
   },
   "outputs": [],
   "source": [
    "plot_pairwise_propensities(ext_barrel_cationpi_z_dict, aa_dict_no_cys, ext_barrel_cationpi_propensity)"
   ]
  },
  {
   "cell_type": "markdown",
   "metadata": {},
   "source": [
    "### NHB pairs"
   ]
  },
  {
   "cell_type": "code",
   "execution_count": null,
   "metadata": {
    "collapsed": true
   },
   "outputs": [],
   "source": [
    "(barrel_nhb_propensity, barrel_nhb_frequency, barrel_nhb_normed_frequencies, barrel_nhb_z_dict\n",
    " ) = calc_aa_pair_propensities(barrel_df, 'nhb_pairs_fasta_intra', aa_dict_no_cys)"
   ]
  },
  {
   "cell_type": "code",
   "execution_count": null,
   "metadata": {
    "collapsed": true
   },
   "outputs": [],
   "source": [
    "barrel_nhb_propensity"
   ]
  },
  {
   "cell_type": "code",
   "execution_count": null,
   "metadata": {
    "collapsed": true
   },
   "outputs": [],
   "source": [
    "barrel_nhb_frequency"
   ]
  },
  {
   "cell_type": "code",
   "execution_count": null,
   "metadata": {
    "collapsed": true
   },
   "outputs": [],
   "source": [
    "barrel_nhb_normed_frequencies"
   ]
  },
  {
   "cell_type": "code",
   "execution_count": null,
   "metadata": {
    "collapsed": true
   },
   "outputs": [],
   "source": [
    "plot_heat_map(barrel_nhb_propensity)"
   ]
  },
  {
   "cell_type": "code",
   "execution_count": null,
   "metadata": {
    "collapsed": true
   },
   "outputs": [],
   "source": [
    " plot_heat_map(barrel_nhb_frequency)"
   ]
  },
  {
   "cell_type": "code",
   "execution_count": null,
   "metadata": {
    "collapsed": true
   },
   "outputs": [],
   "source": [
    " plot_heat_map(barrel_nhb_normed_frequencies)"
   ]
  },
  {
   "cell_type": "code",
   "execution_count": null,
   "metadata": {
    "collapsed": true
   },
   "outputs": [],
   "source": [
    "plot_pairwise_propensities(barrel_nhb_z_dict, aa_dict_no_cys, barrel_nhb_propensity)"
   ]
  },
  {
   "cell_type": "code",
   "execution_count": null,
   "metadata": {
    "collapsed": true
   },
   "outputs": [],
   "source": [
    "(int_barrel_nhb_propensity, int_barrel_nhb_frequency, int_barrel_nhb_normed_frequencies, int_barrel_nhb_z_dict\n",
    " ) = calc_aa_pair_propensities(int_barrel_df, 'nhb_pairs_fasta_intra', aa_dict_no_cys)"
   ]
  },
  {
   "cell_type": "code",
   "execution_count": null,
   "metadata": {
    "collapsed": true
   },
   "outputs": [],
   "source": [
    "int_barrel_nhb_propensity"
   ]
  },
  {
   "cell_type": "code",
   "execution_count": null,
   "metadata": {
    "collapsed": true
   },
   "outputs": [],
   "source": [
    "int_barrel_nhb_frequency"
   ]
  },
  {
   "cell_type": "code",
   "execution_count": null,
   "metadata": {
    "collapsed": true
   },
   "outputs": [],
   "source": [
    "int_barrel_nhb_normed_frequencies"
   ]
  },
  {
   "cell_type": "code",
   "execution_count": null,
   "metadata": {
    "collapsed": true
   },
   "outputs": [],
   "source": [
    "plot_heat_map(int_barrel_nhb_propensity)"
   ]
  },
  {
   "cell_type": "code",
   "execution_count": null,
   "metadata": {
    "collapsed": true
   },
   "outputs": [],
   "source": [
    " plot_heat_map(int_barrel_nhb_frequency)"
   ]
  },
  {
   "cell_type": "code",
   "execution_count": null,
   "metadata": {
    "collapsed": true
   },
   "outputs": [],
   "source": [
    " plot_heat_map(int_barrel_nhb_normed_frequencies)"
   ]
  },
  {
   "cell_type": "code",
   "execution_count": null,
   "metadata": {
    "collapsed": true
   },
   "outputs": [],
   "source": [
    "plot_pairwise_propensities(int_barrel_nhb_z_dict, aa_dict_no_cys, int_barrel_nhb_propensity)"
   ]
  },
  {
   "cell_type": "code",
   "execution_count": null,
   "metadata": {
    "collapsed": true
   },
   "outputs": [],
   "source": [
    "(ext_barrel_nhb_propensity, ext_barrel_nhb_frequency, ext_barrel_nhb_normed_frequencies, ext_barrel_nhb_z_dict\n",
    " ) = calc_aa_pair_propensities(ext_barrel_df, 'nhb_pairs_fasta_intra', aa_dict_no_cys)"
   ]
  },
  {
   "cell_type": "code",
   "execution_count": null,
   "metadata": {
    "collapsed": true
   },
   "outputs": [],
   "source": [
    "ext_barrel_nhb_propensity"
   ]
  },
  {
   "cell_type": "code",
   "execution_count": null,
   "metadata": {
    "collapsed": true
   },
   "outputs": [],
   "source": [
    "ext_barrel_nhb_frequency"
   ]
  },
  {
   "cell_type": "code",
   "execution_count": null,
   "metadata": {
    "collapsed": true
   },
   "outputs": [],
   "source": [
    "ext_barrel_nhb_normed_frequencies"
   ]
  },
  {
   "cell_type": "code",
   "execution_count": null,
   "metadata": {
    "collapsed": true
   },
   "outputs": [],
   "source": [
    "plot_heat_map(ext_barrel_nhb_propensity)"
   ]
  },
  {
   "cell_type": "code",
   "execution_count": null,
   "metadata": {
    "collapsed": true
   },
   "outputs": [],
   "source": [
    " plot_heat_map(ext_barrel_nhb_frequency)"
   ]
  },
  {
   "cell_type": "code",
   "execution_count": null,
   "metadata": {
    "collapsed": true
   },
   "outputs": [],
   "source": [
    " plot_heat_map(ext_barrel_nhb_normed_frequencies)"
   ]
  },
  {
   "cell_type": "code",
   "execution_count": null,
   "metadata": {
    "collapsed": true
   },
   "outputs": [],
   "source": [
    "plot_pairwise_propensities(ext_barrel_nhb_z_dict, aa_dict_no_cys, ext_barrel_nhb_propensity)"
   ]
  },
  {
   "cell_type": "markdown",
   "metadata": {},
   "source": [
    "### HB pairs"
   ]
  },
  {
   "cell_type": "code",
   "execution_count": null,
   "metadata": {
    "collapsed": true
   },
   "outputs": [],
   "source": [
    "(barrel_hb_propensity, barrel_hb_frequency, barrel_hb_normed_frequencies, barrel_hb_z_dict\n",
    " ) = calc_aa_pair_propensities(barrel_df, 'hb_pairs_fasta_intra', aa_dict_no_cys)"
   ]
  },
  {
   "cell_type": "code",
   "execution_count": null,
   "metadata": {
    "collapsed": true
   },
   "outputs": [],
   "source": [
    "barrel_hb_propensity"
   ]
  },
  {
   "cell_type": "code",
   "execution_count": null,
   "metadata": {
    "collapsed": true
   },
   "outputs": [],
   "source": [
    "barrel_hb_frequency"
   ]
  },
  {
   "cell_type": "code",
   "execution_count": null,
   "metadata": {
    "collapsed": true
   },
   "outputs": [],
   "source": [
    "barrel_hb_normed_frequencies"
   ]
  },
  {
   "cell_type": "code",
   "execution_count": null,
   "metadata": {
    "collapsed": true
   },
   "outputs": [],
   "source": [
    "plot_heat_map(barrel_hb_propensity)"
   ]
  },
  {
   "cell_type": "code",
   "execution_count": null,
   "metadata": {
    "collapsed": true
   },
   "outputs": [],
   "source": [
    "plot_heat_map(barrel_hb_frequency)"
   ]
  },
  {
   "cell_type": "code",
   "execution_count": null,
   "metadata": {
    "collapsed": true
   },
   "outputs": [],
   "source": [
    "plot_heat_map(barrel_hb_normed_frequencies)"
   ]
  },
  {
   "cell_type": "code",
   "execution_count": null,
   "metadata": {
    "collapsed": true
   },
   "outputs": [],
   "source": [
    "plot_pairwise_propensities(barrel_hb_z_dict, aa_dict_no_cys, barrel_hb_propensity)"
   ]
  },
  {
   "cell_type": "code",
   "execution_count": null,
   "metadata": {
    "collapsed": true
   },
   "outputs": [],
   "source": [
    "(int_barrel_hb_propensity, int_barrel_hb_frequency, int_barrel_hb_normed_frequencies, int_barrel_hb_z_dict\n",
    " ) = calc_aa_pair_propensities(int_barrel_df, 'hb_pairs_fasta_intra', aa_dict_no_cys)"
   ]
  },
  {
   "cell_type": "code",
   "execution_count": null,
   "metadata": {
    "collapsed": true
   },
   "outputs": [],
   "source": [
    "int_barrel_hb_propensity"
   ]
  },
  {
   "cell_type": "code",
   "execution_count": null,
   "metadata": {
    "collapsed": true
   },
   "outputs": [],
   "source": [
    "int_barrel_hb_frequency"
   ]
  },
  {
   "cell_type": "code",
   "execution_count": null,
   "metadata": {
    "collapsed": true
   },
   "outputs": [],
   "source": [
    "int_barrel_hb_normed_frequencies"
   ]
  },
  {
   "cell_type": "code",
   "execution_count": null,
   "metadata": {
    "collapsed": true
   },
   "outputs": [],
   "source": [
    "plot_heat_map(int_barrel_hb_propensity)"
   ]
  },
  {
   "cell_type": "code",
   "execution_count": null,
   "metadata": {
    "collapsed": true
   },
   "outputs": [],
   "source": [
    "plot_heat_map(int_barrel_hb_frequency)"
   ]
  },
  {
   "cell_type": "code",
   "execution_count": null,
   "metadata": {
    "collapsed": true
   },
   "outputs": [],
   "source": [
    "plot_heat_map(int_barrel_hb_normed_frequencies)"
   ]
  },
  {
   "cell_type": "code",
   "execution_count": null,
   "metadata": {
    "collapsed": true
   },
   "outputs": [],
   "source": [
    "plot_pairwise_propensities(int_barrel_hb_z_dict, aa_dict_no_cys, int_barrel_hb_propensity)"
   ]
  },
  {
   "cell_type": "code",
   "execution_count": null,
   "metadata": {
    "collapsed": true
   },
   "outputs": [],
   "source": [
    "(ext_barrel_hb_propensity, ext_barrel_hb_frequency, ext_barrel_hb_normed_frequencies, ext_barrel_hb_z_dict\n",
    " ) = calc_aa_pair_propensities(ext_barrel_df, 'hb_pairs_fasta_intra', aa_dict_no_cys)"
   ]
  },
  {
   "cell_type": "code",
   "execution_count": null,
   "metadata": {
    "collapsed": true
   },
   "outputs": [],
   "source": [
    "ext_barrel_hb_propensity"
   ]
  },
  {
   "cell_type": "code",
   "execution_count": null,
   "metadata": {
    "collapsed": true
   },
   "outputs": [],
   "source": [
    "ext_barrel_hb_frequency"
   ]
  },
  {
   "cell_type": "code",
   "execution_count": null,
   "metadata": {
    "collapsed": true
   },
   "outputs": [],
   "source": [
    "ext_barrel_hb_normed_frequencies"
   ]
  },
  {
   "cell_type": "code",
   "execution_count": null,
   "metadata": {
    "collapsed": true
   },
   "outputs": [],
   "source": [
    "plot_heat_map(ext_barrel_hb_propensity)"
   ]
  },
  {
   "cell_type": "code",
   "execution_count": null,
   "metadata": {
    "collapsed": true
   },
   "outputs": [],
   "source": [
    "plot_heat_map(ext_barrel_hb_frequency)"
   ]
  },
  {
   "cell_type": "code",
   "execution_count": null,
   "metadata": {
    "collapsed": true
   },
   "outputs": [],
   "source": [
    "plot_heat_map(ext_barrel_hb_normed_frequencies)"
   ]
  },
  {
   "cell_type": "code",
   "execution_count": null,
   "metadata": {
    "collapsed": true
   },
   "outputs": [],
   "source": [
    "plot_pairwise_propensities(ext_barrel_hb_z_dict, aa_dict_no_cys, ext_barrel_hb_propensity)"
   ]
  },
  {
   "cell_type": "markdown",
   "metadata": {},
   "source": [
    "### Standard error of proportion"
   ]
  },
  {
   "cell_type": "markdown",
   "metadata": {},
   "source": [
    "Recalculate HB / NHB standard error of proportion z-scores from count data in Dek's 1998 paper"
   ]
  },
  {
   "cell_type": "code",
   "execution_count": null,
   "metadata": {
    "collapsed": true
   },
   "outputs": [],
   "source": [
    "dek_sandwich_hb_pairs_dict, dek_sandwich_hb_pairs_total = gen_dek_sandwich_dicts(aa_dict, 'hb')\n",
    "dek_sandwich_nhb_pairs_dict, dek_sandwich_nhb_pairs_total = gen_dek_sandwich_dicts(aa_dict, 'nhb')\n",
    "\n",
    "dek_sandwich_hb_nhb_z_scores, dek_sandwich_hb_nhb_ratios = calc_std_error_proportion(\n",
    "    aa_dict, dek_sandwich_hb_pairs_dict, dek_sandwich_nhb_pairs_dict, dek_sandwich_hb_pairs_total,\n",
    "    dek_sandwich_nhb_pairs_total\n",
    ")"
   ]
  },
  {
   "cell_type": "code",
   "execution_count": null,
   "metadata": {
    "collapsed": true,
    "scrolled": false
   },
   "outputs": [],
   "source": [
    "dek_sandwich_hb_nhb_z_scores"
   ]
  },
  {
   "cell_type": "code",
   "execution_count": null,
   "metadata": {
    "collapsed": true
   },
   "outputs": [],
   "source": [
    "print_significant_z_scores(dek_sandwich_hb_nhb_z_scores)"
   ]
  },
  {
   "cell_type": "markdown",
   "metadata": {},
   "source": [
    "Calculate HB / NHB standard error of proportion z-scores for new data"
   ]
  },
  {
   "cell_type": "code",
   "execution_count": null,
   "metadata": {
    "collapsed": true,
    "scrolled": false
   },
   "outputs": [],
   "source": [
    "barrel_df_hb_pairs_count_dict, barrel_df_hb_pairs_total = calc_pair_proportions(\n",
    "    barrel_df, 'hb_pairs', aa_dict_no_cys\n",
    ")\n",
    "barrel_df_nhb_pairs_count_dict, barrel_df_nhb_pairs_total = calc_pair_proportions(\n",
    "    barrel_df, 'nhb_pairs', aa_dict_no_cys\n",
    ")\n",
    "\n",
    "barrel_df_hb_nhb_z_scores, barrel_df_hb_nhb_ratios = calc_std_error_proportion(\n",
    "    aa_dict_no_cys, barrel_df_hb_pairs_count_dict, barrel_df_nhb_pairs_count_dict, barrel_df_hb_pairs_total,\n",
    "    barrel_df_nhb_pairs_total\n",
    ")"
   ]
  },
  {
   "cell_type": "code",
   "execution_count": null,
   "metadata": {
    "collapsed": true,
    "scrolled": false
   },
   "outputs": [],
   "source": [
    "barrel_df_hb_nhb_z_scores"
   ]
  },
  {
   "cell_type": "code",
   "execution_count": null,
   "metadata": {
    "collapsed": true
   },
   "outputs": [],
   "source": [
    "print_significant_z_scores(barrel_df_hb_nhb_z_scores)"
   ]
  },
  {
   "cell_type": "code",
   "execution_count": null,
   "metadata": {
    "collapsed": true
   },
   "outputs": [],
   "source": [
    "barrel_df_dek_sandwich_z_diff_dict = calc_z_diff(barrel_df_hb_nhb_z_scores, dek_sandwich_hb_nhb_z_scores)"
   ]
  },
  {
   "cell_type": "code",
   "execution_count": null,
   "metadata": {
    "collapsed": true,
    "scrolled": false
   },
   "outputs": [],
   "source": [
    "barrel_df_dek_sandwich_z_diff_dict"
   ]
  },
  {
   "cell_type": "code",
   "execution_count": null,
   "metadata": {
    "collapsed": true,
    "scrolled": false
   },
   "outputs": [],
   "source": [
    "int_barrel_df_hb_pairs_count_dict, int_barrel_df_hb_pairs_total = calc_pair_proportions(\n",
    "    int_barrel_df, 'hb_pairs', aa_dict_no_cys\n",
    ")\n",
    "int_barrel_df_nhb_pairs_count_dict, int_barrel_df_nhb_pairs_total = calc_pair_proportions(\n",
    "    int_barrel_df, 'nhb_pairs', aa_dict_no_cys\n",
    ")\n",
    "\n",
    "int_barrel_df_hb_nhb_z_scores, int_barrel_df_hb_nhb_ratios = calc_std_error_proportion(\n",
    "    aa_dict_no_cys, int_barrel_df_hb_pairs_count_dict, int_barrel_df_nhb_pairs_count_dict,\n",
    "    int_barrel_df_hb_pairs_total, int_barrel_df_nhb_pairs_total\n",
    ")"
   ]
  },
  {
   "cell_type": "code",
   "execution_count": null,
   "metadata": {
    "collapsed": true,
    "scrolled": false
   },
   "outputs": [],
   "source": [
    "int_barrel_df_hb_nhb_z_scores"
   ]
  },
  {
   "cell_type": "code",
   "execution_count": null,
   "metadata": {
    "collapsed": true
   },
   "outputs": [],
   "source": [
    "print_significant_z_scores(int_barrel_df_hb_nhb_z_scores)"
   ]
  },
  {
   "cell_type": "code",
   "execution_count": null,
   "metadata": {
    "collapsed": true
   },
   "outputs": [],
   "source": [
    "int_barrel_df_dek_sandwich_z_diff_dict = calc_z_diff(int_barrel_df_hb_nhb_z_scores, dek_sandwich_hb_nhb_z_scores)"
   ]
  },
  {
   "cell_type": "code",
   "execution_count": null,
   "metadata": {
    "collapsed": true,
    "scrolled": false
   },
   "outputs": [],
   "source": [
    "int_barrel_df_dek_sandwich_z_diff_dict"
   ]
  },
  {
   "cell_type": "code",
   "execution_count": null,
   "metadata": {
    "collapsed": true,
    "scrolled": false
   },
   "outputs": [],
   "source": [
    "ext_barrel_df_hb_pairs_count_dict, ext_barrel_df_hb_pairs_total = calc_pair_proportions(\n",
    "    ext_barrel_df, 'hb_pairs', aa_dict_no_cys\n",
    ")\n",
    "ext_barrel_df_nhb_pairs_count_dict, ext_barrel_df_nhb_pairs_total = calc_pair_proportions(\n",
    "    ext_barrel_df, 'nhb_pairs', aa_dict_no_cys\n",
    ")\n",
    "\n",
    "ext_barrel_df_hb_nhb_z_scores, ext_barrel_df_hb_nhb_ratios = calc_std_error_proportion(\n",
    "    aa_dict_no_cys, ext_barrel_df_hb_pairs_count_dict, ext_barrel_df_nhb_pairs_count_dict,\n",
    "    ext_barrel_df_hb_pairs_total, ext_barrel_df_nhb_pairs_total\n",
    ")"
   ]
  },
  {
   "cell_type": "code",
   "execution_count": null,
   "metadata": {
    "collapsed": true,
    "scrolled": false
   },
   "outputs": [],
   "source": [
    "ext_barrel_df_hb_nhb_z_scores"
   ]
  },
  {
   "cell_type": "code",
   "execution_count": null,
   "metadata": {
    "collapsed": true
   },
   "outputs": [],
   "source": [
    "print_significant_z_scores(ext_barrel_df_hb_nhb_z_scores)"
   ]
  },
  {
   "cell_type": "code",
   "execution_count": null,
   "metadata": {
    "collapsed": true
   },
   "outputs": [],
   "source": [
    "ext_barrel_df_dek_sandwich_z_diff_dict = calc_z_diff(ext_barrel_df_hb_nhb_z_scores, dek_sandwich_hb_nhb_z_scores)"
   ]
  },
  {
   "cell_type": "code",
   "execution_count": null,
   "metadata": {
    "collapsed": true,
    "scrolled": false
   },
   "outputs": [],
   "source": [
    "ext_barrel_df_dek_sandwich_z_diff_dict"
   ]
  },
  {
   "cell_type": "markdown",
   "metadata": {},
   "source": [
    "### Enough residues to split by int/tm, ext/tm, int/ext, ext/ext?"
   ]
  },
  {
   "cell_type": "code",
   "execution_count": null,
   "metadata": {
    "collapsed": true
   },
   "outputs": [],
   "source": [
    "int_tm_df = barrel_df[(barrel_df['int_ext'] == 'interior') & (barrel_df['tm_ext'] == 'transmembrane')]\n",
    "int_tm_df = int_tm_df.reset_index(drop=True)"
   ]
  },
  {
   "cell_type": "code",
   "execution_count": null,
   "metadata": {
    "collapsed": true
   },
   "outputs": [],
   "source": [
    "ext_tm_df = barrel_df[(barrel_df['int_ext'] == 'exterior') & (barrel_df['tm_ext'] == 'transmembrane')]\n",
    "ext_tm_df = ext_tm_df.reset_index(drop=True)"
   ]
  },
  {
   "cell_type": "code",
   "execution_count": null,
   "metadata": {
    "collapsed": true
   },
   "outputs": [],
   "source": [
    "int_ext_df = barrel_df[(barrel_df['int_ext'] == 'interior') & (barrel_df['tm_ext'] == 'external')]\n",
    "int_ext_df = int_ext_df.reset_index(drop=True)"
   ]
  },
  {
   "cell_type": "code",
   "execution_count": null,
   "metadata": {
    "collapsed": true
   },
   "outputs": [],
   "source": [
    "ext_ext_df = barrel_df[(barrel_df['int_ext'] == 'exterior') & (barrel_df['tm_ext'] == 'external')]\n",
    "ext_ext_df = ext_ext_df.reset_index(drop=True)"
   ]
  },
  {
   "cell_type": "markdown",
   "metadata": {},
   "source": [
    "### Saves propensity dictionaries to pickle file"
   ]
  },
  {
   "cell_type": "code",
   "execution_count": null,
   "metadata": {
    "collapsed": true
   },
   "outputs": [],
   "source": [
    "propensities_dict = OrderedDict({'int_z_-_-_indv': int_z_indv_propensity_dict,\n",
    "                                 'ext_z_-_-_indv': ext_z_indv_propensity_dict,\n",
    "                                 'int_bsa_-_-_indv': int_bsa_indv_propensity_dict,\n",
    "                                 'ext_bsa_-_-_indv': ext_bsa_indv_propensity_dict,\n",
    "                                 'int_z_-_-_pair': int_z_pair_propensity_dict,\n",
    "                                 'ext_z_-_-_pair': ext_z_pair_propensity_dict,\n",
    "                                 'int_bsa_-_-_pair': int_bsa_pair_propensity_dict,\n",
    "                                 'ext_bsa_-_-_pair': ext_bsa_pair_propensity_dict,\n",
    "                                 'int_z_bsa_-_indv': int_z_bsa_indv_propensity_dict,\n",
    "                                 'ext_z_bsa_-_indv': ext_z_bsa_indv_propensity_dict,\n",
    "                                 'int_z_bsa_-_pair': int_z_bsa_pair_propensity_dict,\n",
    "                                 'ext_z_bsa_-_pair': ext_z_bsa_pair_propensity_dict,\n",
    "                                 'int_phi_psi_-_indv': int_phi_psi_indv_propensity_dict,\n",
    "                                 'ext_phi_psi_-_indv': ext_phi_psi_indv_propensity_dict,\n",
    "                                 'int_phi_psi_-_pair': int_phi_psi_pair_propensity_dict,\n",
    "                                 'ext_phi_psi_-_pair': ext_phi_psi_pair_propensity_dict})\n",
    "\n",
    "with open('Pickled_propensity_dictionaries.pkl', 'wb') as pickle_file:\n",
    "    pickle.dump(propensities_dict, pickle_file)"
   ]
  },
  {
   "cell_type": "code",
   "execution_count": null,
   "metadata": {
    "collapsed": true
   },
   "outputs": [],
   "source": [
    "# Unused function\n",
    "def calc_propensity(temp_lists, aa_df_prop_list, prop, index):\n",
    "    try:\n",
    "        temp_lists['{}_{}_count'.format(prop, aa)] = aa_df_prop_list.count(prop)\n",
    "        temp_lists['{}_frequency_list'.format(prop)][index] = copy.deepcopy(temp_lists['{}_{}_count'.format(prop, aa)])\n",
    "\n",
    "        temp_lists['{}_{}_normed_frequency'.format(prop, aa)] = temp_lists['{}_{}_count'.format(prop, aa)] / temp_lists['total_{}_count'.format(prop)]\n",
    "        temp_lists['{}_normed_frequency_list'.format(prop)][index] = temp_lists['{}_{}_normed_frequency'.format(prop_val, aa)]\n",
    "\n",
    "        temp_lists['{}_{}_propensity'.format(prop_val, aa)] = ((temp_lists['{}_{}_normed_frequency'.format(prop_val, aa)])\n",
    "                                                               / (aa_df.shape[0] / df.shape[0]))\n",
    "        temp_lists['{}_propensity_list'.format(prop_val)][index] = temp_lists['{}_{}_propensity'.format(prop_val, aa)]\n",
    "    except ZeroDivisionError:\n",
    "        temp_lists['{}_frequency_list'.format(prop_val)][index] = np.nan\n",
    "        temp_lists['{}_normed_frequency_list'.format(prop_val)][index] = np.nan\n",
    "        temp_lists['{}_propensity_list'.format(prop_val)][index] = np.nan\n",
    "    return temp_lists"
   ]
  }
 ],
 "metadata": {
  "kernelspec": {
   "display_name": "Python 3",
   "language": "python",
   "name": "python3"
  },
  "language_info": {
   "codemirror_mode": {
    "name": "ipython",
    "version": 3
   },
   "file_extension": ".py",
   "mimetype": "text/x-python",
   "name": "python",
   "nbconvert_exporter": "python",
   "pygments_lexer": "ipython3",
   "version": "3.6.2"
  }
 },
 "nbformat": 4,
 "nbformat_minor": 2
}
