{
 "cells": [
  {
   "cell_type": "markdown",
   "metadata": {},
   "source": [
    "# Bioinformatics analysis of beta-sandwiches"
   ]
  },
  {
   "cell_type": "markdown",
   "metadata": {},
   "source": [
    "## Imports"
   ]
  },
  {
   "cell_type": "code",
   "execution_count": 1,
   "metadata": {},
   "outputs": [
    {
     "name": "stderr",
     "output_type": "stream",
     "text": [
      "/opt/anaconda3/lib/python3.7/site-packages/statsmodels/tools/_testing.py:19: FutureWarning: pandas.util.testing is deprecated. Use the functions in the public API at pandas.testing instead.\n",
      "  import pandas.util.testing as tm\n"
     ]
    }
   ],
   "source": [
    "import copy\n",
    "import itertools\n",
    "import os\n",
    "import pickle\n",
    "import random\n",
    "import scipy\n",
    "import sys\n",
    "import matplotlib.pyplot as plt\n",
    "import numpy as np\n",
    "import pandas as pd\n",
    "import seaborn as sns  # Note will call statsmodels for kdeplot if installed on system, otherwise will use scipy\n",
    "import statsmodels.api as sm\n",
    "from collections import OrderedDict\n",
    "from sklearn.cluster import KMeans"
   ]
  },
  {
   "cell_type": "markdown",
   "metadata": {},
   "source": [
    "## Functions and variable definitions"
   ]
  },
  {
   "cell_type": "code",
   "execution_count": 2,
   "metadata": {},
   "outputs": [],
   "source": [
    "\"\"\"\n",
    "Defines dictionary of amino acid abbreviations\n",
    "\"\"\"\n",
    "aa_dict = OrderedDict({'A': 'Ala',\n",
    "                       'R': 'Arg',\n",
    "                       'N': 'Asn',\n",
    "                       'D': 'Asp',\n",
    "                       'C': 'Cys',\n",
    "                       'Q': 'Gln',\n",
    "                       'E': 'Glu',\n",
    "                       'G': 'Gly', \n",
    "                       'H': 'His',\n",
    "                       'I': 'Ile',\n",
    "                       'L': 'Leu',\n",
    "                       'K': 'Lys',\n",
    "                       'M': 'Met',\n",
    "                       'F': 'Phe',\n",
    "                       'P': 'Pro',\n",
    "                       'S': 'Ser',\n",
    "                       'T': 'Thr',\n",
    "                       'W': 'Trp',\n",
    "                       'Y': 'Tyr',\n",
    "                       'V': 'Val'})"
   ]
  },
  {
   "cell_type": "code",
   "execution_count": 3,
   "metadata": {},
   "outputs": [],
   "source": [
    "#\n",
    "def define_dict(dict_vals):\n",
    "    \"\"\"\n",
    "    Defines a dictionary of amino acid properties. Allows quick definition of new property dictionaries (can\n",
    "    simply copy and paste the new property values from e.g. the Amino Acid Index) \n",
    "    Input: a list (dict_vals) of property values for the 20 (alphabetically ordered) amino acids\n",
    "    Returns: a dictionary of these property values\n",
    "    \"\"\"\n",
    "    aa_dict = OrderedDict({'A': dict_vals[0],\n",
    "                           'R': dict_vals[1],\n",
    "                           'N': dict_vals[2],\n",
    "                           'D': dict_vals[3],\n",
    "                           'C': dict_vals[4],\n",
    "                           'Q': dict_vals[5],\n",
    "                           'E': dict_vals[6],\n",
    "                           'G': dict_vals[7],\n",
    "                           'H': dict_vals[8],\n",
    "                           'I': dict_vals[9],\n",
    "                           'L': dict_vals[10],\n",
    "                           'K': dict_vals[11],\n",
    "                           'M': dict_vals[12],\n",
    "                           'F': dict_vals[13],\n",
    "                           'P': dict_vals[14],\n",
    "                           'S': dict_vals[15],\n",
    "                           'T': dict_vals[16],\n",
    "                           'W': dict_vals[17],\n",
    "                           'Y': dict_vals[18],\n",
    "                           'V': dict_vals[19]})\n",
    "    return aa_dict"
   ]
  },
  {
   "cell_type": "code",
   "execution_count": 4,
   "metadata": {},
   "outputs": [],
   "source": [
    "#\n",
    "def remove_nan(prop_list):\n",
    "    \"\"\"\n",
    "    Removes all instances of '', 'NaN' and np.nan from an input list\n",
    "    Input: a list (prop_list) to be filtered\n",
    "    Returns: the filtered list\n",
    "    \"\"\"\n",
    "    prop_remove_list = ['', 'NaN', 'nan', np.nan]\n",
    "    for prop_remove in prop_remove_list:\n",
    "        while prop_remove in prop_list:\n",
    "            prop_list.remove(prop_remove)\n",
    "    return prop_list"
   ]
  },
  {
   "cell_type": "code",
   "execution_count": 5,
   "metadata": {},
   "outputs": [],
   "source": [
    "#\n",
    "def calc_indv_property_propensities(orig_df, prop, aa_dict):\n",
    "    \"\"\"\n",
    "    Calculates propensities of the amino acids listed in the input dictionary for a (categorical) feature of\n",
    "    interest (e.g. 'interior' or 'exterior')\n",
    "    Input: dataframe of barrel / sandwich properties, name of the feature of interest (specified via the name of\n",
    "           the corresponding column in the input dataframe), and dictionary of amino acid abbreviations\n",
    "    Returns: dataframe of propensity values, plus dataframes of the frequencies and normalised frequencies (since\n",
    "             extreme propensity values can result from low counts)\n",
    "    \"\"\"\n",
    "    \n",
    "    df = copy.deepcopy(orig_df)\n",
    "    df = df[~df[prop].isin(['', 'NaN', 'nan', np.nan])]\n",
    "    df = df.reset_index(drop=True)\n",
    "\n",
    "    prop_list = list(set(df[prop].tolist()))\n",
    "    prop_list = remove_nan(prop_list)\n",
    "\n",
    "    temp_lists = {}\n",
    "    for prop_val in prop_list:\n",
    "        temp_lists['{}_propensity_list'.format(prop_val)] = ['']*len(list(aa_dict.keys()))\n",
    "        temp_lists['{}_frequency_list'.format(prop_val)] = ['']*len(list(aa_dict.keys()))\n",
    "        temp_lists['{}_normed_frequencies_list'.format(prop_val)] = ['']*len(list(aa_dict.keys()))\n",
    "\n",
    "        temp_lists['total_{}_count'.format(prop_val)] = df[prop].tolist().count(prop_val)\n",
    "\n",
    "    for index, aa in enumerate(list(aa_dict.keys())):\n",
    "        aa_df = df[df['fasta_seq'] == aa]\n",
    "        aa_df = aa_df.reset_index(drop=True)\n",
    "\n",
    "        for prop_val in prop_list:\n",
    "            temp_lists['{}_{}_count'.format(prop_val, aa)] = aa_df[prop].tolist().count(prop_val)\n",
    "\n",
    "            if(\n",
    "                min([temp_lists['{}_{}_count'.format(prop_val, aa)], temp_lists['total_{}_count'.format(prop_val)],\n",
    "                     aa_df.shape[0], df.shape[0]]) > 0\n",
    "            ):\n",
    "                temp_lists['{}_frequency_list'.format(prop_val)][index] = copy.deepcopy(temp_lists['{}_{}_count'.format(prop_val, aa)])\n",
    "\n",
    "                temp_lists['{}_{}_normed_frequencies'.format(prop_val, aa)] = (temp_lists['{}_{}_count'.format(prop_val, aa)]\n",
    "                                                                             / temp_lists['total_{}_count'.format(prop_val)])\n",
    "                temp_lists['{}_normed_frequencies_list'.format(prop_val)][index] = temp_lists['{}_{}_normed_frequencies'.format(prop_val, aa)]\n",
    "\n",
    "                temp_lists['{}_{}_propensity'.format(prop_val, aa)] = ((temp_lists['{}_{}_normed_frequencies'.format(prop_val, aa)])\n",
    "                                                                       / (aa_df.shape[0] / df.shape[0]))\n",
    "                temp_lists['{}_propensity_list'.format(prop_val)][index] = temp_lists['{}_{}_propensity'.format(prop_val, aa)]\n",
    "            else:\n",
    "                temp_lists['{}_frequency_list'.format(prop_val)][index] = np.nan\n",
    "                temp_lists['{}_normed_frequencies_list'.format(prop_val)][index] = np.nan\n",
    "                temp_lists['{}_propensity_list'.format(prop_val)][index] = np.nan\n",
    "\n",
    "    df_propensity_dict = OrderedDict({'FASTA': list(aa_dict.keys())})\n",
    "    df_frequency_dict = OrderedDict({'FASTA': list(aa_dict.keys())})\n",
    "    df_normed_frequencies_dict = OrderedDict({'FASTA': list(aa_dict.keys())})\n",
    "    for prop_val in prop_list:\n",
    "        df_propensity_dict[prop_val] = temp_lists['{}_propensity_list'.format(prop_val)]\n",
    "        df_frequency_dict[prop_val] = temp_lists['{}_frequency_list'.format(prop_val)]\n",
    "        df_normed_frequencies_dict[prop_val] = temp_lists['{}_normed_frequencies_list'.format(prop_val)]\n",
    "\n",
    "    propensity_df = pd.DataFrame(df_propensity_dict)\n",
    "    frequency_df = pd.DataFrame(df_frequency_dict)\n",
    "    normed_frequencies_df = pd.DataFrame(df_normed_frequencies_dict)\n",
    "    \n",
    "    return propensity_df, frequency_df, normed_frequencies_df"
   ]
  },
  {
   "cell_type": "code",
   "execution_count": 6,
   "metadata": {},
   "outputs": [],
   "source": [
    "#\n",
    "def calc_combined_property_propensities(orig_df, props, aa_dict):\n",
    "    \"\"\"\n",
    "    Calculates propensities of the amino acids listed in the input dictionary for two or more (categorical)\n",
    "    features of interest (e.g. 'interior' and 'transmembrane', 'interior' and 'external', 'exterior' and\n",
    "    'transmembrane', or 'exterior' and 'external')\n",
    "    Input: dataframe of barrel / sandwich properties, list of names of the features of interest (specified via\n",
    "           the names of the corresponding columns in the input dataframe), and dictionary of amino acid\n",
    "           abbreviations\n",
    "    Returns: dataframe of propensity values, plus dataframes of the frequencies and normalised frequencies (since\n",
    "             extreme propensity values can result from low counts)\n",
    "    \"\"\"\n",
    "    \n",
    "    df = copy.deepcopy(orig_df)\n",
    "    for prop in props:\n",
    "        df = df[~df[prop].isin(['', 'NaN', 'nan', np.nan])]\n",
    "        df = df.reset_index(drop=True)\n",
    "\n",
    "    amalgamate_list = []\n",
    "    for prop in props:\n",
    "        filtered_list = list(set(df[prop].tolist()))\n",
    "        amalgamate_list.append(filtered_list)\n",
    "    combinations = list(itertools.product(*amalgamate_list))\n",
    "    combinations = ['_'.join(tup) for tup in combinations]\n",
    "\n",
    "    for prop in props:\n",
    "        df[prop] = [str(x) for x in df[prop].tolist()]\n",
    "    df_props = pd.DataFrame({'combination': df[props].apply('_'.join, axis=1),\n",
    "                             'FASTA': df['fasta_seq']})\n",
    "\n",
    "    temp_lists = {}\n",
    "    for combination in combinations:\n",
    "        temp_lists['{}_propensity_list'.format(combination)] = ['']*len(list(aa_dict.keys()))\n",
    "        temp_lists['{}_frequency_list'.format(combination)] = ['']*len(list(aa_dict.keys()))\n",
    "        temp_lists['{}_normed_frequencies_list'.format(combination)] = ['']*len(list(aa_dict.keys()))\n",
    "\n",
    "        temp_lists['total_{}_count'.format(combination)] = df_props['combination'].tolist().count(combination)\n",
    "\n",
    "        for index, aa in enumerate(list(aa_dict.keys())):\n",
    "            aa_df = df_props[df_props['FASTA'] == aa]\n",
    "            aa_df = aa_df.reset_index(drop=True)\n",
    "            \n",
    "            temp_lists['{}_{}_count'.format(combination, aa)] = aa_df['combination'].tolist().count(combination)\n",
    "            if (\n",
    "                min([temp_lists['{}_{}_count'.format(combination, aa)],\n",
    "                     temp_lists['total_{}_count'.format(combination)], aa_df.shape[0], df.shape[0]]) > 0\n",
    "            ):\n",
    "                temp_lists['{}_frequency_list'.format(combination)][index] = copy.deepcopy(temp_lists['{}_{}_count'.format(combination, aa)])\n",
    "\n",
    "                temp_lists['{}_{}_normed_frequencies'.format(combination, aa)] = (temp_lists['{}_{}_count'.format(combination, aa)]\n",
    "                                                                                / temp_lists['total_{}_count'.format(combination)])\n",
    "                temp_lists['{}_normed_frequencies_list'.format(combination)][index] = temp_lists['{}_{}_normed_frequencies'.format(combination, aa)]\n",
    "\n",
    "                temp_lists['{}_{}_propensity'.format(combination, aa)] = ((temp_lists['{}_{}_normed_frequencies'.format(combination, aa)])\n",
    "                                                                          / (aa_df.shape[0] / df_props.shape[0]))\n",
    "                temp_lists['{}_propensity_list'.format(combination)][index] = temp_lists['{}_{}_propensity'.format(combination, aa)]\n",
    "            else:\n",
    "                temp_lists['{}_frequency_list'.format(combination)][index] = np.nan\n",
    "                temp_lists['{}_normed_frequencies_list'.format(combination)][index] = np.nan\n",
    "                temp_lists['{}_propensity_list'.format(combination)][index] = np.nan\n",
    "\n",
    "    df_propensity_dict = OrderedDict({'FASTA': list(aa_dict.keys())})\n",
    "    df_frequency_dict = OrderedDict({'FASTA': list(aa_dict.keys())})\n",
    "    df_normed_frequencies_dict = OrderedDict({'FASTA': list(aa_dict.keys())})\n",
    "    for combination in combinations:\n",
    "        df_propensity_dict[combination] = temp_lists['{}_propensity_list'.format(combination)]\n",
    "        df_frequency_dict[combination] = temp_lists['{}_frequency_list'.format(combination)]\n",
    "        df_normed_frequencies_dict[combination] = temp_lists['{}_normed_frequencies_list'.format(combination)]\n",
    "\n",
    "    propensity_df = pd.DataFrame(df_propensity_dict)\n",
    "    frequency_df = pd.DataFrame(df_frequency_dict)\n",
    "    normed_frequencies_df = pd.DataFrame(df_normed_frequencies_dict)\n",
    "\n",
    "    return propensity_df, frequency_df, normed_frequencies_df"
   ]
  },
  {
   "cell_type": "code",
   "execution_count": 7,
   "metadata": {},
   "outputs": [],
   "source": [
    "#\n",
    "def gen_neighbouring_pairs_list(sub_df, domain_res_df, interaction, aa_dict, *args):\n",
    "    \"\"\"\n",
    "    Makes a list of the amino acids in the input dataframe that form pairwise interactions at a particular\n",
    "    location (e.g. HB vs. NHB positions) or via a particular type of interaction (e.g. cation-pi, hydrogen\n",
    "    bonds, van der Waals interactions, etc.)\n",
    "    Input: dataframe of barrel / sandwich properties, list of the residue ids in the domain, name of the\n",
    "           interaction type / location of interest (specified via the name of the corresponding column in the\n",
    "           input dataframe), dictionary of amino acid abbreviations, and list of properties against which to\n",
    "           measure the amino acid pairs (e.g. phi and psi)\n",
    "    Returns: list of interacting amino acid pairs, and (if args) dictionaries of args values for amino acid\n",
    "             pairs\n",
    "    \"\"\"\n",
    "    full_df = copy.deepcopy(domain_res_df)\n",
    "    \n",
    "    if args:\n",
    "        props = list(args)\n",
    "        \n",
    "    domain_res_ids_list = []\n",
    "    for row in range(full_df.shape[0]):\n",
    "        domain_res_id = full_df['domain_ids'][row] + full_df['res_ids'][row]\n",
    "        domain_res_ids_list.append(domain_res_id)\n",
    "\n",
    "    neighbouring_pairs_list = []\n",
    "    repeat_pairs_list = []\n",
    "    if args:\n",
    "        props_dict = OrderedDict()\n",
    "        for prop in props:\n",
    "            props_dict[prop] = OrderedDict()\n",
    "\n",
    "    for row in range(sub_df.shape[0]):\n",
    "        domain_res_id_1 = sub_df['domain_ids'][row] + sub_df['res_ids'][row]\n",
    "\n",
    "        aa_1 = sub_df['fasta_seq'][row]\n",
    "        if args:\n",
    "            prop_val_1_list = ['']*len(props)\n",
    "            for index, prop in enumerate(props):\n",
    "                prop_val_1_list[index] = sub_df[prop][row]\n",
    "\n",
    "        interaction_list = sub_df[interaction][row]\n",
    "        if type(interaction_list) != list:\n",
    "            interaction_list = [interaction_list]\n",
    "        for res_id_2 in interaction_list:\n",
    "            domain_res_id_2 = sub_df['domain_ids'][row] + res_id_2\n",
    "\n",
    "            # Only considers amino acid pairs in which both (canonical) amino acids are located in the domain\n",
    "            if domain_res_id_2 in domain_res_ids_list:\n",
    "                res_id_2_index = domain_res_ids_list.index(domain_res_id_2)\n",
    "                aa_2 = full_df['fasta_seq'][res_id_2_index]\n",
    "                if args:\n",
    "                    prop_val_2_list = ['']*len(props)\n",
    "                    for index, prop in enumerate(props):\n",
    "                        prop_val_2_list[index] = full_df[prop][res_id_2_index]\n",
    "\n",
    "                if (\n",
    "                        aa_1 in list(aa_dict.keys())\n",
    "                    and aa_2 in list(aa_dict.keys())\n",
    "                    and (not [domain_res_id_1, domain_res_id_2] in repeat_pairs_list)\n",
    "                    and (not [domain_res_id_2, domain_res_id_1] in repeat_pairs_list)\n",
    "                ):  # Each amino acid pair is counted once.\n",
    "                    repeat_pairs_list.append([domain_res_id_1, domain_res_id_2])\n",
    "                    repeat_pairs_list.append([domain_res_id_2, domain_res_id_1])\n",
    "\n",
    "                    neighbouring_pairs_list.append('{}_{}'.format(aa_1, aa_2))\n",
    "                    \n",
    "                    if args:\n",
    "                        for index, prop in enumerate(props):\n",
    "                            prop_val_1 = prop_val_1_list[index]\n",
    "                            prop_val_2 = prop_val_2_list[index]\n",
    "                            # Must include domain id in key to ensure it is unique\n",
    "                            props_dict[prop]['{}_{}_{}_{}'.format(domain_res_id_1, domain_res_id_2, aa_1, aa_2)] = [\n",
    "                                prop_val_1, prop_val_2\n",
    "                            ]\n",
    "                            props_dict[prop]['{}_{}_{}_{}'.format(domain_res_id_2, domain_res_id_1, aa_2, aa_1)] = [\n",
    "                                prop_val_2, prop_val_1\n",
    "                            ]\n",
    "    if args:\n",
    "        return neighbouring_pairs_list, props_dict\n",
    "    else:\n",
    "        return neighbouring_pairs_list\n",
    "\n",
    "\n",
    "#\n",
    "def calc_aa_pair_propensities(neighbouring_pairs_list, aa_dict):\n",
    "    \"\"\"\n",
    "    Calculates propensities of amino acids at a particular location to interact with one another\n",
    "    Input: list of interacting amino acid pairs output from gen_neighbouring_pairs_list, and dictionary of amino\n",
    "           acid abbreviations\n",
    "    Returns: dataframe of propensity values, plus dataframes of the frequencies and normalised frequencies (since\n",
    "             extreme propensity values can result from low counts)\n",
    "    \"\"\"\n",
    "    # Each amino acid pair is counted in both orientations. (Note this is because positions 1 and 2 must be\n",
    "    # treated independently (position 1 = object, position 2 = property of object) in the propensity calculations,\n",
    "    # whereas these pairs do not have such an associated order and so must be listed in both orientations. See\n",
    "    # lab notes for further details.)\n",
    "    neighbouring_pairs_list = [['{}_{}'.format(aa_pair[0:1], aa_pair[-1:]), '{}_{}'.format(aa_pair[-1:], aa_pair[0:1])]\n",
    "                               for aa_pair in neighbouring_pairs_list]\n",
    "    neighbouring_pairs_list = [aa_pair for aa_pair_list in neighbouring_pairs_list for aa_pair in aa_pair_list]\n",
    "\n",
    "    # Calculates propensity values\n",
    "    all_pairs_count = len(neighbouring_pairs_list)\n",
    "    temp_lists = {}\n",
    "\n",
    "    for aa_1 in list(aa_dict.keys()):\n",
    "        temp_lists['{}_propensity_list'.format(aa_1)] = ['']*len(list(aa_dict.keys()))\n",
    "        temp_lists['{}_frequency_list'.format(aa_1)] = ['']*len(list(aa_dict.keys()))\n",
    "        temp_lists['{}_normed_frequencies_list'.format(aa_1)] = ['']*len(list(aa_dict.keys()))\n",
    "\n",
    "        # Calculates propensity for aa_1 to interact with aa_2 relative to all other amino acid possibilities\n",
    "        # (= (aa_1_aa_2_count / aa_1_count) / (aa_2_count / all_aa_count)). \n",
    "        for aa_2_index, aa_2 in enumerate(list(aa_dict.keys())):\n",
    "            aa_1_count = 0\n",
    "            aa_2_count = 0\n",
    "            aa_1_aa_2_count = 0\n",
    "\n",
    "            for aa_pair in neighbouring_pairs_list:\n",
    "                if aa_1 == aa_pair[0:1]:\n",
    "                    aa_1_count += 1\n",
    "                if aa_2 == aa_pair[-1:]:\n",
    "                    aa_2_count += 1\n",
    "                if aa_1 == aa_pair[0:1] and aa_2 == aa_pair[-1:]:\n",
    "                    aa_1_aa_2_count += 1\n",
    "\n",
    "            if min([all_pairs_count, aa_1_count, aa_2_count, aa_1_aa_2_count]) > 0:\n",
    "                aa_1_aa_2_frequency = copy.deepcopy(aa_1_aa_2_count)\n",
    "                temp_lists['{}_frequency_list'.format(aa_1)][aa_2_index] = aa_1_aa_2_frequency\n",
    "\n",
    "                aa_1_aa_2_normed_frequencies = aa_1_aa_2_count / aa_1_count\n",
    "                temp_lists['{}_normed_frequencies_list'.format(aa_1)][aa_2_index] = aa_1_aa_2_normed_frequencies\n",
    "\n",
    "                aa_1_aa_2_propensity = ((aa_1_aa_2_count / aa_1_count)\n",
    "                                        / (aa_2_count / all_pairs_count))\n",
    "                temp_lists['{}_propensity_list'.format(aa_1)][aa_2_index] = aa_1_aa_2_propensity\n",
    "            else:\n",
    "                temp_lists['{}_frequency_list'.format(aa_1)][aa_2_index] = np.nan\n",
    "                temp_lists['{}_normed_frequencies_list'.format(aa_1)][aa_2_index] = np.nan\n",
    "                temp_lists['{}_propensity_list'.format(aa_1)][aa_2_index] = np.nan\n",
    "\n",
    "    # The propensity for aa_1 to interact with aa_2 should equal the propensity for aa_2 to interact with aa_1\n",
    "    for aa_1_index, aa_1 in enumerate(list(aa_dict.keys())):\n",
    "        for aa_2_index, aa_2 in enumerate(list(aa_dict.keys())):\n",
    "            propensity_12 = temp_lists['{}_propensity_list'.format(aa_1)][aa_2_index]\n",
    "            propensity_21 = temp_lists['{}_propensity_list'.format(aa_2)][aa_1_index]\n",
    "\n",
    "            if not np.isnan(propensity_12) and not np.isnan(propensity_21):\n",
    "                if propensity_12 - propensity_21 > 0.0001:\n",
    "                    sys.exit('Error with propensity calculation: {}{} ({}) != {}{} ({})'.format(\n",
    "                        aa_1, aa_2, propensity_12, aa_2, aa_1, propensity_21\n",
    "                    ))\n",
    "\n",
    "    df_propensity_dict = OrderedDict({'FASTA': list(aa_dict.keys())})\n",
    "    df_frequency_dict = OrderedDict({'FASTA': list(aa_dict.keys())})\n",
    "    df_normed_frequencies_dict = OrderedDict({'FASTA': list(aa_dict.keys())})\n",
    "    # FASTA label on heatmap refers to aa_2 (although propensity and frequency heatmaps will be symmetric about\n",
    "    # their central axes)\n",
    "    for aa_1 in list(aa_dict.keys()):\n",
    "        df_propensity_dict[aa_1] = temp_lists['{}_propensity_list'.format(aa_1)]\n",
    "        df_frequency_dict[aa_1] = temp_lists['{}_frequency_list'.format(aa_1)]\n",
    "        df_normed_frequencies_dict[aa_1] = temp_lists['{}_normed_frequencies_list'.format(aa_1)]\n",
    "\n",
    "    propensity_df = pd.DataFrame(df_propensity_dict)\n",
    "    frequency_df = pd.DataFrame(df_frequency_dict)\n",
    "    normed_frequencies_df = pd.DataFrame(df_normed_frequencies_dict)\n",
    "\n",
    "    return propensity_df, frequency_df, normed_frequencies_df"
   ]
  },
  {
   "cell_type": "code",
   "execution_count": 8,
   "metadata": {},
   "outputs": [],
   "source": [
    "#\n",
    "def calc_voronoi_points(orig_df, cont_prop_1, cont_prop_2, min_cluster_size=25, save_file=False, file_name=''):\n",
    "    \"\"\"\n",
    "    Calculates cluster centres for discretisation of 2D property space.\n",
    "    Input: dataframe of barrel / sandwich properties, first (continuous) property of interest (specified via the\n",
    "           name of the correspoing column in the input dataframe), second (continuous) property of interest\n",
    "           (specified via the name of the correspoing column in the input dataframe), the minimum number of\n",
    "           data points to be included in a cluster (default 25), plus whether to save a copy of the voronoi point\n",
    "           plot and if so what file name to save it under\n",
    "    Returns: numpy array of cluster coordinates, plus dataframe of cluster properties\n",
    "    \"\"\"\n",
    "    \n",
    "    df = copy.deepcopy(orig_df)\n",
    "    df = df[  (~df[cont_prop_1].isin(['', 'NaN', 'nan', np.nan]))\n",
    "            & (~df[cont_prop_2].isin(['', 'NaN', 'nan', np.nan]))]\n",
    "    df = df.reset_index(drop=True)\n",
    "\n",
    "    prop_array = []\n",
    "    for row in range(df.shape[0]):\n",
    "        prop_array.append([df[cont_prop_1][row], df[cont_prop_2][row]])\n",
    "    prop_array = np.array(prop_array)\n",
    "\n",
    "    kmeans = KMeans(n_clusters=200).fit(prop_array)\n",
    "\n",
    "    if kmeans.n_iter_ >= 300:\n",
    "        sys.exit('Clustering failed to converge')\n",
    "\n",
    "    else:\n",
    "        cluster_coords = kmeans.cluster_centers_\n",
    "\n",
    "        cluster_sizes = np.unique(kmeans.labels_, return_counts=True)\n",
    "        cluster_sizes = cluster_sizes[1]\n",
    "\n",
    "        smallest_cluster_size = cluster_sizes.min()\n",
    "        while smallest_cluster_size < min_cluster_size:\n",
    "            smallest_cluster_index = np.abs(cluster_sizes).argmin()\n",
    "            smallest_cluster_coords = cluster_coords[smallest_cluster_index]\n",
    "\n",
    "            distances = np.sqrt(np.sum(np.square(cluster_coords-smallest_cluster_coords), axis=1))\n",
    "            distances[smallest_cluster_index] = 1e10\n",
    "            closest_cluster_index = np.abs(distances).argmin()\n",
    "            closest_cluster_size = cluster_sizes[closest_cluster_index]\n",
    "\n",
    "            cluster_sizes[closest_cluster_index] = closest_cluster_size + smallest_cluster_size\n",
    "            cluster_sizes = np.delete(cluster_sizes, smallest_cluster_index)\n",
    "            cluster_coords = np.delete(cluster_coords, smallest_cluster_index, axis=0)\n",
    "\n",
    "            smallest_cluster_size = cluster_sizes.min()\n",
    "\n",
    "        plt.clf()\n",
    "        plt.figure(figsize=(15, 15))\n",
    "        plt.scatter(prop_array[:,0], prop_array[:,1], alpha=0.1)\n",
    "        plt.scatter(cluster_coords[:,0], cluster_coords[:,1], color='k')\n",
    "        plt.xlim(([-180, 180]))\n",
    "        plt.ylim(([-180, 180]))\n",
    "        plt.xticks(np.arange(-180, 210, 30))\n",
    "        plt.yticks(np.arange(-180, 210, 30))\n",
    "        if save_file is True:\n",
    "            plt.savefig('{}.svg'.format(file_name))\n",
    "        plt.show()\n",
    "\n",
    "        cluster_df = pd.DataFrame({'Cluster size': cluster_sizes,\n",
    "                                   '{}'.format(cont_prop_1): cluster_coords[:,0],\n",
    "                                   '{}'.format(cont_prop_2): cluster_coords[:,1]})\n",
    "\n",
    "        return cluster_coords, cluster_df\n",
    "\n",
    "\n",
    "#\n",
    "def calc_discrete_2d_indv_aa_propensities(orig_df, cont_prop_1, cont_prop_2, aa_dict, cluster_coords):\n",
    "    \"\"\"\n",
    "    Calculates amino acid propensity values for bins in 2D property space.\n",
    "    Input: dataframe of barrel / sandwich properties, first (continuous) property of interest (specified via the\n",
    "           name of the corresponding column in the input dataframe), second (continuous) property of interest\n",
    "           (specified via the name of the corresponding column in the input dataframe), dictionary of amino acid\n",
    "           abbreviations, and coordinates of cluster centres\n",
    "    Returns: dataframe of propensity values, plus dataframes of frequency and normalised frequency values (since\n",
    "             propensity values can be skewed by very small sample sizes)\n",
    "    \"\"\"\n",
    "    \n",
    "    df = copy.deepcopy(orig_df)\n",
    "    df = df[  (~df[cont_prop_1].isin(['', 'NaN', 'nan', np.nan]))\n",
    "            & (~df[cont_prop_2].isin(['', 'NaN', 'nan', np.nan]))]\n",
    "    df = df.reset_index(drop=True)\n",
    "\n",
    "    propensity_dict = OrderedDict({'FASTA': list(aa_dict.keys())})\n",
    "    frequency_dict = OrderedDict({'FASTA': list(aa_dict.keys())})\n",
    "    normed_frequencies_dict = OrderedDict({'FASTA': list(aa_dict.keys())})\n",
    "    voronoi_class_dict = OrderedDict()\n",
    "\n",
    "    for voronoi_index in range(cluster_coords.shape[0]):\n",
    "        voronoi_class_dict[voronoi_index] = [0]*(len(aa_dict)+1)\n",
    "        propensity_dict[voronoi_index] = [np.nan]*len(aa_dict)\n",
    "        frequency_dict[voronoi_index] = [np.nan]*len(aa_dict)\n",
    "        normed_frequencies_dict[voronoi_index] = [np.nan]*len(aa_dict)\n",
    "\n",
    "    for row in range(df.shape[0]):\n",
    "        fasta = df['fasta_seq'][row]\n",
    "        aa_index = list(aa_dict.keys()).index(fasta)\n",
    "\n",
    "        val_1 = df[cont_prop_1][row]\n",
    "        val_2 = df[cont_prop_2][row]\n",
    "        prop_vals = np.array([val_1, val_2])\n",
    "\n",
    "        distances = np.sqrt(np.sum(np.square(cluster_coords-prop_vals), axis=1))\n",
    "        voronoi_index = np.abs(distances).argmin()\n",
    "        voronoi_class_dict[voronoi_index][aa_index] += 1\n",
    "        voronoi_class_dict[voronoi_index][-1] +=1\n",
    "\n",
    "    for voronoi_index in list(voronoi_class_dict.keys()):\n",
    "        for aa_index, aa in enumerate(list(aa_dict.keys())):\n",
    "            class_aa_count = voronoi_class_dict[voronoi_index][aa_index]\n",
    "            class_all_aas_count = voronoi_class_dict[voronoi_index][-1]\n",
    "\n",
    "            total_aa_count = 0\n",
    "            for voronoi_class_list in list(voronoi_class_dict.values()):\n",
    "                total_aa_count += voronoi_class_list[aa_index]\n",
    "\n",
    "            if min(class_aa_count, class_all_aas_count, total_aa_count, df.shape[0]) > 0:\n",
    "                frequency_dict[voronoi_index][aa_index] = copy.deepcopy(class_aa_count)\n",
    "                normed_frequencies_dict[voronoi_index][aa_index] = class_aa_count / class_all_aas_count\n",
    "                propensity_dict[voronoi_index][aa_index] = (  (class_aa_count / class_all_aas_count)\n",
    "                                                            / (total_aa_count / df.shape[0]))\n",
    "            else:\n",
    "                pass\n",
    "\n",
    "    propensity_df = pd.DataFrame(propensity_dict)\n",
    "    frequency_df = pd.DataFrame(frequency_dict)\n",
    "    normed_frequencies_df = pd.DataFrame(normed_frequencies_dict)\n",
    "\n",
    "    return propensity_df, frequency_df, normed_frequencies_df"
   ]
  },
  {
   "cell_type": "code",
   "execution_count": 9,
   "metadata": {},
   "outputs": [],
   "source": [
    "#\n",
    "def bootstrap_discrete_propensities(df, domain_res_df, prop, aa_dict, num_bootstrap_samples,\n",
    "                                    propensity_calc_func, cluster_coords=[]):\n",
    "    \"\"\"\n",
    "    Calculates 95% confidence limits about propensity values calculated for discrete categorical features\n",
    "    Input: dataframe of barrel / sandwich properties, list of the residue ids in the domain, name(s) of the\n",
    "           feature(s) of interest (specified via a name / list of names of the corresponding column(s) in the\n",
    "           input dataframe, dictionary of amino acid abbreviations, the number of bootstrap samples to collect,\n",
    "           the name of the propensity calculation function (calc_indv_property_propensities,\n",
    "           calc_combined_property_propensities, calc_aa_pair_propensities, or\n",
    "           calc_discrete_2d_indv_aa_propensities), and the coordinates of each cluster centre (if calculating\n",
    "           propensities for bins in 2D property space, e.g. phi vs. psi)\n",
    "    Returns: dictionary of bootstrapped propensity values, plus dictionaries of the bootstrapped frequencies\n",
    "             and normalised frequencies (since extreme propensity values can result from low counts)\n",
    "    \"\"\"\n",
    "    if propensity_calc_func == calc_indv_property_propensities:\n",
    "        prop_vals = list(set(df[prop].tolist()))\n",
    "        prop_vals = remove_nan(prop_vals)\n",
    "\n",
    "    elif propensity_calc_func == calc_combined_property_propensities:\n",
    "        prop_vals = []\n",
    "        for sub_prop in prop:\n",
    "            vals = list(set(df[sub_prop].tolist()))\n",
    "            vals = remove_nan(vals)\n",
    "            prop_vals.append(vals)\n",
    "        prop_vals = list(itertools.product(*prop_vals))\n",
    "        prop_vals = ['_'.join(tup) for tup in prop_vals]\n",
    "\n",
    "    elif propensity_calc_func == calc_aa_pair_propensities:\n",
    "        prop_vals = list(aa_dict.keys())\n",
    "        neighbouring_pairs_list = gen_neighbouring_pairs_list(df, domain_res_df, prop, aa_dict)\n",
    "\n",
    "    elif propensity_calc_func == calc_discrete_2d_indv_aa_propensities:\n",
    "        prop_vals = [num for num in range(cluster_coords.shape[0])]\n",
    "\n",
    "    aa_list = list(aa_dict.keys())\n",
    "\n",
    "    bootstrap_propensities_dict = OrderedDict({'FASTA': aa_list})\n",
    "    bootstrap_frequencies_dict = OrderedDict({'FASTA': aa_list})\n",
    "    bootstrap_normed_frequencies_dict = OrderedDict({'FASTA': aa_list})\n",
    "\n",
    "    for prop_val in prop_vals:\n",
    "        bootstrap_propensities_dict[prop_val] = [([np.nan]*num_bootstrap_samples) for i in range(len(aa_list))]\n",
    "        bootstrap_frequencies_dict[prop_val] = [([np.nan]*num_bootstrap_samples) for i in range(len(aa_list))]\n",
    "        bootstrap_normed_frequencies_dict[prop_val] = [([np.nan]*num_bootstrap_samples) for i in range(len(aa_list))]\n",
    "\n",
    "    for num_1 in range(num_bootstrap_samples):\n",
    "        if propensity_calc_func in [calc_indv_property_propensities, calc_combined_property_propensities,\n",
    "                                    calc_discrete_2d_indv_aa_propensities]:\n",
    "            # Samples input dataframe with replacement\n",
    "            indices = []\n",
    "            for num_2 in range(df.shape[0]):\n",
    "                random_num = random.randint(0, (df.shape[0]-1))\n",
    "                indices.append(random_num)\n",
    "            new_df = copy.deepcopy(df).iloc[indices]\n",
    "            new_df = new_df.reset_index(drop=True)\n",
    "\n",
    "            if propensity_calc_func in [calc_indv_property_propensities, calc_combined_property_propensities]:\n",
    "                propensity_df, frequency_df, normed_frequencies_df = propensity_calc_func(\n",
    "                    new_df, prop, aa_dict\n",
    "                )\n",
    "            elif propensity_calc_func == calc_discrete_2d_indv_aa_propensities:\n",
    "                propensity_df, frequency_df, normed_frequencies_df = propensity_calc_func(\n",
    "                    new_df, prop[0], prop[1], aa_dict, cluster_coords\n",
    "                )\n",
    "\n",
    "        elif propensity_calc_func == calc_aa_pair_propensities:\n",
    "            # Samples neighbouring_pairs_list with replacement\n",
    "            resampled_pairs_list = random.choices(neighbouring_pairs_list, k=len(neighbouring_pairs_list))\n",
    "            \n",
    "            propensity_df, frequency_df, normed_frequencies_df = propensity_calc_func(\n",
    "                resampled_pairs_list, aa_dict\n",
    "            )\n",
    "\n",
    "        for prop_val in prop_vals:\n",
    "            for index, num_3 in enumerate(propensity_df[prop_val].tolist()):\n",
    "                bootstrap_propensities_dict[prop_val][index][num_1] = propensity_df[prop_val][index]\n",
    "                bootstrap_frequencies_dict[prop_val][index][num_1] = frequency_df[prop_val][index]\n",
    "                bootstrap_normed_frequencies_dict[prop_val][index][num_1] = normed_frequencies_df[prop_val][index]\n",
    "\n",
    "    return bootstrap_propensities_dict, bootstrap_frequencies_dict, bootstrap_normed_frequencies_dict"
   ]
  },
  {
   "cell_type": "code",
   "execution_count": 10,
   "metadata": {},
   "outputs": [],
   "source": [
    "#\n",
    "def plot_bar_graphs(df, propensity_or_frequency, save_file=True, file_name=''):\n",
    "    \"\"\"\n",
    "    Plots a bar graph of property / propensity of interest vs. amino acid identity\n",
    "    Input: dataframe of barrel / sandwich properties, and string defining whether the input dataframe contains\n",
    "           propensity, frequency or normalised frequency values, whether to save a copy of the plot and if so\n",
    "           the file name to use\n",
    "           (specified via the name of the corresponding column in the input dataframe)\n",
    "    \"\"\"\n",
    "    reshaped_df = pd.melt(df, id_vars='FASTA', var_name='Property', value_name=propensity_or_frequency)\n",
    "    reshaped_df = reshaped_df.dropna()\n",
    "    reshaped_df = reshaped_df.reset_index(drop=True)\n",
    "\n",
    "    plt.clf()\n",
    "    sns.catplot(\n",
    "        x='FASTA', y=propensity_or_frequency, hue='Property', data=reshaped_df, kind='bar', height=5, aspect=3,\n",
    "        legend=False\n",
    "    )\n",
    "    plt.legend(bbox_to_anchor=(1.05, 1), loc='upper left')\n",
    "    if save_file is True:\n",
    "        plt.savefig('{}.svg'.format(file_name))\n",
    "    plt.show()"
   ]
  },
  {
   "cell_type": "code",
   "execution_count": 11,
   "metadata": {},
   "outputs": [],
   "source": [
    "#\n",
    "def gen_95_conf_intervals(bootstrap_propensity_dict, propensity_or_frequency, middle=False):\n",
    "    \"\"\"\n",
    "    Calculates 95% confidence intervals from bootstrapped sample.\n",
    "    Input: dictionary of bootstrapped propensity values, and string defining whether the input dataframe contains\n",
    "           propensity, frequency or normalised frequency values\n",
    "    Returns: dictionary of lower percentile propensity values, dictionary of upper percentile propensity values\n",
    "    \"\"\"\n",
    "    aa_list = bootstrap_propensity_dict['FASTA']\n",
    "    \n",
    "    lower_percentile_dict = OrderedDict({'FASTA': aa_list})\n",
    "    upper_percentile_dict = OrderedDict({'FASTA': aa_list})\n",
    "    if middle is True:\n",
    "        middle_percentile_dict = OrderedDict({'FASTA': aa_list})\n",
    "\n",
    "    for prop_val in list(bootstrap_propensity_dict.keys()):\n",
    "        if prop_val != 'FASTA':\n",
    "            lower_percentile_dict[prop_val] = [np.nan]*len(aa_list)\n",
    "            upper_percentile_dict[prop_val] = [np.nan]*len(aa_list)\n",
    "            if middle is True:\n",
    "                middle_percentile_dict[prop_val] = [np.nan]*len(aa_list)\n",
    "\n",
    "            for index, propensity_list in enumerate(bootstrap_propensity_dict[prop_val]):\n",
    "                propensity_list = [val for val in propensity_list if not np.isnan(val)]\n",
    "                if propensity_list:\n",
    "                    lower_percentile = np.percentile(propensity_list, 2.5)\n",
    "                    upper_percentile = np.percentile(propensity_list, 97.5) \n",
    "                    middle_percentile = np.percentile(propensity_list, 50)\n",
    "                else:\n",
    "                    lower_percentile = np.nan\n",
    "                    upper_percentile = np.nan\n",
    "                    middle_percentile = np.nan\n",
    "\n",
    "                lower_percentile_dict[prop_val][index] = lower_percentile\n",
    "                upper_percentile_dict[prop_val][index] = upper_percentile\n",
    "                if middle is True:\n",
    "                    middle_percentile_dict[prop_val][index] = middle_percentile\n",
    "\n",
    "    if middle is False:\n",
    "        return lower_percentile_dict, upper_percentile_dict\n",
    "    if middle is True:\n",
    "        return lower_percentile_dict, upper_percentile_dict, middle_percentile_dict\n",
    "\n",
    "\n",
    "#\n",
    "def plot_bar_graphs_with_conf_limits(bootstrap_df, lower_percentile_dict, upper_percentile_dict,\n",
    "                                     propensity_or_frequency, save_file=False, file_name=''):\n",
    "    \"\"\"\n",
    "    Plots a bar graph of property / propensity of interest vs. amino acid identity with bootstrapped 95%\n",
    "    confidence limits\n",
    "    Input: dataframe of initial propensity values, dataframe of bootstrapped lower percentile values, dataframe\n",
    "           of bootstrapped upper percentile values, and string defining whether the input dataframe contains\n",
    "           propensity, frequency or normalised frequency values, whether to save the plot and if so the file\n",
    "           name to use\n",
    "    \"\"\"\n",
    "    reshaped_df = pd.melt(bootstrap_df, id_vars='FASTA', var_name='Property', value_name=propensity_or_frequency)\n",
    "    na_indices = list(np.where(reshaped_df[propensity_or_frequency].notnull())[0])\n",
    "    reshaped_df = reshaped_df.iloc[na_indices].reset_index(drop=True)\n",
    "\n",
    "    lower_percentile_df = pd.DataFrame(lower_percentile_dict)\n",
    "    lower_percentile_df = pd.melt(lower_percentile_df, id_vars='FASTA', var_name='Property',\n",
    "                                  value_name=propensity_or_frequency)\n",
    "    lower_percentile_df = lower_percentile_df.iloc[na_indices].reset_index(drop=True)\n",
    "\n",
    "    upper_percentile_df = pd.DataFrame(upper_percentile_dict)\n",
    "    upper_percentile_df = pd.melt(upper_percentile_df, id_vars='FASTA', var_name='Property',\n",
    "                                  value_name=propensity_or_frequency)\n",
    "    upper_percentile_df = upper_percentile_df.iloc[na_indices].reset_index(drop=True)\n",
    "\n",
    "    # Plots bar graph with confidence limits\n",
    "    num_prop = len(set(reshaped_df['Property'].tolist()))\n",
    "    if num_prop <= 10:\n",
    "        palette = 'dark'\n",
    "    else:\n",
    "        palette = ['black']\n",
    "    plt.clf()\n",
    "    plt.figure(figsize=(15,8))\n",
    "    sns.barplot(x='FASTA', y=propensity_or_frequency, hue='Property', data=reshaped_df)\n",
    "    sns.stripplot(x='FASTA', y=propensity_or_frequency, hue='Property', data=lower_percentile_df,\n",
    "                  jitter=False, dodge=True, palette=palette)\n",
    "    sns.stripplot(x='FASTA', y=propensity_or_frequency, hue='Property', data=upper_percentile_df,\n",
    "                  jitter=False, dodge=True, palette=palette)\n",
    "    plt.legend(bbox_to_anchor=(1.05, 1), loc='upper left')\n",
    "    if save_file is True:\n",
    "        plt.savefig('{}.svg'.format(file_name))\n",
    "    plt.show()"
   ]
  },
  {
   "cell_type": "code",
   "execution_count": 12,
   "metadata": {},
   "outputs": [],
   "source": [
    "#\n",
    "def iterate_bootstrap_propensities(df, domain_res_df, prop, aa_dict, bootstrap_samples_list,\n",
    "                                   propensity_calc_func, propensity_df, frequency_df, cluster_coords=[]):\n",
    "    \"\"\"\n",
    "    Calculates 95% confidence limits about propensity, frequency and normalised frequency values calculated for\n",
    "    discrete categorical features whilst varying the size of the bootstrap population (to determine the minimum\n",
    "    number of bootstrap samples required to obtain an accurate estimate of the confidence limits)\n",
    "    Input: dataframe of barrel / sandwich properties, list of the residue ids in the domain, name(s) of the\n",
    "           feature(s) of interest (specified via a name / list of names of the corresponding column(s) in the\n",
    "           input dataframe), dictionary of amino acid abbreviations, list of number of bootstrap samples to use\n",
    "           in the confidence limit calculation, name of the propensity calculation function\n",
    "           (calc_indv_property_propensities, calc_combined_property_propensities, calc_aa_pair_propensities,\n",
    "           or calc_discrete_2d_indv_aa_propensities), dataframe of (non-bootstrapped) propensity values, dataframe\n",
    "           of (non-bootstrapped) frequency values, dataframe of (non-bootstrapped) normalised frequency values,\n",
    "           and the coordinates of each cluster centre (if calculating propensities for bins in 2D property space,\n",
    "           e.g. phi vs. psi)\n",
    "    Returns: dictionaries of propensity, frequency and normalised frequency values vs. number of bootstrap samples\n",
    "    \"\"\"\n",
    "    dfs = {'Propensity': propensity_df,\n",
    "           'Frequency': frequency_df}\n",
    "\n",
    "    iterated_dicts = {'Propensity': OrderedDict(),\n",
    "                      'Frequency': OrderedDict()}\n",
    "\n",
    "    for num in bootstrap_samples_list:\n",
    "        print(num)\n",
    "        (bootstrap_propensities_dict, bootstrap_frequencies_dict, bootstrap_normed_frequencies_dict\n",
    "        ) = bootstrap_discrete_propensities(\n",
    "            df, domain_res_df, prop, aa_dict, num, propensity_calc_func, cluster_coords\n",
    "        )\n",
    "        bootstrapped_dicts = {'Propensity': bootstrap_propensities_dict,\n",
    "                              'Frequency': bootstrap_frequencies_dict}\n",
    "\n",
    "        for output_type, iterated_dict in iterated_dicts.items():\n",
    "            bootstrap_dict = bootstrapped_dicts[output_type]\n",
    "            \n",
    "            if propensity_calc_func in [calc_indv_property_propensities, calc_combined_property_propensities,\n",
    "                                        calc_aa_pair_propensities]:\n",
    "                lower_percentile, upper_percentile = gen_95_conf_intervals(\n",
    "                    bootstrap_dict, output_type\n",
    "                )\n",
    "            elif propensity_calc_func == calc_discrete_2d_indv_aa_propensities:\n",
    "                lower_percentile, upper_percentile, middle_percentile = gen_95_conf_intervals(\n",
    "                    bootstrap_dict, output_type, middle=True\n",
    "                )\n",
    "            iterated_dict[num] = OrderedDict({'FASTA': list(aa_dict.keys())})\n",
    "\n",
    "            for prop_val in list(bootstrap_dict.keys()):\n",
    "                if prop_val != 'FASTA':\n",
    "                    iterated_dict[num][prop_val] = ['']*len(list(aa_dict.keys()))\n",
    "\n",
    "                    if propensity_calc_func in [calc_indv_property_propensities, calc_combined_property_propensities,\n",
    "                                                calc_aa_pair_propensities]:\n",
    "                        for index, aa in enumerate(list(aa_dict.keys())):\n",
    "                            iterated_dict[num][prop_val][index] = [\n",
    "                                lower_percentile[prop_val][index], dfs[output_type][prop_val][index],\n",
    "                                upper_percentile[prop_val][index]\n",
    "                            ]\n",
    "                    elif propensity_calc_func == calc_discrete_2d_indv_aa_propensities:\n",
    "                        for index, aa in enumerate(list(aa_dict.keys())):\n",
    "                            iterated_dict[num][prop_val][index] = [\n",
    "                                lower_percentile[prop_val][index], middle_percentile[prop_val][index],\n",
    "                                upper_percentile[prop_val][index]\n",
    "                            ]\n",
    "\n",
    "    return iterated_dicts['Propensity'], iterated_dicts['Frequency']"
   ]
  },
  {
   "cell_type": "code",
   "execution_count": 13,
   "metadata": {},
   "outputs": [],
   "source": [
    "#\n",
    "def plot_heat_map(df, save_file=False, file_name=''):\n",
    "    \"\"\"\n",
    "    Plots a heat map.\n",
    "    Input: dataframe of propensity / count data of property of interest vs. amino acid identity (which must be in\n",
    "           a column labelled 'FASTA')\n",
    "    \"\"\"\n",
    "    df = df.set_index('FASTA', drop=True)  # \"FASTA\" label on y-axis of heat map refers to amino acid 2\n",
    "\n",
    "    plt.clf()\n",
    "    plt.figure(figsize=(20, 10))\n",
    "    sns.heatmap(df, cmap='seismic')\n",
    "    if save_file is True:\n",
    "        plt.savefig('{}.svg'.format(file_name))\n",
    "    plt.show()\n",
    "        \n",
    "\n",
    "#\n",
    "def plot_ramachandran_heat_map(propensity_df, cluster_coords, save_file=False, file_name=''):\n",
    "    \"\"\"\n",
    "    For each amino acid, generates scatter plot of the cluster centres of the phi/psi bins previously\n",
    "    calculated with calc_voronoi_points, coloured by the propensity/freqency of the amino acid for that bin.\n",
    "    Input: DataFrame of propensity/frequency values for each of the cluster centres, numpy array of the cluster\n",
    "           centre coordinates, whether to save a copy of the plots and if so the file names to use\n",
    "    \"\"\"\n",
    "    for r in range(propensity_df.shape[0]):\n",
    "        aa = propensity_df['FASTA'][r]\n",
    "        print(aa)\n",
    "\n",
    "        x = list(cluster_coords[:,0])\n",
    "        y = list(cluster_coords[:,1])\n",
    "        propensity = propensity_df.iloc[r,1:].tolist()\n",
    "\n",
    "        data = pd.DataFrame({'phi': x, 'psi': y, 'propensity': propensity})\n",
    "        plt.clf()\n",
    "        fig = sns.relplot(\n",
    "            data=data, x='phi', y='psi', hue='propensity', sizes=(10, 200), height=7, aspect=1.2,\n",
    "            palette='coolwarm'\n",
    "        )\n",
    "        plt.xlim(([-180, 180]))\n",
    "        plt.ylim(([-180, 180]))\n",
    "        plt.xticks(np.arange(-180, 210, 30))\n",
    "        plt.yticks(np.arange(-180, 210, 30))\n",
    "        if save_file is True:\n",
    "            plt.savefig('{}_{}.svg'.format(aa, file_name))\n",
    "        plt.show()"
   ]
  },
  {
   "cell_type": "code",
   "execution_count": 14,
   "metadata": {},
   "outputs": [],
   "source": [
    "#\n",
    "def plot_aa_kdes(orig_df, cont_props, indv_or_comp, aa_dict, save_file=False, file_name=''):\n",
    "    \"\"\"\n",
    "    Plots kernel density estimate of the distribution of each amino acid of interest vs. 1 / 2 continuous\n",
    "    property/ies of interest (typically z-coordinate)\n",
    "    Input: dataframe of barrel / sandwich properties, name of continuous property of interest (specified via a list\n",
    "           of the name(s) of the corresponding column in the input dataframe), whether to plot the distribution of\n",
    "           the amino acid alone ('individual') or whether to also plot the distribution of all amino acids\n",
    "           ('comparison'), dictionary of amino acid abbreviations, whether to save a copy of each plot and if so the\n",
    "           base file name to save each under\n",
    "    \"\"\"\n",
    "    \n",
    "    df = copy.deepcopy(orig_df)\n",
    "    for prop in cont_props:\n",
    "        df = df[~df[prop].isin(['', 'NaN', 'nan', np.nan])]\n",
    "        df = df.reset_index(drop=True)\n",
    "\n",
    "    for aa in list(aa_dict.keys()):\n",
    "        aa_df = df[df['fasta_seq'] == aa]\n",
    "        aa_df = aa_df.reset_index(drop=True)\n",
    "\n",
    "        num_prop_vals = []\n",
    "        for prop in cont_props:\n",
    "            num_prop_vals.append(len(df[prop]))\n",
    "            num_prop_vals.append(len(aa_df[prop]))\n",
    "\n",
    "        if min(num_prop_vals) >= 10:\n",
    "            print(aa)\n",
    "\n",
    "            plt.clf()\n",
    "            plt.figure(figsize=(10, 5))\n",
    "            if 'z_coords' in cont_props:\n",
    "                axes = plt.gca()\n",
    "\n",
    "            if len(cont_props) == 1:\n",
    "                if indv_or_comp == 'comparison':\n",
    "                    sns.kdeplot(df[cont_props[0]], bw_method='scott')\n",
    "                sns.kdeplot(aa_df[cont_props[0]], bw_method='scott')\n",
    "                sns.rugplot(aa_df[cont_props[0]], alpha=0.1, color='tab:orange')\n",
    "            elif len(cont_props) == 2:\n",
    "                if indv_or_comp == 'comparison':\n",
    "                    sns.kdeplot(data=df[cont_props[0]], data2=df[cont_props[1]], bw_method='scott', shade=True,\n",
    "                                shade_lowest=False, cbar=True)\n",
    "                sns.kdeplot(\n",
    "                    data=aa_df[cont_props[0]], data2=aa_df[cont_props[1]], bw_method='scott', shade=False,\n",
    "                    cbar=True\n",
    "                )\n",
    "            else:\n",
    "                return('Too many properties specified')\n",
    "\n",
    "            if save_file is True:\n",
    "                plt.savefig('{}_{}_{}.svg'.format(aa, '_'.join([prop for prop in cont_props]), file_name))\n",
    "            plt.show()\n",
    "            \n",
    "            \n",
    "#\n",
    "def plot_bootstrap_aa_kdes(orig_df, cont_prop, aa_dict, bootstrap_num, save_file=False, file_name=''):\n",
    "    \"\"\"\n",
    "    Generates boostrap_num bootstraps of amino acid df and plots kde of each bootstrap, to give an approximate\n",
    "    idea of the confidence intervals about the kde of the non-bootstrapped amino acid df \n",
    "    Input: dataframe of barrel / sandwich properties, name of continuous property of interest, dictionary of\n",
    "           amino acid abbreviations, the number of bootstraps to calculate, whether to save a copy of the plot\n",
    "           and if so the file name to save it under\n",
    "    \"\"\"\n",
    "\n",
    "    df = copy.deepcopy(orig_df)\n",
    "    df = df[~df[cont_prop].isin(['', 'NaN', 'nan', np.nan])]\n",
    "    df = df.reset_index(drop=True)\n",
    "    \n",
    "    for aa in list(aa_dict.keys()):\n",
    "        print(aa)\n",
    "        aa_df = df[df['fasta_seq'] == aa]\n",
    "        aa_df = aa_df.reset_index(drop=True)\n",
    "\n",
    "        plt.clf()\n",
    "        plt.figure(figsize=(10, 5))\n",
    "        for num_1 in range(bootstrap_num):\n",
    "            indices = []\n",
    "            for num_2 in range(aa_df.shape[0]):\n",
    "                random_num = random.randint(0, (aa_df.shape[0]-1))\n",
    "                indices.append(random_num)\n",
    "            new_df = copy.deepcopy(aa_df).iloc[indices]\n",
    "            new_df = new_df.reset_index(drop=True)\n",
    "\n",
    "            sns.kdeplot(data=new_df[cont_prop], bw_method='scott', color='tab:blue', legend=False)\n",
    "        sns.kdeplot(data=new_df[cont_prop], bw_method='scott', color='k', legend=False)\n",
    "\n",
    "        if save_file is True:\n",
    "            plt.savefig('{}_{}.svg'.format(aa, file_name))\n",
    "        plt.show()"
   ]
  },
  {
   "cell_type": "code",
   "execution_count": 15,
   "metadata": {},
   "outputs": [],
   "source": [
    "# See notebook prior to 21.02.2021 for equivalent 2D code (for now deleted as insufficient data to run 2D function)\n",
    "def plot_1d_indv_aa_propensities(orig_df, cont_prop, aa_dict, save_file=False, file_name=True):\n",
    "    \"\"\"\n",
    "    Plots propensity of each amino acid of interest vs. a continuous property of interest (typically z-coordinate)\n",
    "    Input: dataframe of barrel / sandwich properties, name of continuous property of interest (specified via the\n",
    "           name of the corresponding column in the input dataframe), and dictionary of amino acid abbreviations,\n",
    "           whether to save a copy of each plot and if so the base file name to save them under\n",
    "    \"\"\"\n",
    "    \n",
    "    df = copy.deepcopy(orig_df)\n",
    "    df = df[~df[cont_prop].isin(['', 'NaN', 'nan', np.nan])]\n",
    "    df = df.reset_index(drop=True)\n",
    "\n",
    "    propensities_dict = OrderedDict()\n",
    "\n",
    "    for aa in list(aa_dict.keys()):\n",
    "        aa_df = df[df['fasta_seq'] == aa]\n",
    "        aa_df = aa_df.reset_index(drop=True)\n",
    "\n",
    "        if (\n",
    "            min([df.shape[0], aa_df.shape[0]]) >= 25  # Threshold is a self-determined \"sensible\" value - is there a way of determining this threshold empirically?\n",
    "        ):\n",
    "            print(aa)\n",
    "\n",
    "            plt.clf()\n",
    "            overall_data = np.asarray(df[cont_prop].tolist())\n",
    "            overall_data = overall_data.astype(np.float64)\n",
    "            kde_overall = sm.nonparametric.KDEUnivariate(overall_data)\n",
    "            kde_overall.fit(kernel='gau', bw='scott', fft='gau', gridsize=100, cut=3, clip=(-np.inf, np.inf))\n",
    "            x_values_overall, y_values_overall = kde_overall.support, kde_overall.density\n",
    "\n",
    "            # Determines range over which interpolation is carried out\n",
    "            min_x_vals = [min(df[cont_prop]), min(aa_df[cont_prop])]\n",
    "            max_x_vals = [max(df[cont_prop]), max(aa_df[cont_prop])]\n",
    "            x_range = [max(min_x_vals), min(max_x_vals)]\n",
    "\n",
    "            plt.clf()\n",
    "            indv_data = np.asarray(aa_df[cont_prop].tolist())\n",
    "            indv_data = indv_data.astype(np.float64)\n",
    "            kde_indv = sm.nonparametric.KDEUnivariate(indv_data)\n",
    "            kde_indv.fit(kernel='gau', bw='scott', fft='gau', gridsize=100, cut=3, clip=(-np.inf, np.inf))\n",
    "            x_values_indv, y_values_indv = kde_indv.support, kde_indv.density\n",
    "\n",
    "            x_values_indv_copy = list(copy.deepcopy(x_values_indv))\n",
    "            propensities = ['']*len(x_values_indv)\n",
    "\n",
    "            # Interpolate overall KDE since it has been calculated from more data points\n",
    "            for index_1, value_1 in np.ndenumerate(x_values_indv):\n",
    "                index_1 = index_1[0]\n",
    "                x_indv = x_values_indv[index_1]\n",
    "                y_indv = y_values_indv[index_1]\n",
    "\n",
    "                if (   x_indv < x_range[0]\n",
    "                    or x_indv > x_range[-1]\n",
    "                ):\n",
    "                    x_values_indv_copy[index_1] = ''\n",
    "\n",
    "                else:\n",
    "                    interpolate_x_indices = []\n",
    "                    for index_2, value_2 in np.ndenumerate(x_values_overall):\n",
    "                        index_2 = index_2[0]\n",
    "                        if x_values_overall[index_2] == x_indv:\n",
    "                            if index_2 < (len(x_values_overall)-1):\n",
    "                                interpolate_x_indices = [index_2, index_2+1]\n",
    "                            else:\n",
    "                                interpolate_x_indices = [index_2-1, index_2]\n",
    "                            break\n",
    "                        elif (    x_values_overall[index_2] < x_indv\n",
    "                            and x_values_overall[index_2+1] > x_indv\n",
    "                        ):\n",
    "                            interpolate_x_indices = [index_2, index_2+1]\n",
    "                            break\n",
    "\n",
    "                    x_1 = x_values_overall[interpolate_x_indices[0]]\n",
    "                    x_2 = x_values_overall[interpolate_x_indices[1]]\n",
    "                    y_1 = y_values_overall[interpolate_x_indices[0]]\n",
    "                    y_2 = y_values_overall[interpolate_x_indices[1]]\n",
    "\n",
    "                    y_1_weight = abs(x_2 - x_indv) / abs(x_2 - x_1)\n",
    "                    y_2_weight = abs(x_indv - x_1) / abs(x_2 - x_1)\n",
    "\n",
    "                    y_overall = (y_1*y_1_weight) + (y_2*y_2_weight)\n",
    "\n",
    "                    propensity = y_indv / y_overall\n",
    "                    propensities[index_1] = propensity\n",
    "\n",
    "            x_values_indv_copy = [x for x in x_values_indv_copy if x != '']\n",
    "            propensities = [y for y in propensities if y != '']\n",
    "\n",
    "            # Updates dictionary of amino acid propensities\n",
    "            propensities_dict[aa] = np.array([x_values_indv_copy,\n",
    "                                              propensities])\n",
    "\n",
    "            plt.clf()\n",
    "            plt.figure(figsize=(10, 5))\n",
    "            axes = plt.gca()\n",
    "            plt.plot(np.array(x_values_indv_copy), np.array(propensities))\n",
    "            if save_file is True:\n",
    "                plt.savefig('{}_{}.svg'.format(aa, file_name))\n",
    "            plt.show()\n",
    "\n",
    "    return propensities_dict"
   ]
  },
  {
   "cell_type": "markdown",
   "metadata": {},
   "source": [
    "## Load dataframe"
   ]
  },
  {
   "cell_type": "code",
   "execution_count": 16,
   "metadata": {},
   "outputs": [],
   "source": [
    "sandwich_file_loc = (\n",
    "    'Beta_res_CATH_2.60.40.10_resn_1.6_rfac_0.2_ba_seqid_40.pkl'\n",
    ")"
   ]
  },
  {
   "cell_type": "code",
   "execution_count": 17,
   "metadata": {},
   "outputs": [],
   "source": [
    "sandwich_df = pd.read_pickle(sandwich_file_loc)\n",
    "sandwich_df = sandwich_df[sandwich_df['fasta_seq'].isin(list(aa_dict.keys()))]\n",
    "sandwich_df = sandwich_df.reset_index(drop=True)"
   ]
  },
  {
   "cell_type": "code",
   "execution_count": 18,
   "metadata": {},
   "outputs": [
    {
     "data": {
      "text/html": [
       "<div>\n",
       "<style scoped>\n",
       "    .dataframe tbody tr th:only-of-type {\n",
       "        vertical-align: middle;\n",
       "    }\n",
       "\n",
       "    .dataframe tbody tr th {\n",
       "        vertical-align: top;\n",
       "    }\n",
       "\n",
       "    .dataframe thead th {\n",
       "        text-align: right;\n",
       "    }\n",
       "</style>\n",
       "<table border=\"1\" class=\"dataframe\">\n",
       "  <thead>\n",
       "    <tr style=\"text-align: right;\">\n",
       "      <th></th>\n",
       "      <th>domain_ids</th>\n",
       "      <th>domain_strand_ids</th>\n",
       "      <th>sheet_number</th>\n",
       "      <th>indv_strand_number</th>\n",
       "      <th>res_ids</th>\n",
       "      <th>res_nums</th>\n",
       "      <th>edge_or_central</th>\n",
       "      <th>fasta_seq</th>\n",
       "      <th>strand_abs_pos</th>\n",
       "      <th>strand_percentage_pos</th>\n",
       "      <th>...</th>\n",
       "      <th>pi_pi_stacking_fasta_inter_sc_sc</th>\n",
       "      <th>pi_pi_stacking_fasta_inter_sc_sc_p</th>\n",
       "      <th>pi_pi_stacking_fasta_inter_sc_sc_n</th>\n",
       "      <th>pi_pi_stacking_fasta_inter_sc_sc_l</th>\n",
       "      <th>pi_pi_stacking_fasta_inter_sc_sc_t</th>\n",
       "      <th>cation_pi_fasta_inter_sc_sc</th>\n",
       "      <th>twist_hb_pairs</th>\n",
       "      <th>twist_angle_hb_pairs</th>\n",
       "      <th>twist_nhb_pairs</th>\n",
       "      <th>twist_angle_nhb_pairs</th>\n",
       "    </tr>\n",
       "  </thead>\n",
       "  <tbody>\n",
       "    <tr>\n",
       "      <th>0</th>\n",
       "      <td>3pucA00</td>\n",
       "      <td>3pucA00_strand_1</td>\n",
       "      <td>A</td>\n",
       "      <td>1</td>\n",
       "      <td>A5</td>\n",
       "      <td>5</td>\n",
       "      <td>edge</td>\n",
       "      <td>S</td>\n",
       "      <td>3.0</td>\n",
       "      <td>100.0</td>\n",
       "      <td>...</td>\n",
       "      <td>[]</td>\n",
       "      <td>[]</td>\n",
       "      <td>[]</td>\n",
       "      <td>[]</td>\n",
       "      <td>[]</td>\n",
       "      <td>[]</td>\n",
       "      <td></td>\n",
       "      <td></td>\n",
       "      <td></td>\n",
       "      <td></td>\n",
       "    </tr>\n",
       "    <tr>\n",
       "      <th>1</th>\n",
       "      <td>3pucA00</td>\n",
       "      <td>3pucA00_strand_1</td>\n",
       "      <td>A</td>\n",
       "      <td>1</td>\n",
       "      <td>A6</td>\n",
       "      <td>6</td>\n",
       "      <td>edge</td>\n",
       "      <td>K</td>\n",
       "      <td>2.0</td>\n",
       "      <td>66.7</td>\n",
       "      <td>...</td>\n",
       "      <td>[]</td>\n",
       "      <td>[]</td>\n",
       "      <td>[]</td>\n",
       "      <td>[]</td>\n",
       "      <td>[]</td>\n",
       "      <td>[]</td>\n",
       "      <td></td>\n",
       "      <td></td>\n",
       "      <td></td>\n",
       "      <td></td>\n",
       "    </tr>\n",
       "    <tr>\n",
       "      <th>2</th>\n",
       "      <td>3pucA00</td>\n",
       "      <td>3pucA00_strand_1</td>\n",
       "      <td>A</td>\n",
       "      <td>1</td>\n",
       "      <td>A7</td>\n",
       "      <td>7</td>\n",
       "      <td>edge</td>\n",
       "      <td>P</td>\n",
       "      <td>1.0</td>\n",
       "      <td>33.3</td>\n",
       "      <td>...</td>\n",
       "      <td>[]</td>\n",
       "      <td>[]</td>\n",
       "      <td>[]</td>\n",
       "      <td>[]</td>\n",
       "      <td>[]</td>\n",
       "      <td>[]</td>\n",
       "      <td></td>\n",
       "      <td></td>\n",
       "      <td></td>\n",
       "      <td></td>\n",
       "    </tr>\n",
       "    <tr>\n",
       "      <th>3</th>\n",
       "      <td>3pucA00</td>\n",
       "      <td>3pucA00_strand_1</td>\n",
       "      <td>A</td>\n",
       "      <td>1</td>\n",
       "      <td>A8</td>\n",
       "      <td>8</td>\n",
       "      <td>edge</td>\n",
       "      <td>V</td>\n",
       "      <td>0.0</td>\n",
       "      <td>0.0</td>\n",
       "      <td>...</td>\n",
       "      <td>[]</td>\n",
       "      <td>[]</td>\n",
       "      <td>[]</td>\n",
       "      <td>[]</td>\n",
       "      <td>[]</td>\n",
       "      <td>[]</td>\n",
       "      <td>right</td>\n",
       "      <td>-28.392789</td>\n",
       "      <td></td>\n",
       "      <td></td>\n",
       "    </tr>\n",
       "    <tr>\n",
       "      <th>4</th>\n",
       "      <td>3pucA00</td>\n",
       "      <td>3pucA00_strand_1</td>\n",
       "      <td>A</td>\n",
       "      <td>1</td>\n",
       "      <td>A9</td>\n",
       "      <td>9</td>\n",
       "      <td>edge</td>\n",
       "      <td>I</td>\n",
       "      <td>1.0</td>\n",
       "      <td>33.3</td>\n",
       "      <td>...</td>\n",
       "      <td>[]</td>\n",
       "      <td>[]</td>\n",
       "      <td>[]</td>\n",
       "      <td>[]</td>\n",
       "      <td>[]</td>\n",
       "      <td>[]</td>\n",
       "      <td></td>\n",
       "      <td></td>\n",
       "      <td>right</td>\n",
       "      <td>-21.639657</td>\n",
       "    </tr>\n",
       "  </tbody>\n",
       "</table>\n",
       "<p>5 rows × 195 columns</p>\n",
       "</div>"
      ],
      "text/plain": [
       "  domain_ids domain_strand_ids sheet_number  indv_strand_number res_ids  \\\n",
       "0    3pucA00  3pucA00_strand_1            A                   1      A5   \n",
       "1    3pucA00  3pucA00_strand_1            A                   1      A6   \n",
       "2    3pucA00  3pucA00_strand_1            A                   1      A7   \n",
       "3    3pucA00  3pucA00_strand_1            A                   1      A8   \n",
       "4    3pucA00  3pucA00_strand_1            A                   1      A9   \n",
       "\n",
       "   res_nums edge_or_central fasta_seq  strand_abs_pos  strand_percentage_pos  \\\n",
       "0         5            edge         S             3.0                  100.0   \n",
       "1         6            edge         K             2.0                   66.7   \n",
       "2         7            edge         P             1.0                   33.3   \n",
       "3         8            edge         V             0.0                    0.0   \n",
       "4         9            edge         I             1.0                   33.3   \n",
       "\n",
       "   ...  pi_pi_stacking_fasta_inter_sc_sc  pi_pi_stacking_fasta_inter_sc_sc_p  \\\n",
       "0  ...                                []                                  []   \n",
       "1  ...                                []                                  []   \n",
       "2  ...                                []                                  []   \n",
       "3  ...                                []                                  []   \n",
       "4  ...                                []                                  []   \n",
       "\n",
       "  pi_pi_stacking_fasta_inter_sc_sc_n pi_pi_stacking_fasta_inter_sc_sc_l  \\\n",
       "0                                 []                                 []   \n",
       "1                                 []                                 []   \n",
       "2                                 []                                 []   \n",
       "3                                 []                                 []   \n",
       "4                                 []                                 []   \n",
       "\n",
       "  pi_pi_stacking_fasta_inter_sc_sc_t cation_pi_fasta_inter_sc_sc  \\\n",
       "0                                 []                          []   \n",
       "1                                 []                          []   \n",
       "2                                 []                          []   \n",
       "3                                 []                          []   \n",
       "4                                 []                          []   \n",
       "\n",
       "  twist_hb_pairs twist_angle_hb_pairs twist_nhb_pairs twist_angle_nhb_pairs  \n",
       "0                                                                            \n",
       "1                                                                            \n",
       "2                                                                            \n",
       "3          right           -28.392789                                        \n",
       "4                                               right            -21.639657  \n",
       "\n",
       "[5 rows x 195 columns]"
      ]
     },
     "execution_count": 18,
     "metadata": {},
     "output_type": "execute_result"
    }
   ],
   "source": [
    "sandwich_df.head()"
   ]
  },
  {
   "cell_type": "code",
   "execution_count": 19,
   "metadata": {},
   "outputs": [
    {
     "data": {
      "text/plain": [
       "(4790, 195)"
      ]
     },
     "execution_count": 19,
     "metadata": {},
     "output_type": "execute_result"
    }
   ],
   "source": [
    "sandwich_df.shape"
   ]
  },
  {
   "cell_type": "code",
   "execution_count": 20,
   "metadata": {},
   "outputs": [],
   "source": [
    "if not os.path.isdir('Sandwich_plots'):\n",
    "    os.mkdir('Sandwich_plots')\n",
    "os.chdir('Sandwich_plots/')"
   ]
  },
  {
   "cell_type": "markdown",
   "metadata": {},
   "source": [
    "## Amino acid distribution in beta-sandwiches"
   ]
  },
  {
   "cell_type": "code",
   "execution_count": 21,
   "metadata": {},
   "outputs": [
    {
     "data": {
      "text/plain": [
       "<Figure size 432x288 with 0 Axes>"
      ]
     },
     "metadata": {},
     "output_type": "display_data"
    },
    {
     "data": {
      "image/png": "[encoded data removed]",
      "text/plain": [
       "<Figure size 1440x720 with 1 Axes>"
      ]
     },
     "metadata": {
      "needs_background": "light"
     },
     "output_type": "display_data"
    }
   ],
   "source": [
    "sandwich_freq_bootstrap = OrderedDict()\n",
    "for aa in list(aa_dict.keys()):\n",
    "    sandwich_freq_bootstrap[aa] = []\n",
    "\n",
    "for n in range(1000):\n",
    "    rows = []\n",
    "    for m in range(sandwich_df.shape[0]-1):\n",
    "        rows.append(random.randint(0, (sandwich_df.shape[0]-1)))\n",
    "    copy_sandwich_df = copy.deepcopy(sandwich_df).iloc[rows].reset_index(drop=True)\n",
    "\n",
    "    for aa in list(aa_dict.keys()):\n",
    "        sandwich_freq_bootstrap[aa].append(\n",
    "            copy_sandwich_df['fasta_seq'].tolist().count(aa) / copy_sandwich_df.shape[0]\n",
    "        )\n",
    "\n",
    "sandwich_freq_plot_data = OrderedDict({'FASTA': [],\n",
    "                                       'Frequency': [],\n",
    "                                       'Normalised frequency': [],\n",
    "                                       'Lower percentile': [],\n",
    "                                       'Upper percentile': []})\n",
    "for aa in aa_dict.keys():\n",
    "    sandwich_freq_plot_data['FASTA'].append(aa)\n",
    "    sandwich_freq_plot_data['Frequency'].append(sandwich_df['fasta_seq'].tolist().count(aa))\n",
    "    sandwich_freq_plot_data['Normalised frequency'].append(\n",
    "        sandwich_df['fasta_seq'].tolist().count(aa) / sandwich_df.shape[0]\n",
    "    )\n",
    "    sandwich_freq_plot_data['Lower percentile'].append(np.percentile(sandwich_freq_bootstrap[aa], 2.5))\n",
    "    sandwich_freq_plot_data['Upper percentile'].append(np.percentile(sandwich_freq_bootstrap[aa], 97.5))\n",
    "    \n",
    "plt.clf()\n",
    "plt.figure(figsize=(20, 10))\n",
    "sns.barplot(x='FASTA', y='Normalised frequency', data=sandwich_freq_plot_data)\n",
    "sns.stripplot(\n",
    "    x='FASTA', y='Lower percentile', data=sandwich_freq_plot_data, size=8, edgecolor='k', linewidth=2, jitter=False\n",
    ")\n",
    "sns.stripplot(\n",
    "    x='FASTA', y='Upper percentile', data=sandwich_freq_plot_data, size=8, edgecolor='k', linewidth=2, jitter=False\n",
    ")\n",
    "plt.savefig('Amino_acid_distribution.svg')\n",
    "plt.show()"
   ]
  },
  {
   "cell_type": "code",
   "execution_count": 22,
   "metadata": {},
   "outputs": [
    {
     "data": {
      "text/html": [
       "<div>\n",
       "<style scoped>\n",
       "    .dataframe tbody tr th:only-of-type {\n",
       "        vertical-align: middle;\n",
       "    }\n",
       "\n",
       "    .dataframe tbody tr th {\n",
       "        vertical-align: top;\n",
       "    }\n",
       "\n",
       "    .dataframe thead th {\n",
       "        text-align: right;\n",
       "    }\n",
       "</style>\n",
       "<table border=\"1\" class=\"dataframe\">\n",
       "  <thead>\n",
       "    <tr style=\"text-align: right;\">\n",
       "      <th></th>\n",
       "      <th>FASTA</th>\n",
       "      <th>Frequency</th>\n",
       "      <th>Normalised frequency</th>\n",
       "      <th>Lower percentile</th>\n",
       "      <th>Upper percentile</th>\n",
       "    </tr>\n",
       "  </thead>\n",
       "  <tbody>\n",
       "    <tr>\n",
       "      <th>0</th>\n",
       "      <td>A</td>\n",
       "      <td>251</td>\n",
       "      <td>0.052401</td>\n",
       "      <td>0.045939</td>\n",
       "      <td>0.059303</td>\n",
       "    </tr>\n",
       "    <tr>\n",
       "      <th>1</th>\n",
       "      <td>R</td>\n",
       "      <td>202</td>\n",
       "      <td>0.042171</td>\n",
       "      <td>0.036124</td>\n",
       "      <td>0.047823</td>\n",
       "    </tr>\n",
       "    <tr>\n",
       "      <th>2</th>\n",
       "      <td>N</td>\n",
       "      <td>139</td>\n",
       "      <td>0.029019</td>\n",
       "      <td>0.024222</td>\n",
       "      <td>0.034036</td>\n",
       "    </tr>\n",
       "    <tr>\n",
       "      <th>3</th>\n",
       "      <td>D</td>\n",
       "      <td>120</td>\n",
       "      <td>0.025052</td>\n",
       "      <td>0.020458</td>\n",
       "      <td>0.029651</td>\n",
       "    </tr>\n",
       "    <tr>\n",
       "      <th>4</th>\n",
       "      <td>C</td>\n",
       "      <td>127</td>\n",
       "      <td>0.026514</td>\n",
       "      <td>0.022134</td>\n",
       "      <td>0.031113</td>\n",
       "    </tr>\n",
       "    <tr>\n",
       "      <th>5</th>\n",
       "      <td>Q</td>\n",
       "      <td>197</td>\n",
       "      <td>0.041127</td>\n",
       "      <td>0.035707</td>\n",
       "      <td>0.046779</td>\n",
       "    </tr>\n",
       "    <tr>\n",
       "      <th>6</th>\n",
       "      <td>E</td>\n",
       "      <td>243</td>\n",
       "      <td>0.050731</td>\n",
       "      <td>0.044477</td>\n",
       "      <td>0.057423</td>\n",
       "    </tr>\n",
       "    <tr>\n",
       "      <th>7</th>\n",
       "      <td>G</td>\n",
       "      <td>209</td>\n",
       "      <td>0.043633</td>\n",
       "      <td>0.038004</td>\n",
       "      <td>0.049285</td>\n",
       "    </tr>\n",
       "    <tr>\n",
       "      <th>8</th>\n",
       "      <td>H</td>\n",
       "      <td>84</td>\n",
       "      <td>0.017537</td>\n",
       "      <td>0.013990</td>\n",
       "      <td>0.021508</td>\n",
       "    </tr>\n",
       "    <tr>\n",
       "      <th>9</th>\n",
       "      <td>I</td>\n",
       "      <td>328</td>\n",
       "      <td>0.068476</td>\n",
       "      <td>0.061391</td>\n",
       "      <td>0.076013</td>\n",
       "    </tr>\n",
       "    <tr>\n",
       "      <th>10</th>\n",
       "      <td>L</td>\n",
       "      <td>421</td>\n",
       "      <td>0.087891</td>\n",
       "      <td>0.079349</td>\n",
       "      <td>0.095845</td>\n",
       "    </tr>\n",
       "    <tr>\n",
       "      <th>11</th>\n",
       "      <td>K</td>\n",
       "      <td>283</td>\n",
       "      <td>0.059081</td>\n",
       "      <td>0.052407</td>\n",
       "      <td>0.065776</td>\n",
       "    </tr>\n",
       "    <tr>\n",
       "      <th>12</th>\n",
       "      <td>M</td>\n",
       "      <td>72</td>\n",
       "      <td>0.015031</td>\n",
       "      <td>0.011693</td>\n",
       "      <td>0.018381</td>\n",
       "    </tr>\n",
       "    <tr>\n",
       "      <th>13</th>\n",
       "      <td>F</td>\n",
       "      <td>244</td>\n",
       "      <td>0.050939</td>\n",
       "      <td>0.045103</td>\n",
       "      <td>0.057632</td>\n",
       "    </tr>\n",
       "    <tr>\n",
       "      <th>14</th>\n",
       "      <td>P</td>\n",
       "      <td>63</td>\n",
       "      <td>0.013152</td>\n",
       "      <td>0.010023</td>\n",
       "      <td>0.016496</td>\n",
       "    </tr>\n",
       "    <tr>\n",
       "      <th>15</th>\n",
       "      <td>S</td>\n",
       "      <td>330</td>\n",
       "      <td>0.068894</td>\n",
       "      <td>0.062012</td>\n",
       "      <td>0.076008</td>\n",
       "    </tr>\n",
       "    <tr>\n",
       "      <th>16</th>\n",
       "      <td>T</td>\n",
       "      <td>473</td>\n",
       "      <td>0.098747</td>\n",
       "      <td>0.090828</td>\n",
       "      <td>0.107329</td>\n",
       "    </tr>\n",
       "    <tr>\n",
       "      <th>17</th>\n",
       "      <td>W</td>\n",
       "      <td>124</td>\n",
       "      <td>0.025887</td>\n",
       "      <td>0.021299</td>\n",
       "      <td>0.030283</td>\n",
       "    </tr>\n",
       "    <tr>\n",
       "      <th>18</th>\n",
       "      <td>Y</td>\n",
       "      <td>269</td>\n",
       "      <td>0.056159</td>\n",
       "      <td>0.049274</td>\n",
       "      <td>0.063061</td>\n",
       "    </tr>\n",
       "    <tr>\n",
       "      <th>19</th>\n",
       "      <td>V</td>\n",
       "      <td>611</td>\n",
       "      <td>0.127557</td>\n",
       "      <td>0.118182</td>\n",
       "      <td>0.137398</td>\n",
       "    </tr>\n",
       "  </tbody>\n",
       "</table>\n",
       "</div>"
      ],
      "text/plain": [
       "   FASTA  Frequency  Normalised frequency  Lower percentile  Upper percentile\n",
       "0      A        251              0.052401          0.045939          0.059303\n",
       "1      R        202              0.042171          0.036124          0.047823\n",
       "2      N        139              0.029019          0.024222          0.034036\n",
       "3      D        120              0.025052          0.020458          0.029651\n",
       "4      C        127              0.026514          0.022134          0.031113\n",
       "5      Q        197              0.041127          0.035707          0.046779\n",
       "6      E        243              0.050731          0.044477          0.057423\n",
       "7      G        209              0.043633          0.038004          0.049285\n",
       "8      H         84              0.017537          0.013990          0.021508\n",
       "9      I        328              0.068476          0.061391          0.076013\n",
       "10     L        421              0.087891          0.079349          0.095845\n",
       "11     K        283              0.059081          0.052407          0.065776\n",
       "12     M         72              0.015031          0.011693          0.018381\n",
       "13     F        244              0.050939          0.045103          0.057632\n",
       "14     P         63              0.013152          0.010023          0.016496\n",
       "15     S        330              0.068894          0.062012          0.076008\n",
       "16     T        473              0.098747          0.090828          0.107329\n",
       "17     W        124              0.025887          0.021299          0.030283\n",
       "18     Y        269              0.056159          0.049274          0.063061\n",
       "19     V        611              0.127557          0.118182          0.137398"
      ]
     },
     "execution_count": 22,
     "metadata": {},
     "output_type": "execute_result"
    }
   ],
   "source": [
    "pd.DataFrame(sandwich_freq_plot_data)"
   ]
  },
  {
   "cell_type": "code",
   "execution_count": 23,
   "metadata": {},
   "outputs": [
    {
     "name": "stdout",
     "output_type": "stream",
     "text": [
      "A: 251\n",
      "R: 202\n",
      "N: 139\n",
      "D: 120\n",
      "C: 127\n",
      "Q: 197\n",
      "E: 243\n",
      "G: 209\n",
      "H: 84\n",
      "I: 328\n",
      "L: 421\n",
      "K: 283\n",
      "M: 72\n",
      "F: 244\n",
      "P: 63\n",
      "S: 330\n",
      "T: 473\n",
      "W: 124\n",
      "Y: 269\n",
      "V: 611\n",
      "Total: 4790\n"
     ]
    }
   ],
   "source": [
    "for aa in list(aa_dict.keys()):\n",
    "    print(aa + ': ' + str(sandwich_df['fasta_seq'].tolist().count(aa)))\n",
    "print('Total: {}'.format(sandwich_df.shape[0]))"
   ]
  },
  {
   "cell_type": "markdown",
   "metadata": {},
   "source": [
    "## Discrete propensity calculations"
   ]
  },
  {
   "cell_type": "code",
   "execution_count": 24,
   "metadata": {},
   "outputs": [],
   "source": [
    "if not os.path.isdir('Discrete_propensities_indv_aas'):\n",
    "    os.mkdir('Discrete_propensities_indv_aas')\n",
    "os.chdir('Discrete_propensities_indv_aas')"
   ]
  },
  {
   "cell_type": "markdown",
   "metadata": {},
   "source": [
    "### Edge/central propensity"
   ]
  },
  {
   "cell_type": "code",
   "execution_count": 25,
   "metadata": {},
   "outputs": [],
   "source": [
    "edge_cen_propensity, edge_cen_frequency, edge_cen_normed_frequencies = calc_indv_property_propensities(\n",
    "    sandwich_df, 'edge_or_central', aa_dict\n",
    ")"
   ]
  },
  {
   "cell_type": "code",
   "execution_count": 26,
   "metadata": {},
   "outputs": [
    {
     "data": {
      "text/html": [
       "<div>\n",
       "<style scoped>\n",
       "    .dataframe tbody tr th:only-of-type {\n",
       "        vertical-align: middle;\n",
       "    }\n",
       "\n",
       "    .dataframe tbody tr th {\n",
       "        vertical-align: top;\n",
       "    }\n",
       "\n",
       "    .dataframe thead th {\n",
       "        text-align: right;\n",
       "    }\n",
       "</style>\n",
       "<table border=\"1\" class=\"dataframe\">\n",
       "  <thead>\n",
       "    <tr style=\"text-align: right;\">\n",
       "      <th></th>\n",
       "      <th>FASTA</th>\n",
       "      <th>central</th>\n",
       "      <th>edge</th>\n",
       "    </tr>\n",
       "  </thead>\n",
       "  <tbody>\n",
       "    <tr>\n",
       "      <th>0</th>\n",
       "      <td>A</td>\n",
       "      <td>0.993130</td>\n",
       "      <td>1.010918</td>\n",
       "    </tr>\n",
       "    <tr>\n",
       "      <th>1</th>\n",
       "      <td>R</td>\n",
       "      <td>1.096922</td>\n",
       "      <td>0.845973</td>\n",
       "    </tr>\n",
       "    <tr>\n",
       "      <th>2</th>\n",
       "      <td>N</td>\n",
       "      <td>1.113517</td>\n",
       "      <td>0.819599</td>\n",
       "    </tr>\n",
       "    <tr>\n",
       "      <th>3</th>\n",
       "      <td>D</td>\n",
       "      <td>0.773895</td>\n",
       "      <td>1.359324</td>\n",
       "    </tr>\n",
       "    <tr>\n",
       "      <th>4</th>\n",
       "      <td>C</td>\n",
       "      <td>1.359848</td>\n",
       "      <td>0.428134</td>\n",
       "    </tr>\n",
       "    <tr>\n",
       "      <th>5</th>\n",
       "      <td>Q</td>\n",
       "      <td>0.868383</td>\n",
       "      <td>1.209164</td>\n",
       "    </tr>\n",
       "    <tr>\n",
       "      <th>6</th>\n",
       "      <td>E</td>\n",
       "      <td>0.838092</td>\n",
       "      <td>1.257302</td>\n",
       "    </tr>\n",
       "    <tr>\n",
       "      <th>7</th>\n",
       "      <td>G</td>\n",
       "      <td>1.161524</td>\n",
       "      <td>0.743308</td>\n",
       "    </tr>\n",
       "    <tr>\n",
       "      <th>8</th>\n",
       "      <td>H</td>\n",
       "      <td>0.911605</td>\n",
       "      <td>1.140476</td>\n",
       "    </tr>\n",
       "    <tr>\n",
       "      <th>9</th>\n",
       "      <td>I</td>\n",
       "      <td>1.033184</td>\n",
       "      <td>0.947264</td>\n",
       "    </tr>\n",
       "    <tr>\n",
       "      <th>10</th>\n",
       "      <td>L</td>\n",
       "      <td>1.068108</td>\n",
       "      <td>0.891763</td>\n",
       "    </tr>\n",
       "    <tr>\n",
       "      <th>11</th>\n",
       "      <td>K</td>\n",
       "      <td>0.938403</td>\n",
       "      <td>1.097889</td>\n",
       "    </tr>\n",
       "    <tr>\n",
       "      <th>12</th>\n",
       "      <td>M</td>\n",
       "      <td>0.950397</td>\n",
       "      <td>1.078829</td>\n",
       "    </tr>\n",
       "    <tr>\n",
       "      <th>13</th>\n",
       "      <td>F</td>\n",
       "      <td>0.974880</td>\n",
       "      <td>1.039920</td>\n",
       "    </tr>\n",
       "    <tr>\n",
       "      <th>14</th>\n",
       "      <td>P</td>\n",
       "      <td>0.491362</td>\n",
       "      <td>1.808323</td>\n",
       "    </tr>\n",
       "    <tr>\n",
       "      <th>15</th>\n",
       "      <td>S</td>\n",
       "      <td>0.967677</td>\n",
       "      <td>1.051368</td>\n",
       "    </tr>\n",
       "    <tr>\n",
       "      <th>16</th>\n",
       "      <td>T</td>\n",
       "      <td>0.930017</td>\n",
       "      <td>1.111217</td>\n",
       "    </tr>\n",
       "    <tr>\n",
       "      <th>17</th>\n",
       "      <td>W</td>\n",
       "      <td>1.129965</td>\n",
       "      <td>0.793461</td>\n",
       "    </tr>\n",
       "    <tr>\n",
       "      <th>18</th>\n",
       "      <td>Y</td>\n",
       "      <td>1.229510</td>\n",
       "      <td>0.635266</td>\n",
       "    </tr>\n",
       "    <tr>\n",
       "      <th>19</th>\n",
       "      <td>V</td>\n",
       "      <td>0.954619</td>\n",
       "      <td>1.072119</td>\n",
       "    </tr>\n",
       "  </tbody>\n",
       "</table>\n",
       "</div>"
      ],
      "text/plain": [
       "   FASTA   central      edge\n",
       "0      A  0.993130  1.010918\n",
       "1      R  1.096922  0.845973\n",
       "2      N  1.113517  0.819599\n",
       "3      D  0.773895  1.359324\n",
       "4      C  1.359848  0.428134\n",
       "5      Q  0.868383  1.209164\n",
       "6      E  0.838092  1.257302\n",
       "7      G  1.161524  0.743308\n",
       "8      H  0.911605  1.140476\n",
       "9      I  1.033184  0.947264\n",
       "10     L  1.068108  0.891763\n",
       "11     K  0.938403  1.097889\n",
       "12     M  0.950397  1.078829\n",
       "13     F  0.974880  1.039920\n",
       "14     P  0.491362  1.808323\n",
       "15     S  0.967677  1.051368\n",
       "16     T  0.930017  1.111217\n",
       "17     W  1.129965  0.793461\n",
       "18     Y  1.229510  0.635266\n",
       "19     V  0.954619  1.072119"
      ]
     },
     "execution_count": 26,
     "metadata": {},
     "output_type": "execute_result"
    }
   ],
   "source": [
    "edge_cen_propensity"
   ]
  },
  {
   "cell_type": "code",
   "execution_count": 27,
   "metadata": {},
   "outputs": [
    {
     "data": {
      "text/html": [
       "<div>\n",
       "<style scoped>\n",
       "    .dataframe tbody tr th:only-of-type {\n",
       "        vertical-align: middle;\n",
       "    }\n",
       "\n",
       "    .dataframe tbody tr th {\n",
       "        vertical-align: top;\n",
       "    }\n",
       "\n",
       "    .dataframe thead th {\n",
       "        text-align: right;\n",
       "    }\n",
       "</style>\n",
       "<table border=\"1\" class=\"dataframe\">\n",
       "  <thead>\n",
       "    <tr style=\"text-align: right;\">\n",
       "      <th></th>\n",
       "      <th>FASTA</th>\n",
       "      <th>central</th>\n",
       "      <th>edge</th>\n",
       "    </tr>\n",
       "  </thead>\n",
       "  <tbody>\n",
       "    <tr>\n",
       "      <th>0</th>\n",
       "      <td>A</td>\n",
       "      <td>153</td>\n",
       "      <td>98</td>\n",
       "    </tr>\n",
       "    <tr>\n",
       "      <th>1</th>\n",
       "      <td>R</td>\n",
       "      <td>136</td>\n",
       "      <td>66</td>\n",
       "    </tr>\n",
       "    <tr>\n",
       "      <th>2</th>\n",
       "      <td>N</td>\n",
       "      <td>95</td>\n",
       "      <td>44</td>\n",
       "    </tr>\n",
       "    <tr>\n",
       "      <th>3</th>\n",
       "      <td>D</td>\n",
       "      <td>57</td>\n",
       "      <td>63</td>\n",
       "    </tr>\n",
       "    <tr>\n",
       "      <th>4</th>\n",
       "      <td>C</td>\n",
       "      <td>106</td>\n",
       "      <td>21</td>\n",
       "    </tr>\n",
       "    <tr>\n",
       "      <th>5</th>\n",
       "      <td>Q</td>\n",
       "      <td>105</td>\n",
       "      <td>92</td>\n",
       "    </tr>\n",
       "    <tr>\n",
       "      <th>6</th>\n",
       "      <td>E</td>\n",
       "      <td>125</td>\n",
       "      <td>118</td>\n",
       "    </tr>\n",
       "    <tr>\n",
       "      <th>7</th>\n",
       "      <td>G</td>\n",
       "      <td>149</td>\n",
       "      <td>60</td>\n",
       "    </tr>\n",
       "    <tr>\n",
       "      <th>8</th>\n",
       "      <td>H</td>\n",
       "      <td>47</td>\n",
       "      <td>37</td>\n",
       "    </tr>\n",
       "    <tr>\n",
       "      <th>9</th>\n",
       "      <td>I</td>\n",
       "      <td>208</td>\n",
       "      <td>120</td>\n",
       "    </tr>\n",
       "    <tr>\n",
       "      <th>10</th>\n",
       "      <td>L</td>\n",
       "      <td>276</td>\n",
       "      <td>145</td>\n",
       "    </tr>\n",
       "    <tr>\n",
       "      <th>11</th>\n",
       "      <td>K</td>\n",
       "      <td>163</td>\n",
       "      <td>120</td>\n",
       "    </tr>\n",
       "    <tr>\n",
       "      <th>12</th>\n",
       "      <td>M</td>\n",
       "      <td>42</td>\n",
       "      <td>30</td>\n",
       "    </tr>\n",
       "    <tr>\n",
       "      <th>13</th>\n",
       "      <td>F</td>\n",
       "      <td>146</td>\n",
       "      <td>98</td>\n",
       "    </tr>\n",
       "    <tr>\n",
       "      <th>14</th>\n",
       "      <td>P</td>\n",
       "      <td>19</td>\n",
       "      <td>44</td>\n",
       "    </tr>\n",
       "    <tr>\n",
       "      <th>15</th>\n",
       "      <td>S</td>\n",
       "      <td>196</td>\n",
       "      <td>134</td>\n",
       "    </tr>\n",
       "    <tr>\n",
       "      <th>16</th>\n",
       "      <td>T</td>\n",
       "      <td>270</td>\n",
       "      <td>203</td>\n",
       "    </tr>\n",
       "    <tr>\n",
       "      <th>17</th>\n",
       "      <td>W</td>\n",
       "      <td>86</td>\n",
       "      <td>38</td>\n",
       "    </tr>\n",
       "    <tr>\n",
       "      <th>18</th>\n",
       "      <td>Y</td>\n",
       "      <td>203</td>\n",
       "      <td>66</td>\n",
       "    </tr>\n",
       "    <tr>\n",
       "      <th>19</th>\n",
       "      <td>V</td>\n",
       "      <td>358</td>\n",
       "      <td>253</td>\n",
       "    </tr>\n",
       "  </tbody>\n",
       "</table>\n",
       "</div>"
      ],
      "text/plain": [
       "   FASTA  central  edge\n",
       "0      A      153    98\n",
       "1      R      136    66\n",
       "2      N       95    44\n",
       "3      D       57    63\n",
       "4      C      106    21\n",
       "5      Q      105    92\n",
       "6      E      125   118\n",
       "7      G      149    60\n",
       "8      H       47    37\n",
       "9      I      208   120\n",
       "10     L      276   145\n",
       "11     K      163   120\n",
       "12     M       42    30\n",
       "13     F      146    98\n",
       "14     P       19    44\n",
       "15     S      196   134\n",
       "16     T      270   203\n",
       "17     W       86    38\n",
       "18     Y      203    66\n",
       "19     V      358   253"
      ]
     },
     "execution_count": 27,
     "metadata": {},
     "output_type": "execute_result"
    }
   ],
   "source": [
    "edge_cen_frequency"
   ]
  },
  {
   "cell_type": "code",
   "execution_count": 28,
   "metadata": {},
   "outputs": [
    {
     "data": {
      "text/plain": [
       "<Figure size 432x288 with 0 Axes>"
      ]
     },
     "metadata": {},
     "output_type": "display_data"
    },
    {
     "data": {
      "image/png": "[encoded data removed]",
      "text/plain": [
       "<Figure size 1080x360 with 1 Axes>"
      ]
     },
     "metadata": {
      "needs_background": "light"
     },
     "output_type": "display_data"
    }
   ],
   "source": [
    "plot_bar_graphs(edge_cen_propensity, 'Propensity', True, 'Edge_cen_discrete_propensity')"
   ]
  },
  {
   "cell_type": "code",
   "execution_count": 29,
   "metadata": {},
   "outputs": [
    {
     "data": {
      "text/plain": [
       "<Figure size 432x288 with 0 Axes>"
      ]
     },
     "metadata": {},
     "output_type": "display_data"
    },
    {
     "data": {
      "image/png": "[encoded data removed]",
      "text/plain": [
       "<Figure size 1080x360 with 1 Axes>"
      ]
     },
     "metadata": {
      "needs_background": "light"
     },
     "output_type": "display_data"
    }
   ],
   "source": [
    "plot_bar_graphs(edge_cen_frequency, 'Frequency', True, 'Edge_cen_discrete_frequency')"
   ]
  },
  {
   "cell_type": "code",
   "execution_count": 30,
   "metadata": {
    "scrolled": true
   },
   "outputs": [
    {
     "name": "stdout",
     "output_type": "stream",
     "text": [
      "1000\n"
     ]
    }
   ],
   "source": [
    "(\n",
    "    edge_cen_bootstrap_propensity_dict, edge_cen_bootstrap_frequency_dict\n",
    ") = iterate_bootstrap_propensities(\n",
    "    sandwich_df, sandwich_df, 'edge_or_central', aa_dict, [1000],\n",
    "    calc_indv_property_propensities, edge_cen_propensity, edge_cen_frequency\n",
    ")"
   ]
  },
  {
   "cell_type": "code",
   "execution_count": 31,
   "metadata": {},
   "outputs": [],
   "source": [
    "(\n",
    "    edge_cen_conf_intv_propensity_dict, edge_cen_conf_intv_frequency_dict,\n",
    "    edge_cen_conf_intv_normed_frequencies_dict\n",
    ") = bootstrap_discrete_propensities(\n",
    "    sandwich_df, sandwich_df, 'edge_or_central', aa_dict, 1000, calc_indv_property_propensities\n",
    ")"
   ]
  },
  {
   "cell_type": "code",
   "execution_count": 32,
   "metadata": {
    "scrolled": false
   },
   "outputs": [
    {
     "data": {
      "text/plain": [
       "<Figure size 432x288 with 0 Axes>"
      ]
     },
     "metadata": {},
     "output_type": "display_data"
    },
    {
     "data": {
      "image/png": "[encoded data removed]",
      "text/plain": [
       "<Figure size 1080x576 with 1 Axes>"
      ]
     },
     "metadata": {
      "needs_background": "light"
     },
     "output_type": "display_data"
    }
   ],
   "source": [
    "lower_percentile_edge_cen_propensity_dict, upper_percentile_edge_cen_propensity_dict = gen_95_conf_intervals(\n",
    "    edge_cen_conf_intv_propensity_dict, 'Propensity'\n",
    ")\n",
    "plot_bar_graphs_with_conf_limits(\n",
    "    edge_cen_propensity, lower_percentile_edge_cen_propensity_dict, upper_percentile_edge_cen_propensity_dict,\n",
    "    'Propensity', True, 'Edge_cen_discrete_propensity_95_conf'\n",
    ")"
   ]
  },
  {
   "cell_type": "code",
   "execution_count": 33,
   "metadata": {
    "scrolled": false
   },
   "outputs": [
    {
     "data": {
      "text/plain": [
       "<Figure size 432x288 with 0 Axes>"
      ]
     },
     "metadata": {},
     "output_type": "display_data"
    },
    {
     "data": {
      "image/png": "[encoded data removed]",
      "text/plain": [
       "<Figure size 1080x576 with 1 Axes>"
      ]
     },
     "metadata": {
      "needs_background": "light"
     },
     "output_type": "display_data"
    }
   ],
   "source": [
    "lower_percentile_edge_cen_frequency_dict, upper_percentile_edge_cen_frequency_dict = gen_95_conf_intervals(\n",
    "    edge_cen_conf_intv_frequency_dict, 'Frequency'\n",
    ")\n",
    "plot_bar_graphs_with_conf_limits(\n",
    "    edge_cen_frequency, lower_percentile_edge_cen_frequency_dict,\n",
    "    upper_percentile_edge_cen_frequency_dict, 'Frequency', True, 'Edge_cen_discrete_frequency_95_conf'\n",
    ")"
   ]
  },
  {
   "cell_type": "markdown",
   "metadata": {},
   "source": [
    "### Core/surface propensity"
   ]
  },
  {
   "cell_type": "code",
   "execution_count": 34,
   "metadata": {},
   "outputs": [],
   "source": [
    "core_surf_propensity, core_surf_frequency, core_surf_normed_frequencies = calc_indv_property_propensities(\n",
    "    sandwich_df, 'core_surf', aa_dict\n",
    ")"
   ]
  },
  {
   "cell_type": "code",
   "execution_count": 35,
   "metadata": {},
   "outputs": [
    {
     "data": {
      "text/html": [
       "<div>\n",
       "<style scoped>\n",
       "    .dataframe tbody tr th:only-of-type {\n",
       "        vertical-align: middle;\n",
       "    }\n",
       "\n",
       "    .dataframe tbody tr th {\n",
       "        vertical-align: top;\n",
       "    }\n",
       "\n",
       "    .dataframe thead th {\n",
       "        text-align: right;\n",
       "    }\n",
       "</style>\n",
       "<table border=\"1\" class=\"dataframe\">\n",
       "  <thead>\n",
       "    <tr style=\"text-align: right;\">\n",
       "      <th></th>\n",
       "      <th>FASTA</th>\n",
       "      <th>surface</th>\n",
       "      <th>core</th>\n",
       "    </tr>\n",
       "  </thead>\n",
       "  <tbody>\n",
       "    <tr>\n",
       "      <th>0</th>\n",
       "      <td>A</td>\n",
       "      <td>0.781638</td>\n",
       "      <td>1.391980</td>\n",
       "    </tr>\n",
       "    <tr>\n",
       "      <th>1</th>\n",
       "      <td>R</td>\n",
       "      <td>1.464574</td>\n",
       "      <td>0.166045</td>\n",
       "    </tr>\n",
       "    <tr>\n",
       "      <th>2</th>\n",
       "      <td>N</td>\n",
       "      <td>1.389044</td>\n",
       "      <td>0.301629</td>\n",
       "    </tr>\n",
       "    <tr>\n",
       "      <th>3</th>\n",
       "      <td>D</td>\n",
       "      <td>1.375415</td>\n",
       "      <td>0.326095</td>\n",
       "    </tr>\n",
       "    <tr>\n",
       "      <th>4</th>\n",
       "      <td>C</td>\n",
       "      <td>0.457236</td>\n",
       "      <td>1.974314</td>\n",
       "    </tr>\n",
       "    <tr>\n",
       "      <th>5</th>\n",
       "      <td>Q</td>\n",
       "      <td>1.343667</td>\n",
       "      <td>0.383084</td>\n",
       "    </tr>\n",
       "    <tr>\n",
       "      <th>6</th>\n",
       "      <td>E</td>\n",
       "      <td>1.416104</td>\n",
       "      <td>0.253054</td>\n",
       "    </tr>\n",
       "    <tr>\n",
       "      <th>7</th>\n",
       "      <td>G</td>\n",
       "      <td>1.220206</td>\n",
       "      <td>0.604708</td>\n",
       "    </tr>\n",
       "    <tr>\n",
       "      <th>8</th>\n",
       "      <td>H</td>\n",
       "      <td>1.334634</td>\n",
       "      <td>0.399299</td>\n",
       "    </tr>\n",
       "    <tr>\n",
       "      <th>9</th>\n",
       "      <td>I</td>\n",
       "      <td>0.602891</td>\n",
       "      <td>1.712849</td>\n",
       "    </tr>\n",
       "    <tr>\n",
       "      <th>10</th>\n",
       "      <td>L</td>\n",
       "      <td>0.591762</td>\n",
       "      <td>1.732827</td>\n",
       "    </tr>\n",
       "    <tr>\n",
       "      <th>11</th>\n",
       "      <td>K</td>\n",
       "      <td>1.353498</td>\n",
       "      <td>0.365437</td>\n",
       "    </tr>\n",
       "    <tr>\n",
       "      <th>12</th>\n",
       "      <td>M</td>\n",
       "      <td>0.886667</td>\n",
       "      <td>1.203444</td>\n",
       "    </tr>\n",
       "    <tr>\n",
       "      <th>13</th>\n",
       "      <td>F</td>\n",
       "      <td>0.593475</td>\n",
       "      <td>1.729752</td>\n",
       "    </tr>\n",
       "    <tr>\n",
       "      <th>14</th>\n",
       "      <td>P</td>\n",
       "      <td>1.309919</td>\n",
       "      <td>0.443666</td>\n",
       "    </tr>\n",
       "    <tr>\n",
       "      <th>15</th>\n",
       "      <td>S</td>\n",
       "      <td>1.387211</td>\n",
       "      <td>0.304920</td>\n",
       "    </tr>\n",
       "    <tr>\n",
       "      <th>16</th>\n",
       "      <td>T</td>\n",
       "      <td>1.297012</td>\n",
       "      <td>0.466834</td>\n",
       "    </tr>\n",
       "    <tr>\n",
       "      <th>17</th>\n",
       "      <td>W</td>\n",
       "      <td>0.615295</td>\n",
       "      <td>1.690582</td>\n",
       "    </tr>\n",
       "    <tr>\n",
       "      <th>18</th>\n",
       "      <td>Y</td>\n",
       "      <td>0.908775</td>\n",
       "      <td>1.163758</td>\n",
       "    </tr>\n",
       "    <tr>\n",
       "      <th>19</th>\n",
       "      <td>V</td>\n",
       "      <td>0.642197</td>\n",
       "      <td>1.642291</td>\n",
       "    </tr>\n",
       "  </tbody>\n",
       "</table>\n",
       "</div>"
      ],
      "text/plain": [
       "   FASTA   surface      core\n",
       "0      A  0.781638  1.391980\n",
       "1      R  1.464574  0.166045\n",
       "2      N  1.389044  0.301629\n",
       "3      D  1.375415  0.326095\n",
       "4      C  0.457236  1.974314\n",
       "5      Q  1.343667  0.383084\n",
       "6      E  1.416104  0.253054\n",
       "7      G  1.220206  0.604708\n",
       "8      H  1.334634  0.399299\n",
       "9      I  0.602891  1.712849\n",
       "10     L  0.591762  1.732827\n",
       "11     K  1.353498  0.365437\n",
       "12     M  0.886667  1.203444\n",
       "13     F  0.593475  1.729752\n",
       "14     P  1.309919  0.443666\n",
       "15     S  1.387211  0.304920\n",
       "16     T  1.297012  0.466834\n",
       "17     W  0.615295  1.690582\n",
       "18     Y  0.908775  1.163758\n",
       "19     V  0.642197  1.642291"
      ]
     },
     "execution_count": 35,
     "metadata": {},
     "output_type": "execute_result"
    }
   ],
   "source": [
    "core_surf_propensity"
   ]
  },
  {
   "cell_type": "code",
   "execution_count": 36,
   "metadata": {},
   "outputs": [
    {
     "data": {
      "text/html": [
       "<div>\n",
       "<style scoped>\n",
       "    .dataframe tbody tr th:only-of-type {\n",
       "        vertical-align: middle;\n",
       "    }\n",
       "\n",
       "    .dataframe tbody tr th {\n",
       "        vertical-align: top;\n",
       "    }\n",
       "\n",
       "    .dataframe thead th {\n",
       "        text-align: right;\n",
       "    }\n",
       "</style>\n",
       "<table border=\"1\" class=\"dataframe\">\n",
       "  <thead>\n",
       "    <tr style=\"text-align: right;\">\n",
       "      <th></th>\n",
       "      <th>FASTA</th>\n",
       "      <th>surface</th>\n",
       "      <th>core</th>\n",
       "    </tr>\n",
       "  </thead>\n",
       "  <tbody>\n",
       "    <tr>\n",
       "      <th>0</th>\n",
       "      <td>A</td>\n",
       "      <td>126</td>\n",
       "      <td>125</td>\n",
       "    </tr>\n",
       "    <tr>\n",
       "      <th>1</th>\n",
       "      <td>R</td>\n",
       "      <td>190</td>\n",
       "      <td>12</td>\n",
       "    </tr>\n",
       "    <tr>\n",
       "      <th>2</th>\n",
       "      <td>N</td>\n",
       "      <td>124</td>\n",
       "      <td>15</td>\n",
       "    </tr>\n",
       "    <tr>\n",
       "      <th>3</th>\n",
       "      <td>D</td>\n",
       "      <td>106</td>\n",
       "      <td>14</td>\n",
       "    </tr>\n",
       "    <tr>\n",
       "      <th>4</th>\n",
       "      <td>C</td>\n",
       "      <td>37</td>\n",
       "      <td>89</td>\n",
       "    </tr>\n",
       "    <tr>\n",
       "      <th>5</th>\n",
       "      <td>Q</td>\n",
       "      <td>170</td>\n",
       "      <td>27</td>\n",
       "    </tr>\n",
       "    <tr>\n",
       "      <th>6</th>\n",
       "      <td>E</td>\n",
       "      <td>221</td>\n",
       "      <td>22</td>\n",
       "    </tr>\n",
       "    <tr>\n",
       "      <th>7</th>\n",
       "      <td>G</td>\n",
       "      <td>163</td>\n",
       "      <td>45</td>\n",
       "    </tr>\n",
       "    <tr>\n",
       "      <th>8</th>\n",
       "      <td>H</td>\n",
       "      <td>72</td>\n",
       "      <td>12</td>\n",
       "    </tr>\n",
       "    <tr>\n",
       "      <th>9</th>\n",
       "      <td>I</td>\n",
       "      <td>127</td>\n",
       "      <td>201</td>\n",
       "    </tr>\n",
       "    <tr>\n",
       "      <th>10</th>\n",
       "      <td>L</td>\n",
       "      <td>160</td>\n",
       "      <td>261</td>\n",
       "    </tr>\n",
       "    <tr>\n",
       "      <th>11</th>\n",
       "      <td>K</td>\n",
       "      <td>246</td>\n",
       "      <td>37</td>\n",
       "    </tr>\n",
       "    <tr>\n",
       "      <th>12</th>\n",
       "      <td>M</td>\n",
       "      <td>41</td>\n",
       "      <td>31</td>\n",
       "    </tr>\n",
       "    <tr>\n",
       "      <th>13</th>\n",
       "      <td>F</td>\n",
       "      <td>93</td>\n",
       "      <td>151</td>\n",
       "    </tr>\n",
       "    <tr>\n",
       "      <th>14</th>\n",
       "      <td>P</td>\n",
       "      <td>53</td>\n",
       "      <td>10</td>\n",
       "    </tr>\n",
       "    <tr>\n",
       "      <th>15</th>\n",
       "      <td>S</td>\n",
       "      <td>294</td>\n",
       "      <td>36</td>\n",
       "    </tr>\n",
       "    <tr>\n",
       "      <th>16</th>\n",
       "      <td>T</td>\n",
       "      <td>394</td>\n",
       "      <td>79</td>\n",
       "    </tr>\n",
       "    <tr>\n",
       "      <th>17</th>\n",
       "      <td>W</td>\n",
       "      <td>49</td>\n",
       "      <td>75</td>\n",
       "    </tr>\n",
       "    <tr>\n",
       "      <th>18</th>\n",
       "      <td>Y</td>\n",
       "      <td>157</td>\n",
       "      <td>112</td>\n",
       "    </tr>\n",
       "    <tr>\n",
       "      <th>19</th>\n",
       "      <td>V</td>\n",
       "      <td>252</td>\n",
       "      <td>359</td>\n",
       "    </tr>\n",
       "  </tbody>\n",
       "</table>\n",
       "</div>"
      ],
      "text/plain": [
       "   FASTA  surface  core\n",
       "0      A      126   125\n",
       "1      R      190    12\n",
       "2      N      124    15\n",
       "3      D      106    14\n",
       "4      C       37    89\n",
       "5      Q      170    27\n",
       "6      E      221    22\n",
       "7      G      163    45\n",
       "8      H       72    12\n",
       "9      I      127   201\n",
       "10     L      160   261\n",
       "11     K      246    37\n",
       "12     M       41    31\n",
       "13     F       93   151\n",
       "14     P       53    10\n",
       "15     S      294    36\n",
       "16     T      394    79\n",
       "17     W       49    75\n",
       "18     Y      157   112\n",
       "19     V      252   359"
      ]
     },
     "execution_count": 36,
     "metadata": {},
     "output_type": "execute_result"
    }
   ],
   "source": [
    "core_surf_frequency"
   ]
  },
  {
   "cell_type": "code",
   "execution_count": 37,
   "metadata": {},
   "outputs": [
    {
     "data": {
      "text/plain": [
       "<Figure size 432x288 with 0 Axes>"
      ]
     },
     "metadata": {},
     "output_type": "display_data"
    },
    {
     "data": {
      "image/png": "[encoded data removed]",
      "text/plain": [
       "<Figure size 1080x360 with 1 Axes>"
      ]
     },
     "metadata": {
      "needs_background": "light"
     },
     "output_type": "display_data"
    }
   ],
   "source": [
    "plot_bar_graphs(core_surf_propensity, 'Propensity', True, 'Core_surf_discrete_propensity')"
   ]
  },
  {
   "cell_type": "code",
   "execution_count": 38,
   "metadata": {},
   "outputs": [
    {
     "data": {
      "text/plain": [
       "<Figure size 432x288 with 0 Axes>"
      ]
     },
     "metadata": {},
     "output_type": "display_data"
    },
    {
     "data": {
      "image/png": "[encoded data removed]",
      "text/plain": [
       "<Figure size 1080x360 with 1 Axes>"
      ]
     },
     "metadata": {
      "needs_background": "light"
     },
     "output_type": "display_data"
    }
   ],
   "source": [
    "plot_bar_graphs(core_surf_frequency, 'Frequency', True, 'Core_surf_discrete_frequency')"
   ]
  },
  {
   "cell_type": "code",
   "execution_count": 39,
   "metadata": {
    "scrolled": true
   },
   "outputs": [
    {
     "name": "stdout",
     "output_type": "stream",
     "text": [
      "1000\n"
     ]
    }
   ],
   "source": [
    "(\n",
    "    core_surf_bootstrap_propensity_dict, core_surf_bootstrap_frequency_dict\n",
    ") = iterate_bootstrap_propensities(\n",
    "    sandwich_df, sandwich_df, 'core_surf', aa_dict, [1000],\n",
    "    calc_indv_property_propensities, core_surf_propensity, core_surf_frequency\n",
    ")"
   ]
  },
  {
   "cell_type": "code",
   "execution_count": 40,
   "metadata": {},
   "outputs": [],
   "source": [
    "(\n",
    "    core_surf_conf_intv_propensity_dict, core_surf_conf_intv_frequency_dict,\n",
    "    core_surf_conf_intv_normed_frequencies_dict\n",
    ") = bootstrap_discrete_propensities(\n",
    "    sandwich_df, sandwich_df, 'core_surf', aa_dict, 1000, calc_indv_property_propensities\n",
    ")"
   ]
  },
  {
   "cell_type": "code",
   "execution_count": 41,
   "metadata": {
    "scrolled": false
   },
   "outputs": [
    {
     "data": {
      "text/plain": [
       "<Figure size 432x288 with 0 Axes>"
      ]
     },
     "metadata": {},
     "output_type": "display_data"
    },
    {
     "data": {
      "image/png": "[encoded data removed]",
      "text/plain": [
       "<Figure size 1080x576 with 1 Axes>"
      ]
     },
     "metadata": {
      "needs_background": "light"
     },
     "output_type": "display_data"
    }
   ],
   "source": [
    "lower_percentile_core_surf_propensity_dict, upper_percentile_core_surf_propensity_dict = gen_95_conf_intervals(\n",
    "    core_surf_conf_intv_propensity_dict, 'Propensity'\n",
    ")\n",
    "plot_bar_graphs_with_conf_limits(\n",
    "    core_surf_propensity, lower_percentile_core_surf_propensity_dict, upper_percentile_core_surf_propensity_dict,\n",
    "    'Propensity', True, 'Core_surf_discrete_propensity_95_conf'\n",
    ")"
   ]
  },
  {
   "cell_type": "code",
   "execution_count": 42,
   "metadata": {
    "scrolled": false
   },
   "outputs": [
    {
     "data": {
      "text/plain": [
       "<Figure size 432x288 with 0 Axes>"
      ]
     },
     "metadata": {},
     "output_type": "display_data"
    },
    {
     "data": {
      "image/png": "[encoded data removed]",
      "text/plain": [
       "<Figure size 1080x576 with 1 Axes>"
      ]
     },
     "metadata": {
      "needs_background": "light"
     },
     "output_type": "display_data"
    }
   ],
   "source": [
    "lower_percentile_core_surf_frequency_dict, upper_percentile_core_surf_frequency_dict = gen_95_conf_intervals(\n",
    "    core_surf_conf_intv_frequency_dict, 'Frequency'\n",
    ")\n",
    "plot_bar_graphs_with_conf_limits(\n",
    "    core_surf_frequency, lower_percentile_core_surf_frequency_dict, upper_percentile_core_surf_frequency_dict,\n",
    "    'Frequency', True, 'Core_surf_discrete_frequency_95_conf'\n",
    ")"
   ]
  },
  {
   "cell_type": "markdown",
   "metadata": {},
   "source": [
    "### Core/surface and edge/central propensities"
   ]
  },
  {
   "cell_type": "code",
   "execution_count": 43,
   "metadata": {},
   "outputs": [],
   "source": [
    "(core_surf_edge_cen_propensity, core_surf_edge_cen_frequency, core_surf_edge_cen_normed_frequencies\n",
    ") = calc_combined_property_propensities(\n",
    "    sandwich_df, ['core_surf', 'edge_or_central'], aa_dict\n",
    ")"
   ]
  },
  {
   "cell_type": "code",
   "execution_count": 44,
   "metadata": {},
   "outputs": [
    {
     "data": {
      "text/html": [
       "<div>\n",
       "<style scoped>\n",
       "    .dataframe tbody tr th:only-of-type {\n",
       "        vertical-align: middle;\n",
       "    }\n",
       "\n",
       "    .dataframe tbody tr th {\n",
       "        vertical-align: top;\n",
       "    }\n",
       "\n",
       "    .dataframe thead th {\n",
       "        text-align: right;\n",
       "    }\n",
       "</style>\n",
       "<table border=\"1\" class=\"dataframe\">\n",
       "  <thead>\n",
       "    <tr style=\"text-align: right;\">\n",
       "      <th></th>\n",
       "      <th>FASTA</th>\n",
       "      <th>surface_central</th>\n",
       "      <th>surface_edge</th>\n",
       "      <th>core_central</th>\n",
       "      <th>core_edge</th>\n",
       "    </tr>\n",
       "  </thead>\n",
       "  <tbody>\n",
       "    <tr>\n",
       "      <th>0</th>\n",
       "      <td>A</td>\n",
       "      <td>0.767065</td>\n",
       "      <td>0.804882</td>\n",
       "      <td>1.401554</td>\n",
       "      <td>1.376892</td>\n",
       "    </tr>\n",
       "    <tr>\n",
       "      <th>1</th>\n",
       "      <td>R</td>\n",
       "      <td>1.642904</td>\n",
       "      <td>1.180148</td>\n",
       "      <td>0.113087</td>\n",
       "      <td>0.249505</td>\n",
       "    </tr>\n",
       "    <tr>\n",
       "      <th>2</th>\n",
       "      <td>N</td>\n",
       "      <td>1.603837</td>\n",
       "      <td>1.046462</td>\n",
       "      <td>0.230079</td>\n",
       "      <td>0.414388</td>\n",
       "    </tr>\n",
       "    <tr>\n",
       "      <th>3</th>\n",
       "      <td>D</td>\n",
       "      <td>1.076667</td>\n",
       "      <td>1.851899</td>\n",
       "      <td>0.228435</td>\n",
       "      <td>0.480000</td>\n",
       "    </tr>\n",
       "    <tr>\n",
       "      <th>4</th>\n",
       "      <td>C</td>\n",
       "      <td>0.562963</td>\n",
       "      <td>0.288608</td>\n",
       "      <td>2.791985</td>\n",
       "      <td>0.685714</td>\n",
       "    </tr>\n",
       "    <tr>\n",
       "      <th>5</th>\n",
       "      <td>Q</td>\n",
       "      <td>1.273096</td>\n",
       "      <td>1.456223</td>\n",
       "      <td>0.139148</td>\n",
       "      <td>0.767513</td>\n",
       "    </tr>\n",
       "    <tr>\n",
       "      <th>6</th>\n",
       "      <td>E</td>\n",
       "      <td>1.209328</td>\n",
       "      <td>1.745898</td>\n",
       "      <td>0.169211</td>\n",
       "      <td>0.385185</td>\n",
       "    </tr>\n",
       "    <tr>\n",
       "      <th>7</th>\n",
       "      <td>G</td>\n",
       "      <td>1.473718</td>\n",
       "      <td>0.815871</td>\n",
       "      <td>0.593053</td>\n",
       "      <td>0.623077</td>\n",
       "    </tr>\n",
       "    <tr>\n",
       "      <th>8</th>\n",
       "      <td>H</td>\n",
       "      <td>1.176190</td>\n",
       "      <td>1.587342</td>\n",
       "      <td>0.435115</td>\n",
       "      <td>0.342857</td>\n",
       "    </tr>\n",
       "    <tr>\n",
       "      <th>9</th>\n",
       "      <td>I</td>\n",
       "      <td>0.594715</td>\n",
       "      <td>0.615931</td>\n",
       "      <td>1.824695</td>\n",
       "      <td>1.536585</td>\n",
       "    </tr>\n",
       "    <tr>\n",
       "      <th>10</th>\n",
       "      <td>L</td>\n",
       "      <td>0.601742</td>\n",
       "      <td>0.575844</td>\n",
       "      <td>1.909956</td>\n",
       "      <td>1.453682</td>\n",
       "    </tr>\n",
       "    <tr>\n",
       "      <th>11</th>\n",
       "      <td>K</td>\n",
       "      <td>1.324853</td>\n",
       "      <td>1.399186</td>\n",
       "      <td>0.242157</td>\n",
       "      <td>0.559717</td>\n",
       "    </tr>\n",
       "    <tr>\n",
       "      <th>12</th>\n",
       "      <td>M</td>\n",
       "      <td>0.738889</td>\n",
       "      <td>1.122363</td>\n",
       "      <td>1.332538</td>\n",
       "      <td>1.000000</td>\n",
       "    </tr>\n",
       "    <tr>\n",
       "      <th>13</th>\n",
       "      <td>F</td>\n",
       "      <td>0.654098</td>\n",
       "      <td>0.496784</td>\n",
       "      <td>1.554108</td>\n",
       "      <td>2.006557</td>\n",
       "    </tr>\n",
       "    <tr>\n",
       "      <th>14</th>\n",
       "      <td>P</td>\n",
       "      <td>0.723810</td>\n",
       "      <td>2.244726</td>\n",
       "      <td>0.072519</td>\n",
       "      <td>1.028571</td>\n",
       "    </tr>\n",
       "    <tr>\n",
       "      <th>15</th>\n",
       "      <td>S</td>\n",
       "      <td>1.343434</td>\n",
       "      <td>1.457031</td>\n",
       "      <td>0.290736</td>\n",
       "      <td>0.327273</td>\n",
       "    </tr>\n",
       "    <tr>\n",
       "      <th>16</th>\n",
       "      <td>T</td>\n",
       "      <td>1.237209</td>\n",
       "      <td>1.392394</td>\n",
       "      <td>0.376701</td>\n",
       "      <td>0.608879</td>\n",
       "    </tr>\n",
       "    <tr>\n",
       "      <th>17</th>\n",
       "      <td>W</td>\n",
       "      <td>0.612903</td>\n",
       "      <td>0.619110</td>\n",
       "      <td>2.063285</td>\n",
       "      <td>1.103226</td>\n",
       "    </tr>\n",
       "    <tr>\n",
       "      <th>18</th>\n",
       "      <td>Y</td>\n",
       "      <td>1.083024</td>\n",
       "      <td>0.630860</td>\n",
       "      <td>1.494594</td>\n",
       "      <td>0.642379</td>\n",
       "    </tr>\n",
       "    <tr>\n",
       "      <th>19</th>\n",
       "      <td>V</td>\n",
       "      <td>0.675832</td>\n",
       "      <td>0.588552</td>\n",
       "      <td>1.458096</td>\n",
       "      <td>1.932570</td>\n",
       "    </tr>\n",
       "  </tbody>\n",
       "</table>\n",
       "</div>"
      ],
      "text/plain": [
       "   FASTA  surface_central  surface_edge  core_central  core_edge\n",
       "0      A         0.767065      0.804882      1.401554   1.376892\n",
       "1      R         1.642904      1.180148      0.113087   0.249505\n",
       "2      N         1.603837      1.046462      0.230079   0.414388\n",
       "3      D         1.076667      1.851899      0.228435   0.480000\n",
       "4      C         0.562963      0.288608      2.791985   0.685714\n",
       "5      Q         1.273096      1.456223      0.139148   0.767513\n",
       "6      E         1.209328      1.745898      0.169211   0.385185\n",
       "7      G         1.473718      0.815871      0.593053   0.623077\n",
       "8      H         1.176190      1.587342      0.435115   0.342857\n",
       "9      I         0.594715      0.615931      1.824695   1.536585\n",
       "10     L         0.601742      0.575844      1.909956   1.453682\n",
       "11     K         1.324853      1.399186      0.242157   0.559717\n",
       "12     M         0.738889      1.122363      1.332538   1.000000\n",
       "13     F         0.654098      0.496784      1.554108   2.006557\n",
       "14     P         0.723810      2.244726      0.072519   1.028571\n",
       "15     S         1.343434      1.457031      0.290736   0.327273\n",
       "16     T         1.237209      1.392394      0.376701   0.608879\n",
       "17     W         0.612903      0.619110      2.063285   1.103226\n",
       "18     Y         1.083024      0.630860      1.494594   0.642379\n",
       "19     V         0.675832      0.588552      1.458096   1.932570"
      ]
     },
     "execution_count": 44,
     "metadata": {},
     "output_type": "execute_result"
    }
   ],
   "source": [
    "core_surf_edge_cen_propensity"
   ]
  },
  {
   "cell_type": "code",
   "execution_count": 45,
   "metadata": {},
   "outputs": [
    {
     "data": {
      "text/html": [
       "<div>\n",
       "<style scoped>\n",
       "    .dataframe tbody tr th:only-of-type {\n",
       "        vertical-align: middle;\n",
       "    }\n",
       "\n",
       "    .dataframe tbody tr th {\n",
       "        vertical-align: top;\n",
       "    }\n",
       "\n",
       "    .dataframe thead th {\n",
       "        text-align: right;\n",
       "    }\n",
       "</style>\n",
       "<table border=\"1\" class=\"dataframe\">\n",
       "  <thead>\n",
       "    <tr style=\"text-align: right;\">\n",
       "      <th></th>\n",
       "      <th>FASTA</th>\n",
       "      <th>surface_central</th>\n",
       "      <th>surface_edge</th>\n",
       "      <th>core_central</th>\n",
       "      <th>core_edge</th>\n",
       "    </tr>\n",
       "  </thead>\n",
       "  <tbody>\n",
       "    <tr>\n",
       "      <th>0</th>\n",
       "      <td>A</td>\n",
       "      <td>76</td>\n",
       "      <td>50</td>\n",
       "      <td>77</td>\n",
       "      <td>48</td>\n",
       "    </tr>\n",
       "    <tr>\n",
       "      <th>1</th>\n",
       "      <td>R</td>\n",
       "      <td>131</td>\n",
       "      <td>59</td>\n",
       "      <td>5</td>\n",
       "      <td>7</td>\n",
       "    </tr>\n",
       "    <tr>\n",
       "      <th>2</th>\n",
       "      <td>N</td>\n",
       "      <td>88</td>\n",
       "      <td>36</td>\n",
       "      <td>7</td>\n",
       "      <td>8</td>\n",
       "    </tr>\n",
       "    <tr>\n",
       "      <th>3</th>\n",
       "      <td>D</td>\n",
       "      <td>51</td>\n",
       "      <td>55</td>\n",
       "      <td>6</td>\n",
       "      <td>8</td>\n",
       "    </tr>\n",
       "    <tr>\n",
       "      <th>4</th>\n",
       "      <td>C</td>\n",
       "      <td>28</td>\n",
       "      <td>9</td>\n",
       "      <td>77</td>\n",
       "      <td>12</td>\n",
       "    </tr>\n",
       "    <tr>\n",
       "      <th>5</th>\n",
       "      <td>Q</td>\n",
       "      <td>99</td>\n",
       "      <td>71</td>\n",
       "      <td>6</td>\n",
       "      <td>21</td>\n",
       "    </tr>\n",
       "    <tr>\n",
       "      <th>6</th>\n",
       "      <td>E</td>\n",
       "      <td>116</td>\n",
       "      <td>105</td>\n",
       "      <td>9</td>\n",
       "      <td>13</td>\n",
       "    </tr>\n",
       "    <tr>\n",
       "      <th>7</th>\n",
       "      <td>G</td>\n",
       "      <td>121</td>\n",
       "      <td>42</td>\n",
       "      <td>27</td>\n",
       "      <td>18</td>\n",
       "    </tr>\n",
       "    <tr>\n",
       "      <th>8</th>\n",
       "      <td>H</td>\n",
       "      <td>39</td>\n",
       "      <td>33</td>\n",
       "      <td>8</td>\n",
       "      <td>4</td>\n",
       "    </tr>\n",
       "    <tr>\n",
       "      <th>9</th>\n",
       "      <td>I</td>\n",
       "      <td>77</td>\n",
       "      <td>50</td>\n",
       "      <td>131</td>\n",
       "      <td>70</td>\n",
       "    </tr>\n",
       "    <tr>\n",
       "      <th>10</th>\n",
       "      <td>L</td>\n",
       "      <td>100</td>\n",
       "      <td>60</td>\n",
       "      <td>176</td>\n",
       "      <td>85</td>\n",
       "    </tr>\n",
       "    <tr>\n",
       "      <th>11</th>\n",
       "      <td>K</td>\n",
       "      <td>148</td>\n",
       "      <td>98</td>\n",
       "      <td>15</td>\n",
       "      <td>22</td>\n",
       "    </tr>\n",
       "    <tr>\n",
       "      <th>12</th>\n",
       "      <td>M</td>\n",
       "      <td>21</td>\n",
       "      <td>20</td>\n",
       "      <td>21</td>\n",
       "      <td>10</td>\n",
       "    </tr>\n",
       "    <tr>\n",
       "      <th>13</th>\n",
       "      <td>F</td>\n",
       "      <td>63</td>\n",
       "      <td>30</td>\n",
       "      <td>83</td>\n",
       "      <td>68</td>\n",
       "    </tr>\n",
       "    <tr>\n",
       "      <th>14</th>\n",
       "      <td>P</td>\n",
       "      <td>18</td>\n",
       "      <td>35</td>\n",
       "      <td>1</td>\n",
       "      <td>9</td>\n",
       "    </tr>\n",
       "    <tr>\n",
       "      <th>15</th>\n",
       "      <td>S</td>\n",
       "      <td>175</td>\n",
       "      <td>119</td>\n",
       "      <td>21</td>\n",
       "      <td>15</td>\n",
       "    </tr>\n",
       "    <tr>\n",
       "      <th>16</th>\n",
       "      <td>T</td>\n",
       "      <td>231</td>\n",
       "      <td>163</td>\n",
       "      <td>39</td>\n",
       "      <td>40</td>\n",
       "    </tr>\n",
       "    <tr>\n",
       "      <th>17</th>\n",
       "      <td>W</td>\n",
       "      <td>30</td>\n",
       "      <td>19</td>\n",
       "      <td>56</td>\n",
       "      <td>19</td>\n",
       "    </tr>\n",
       "    <tr>\n",
       "      <th>18</th>\n",
       "      <td>Y</td>\n",
       "      <td>115</td>\n",
       "      <td>42</td>\n",
       "      <td>88</td>\n",
       "      <td>24</td>\n",
       "    </tr>\n",
       "    <tr>\n",
       "      <th>19</th>\n",
       "      <td>V</td>\n",
       "      <td>163</td>\n",
       "      <td>89</td>\n",
       "      <td>195</td>\n",
       "      <td>164</td>\n",
       "    </tr>\n",
       "  </tbody>\n",
       "</table>\n",
       "</div>"
      ],
      "text/plain": [
       "   FASTA  surface_central  surface_edge  core_central  core_edge\n",
       "0      A               76            50            77         48\n",
       "1      R              131            59             5          7\n",
       "2      N               88            36             7          8\n",
       "3      D               51            55             6          8\n",
       "4      C               28             9            77         12\n",
       "5      Q               99            71             6         21\n",
       "6      E              116           105             9         13\n",
       "7      G              121            42            27         18\n",
       "8      H               39            33             8          4\n",
       "9      I               77            50           131         70\n",
       "10     L              100            60           176         85\n",
       "11     K              148            98            15         22\n",
       "12     M               21            20            21         10\n",
       "13     F               63            30            83         68\n",
       "14     P               18            35             1          9\n",
       "15     S              175           119            21         15\n",
       "16     T              231           163            39         40\n",
       "17     W               30            19            56         19\n",
       "18     Y              115            42            88         24\n",
       "19     V              163            89           195        164"
      ]
     },
     "execution_count": 45,
     "metadata": {},
     "output_type": "execute_result"
    }
   ],
   "source": [
    "core_surf_edge_cen_frequency"
   ]
  },
  {
   "cell_type": "code",
   "execution_count": 46,
   "metadata": {},
   "outputs": [
    {
     "data": {
      "text/plain": [
       "<Figure size 432x288 with 0 Axes>"
      ]
     },
     "metadata": {},
     "output_type": "display_data"
    },
    {
     "data": {
      "image/png": "[encoded data removed]",
      "text/plain": [
       "<Figure size 1080x360 with 1 Axes>"
      ]
     },
     "metadata": {
      "needs_background": "light"
     },
     "output_type": "display_data"
    }
   ],
   "source": [
    "plot_bar_graphs(core_surf_edge_cen_propensity, 'Propensity', True, 'Core_surf_edge_cen_discrete_propensity')"
   ]
  },
  {
   "cell_type": "code",
   "execution_count": 47,
   "metadata": {},
   "outputs": [
    {
     "data": {
      "text/plain": [
       "<Figure size 432x288 with 0 Axes>"
      ]
     },
     "metadata": {},
     "output_type": "display_data"
    },
    {
     "data": {
      "image/png": "[encoded data removed]",
      "text/plain": [
       "<Figure size 1080x360 with 1 Axes>"
      ]
     },
     "metadata": {
      "needs_background": "light"
     },
     "output_type": "display_data"
    }
   ],
   "source": [
    "plot_bar_graphs(core_surf_edge_cen_frequency, 'Frequency', True, 'Core_surf_edge_cen_discrete_frequency')"
   ]
  },
  {
   "cell_type": "code",
   "execution_count": 48,
   "metadata": {
    "scrolled": true
   },
   "outputs": [
    {
     "name": "stdout",
     "output_type": "stream",
     "text": [
      "1000\n"
     ]
    }
   ],
   "source": [
    "(\n",
    "    core_surf_edge_cen_bootstrap_propensity_dict, core_surf_edge_cen_bootstrap_frequency_dict\n",
    ") = iterate_bootstrap_propensities(\n",
    "    sandwich_df, sandwich_df, ['core_surf', 'edge_or_central'], aa_dict, [1000],\n",
    "    calc_combined_property_propensities, core_surf_edge_cen_propensity, core_surf_edge_cen_frequency\n",
    ")"
   ]
  },
  {
   "cell_type": "code",
   "execution_count": 49,
   "metadata": {},
   "outputs": [],
   "source": [
    "(\n",
    "    core_surf_edge_cen_conf_intv_propensity_dict, core_surf_edge_cen_conf_intv_frequency_dict,\n",
    "    core_surf_edge_cen_conf_intv_normed_frequencies_dict\n",
    ") = bootstrap_discrete_propensities(\n",
    "    sandwich_df, sandwich_df, ['core_surf', 'edge_or_central'], aa_dict, 1000,\n",
    "    calc_combined_property_propensities\n",
    ")"
   ]
  },
  {
   "cell_type": "code",
   "execution_count": 50,
   "metadata": {
    "scrolled": false
   },
   "outputs": [
    {
     "data": {
      "text/plain": [
       "<Figure size 432x288 with 0 Axes>"
      ]
     },
     "metadata": {},
     "output_type": "display_data"
    },
    {
     "data": {
      "image/png": "[encoded data removed]",
      "text/plain": [
       "<Figure size 1080x576 with 1 Axes>"
      ]
     },
     "metadata": {
      "needs_background": "light"
     },
     "output_type": "display_data"
    }
   ],
   "source": [
    "(\n",
    "    lower_percentile_core_surf_edge_cen_propensity_dict, upper_percentile_core_surf_edge_cen_propensity_dict\n",
    ") = gen_95_conf_intervals(\n",
    "    core_surf_edge_cen_conf_intv_propensity_dict, 'Propensity'\n",
    ")\n",
    "plot_bar_graphs_with_conf_limits(\n",
    "    core_surf_edge_cen_propensity, lower_percentile_core_surf_edge_cen_propensity_dict,\n",
    "    upper_percentile_core_surf_edge_cen_propensity_dict, 'Propensity', True,\n",
    "    'Core_surf_edge_cen_discrete_propensity_95_conf'\n",
    ")"
   ]
  },
  {
   "cell_type": "code",
   "execution_count": 51,
   "metadata": {
    "scrolled": false
   },
   "outputs": [
    {
     "data": {
      "text/plain": [
       "<Figure size 432x288 with 0 Axes>"
      ]
     },
     "metadata": {},
     "output_type": "display_data"
    },
    {
     "data": {
      "image/png": "[encoded data removed]",
      "text/plain": [
       "<Figure size 1080x576 with 1 Axes>"
      ]
     },
     "metadata": {
      "needs_background": "light"
     },
     "output_type": "display_data"
    }
   ],
   "source": [
    "(\n",
    "    lower_percentile_core_surf_edge_cen_frequency_dict, upper_percentile_core_surf_edge_cen_frequency_dict\n",
    ") = gen_95_conf_intervals(\n",
    "    core_surf_edge_cen_conf_intv_frequency_dict, 'Frequency'\n",
    ")\n",
    "plot_bar_graphs_with_conf_limits(\n",
    "    core_surf_edge_cen_frequency, lower_percentile_core_surf_edge_cen_frequency_dict,\n",
    "    upper_percentile_core_surf_edge_cen_frequency_dict, 'Frequency', True,\n",
    "    'Core_surf_edge_cen_discrete_frequency_95_conf'\n",
    ")"
   ]
  },
  {
   "cell_type": "markdown",
   "metadata": {},
   "source": [
    "### Twist category (right/left-handed) propensities"
   ]
  },
  {
   "cell_type": "markdown",
   "metadata": {},
   "source": [
    "HB pairs"
   ]
  },
  {
   "cell_type": "code",
   "execution_count": 52,
   "metadata": {},
   "outputs": [],
   "source": [
    "hb_twist_propensity, hb_twist_frequency, hb_twist_normed_frequencies = calc_indv_property_propensities(\n",
    "    sandwich_df, 'twist_hb_pairs', aa_dict\n",
    ")"
   ]
  },
  {
   "cell_type": "code",
   "execution_count": 53,
   "metadata": {},
   "outputs": [
    {
     "data": {
      "text/html": [
       "<div>\n",
       "<style scoped>\n",
       "    .dataframe tbody tr th:only-of-type {\n",
       "        vertical-align: middle;\n",
       "    }\n",
       "\n",
       "    .dataframe tbody tr th {\n",
       "        vertical-align: top;\n",
       "    }\n",
       "\n",
       "    .dataframe thead th {\n",
       "        text-align: right;\n",
       "    }\n",
       "</style>\n",
       "<table border=\"1\" class=\"dataframe\">\n",
       "  <thead>\n",
       "    <tr style=\"text-align: right;\">\n",
       "      <th></th>\n",
       "      <th>FASTA</th>\n",
       "      <th>left</th>\n",
       "      <th>right</th>\n",
       "    </tr>\n",
       "  </thead>\n",
       "  <tbody>\n",
       "    <tr>\n",
       "      <th>0</th>\n",
       "      <td>A</td>\n",
       "      <td>1.829895</td>\n",
       "      <td>0.937583</td>\n",
       "    </tr>\n",
       "    <tr>\n",
       "      <th>1</th>\n",
       "      <td>R</td>\n",
       "      <td>1.099696</td>\n",
       "      <td>0.992502</td>\n",
       "    </tr>\n",
       "    <tr>\n",
       "      <th>2</th>\n",
       "      <td>N</td>\n",
       "      <td>1.211530</td>\n",
       "      <td>0.984091</td>\n",
       "    </tr>\n",
       "    <tr>\n",
       "      <th>3</th>\n",
       "      <td>D</td>\n",
       "      <td>1.787007</td>\n",
       "      <td>0.940809</td>\n",
       "    </tr>\n",
       "    <tr>\n",
       "      <th>4</th>\n",
       "      <td>C</td>\n",
       "      <td>0.760428</td>\n",
       "      <td>1.018018</td>\n",
       "    </tr>\n",
       "    <tr>\n",
       "      <th>5</th>\n",
       "      <td>Q</td>\n",
       "      <td>0.564318</td>\n",
       "      <td>1.032768</td>\n",
       "    </tr>\n",
       "    <tr>\n",
       "      <th>6</th>\n",
       "      <td>E</td>\n",
       "      <td>1.361529</td>\n",
       "      <td>0.972809</td>\n",
       "    </tr>\n",
       "    <tr>\n",
       "      <th>7</th>\n",
       "      <td>G</td>\n",
       "      <td>2.808153</td>\n",
       "      <td>0.864008</td>\n",
       "    </tr>\n",
       "    <tr>\n",
       "      <th>8</th>\n",
       "      <td>H</td>\n",
       "      <td>0.997399</td>\n",
       "      <td>1.000196</td>\n",
       "    </tr>\n",
       "    <tr>\n",
       "      <th>9</th>\n",
       "      <td>I</td>\n",
       "      <td>0.845920</td>\n",
       "      <td>1.011588</td>\n",
       "    </tr>\n",
       "    <tr>\n",
       "      <th>10</th>\n",
       "      <td>L</td>\n",
       "      <td>0.643966</td>\n",
       "      <td>1.026777</td>\n",
       "    </tr>\n",
       "    <tr>\n",
       "      <th>11</th>\n",
       "      <td>K</td>\n",
       "      <td>1.416726</td>\n",
       "      <td>0.968658</td>\n",
       "    </tr>\n",
       "    <tr>\n",
       "      <th>12</th>\n",
       "      <td>M</td>\n",
       "      <td>1.128636</td>\n",
       "      <td>0.990325</td>\n",
       "    </tr>\n",
       "    <tr>\n",
       "      <th>13</th>\n",
       "      <td>F</td>\n",
       "      <td>0.517973</td>\n",
       "      <td>1.036253</td>\n",
       "    </tr>\n",
       "    <tr>\n",
       "      <th>14</th>\n",
       "      <td>P</td>\n",
       "      <td>NaN</td>\n",
       "      <td>NaN</td>\n",
       "    </tr>\n",
       "    <tr>\n",
       "      <th>15</th>\n",
       "      <td>S</td>\n",
       "      <td>1.588450</td>\n",
       "      <td>0.955742</td>\n",
       "    </tr>\n",
       "    <tr>\n",
       "      <th>16</th>\n",
       "      <td>T</td>\n",
       "      <td>0.980301</td>\n",
       "      <td>1.001482</td>\n",
       "    </tr>\n",
       "    <tr>\n",
       "      <th>17</th>\n",
       "      <td>W</td>\n",
       "      <td>1.191338</td>\n",
       "      <td>0.985609</td>\n",
       "    </tr>\n",
       "    <tr>\n",
       "      <th>18</th>\n",
       "      <td>Y</td>\n",
       "      <td>0.899123</td>\n",
       "      <td>1.007587</td>\n",
       "    </tr>\n",
       "    <tr>\n",
       "      <th>19</th>\n",
       "      <td>V</td>\n",
       "      <td>0.347474</td>\n",
       "      <td>1.049077</td>\n",
       "    </tr>\n",
       "  </tbody>\n",
       "</table>\n",
       "</div>"
      ],
      "text/plain": [
       "   FASTA      left     right\n",
       "0      A  1.829895  0.937583\n",
       "1      R  1.099696  0.992502\n",
       "2      N  1.211530  0.984091\n",
       "3      D  1.787007  0.940809\n",
       "4      C  0.760428  1.018018\n",
       "5      Q  0.564318  1.032768\n",
       "6      E  1.361529  0.972809\n",
       "7      G  2.808153  0.864008\n",
       "8      H  0.997399  1.000196\n",
       "9      I  0.845920  1.011588\n",
       "10     L  0.643966  1.026777\n",
       "11     K  1.416726  0.968658\n",
       "12     M  1.128636  0.990325\n",
       "13     F  0.517973  1.036253\n",
       "14     P       NaN       NaN\n",
       "15     S  1.588450  0.955742\n",
       "16     T  0.980301  1.001482\n",
       "17     W  1.191338  0.985609\n",
       "18     Y  0.899123  1.007587\n",
       "19     V  0.347474  1.049077"
      ]
     },
     "execution_count": 53,
     "metadata": {},
     "output_type": "execute_result"
    }
   ],
   "source": [
    "hb_twist_propensity"
   ]
  },
  {
   "cell_type": "code",
   "execution_count": 54,
   "metadata": {},
   "outputs": [
    {
     "data": {
      "text/html": [
       "<div>\n",
       "<style scoped>\n",
       "    .dataframe tbody tr th:only-of-type {\n",
       "        vertical-align: middle;\n",
       "    }\n",
       "\n",
       "    .dataframe tbody tr th {\n",
       "        vertical-align: top;\n",
       "    }\n",
       "\n",
       "    .dataframe thead th {\n",
       "        text-align: right;\n",
       "    }\n",
       "</style>\n",
       "<table border=\"1\" class=\"dataframe\">\n",
       "  <thead>\n",
       "    <tr style=\"text-align: right;\">\n",
       "      <th></th>\n",
       "      <th>FASTA</th>\n",
       "      <th>left</th>\n",
       "      <th>right</th>\n",
       "    </tr>\n",
       "  </thead>\n",
       "  <tbody>\n",
       "    <tr>\n",
       "      <th>0</th>\n",
       "      <td>A</td>\n",
       "      <td>16.0</td>\n",
       "      <td>109.0</td>\n",
       "    </tr>\n",
       "    <tr>\n",
       "      <th>1</th>\n",
       "      <td>R</td>\n",
       "      <td>8.0</td>\n",
       "      <td>96.0</td>\n",
       "    </tr>\n",
       "    <tr>\n",
       "      <th>2</th>\n",
       "      <td>N</td>\n",
       "      <td>5.0</td>\n",
       "      <td>54.0</td>\n",
       "    </tr>\n",
       "    <tr>\n",
       "      <th>3</th>\n",
       "      <td>D</td>\n",
       "      <td>5.0</td>\n",
       "      <td>35.0</td>\n",
       "    </tr>\n",
       "    <tr>\n",
       "      <th>4</th>\n",
       "      <td>C</td>\n",
       "      <td>5.0</td>\n",
       "      <td>89.0</td>\n",
       "    </tr>\n",
       "    <tr>\n",
       "      <th>5</th>\n",
       "      <td>Q</td>\n",
       "      <td>3.0</td>\n",
       "      <td>73.0</td>\n",
       "    </tr>\n",
       "    <tr>\n",
       "      <th>6</th>\n",
       "      <td>E</td>\n",
       "      <td>8.0</td>\n",
       "      <td>76.0</td>\n",
       "    </tr>\n",
       "    <tr>\n",
       "      <th>7</th>\n",
       "      <td>G</td>\n",
       "      <td>11.0</td>\n",
       "      <td>45.0</td>\n",
       "    </tr>\n",
       "    <tr>\n",
       "      <th>8</th>\n",
       "      <td>H</td>\n",
       "      <td>3.0</td>\n",
       "      <td>40.0</td>\n",
       "    </tr>\n",
       "    <tr>\n",
       "      <th>9</th>\n",
       "      <td>I</td>\n",
       "      <td>10.0</td>\n",
       "      <td>159.0</td>\n",
       "    </tr>\n",
       "    <tr>\n",
       "      <th>10</th>\n",
       "      <td>L</td>\n",
       "      <td>10.0</td>\n",
       "      <td>212.0</td>\n",
       "    </tr>\n",
       "    <tr>\n",
       "      <th>11</th>\n",
       "      <td>K</td>\n",
       "      <td>11.0</td>\n",
       "      <td>100.0</td>\n",
       "    </tr>\n",
       "    <tr>\n",
       "      <th>12</th>\n",
       "      <td>M</td>\n",
       "      <td>3.0</td>\n",
       "      <td>35.0</td>\n",
       "    </tr>\n",
       "    <tr>\n",
       "      <th>13</th>\n",
       "      <td>F</td>\n",
       "      <td>5.0</td>\n",
       "      <td>133.0</td>\n",
       "    </tr>\n",
       "    <tr>\n",
       "      <th>14</th>\n",
       "      <td>P</td>\n",
       "      <td>NaN</td>\n",
       "      <td>NaN</td>\n",
       "    </tr>\n",
       "    <tr>\n",
       "      <th>15</th>\n",
       "      <td>S</td>\n",
       "      <td>16.0</td>\n",
       "      <td>128.0</td>\n",
       "    </tr>\n",
       "    <tr>\n",
       "      <th>16</th>\n",
       "      <td>T</td>\n",
       "      <td>12.0</td>\n",
       "      <td>163.0</td>\n",
       "    </tr>\n",
       "    <tr>\n",
       "      <th>17</th>\n",
       "      <td>W</td>\n",
       "      <td>4.0</td>\n",
       "      <td>44.0</td>\n",
       "    </tr>\n",
       "    <tr>\n",
       "      <th>18</th>\n",
       "      <td>Y</td>\n",
       "      <td>10.0</td>\n",
       "      <td>149.0</td>\n",
       "    </tr>\n",
       "    <tr>\n",
       "      <th>19</th>\n",
       "      <td>V</td>\n",
       "      <td>7.0</td>\n",
       "      <td>281.0</td>\n",
       "    </tr>\n",
       "  </tbody>\n",
       "</table>\n",
       "</div>"
      ],
      "text/plain": [
       "   FASTA  left  right\n",
       "0      A  16.0  109.0\n",
       "1      R   8.0   96.0\n",
       "2      N   5.0   54.0\n",
       "3      D   5.0   35.0\n",
       "4      C   5.0   89.0\n",
       "5      Q   3.0   73.0\n",
       "6      E   8.0   76.0\n",
       "7      G  11.0   45.0\n",
       "8      H   3.0   40.0\n",
       "9      I  10.0  159.0\n",
       "10     L  10.0  212.0\n",
       "11     K  11.0  100.0\n",
       "12     M   3.0   35.0\n",
       "13     F   5.0  133.0\n",
       "14     P   NaN    NaN\n",
       "15     S  16.0  128.0\n",
       "16     T  12.0  163.0\n",
       "17     W   4.0   44.0\n",
       "18     Y  10.0  149.0\n",
       "19     V   7.0  281.0"
      ]
     },
     "execution_count": 54,
     "metadata": {},
     "output_type": "execute_result"
    }
   ],
   "source": [
    "hb_twist_frequency"
   ]
  },
  {
   "cell_type": "code",
   "execution_count": 55,
   "metadata": {},
   "outputs": [
    {
     "data": {
      "text/plain": [
       "<Figure size 432x288 with 0 Axes>"
      ]
     },
     "metadata": {},
     "output_type": "display_data"
    },
    {
     "data": {
      "image/png": "[encoded data removed]",
      "text/plain": [
       "<Figure size 1080x360 with 1 Axes>"
      ]
     },
     "metadata": {
      "needs_background": "light"
     },
     "output_type": "display_data"
    }
   ],
   "source": [
    "plot_bar_graphs(hb_twist_propensity, 'Propensity', True, 'HB_twist_discrete_propensity')"
   ]
  },
  {
   "cell_type": "code",
   "execution_count": 56,
   "metadata": {},
   "outputs": [
    {
     "data": {
      "text/plain": [
       "<Figure size 432x288 with 0 Axes>"
      ]
     },
     "metadata": {},
     "output_type": "display_data"
    },
    {
     "data": {
      "image/png": "[encoded data removed]",
      "text/plain": [
       "<Figure size 1080x360 with 1 Axes>"
      ]
     },
     "metadata": {
      "needs_background": "light"
     },
     "output_type": "display_data"
    }
   ],
   "source": [
    "plot_bar_graphs(hb_twist_frequency, 'Frequency', True, 'HB_twist_discrete_frequency')"
   ]
  },
  {
   "cell_type": "code",
   "execution_count": null,
   "metadata": {},
   "outputs": [
    {
     "name": "stdout",
     "output_type": "stream",
     "text": [
      "1000\n"
     ]
    }
   ],
   "source": [
    "(\n",
    "    hb_twist_bootstrap_propensity_dict, hb_twist_bootstrap_frequency_dict\n",
    ") = iterate_bootstrap_propensities(\n",
    "    sandwich_df, sandwich_df, 'twist_hb_pairs', aa_dict, [1000],\n",
    "    calc_indv_property_propensities, hb_twist_propensity, hb_twist_frequency\n",
    ")"
   ]
  },
  {
   "cell_type": "code",
   "execution_count": null,
   "metadata": {},
   "outputs": [],
   "source": [
    "(\n",
    "    hb_twist_conf_intv_propensity_dict, hb_twist_conf_intv_frequency_dict,\n",
    "    hb_twist_conf_intv_normed_frequencies_dict\n",
    ") = bootstrap_discrete_propensities(\n",
    "    sandwich_df, sandwich_df, 'twist_hb_pairs', aa_dict, 1000, calc_indv_property_propensities\n",
    ")"
   ]
  },
  {
   "cell_type": "code",
   "execution_count": null,
   "metadata": {},
   "outputs": [],
   "source": [
    "(\n",
    "    lower_percentile_hb_twist_propensity_dict, upper_percentile_hb_twist_propensity_dict\n",
    ") = gen_95_conf_intervals(\n",
    "    hb_twist_conf_intv_propensity_dict, 'Propensity'\n",
    ")\n",
    "plot_bar_graphs_with_conf_limits(\n",
    "    hb_twist_propensity, lower_percentile_hb_twist_propensity_dict,\n",
    "    upper_percentile_hb_twist_propensity_dict, 'Propensity', True, 'HB_twist_discrete_propensity_95_conf'\n",
    ")"
   ]
  },
  {
   "cell_type": "code",
   "execution_count": null,
   "metadata": {},
   "outputs": [],
   "source": [
    "(\n",
    "    lower_percentile_hb_twist_frequency_dict, upper_percentile_hb_twist_frequency_dict\n",
    ") = gen_95_conf_intervals(\n",
    "    hb_twist_conf_intv_frequency_dict, 'Frequency'\n",
    ")\n",
    "plot_bar_graphs_with_conf_limits(\n",
    "    hb_twist_frequency, lower_percentile_hb_twist_frequency_dict,\n",
    "    upper_percentile_hb_twist_frequency_dict, 'Frequency', True, 'HB_twist_discrete_frequency_95_conf'\n",
    ")"
   ]
  },
  {
   "cell_type": "markdown",
   "metadata": {},
   "source": [
    "NHB pairs"
   ]
  },
  {
   "cell_type": "code",
   "execution_count": null,
   "metadata": {},
   "outputs": [],
   "source": [
    "nhb_twist_propensity, nhb_twist_frequency, nhb_twist_normed_frequencies = calc_indv_property_propensities(\n",
    "    sandwich_df, 'twist_nhb_pairs', aa_dict\n",
    ")"
   ]
  },
  {
   "cell_type": "code",
   "execution_count": null,
   "metadata": {},
   "outputs": [],
   "source": [
    "nhb_twist_propensity"
   ]
  },
  {
   "cell_type": "code",
   "execution_count": null,
   "metadata": {},
   "outputs": [],
   "source": [
    "nhb_twist_frequency"
   ]
  },
  {
   "cell_type": "code",
   "execution_count": null,
   "metadata": {},
   "outputs": [],
   "source": [
    "plot_bar_graphs(nhb_twist_propensity, 'Propensity', True, 'NHB_twist_discrete_propensity')"
   ]
  },
  {
   "cell_type": "code",
   "execution_count": null,
   "metadata": {},
   "outputs": [],
   "source": [
    "plot_bar_graphs(nhb_twist_frequency, 'Frequency', True, 'NHB_twist_discrete_frequency')"
   ]
  },
  {
   "cell_type": "code",
   "execution_count": null,
   "metadata": {},
   "outputs": [],
   "source": [
    "(\n",
    "    nhb_twist_bootstrap_propensity_dict, nhb_twist_bootstrap_frequency_dict\n",
    ") = iterate_bootstrap_propensities(\n",
    "    sandwich_df, sandwich_df, 'twist_nhb_pairs', aa_dict, [1000],\n",
    "    calc_indv_property_propensities, nhb_twist_propensity, nhb_twist_frequency\n",
    ")"
   ]
  },
  {
   "cell_type": "code",
   "execution_count": null,
   "metadata": {},
   "outputs": [],
   "source": [
    "(\n",
    "    nhb_twist_conf_intv_propensity_dict, nhb_twist_conf_intv_frequency_dict,\n",
    "    nhb_twist_conf_intv_normed_frequencies_dict\n",
    ") = bootstrap_discrete_propensities(\n",
    "    sandwich_df, sandwich_df, 'twist_nhb_pairs', aa_dict, 1000, calc_indv_property_propensities\n",
    ")"
   ]
  },
  {
   "cell_type": "code",
   "execution_count": null,
   "metadata": {},
   "outputs": [],
   "source": [
    "(\n",
    "    lower_percentile_nhb_twist_propensity_dict, upper_percentile_nhb_twist_propensity_dict\n",
    ") = gen_95_conf_intervals(\n",
    "    nhb_twist_conf_intv_propensity_dict, 'Propensity'\n",
    ")\n",
    "plot_bar_graphs_with_conf_limits(\n",
    "    nhb_twist_propensity, lower_percentile_nhb_twist_propensity_dict,\n",
    "    upper_percentile_nhb_twist_propensity_dict, 'Propensity', True, 'NHB_twist_discrete_propensity_95_conf'\n",
    ")"
   ]
  },
  {
   "cell_type": "code",
   "execution_count": null,
   "metadata": {},
   "outputs": [],
   "source": [
    "(\n",
    "    lower_percentile_nhb_twist_frequency_dict, upper_percentile_nhb_twist_frequency_dict\n",
    ") = gen_95_conf_intervals(\n",
    "    nhb_twist_conf_intv_frequency_dict, 'Frequency'\n",
    ")\n",
    "plot_bar_graphs_with_conf_limits(\n",
    "    nhb_twist_frequency, lower_percentile_nhb_twist_frequency_dict,\n",
    "    upper_percentile_nhb_twist_frequency_dict, 'Frequency', True, 'NHB_twist_discrete_frequency_95_conf'\n",
    ")"
   ]
  },
  {
   "cell_type": "markdown",
   "metadata": {},
   "source": [
    "### Defines core, surface, edge and central sub-dataframes"
   ]
  },
  {
   "cell_type": "code",
   "execution_count": null,
   "metadata": {},
   "outputs": [],
   "source": [
    "core_sandwich_df = sandwich_df[sandwich_df['core_surf'] == 'core']\n",
    "core_sandwich_df = core_sandwich_df.reset_index(drop=True)\n",
    "print(core_sandwich_df.shape[0])"
   ]
  },
  {
   "cell_type": "code",
   "execution_count": null,
   "metadata": {},
   "outputs": [],
   "source": [
    "surf_sandwich_df = sandwich_df[sandwich_df['core_surf'] == 'surface']\n",
    "surf_sandwich_df = surf_sandwich_df.reset_index(drop=True)\n",
    "print(surf_sandwich_df.shape[0])"
   ]
  },
  {
   "cell_type": "code",
   "execution_count": null,
   "metadata": {},
   "outputs": [],
   "source": [
    "edge_sandwich_df = sandwich_df[sandwich_df['edge_or_central'] == 'edge']\n",
    "edge_sandwich_df = edge_sandwich_df.reset_index(drop=True)\n",
    "print(edge_sandwich_df.shape[0])"
   ]
  },
  {
   "cell_type": "code",
   "execution_count": null,
   "metadata": {},
   "outputs": [],
   "source": [
    "cen_sandwich_df = sandwich_df[sandwich_df['edge_or_central'] == 'central']\n",
    "cen_sandwich_df = cen_sandwich_df.reset_index(drop=True)\n",
    "print(cen_sandwich_df.shape[0])"
   ]
  },
  {
   "cell_type": "markdown",
   "metadata": {},
   "source": [
    "### Phi psi discrete bin propensities"
   ]
  },
  {
   "cell_type": "markdown",
   "metadata": {},
   "source": [
    "Uniform bins"
   ]
  },
  {
   "cell_type": "code",
   "execution_count": null,
   "metadata": {},
   "outputs": [],
   "source": [
    "phi_psi_sandwich_df = sandwich_df[['phi', 'psi']].dropna().reset_index(drop=True)\n",
    "phi_psi_sandwich_df = phi_psi_sandwich_df[  (~phi_psi_sandwich_df['phi'].isin(['']))\n",
    "                                      & (~phi_psi_sandwich_df['psi'].isin(['']))].reset_index(drop=True)\n",
    "phi_psi_sandwich_df = phi_psi_sandwich_df.astype('float64')\n",
    "\n",
    "\n",
    "bin_phi = np.arange(-180.0, 210.0, 30.0)\n",
    "bin_psi = np.arange(-180.0, 210.0, 30.0)\n",
    "counts = scipy.stats.binned_statistic_2d(\n",
    "    phi_psi_sandwich_df['phi'], phi_psi_sandwich_df['psi'], None, 'count', bins=[bin_phi, bin_psi]\n",
    ")\n",
    "\n",
    "plt.clf()\n",
    "plt.figure(figsize=(15,15))\n",
    "sns.heatmap(np.flip(counts.statistic, axis=1), annot=True, fmt='g', cmap='seismic')\n",
    "plt.savefig('Phi_psi_discrete_bins_uniform.svg')\n",
    "plt.show()"
   ]
  },
  {
   "cell_type": "markdown",
   "metadata": {},
   "source": [
    "Non-uniform bins"
   ]
  },
  {
   "cell_type": "markdown",
   "metadata": {},
   "source": [
    "All sandwich residues"
   ]
  },
  {
   "cell_type": "code",
   "execution_count": null,
   "metadata": {
    "scrolled": false
   },
   "outputs": [],
   "source": [
    "discrete_phi_psi_cluster_coords, discrete_phi_psi_cluster_dataframe = calc_voronoi_points(\n",
    "    sandwich_df, 'phi', 'psi', 100, True, 'Phi_psi_discrete_bins'\n",
    ")"
   ]
  },
  {
   "cell_type": "code",
   "execution_count": null,
   "metadata": {},
   "outputs": [],
   "source": [
    "vor = scipy.spatial.Voronoi(discrete_phi_psi_cluster_coords)\n",
    "\n",
    "plt.clf()\n",
    "fig = scipy.spatial.voronoi_plot_2d(vor, show_vertices=False)\n",
    "fig.set_size_inches(10, 10)\n",
    "plt.savefig('Phi_psi_discrete_bins_voronoi_points.svg')\n",
    "plt.show()"
   ]
  },
  {
   "cell_type": "code",
   "execution_count": null,
   "metadata": {},
   "outputs": [],
   "source": [
    "(discrete_phi_psi_propensity, discrete_phi_psi_frequency, discrete_phi_psi_normed_frequencies\n",
    ") = calc_discrete_2d_indv_aa_propensities(sandwich_df, 'phi', 'psi', aa_dict, discrete_phi_psi_cluster_coords)"
   ]
  },
  {
   "cell_type": "code",
   "execution_count": null,
   "metadata": {},
   "outputs": [],
   "source": [
    "discrete_phi_psi_propensity"
   ]
  },
  {
   "cell_type": "code",
   "execution_count": null,
   "metadata": {},
   "outputs": [],
   "source": [
    "discrete_phi_psi_frequency"
   ]
  },
  {
   "cell_type": "code",
   "execution_count": null,
   "metadata": {
    "scrolled": true
   },
   "outputs": [],
   "source": [
    "plot_ramachandran_heat_map(\n",
    "    discrete_phi_psi_propensity, discrete_phi_psi_cluster_coords, True, 'Ramachandran_propensity_plot'\n",
    ")"
   ]
  },
  {
   "cell_type": "code",
   "execution_count": null,
   "metadata": {
    "scrolled": true
   },
   "outputs": [],
   "source": [
    "plot_ramachandran_heat_map(\n",
    "    discrete_phi_psi_frequency, discrete_phi_psi_cluster_coords, True, 'Ramachandran_frequency_plot'\n",
    ")"
   ]
  },
  {
   "cell_type": "markdown",
   "metadata": {},
   "source": [
    "Core"
   ]
  },
  {
   "cell_type": "code",
   "execution_count": null,
   "metadata": {
    "scrolled": false
   },
   "outputs": [],
   "source": [
    "discrete_phi_psi_core_cluster_coords, discrete_phi_psi_core_cluster_dataframe = calc_voronoi_points(\n",
    "    core_sandwich_df, 'phi', 'psi', 100\n",
    ")"
   ]
  },
  {
   "cell_type": "code",
   "execution_count": null,
   "metadata": {},
   "outputs": [],
   "source": [
    "core_vor = scipy.spatial.Voronoi(discrete_phi_psi_core_cluster_coords)\n",
    "\n",
    "plt.clf()\n",
    "fig = scipy.spatial.voronoi_plot_2d(core_vor, show_vertices=False)\n",
    "fig.set_size_inches(10, 10)\n",
    "plt.savefig('Core_phi_psi_discrete_bins_voronoi_points.svg')\n",
    "plt.show()"
   ]
  },
  {
   "cell_type": "code",
   "execution_count": null,
   "metadata": {},
   "outputs": [],
   "source": [
    "(discrete_phi_psi_core_propensity, discrete_phi_psi_core_frequency, discrete_phi_psi_core_normed_frequencies\n",
    ") = calc_discrete_2d_indv_aa_propensities(\n",
    "    core_sandwich_df, 'phi', 'psi', aa_dict, discrete_phi_psi_core_cluster_coords\n",
    ")"
   ]
  },
  {
   "cell_type": "code",
   "execution_count": null,
   "metadata": {},
   "outputs": [],
   "source": [
    "discrete_phi_psi_core_propensity"
   ]
  },
  {
   "cell_type": "code",
   "execution_count": null,
   "metadata": {},
   "outputs": [],
   "source": [
    "discrete_phi_psi_core_frequency"
   ]
  },
  {
   "cell_type": "code",
   "execution_count": null,
   "metadata": {
    "scrolled": true
   },
   "outputs": [],
   "source": [
    "plot_ramachandran_heat_map(\n",
    "    discrete_phi_psi_core_propensity, discrete_phi_psi_core_cluster_coords, True,\n",
    "    'Core_Ramachandran_propensity_plot'\n",
    ")"
   ]
  },
  {
   "cell_type": "code",
   "execution_count": null,
   "metadata": {},
   "outputs": [],
   "source": [
    "plot_ramachandran_heat_map(\n",
    "    discrete_phi_psi_core_frequency, discrete_phi_psi_core_cluster_coords, True,\n",
    "    'Core_Ramachandran_frequency_plot'\n",
    ")"
   ]
  },
  {
   "cell_type": "markdown",
   "metadata": {},
   "source": [
    "Surface"
   ]
  },
  {
   "cell_type": "code",
   "execution_count": null,
   "metadata": {
    "scrolled": false
   },
   "outputs": [],
   "source": [
    "discrete_phi_psi_surf_cluster_coords, discrete_phi_psi_surf_cluster_dataframe = calc_voronoi_points(\n",
    "    surf_sandwich_df, 'phi', 'psi', 100\n",
    ")"
   ]
  },
  {
   "cell_type": "code",
   "execution_count": null,
   "metadata": {},
   "outputs": [],
   "source": [
    "surf_vor = scipy.spatial.Voronoi(discrete_phi_psi_surf_cluster_coords)\n",
    "\n",
    "plt.clf()\n",
    "fig = scipy.spatial.voronoi_plot_2d(surf_vor, show_vertices=False)\n",
    "fig.set_size_inches(10, 10)\n",
    "plt.savefig('Surf_phi_psi_discrete_bins_voronoi_points.svg')\n",
    "plt.show()"
   ]
  },
  {
   "cell_type": "code",
   "execution_count": null,
   "metadata": {},
   "outputs": [],
   "source": [
    "(\n",
    "    discrete_phi_psi_surf_propensity, discrete_phi_psi_surf_frequency, discrete_phi_psi_surf_normed_frequencies\n",
    ") = calc_discrete_2d_indv_aa_propensities(\n",
    "    surf_sandwich_df, 'phi', 'psi', aa_dict, discrete_phi_psi_surf_cluster_coords\n",
    ")"
   ]
  },
  {
   "cell_type": "code",
   "execution_count": null,
   "metadata": {},
   "outputs": [],
   "source": [
    "discrete_phi_psi_surf_propensity"
   ]
  },
  {
   "cell_type": "code",
   "execution_count": null,
   "metadata": {},
   "outputs": [],
   "source": [
    "discrete_phi_psi_surf_frequency"
   ]
  },
  {
   "cell_type": "code",
   "execution_count": null,
   "metadata": {},
   "outputs": [],
   "source": [
    "plot_ramachandran_heat_map(\n",
    "    discrete_phi_psi_surf_propensity, discrete_phi_psi_surf_cluster_coords, True,\n",
    "    'Surf_Ramachandran_propensity_plot'\n",
    ")"
   ]
  },
  {
   "cell_type": "code",
   "execution_count": null,
   "metadata": {},
   "outputs": [],
   "source": [
    "plot_ramachandran_heat_map(\n",
    "    discrete_phi_psi_surf_frequency, discrete_phi_psi_surf_cluster_coords, True,\n",
    "    'Surf_Ramachandran_frequency_plot'\n",
    ")"
   ]
  },
  {
   "cell_type": "markdown",
   "metadata": {},
   "source": [
    "Edge strands"
   ]
  },
  {
   "cell_type": "code",
   "execution_count": null,
   "metadata": {
    "scrolled": false
   },
   "outputs": [],
   "source": [
    "discrete_phi_psi_edge_cluster_coords, discrete_phi_psi_edge_cluster_dataframe = calc_voronoi_points(\n",
    "    edge_sandwich_df, 'phi', 'psi', 100\n",
    ")"
   ]
  },
  {
   "cell_type": "code",
   "execution_count": null,
   "metadata": {},
   "outputs": [],
   "source": [
    "edge_vor = scipy.spatial.Voronoi(discrete_phi_psi_edge_cluster_coords)\n",
    "\n",
    "plt.clf()\n",
    "fig = scipy.spatial.voronoi_plot_2d(edge_vor, show_vertices=False)\n",
    "fig.set_size_inches(10, 10)\n",
    "plt.savefig('Edge_phi_psi_discrete_bins_voronoi_points.svg')\n",
    "plt.show()"
   ]
  },
  {
   "cell_type": "code",
   "execution_count": null,
   "metadata": {},
   "outputs": [],
   "source": [
    "(discrete_phi_psi_edge_propensity, discrete_phi_psi_edge_frequency, discrete_phi_psi_edge_normed_frequencies\n",
    ") = calc_discrete_2d_indv_aa_propensities(\n",
    "    edge_sandwich_df, 'phi', 'psi', aa_dict, discrete_phi_psi_edge_cluster_coords\n",
    ")"
   ]
  },
  {
   "cell_type": "code",
   "execution_count": null,
   "metadata": {},
   "outputs": [],
   "source": [
    "discrete_phi_psi_edge_propensity"
   ]
  },
  {
   "cell_type": "code",
   "execution_count": null,
   "metadata": {},
   "outputs": [],
   "source": [
    "discrete_phi_psi_edge_frequency"
   ]
  },
  {
   "cell_type": "code",
   "execution_count": null,
   "metadata": {
    "scrolled": true
   },
   "outputs": [],
   "source": [
    "plot_ramachandran_heat_map(\n",
    "    discrete_phi_psi_edge_propensity, discrete_phi_psi_edge_cluster_coords, True,\n",
    "    'Edge_Ramachandran_propensity_plot'\n",
    ")"
   ]
  },
  {
   "cell_type": "code",
   "execution_count": null,
   "metadata": {},
   "outputs": [],
   "source": [
    "plot_ramachandran_heat_map(\n",
    "    discrete_phi_psi_edge_frequency, discrete_phi_psi_edge_cluster_coords, True,\n",
    "    'Edge_Ramachandran_frequency_plot'\n",
    ")"
   ]
  },
  {
   "cell_type": "markdown",
   "metadata": {},
   "source": [
    "Central strands"
   ]
  },
  {
   "cell_type": "code",
   "execution_count": null,
   "metadata": {
    "scrolled": false
   },
   "outputs": [],
   "source": [
    "discrete_phi_psi_cen_cluster_coords, discrete_phi_psi_cen_cluster_dataframe = calc_voronoi_points(\n",
    "    cen_sandwich_df, 'phi', 'psi', 100\n",
    ")"
   ]
  },
  {
   "cell_type": "code",
   "execution_count": null,
   "metadata": {},
   "outputs": [],
   "source": [
    "cen_vor = scipy.spatial.Voronoi(discrete_phi_psi_cen_cluster_coords)\n",
    "\n",
    "plt.clf()\n",
    "fig = scipy.spatial.voronoi_plot_2d(cen_vor, show_vertices=False)\n",
    "fig.set_size_inches(10, 10)\n",
    "plt.savefig('Cen_phi_psi_discrete_bins_voronoi_points.svg')\n",
    "plt.show()"
   ]
  },
  {
   "cell_type": "code",
   "execution_count": null,
   "metadata": {},
   "outputs": [],
   "source": [
    "(\n",
    "    discrete_phi_psi_cen_propensity, discrete_phi_psi_cen_frequency, discrete_phi_psi_cen_normed_frequencies\n",
    ") = calc_discrete_2d_indv_aa_propensities(\n",
    "    cen_sandwich_df, 'phi', 'psi', aa_dict, discrete_phi_psi_cen_cluster_coords\n",
    ")"
   ]
  },
  {
   "cell_type": "code",
   "execution_count": null,
   "metadata": {},
   "outputs": [],
   "source": [
    "discrete_phi_psi_cen_propensity"
   ]
  },
  {
   "cell_type": "code",
   "execution_count": null,
   "metadata": {},
   "outputs": [],
   "source": [
    "discrete_phi_psi_cen_frequency"
   ]
  },
  {
   "cell_type": "code",
   "execution_count": null,
   "metadata": {},
   "outputs": [],
   "source": [
    "plot_ramachandran_heat_map(\n",
    "    discrete_phi_psi_cen_propensity, discrete_phi_psi_cen_cluster_coords, True,\n",
    "    'Cen_Ramachandran_propensity_plot'\n",
    ")"
   ]
  },
  {
   "cell_type": "code",
   "execution_count": null,
   "metadata": {},
   "outputs": [],
   "source": [
    "plot_ramachandran_heat_map(\n",
    "    discrete_phi_psi_cen_frequency, discrete_phi_psi_cen_cluster_coords, True,\n",
    "    'Cen_Ramachandran_frequency_plot'\n",
    ")"
   ]
  },
  {
   "cell_type": "markdown",
   "metadata": {},
   "source": [
    "### Amino acid pairs propensities"
   ]
  },
  {
   "cell_type": "code",
   "execution_count": null,
   "metadata": {},
   "outputs": [],
   "source": [
    "os.chdir('..')\n",
    "if not os.path.isdir('Discrete_propensities_pairs_aas'):\n",
    "    os.mkdir('Discrete_propensities_pairs_aas')\n",
    "os.chdir('Discrete_propensities_pairs_aas')"
   ]
  },
  {
   "cell_type": "markdown",
   "metadata": {},
   "source": [
    "#### Hydrogen bonding pairs"
   ]
  },
  {
   "cell_type": "markdown",
   "metadata": {},
   "source": [
    "All sandwich residues"
   ]
  },
  {
   "cell_type": "code",
   "execution_count": null,
   "metadata": {},
   "outputs": [],
   "source": [
    "hb_aa_pairs = gen_neighbouring_pairs_list(sandwich_df, sandwich_df, 'hb_pairs', aa_dict)\n",
    "(hb_aa_pair_propensity, hb_aa_pair_frequency, hb_aa_pair_normed_frequencies\n",
    ") = calc_aa_pair_propensities(hb_aa_pairs, aa_dict)"
   ]
  },
  {
   "cell_type": "code",
   "execution_count": null,
   "metadata": {
    "scrolled": false
   },
   "outputs": [],
   "source": [
    "hb_aa_pair_propensity"
   ]
  },
  {
   "cell_type": "code",
   "execution_count": null,
   "metadata": {},
   "outputs": [],
   "source": [
    "hb_aa_pair_frequency"
   ]
  },
  {
   "cell_type": "code",
   "execution_count": null,
   "metadata": {},
   "outputs": [],
   "source": [
    "plot_heat_map(hb_aa_pair_propensity, True, 'HB_pairs_propensity')"
   ]
  },
  {
   "cell_type": "code",
   "execution_count": null,
   "metadata": {},
   "outputs": [],
   "source": [
    "plot_heat_map(hb_aa_pair_frequency, True, 'HB_pairs_frequency')"
   ]
  },
  {
   "cell_type": "markdown",
   "metadata": {},
   "source": [
    "Core"
   ]
  },
  {
   "cell_type": "code",
   "execution_count": null,
   "metadata": {},
   "outputs": [],
   "source": [
    "hb_core_aa_pairs = gen_neighbouring_pairs_list(core_sandwich_df, sandwich_df, 'hb_pairs', aa_dict)\n",
    "(hb_core_aa_pair_propensity, hb_core_aa_pair_frequency, hb_core_aa_pair_normed_frequencies\n",
    ") = calc_aa_pair_propensities(hb_core_aa_pairs, aa_dict)"
   ]
  },
  {
   "cell_type": "code",
   "execution_count": null,
   "metadata": {},
   "outputs": [],
   "source": [
    "hb_core_aa_pair_propensity"
   ]
  },
  {
   "cell_type": "code",
   "execution_count": null,
   "metadata": {},
   "outputs": [],
   "source": [
    "hb_core_aa_pair_frequency"
   ]
  },
  {
   "cell_type": "code",
   "execution_count": null,
   "metadata": {},
   "outputs": [],
   "source": [
    "plot_heat_map(hb_core_aa_pair_propensity, True, 'Core_HB_pairs_propensity')"
   ]
  },
  {
   "cell_type": "code",
   "execution_count": null,
   "metadata": {},
   "outputs": [],
   "source": [
    "plot_heat_map(hb_core_aa_pair_frequency, True, 'Core_HB_pairs_frequency')"
   ]
  },
  {
   "cell_type": "markdown",
   "metadata": {},
   "source": [
    "Surface"
   ]
  },
  {
   "cell_type": "code",
   "execution_count": null,
   "metadata": {},
   "outputs": [],
   "source": [
    "hb_surf_aa_pairs = gen_neighbouring_pairs_list(surf_sandwich_df, sandwich_df, 'hb_pairs', aa_dict)\n",
    "(hb_surf_aa_pair_propensity, hb_surf_aa_pair_frequency, hb_surf_aa_pair_normed_frequencies\n",
    ") = calc_aa_pair_propensities(hb_surf_aa_pairs, aa_dict)"
   ]
  },
  {
   "cell_type": "code",
   "execution_count": null,
   "metadata": {},
   "outputs": [],
   "source": [
    "hb_surf_aa_pair_propensity"
   ]
  },
  {
   "cell_type": "code",
   "execution_count": null,
   "metadata": {},
   "outputs": [],
   "source": [
    "hb_surf_aa_pair_frequency"
   ]
  },
  {
   "cell_type": "code",
   "execution_count": null,
   "metadata": {},
   "outputs": [],
   "source": [
    "plot_heat_map(hb_surf_aa_pair_propensity, True, 'Surf_HB_pairs_propensity')"
   ]
  },
  {
   "cell_type": "code",
   "execution_count": null,
   "metadata": {},
   "outputs": [],
   "source": [
    "plot_heat_map(hb_surf_aa_pair_frequency, True, 'Surf_HB_pairs_frequency')"
   ]
  },
  {
   "cell_type": "markdown",
   "metadata": {},
   "source": [
    "#### Non-hydrogen bonding pairs"
   ]
  },
  {
   "cell_type": "markdown",
   "metadata": {},
   "source": [
    "All sandwich residues"
   ]
  },
  {
   "cell_type": "code",
   "execution_count": null,
   "metadata": {},
   "outputs": [],
   "source": [
    "nhb_aa_pairs = gen_neighbouring_pairs_list(sandwich_df, sandwich_df, 'nhb_pairs', aa_dict)\n",
    "(nhb_aa_pair_propensity, nhb_aa_pair_frequency, nhb_aa_pair_normed_frequencies\n",
    ") = calc_aa_pair_propensities(nhb_aa_pairs, aa_dict)"
   ]
  },
  {
   "cell_type": "code",
   "execution_count": null,
   "metadata": {},
   "outputs": [],
   "source": [
    "nhb_aa_pair_propensity"
   ]
  },
  {
   "cell_type": "code",
   "execution_count": null,
   "metadata": {},
   "outputs": [],
   "source": [
    "nhb_aa_pair_frequency"
   ]
  },
  {
   "cell_type": "code",
   "execution_count": null,
   "metadata": {},
   "outputs": [],
   "source": [
    "plot_heat_map(nhb_aa_pair_propensity, True, 'NHB_pairs_propensity')"
   ]
  },
  {
   "cell_type": "code",
   "execution_count": null,
   "metadata": {},
   "outputs": [],
   "source": [
    "plot_heat_map(nhb_aa_pair_frequency, True, 'NHB_pairs_frequency')"
   ]
  },
  {
   "cell_type": "markdown",
   "metadata": {},
   "source": [
    "Core"
   ]
  },
  {
   "cell_type": "code",
   "execution_count": null,
   "metadata": {},
   "outputs": [],
   "source": [
    "nhb_core_aa_pairs = gen_neighbouring_pairs_list(core_sandwich_df, sandwich_df, 'nhb_pairs', aa_dict)\n",
    "(nhb_core_aa_pair_propensity, nhb_core_aa_pair_frequency, nhb_core_aa_pair_normed_frequencies\n",
    ") = calc_aa_pair_propensities(nhb_core_aa_pairs, aa_dict)"
   ]
  },
  {
   "cell_type": "code",
   "execution_count": null,
   "metadata": {},
   "outputs": [],
   "source": [
    "nhb_core_aa_pair_propensity"
   ]
  },
  {
   "cell_type": "code",
   "execution_count": null,
   "metadata": {},
   "outputs": [],
   "source": [
    "nhb_core_aa_pair_frequency"
   ]
  },
  {
   "cell_type": "code",
   "execution_count": null,
   "metadata": {},
   "outputs": [],
   "source": [
    "plot_heat_map(nhb_core_aa_pair_propensity, True, 'Core_NHB_pairs_propensity')"
   ]
  },
  {
   "cell_type": "code",
   "execution_count": null,
   "metadata": {},
   "outputs": [],
   "source": [
    "plot_heat_map(nhb_core_aa_pair_frequency, True, 'Core_NHB_pairs_frequency')"
   ]
  },
  {
   "cell_type": "markdown",
   "metadata": {},
   "source": [
    "Surface"
   ]
  },
  {
   "cell_type": "code",
   "execution_count": null,
   "metadata": {},
   "outputs": [],
   "source": [
    "nhb_surf_aa_pairs = gen_neighbouring_pairs_list(surf_sandwich_df, sandwich_df, 'nhb_pairs', aa_dict)\n",
    "(nhb_surf_aa_pair_propensity, nhb_surf_aa_pair_frequency, nhb_surf_aa_pair_normed_frequencies\n",
    ") = calc_aa_pair_propensities(nhb_surf_aa_pairs, aa_dict)"
   ]
  },
  {
   "cell_type": "code",
   "execution_count": null,
   "metadata": {},
   "outputs": [],
   "source": [
    "nhb_surf_aa_pair_propensity"
   ]
  },
  {
   "cell_type": "code",
   "execution_count": null,
   "metadata": {},
   "outputs": [],
   "source": [
    "nhb_surf_aa_pair_frequency"
   ]
  },
  {
   "cell_type": "code",
   "execution_count": null,
   "metadata": {},
   "outputs": [],
   "source": [
    "plot_heat_map(nhb_surf_aa_pair_propensity, True, 'Surf_NHB_pairs_propensity')"
   ]
  },
  {
   "cell_type": "code",
   "execution_count": null,
   "metadata": {},
   "outputs": [],
   "source": [
    "plot_heat_map(nhb_surf_aa_pair_frequency, True, 'Surf_NHB_pairs_frequency')"
   ]
  },
  {
   "cell_type": "markdown",
   "metadata": {},
   "source": [
    "#### Minus 2 pairs"
   ]
  },
  {
   "cell_type": "markdown",
   "metadata": {},
   "source": [
    "All sandwich residues"
   ]
  },
  {
   "cell_type": "code",
   "execution_count": null,
   "metadata": {},
   "outputs": [],
   "source": [
    "minus2_aa_pairs = gen_neighbouring_pairs_list(sandwich_df, sandwich_df, 'minus_2', aa_dict)\n",
    "(minus2_aa_pair_propensity, minus2_aa_pair_frequency, minus2_aa_pair_normed_frequencies\n",
    ") = calc_aa_pair_propensities(minus2_aa_pairs, aa_dict)"
   ]
  },
  {
   "cell_type": "code",
   "execution_count": null,
   "metadata": {},
   "outputs": [],
   "source": [
    "minus2_aa_pair_propensity"
   ]
  },
  {
   "cell_type": "code",
   "execution_count": null,
   "metadata": {},
   "outputs": [],
   "source": [
    "minus2_aa_pair_frequency"
   ]
  },
  {
   "cell_type": "code",
   "execution_count": null,
   "metadata": {},
   "outputs": [],
   "source": [
    "plot_heat_map(minus2_aa_pair_propensity, True, 'Minus2_pairs_propensity')"
   ]
  },
  {
   "cell_type": "code",
   "execution_count": null,
   "metadata": {},
   "outputs": [],
   "source": [
    "plot_heat_map(minus2_aa_pair_frequency, True, 'Minus2_pairs_frequency')"
   ]
  },
  {
   "cell_type": "markdown",
   "metadata": {},
   "source": [
    "Core"
   ]
  },
  {
   "cell_type": "code",
   "execution_count": null,
   "metadata": {},
   "outputs": [],
   "source": [
    "minus2_core_aa_pairs = gen_neighbouring_pairs_list(core_sandwich_df, sandwich_df, 'minus_2', aa_dict)\n",
    "(minus2_core_aa_pair_propensity, minus2_core_aa_pair_frequency, minus2_core_aa_pair_normed_frequencies\n",
    ") = calc_aa_pair_propensities(minus2_core_aa_pairs, aa_dict)"
   ]
  },
  {
   "cell_type": "code",
   "execution_count": null,
   "metadata": {},
   "outputs": [],
   "source": [
    "minus2_core_aa_pair_propensity"
   ]
  },
  {
   "cell_type": "code",
   "execution_count": null,
   "metadata": {},
   "outputs": [],
   "source": [
    "minus2_core_aa_pair_frequency"
   ]
  },
  {
   "cell_type": "code",
   "execution_count": null,
   "metadata": {},
   "outputs": [],
   "source": [
    "plot_heat_map(minus2_core_aa_pair_propensity, True, 'Core_Minus2_pairs_propensity')"
   ]
  },
  {
   "cell_type": "code",
   "execution_count": null,
   "metadata": {},
   "outputs": [],
   "source": [
    "plot_heat_map(minus2_core_aa_pair_frequency, True, 'Core_Minus2_pairs_frequency')"
   ]
  },
  {
   "cell_type": "markdown",
   "metadata": {},
   "source": [
    "Surface"
   ]
  },
  {
   "cell_type": "code",
   "execution_count": null,
   "metadata": {},
   "outputs": [],
   "source": [
    "minus2_surf_aa_pairs = gen_neighbouring_pairs_list(surf_sandwich_df, sandwich_df, 'minus_2', aa_dict)\n",
    "(minus2_surf_aa_pair_propensity, minus2_surf_aa_pair_frequency, minus2_surf_aa_pair_normed_frequencies\n",
    ") = calc_aa_pair_propensities(minus2_surf_aa_pairs, aa_dict)"
   ]
  },
  {
   "cell_type": "code",
   "execution_count": null,
   "metadata": {},
   "outputs": [],
   "source": [
    "minus2_surf_aa_pair_propensity"
   ]
  },
  {
   "cell_type": "code",
   "execution_count": null,
   "metadata": {},
   "outputs": [],
   "source": [
    "minus2_surf_aa_pair_frequency"
   ]
  },
  {
   "cell_type": "code",
   "execution_count": null,
   "metadata": {},
   "outputs": [],
   "source": [
    "plot_heat_map(minus2_surf_aa_pair_propensity, True, 'Surf_Minus2_pairs_propensity')"
   ]
  },
  {
   "cell_type": "code",
   "execution_count": null,
   "metadata": {},
   "outputs": [],
   "source": [
    "plot_heat_map(minus2_surf_aa_pair_frequency, True, 'Surf_Minus2_pairs_frequency')"
   ]
  },
  {
   "cell_type": "markdown",
   "metadata": {},
   "source": [
    "Edge strands"
   ]
  },
  {
   "cell_type": "code",
   "execution_count": null,
   "metadata": {},
   "outputs": [],
   "source": [
    "minus2_edge_aa_pairs = gen_neighbouring_pairs_list(edge_sandwich_df, sandwich_df, 'minus_2', aa_dict)\n",
    "(minus2_edge_aa_pair_propensity, minus2_edge_aa_pair_frequency, minus2_edge_aa_pair_normed_frequencies\n",
    ") = calc_aa_pair_propensities(minus2_edge_aa_pairs, aa_dict)"
   ]
  },
  {
   "cell_type": "code",
   "execution_count": null,
   "metadata": {},
   "outputs": [],
   "source": [
    "minus2_edge_aa_pair_propensity"
   ]
  },
  {
   "cell_type": "code",
   "execution_count": null,
   "metadata": {},
   "outputs": [],
   "source": [
    "minus2_edge_aa_pair_frequency"
   ]
  },
  {
   "cell_type": "code",
   "execution_count": null,
   "metadata": {},
   "outputs": [],
   "source": [
    "plot_heat_map(minus2_edge_aa_pair_propensity, True, 'Edge_Minus2_pairs_propensity')"
   ]
  },
  {
   "cell_type": "code",
   "execution_count": null,
   "metadata": {},
   "outputs": [],
   "source": [
    "plot_heat_map(minus2_edge_aa_pair_frequency, True, 'Edge_Minus2_pairs_frequency')"
   ]
  },
  {
   "cell_type": "markdown",
   "metadata": {},
   "source": [
    "Central strands"
   ]
  },
  {
   "cell_type": "code",
   "execution_count": null,
   "metadata": {},
   "outputs": [],
   "source": [
    "minus2_cen_aa_pairs = gen_neighbouring_pairs_list(cen_sandwich_df, sandwich_df, 'minus_2', aa_dict)\n",
    "(minus2_cen_aa_pair_propensity, minus2_cen_aa_pair_frequency, minus2_cen_aa_pair_normed_frequencies\n",
    ") = calc_aa_pair_propensities(minus2_cen_aa_pairs, aa_dict)"
   ]
  },
  {
   "cell_type": "code",
   "execution_count": null,
   "metadata": {},
   "outputs": [],
   "source": [
    "minus2_cen_aa_pair_propensity"
   ]
  },
  {
   "cell_type": "code",
   "execution_count": null,
   "metadata": {},
   "outputs": [],
   "source": [
    "minus2_cen_aa_pair_frequency"
   ]
  },
  {
   "cell_type": "code",
   "execution_count": null,
   "metadata": {},
   "outputs": [],
   "source": [
    "plot_heat_map(minus2_cen_aa_pair_propensity, True, 'Cen_Minus2_pairs_propensity')"
   ]
  },
  {
   "cell_type": "code",
   "execution_count": null,
   "metadata": {},
   "outputs": [],
   "source": [
    "plot_heat_map(minus2_cen_aa_pair_frequency, True, 'Cen_Minus2_pairs_frequency')"
   ]
  },
  {
   "cell_type": "markdown",
   "metadata": {},
   "source": [
    "#### Minus 1 pairs"
   ]
  },
  {
   "cell_type": "markdown",
   "metadata": {},
   "source": [
    "All sandwich residues"
   ]
  },
  {
   "cell_type": "code",
   "execution_count": null,
   "metadata": {},
   "outputs": [],
   "source": [
    "minus1_aa_pairs = gen_neighbouring_pairs_list(sandwich_df, sandwich_df, 'minus_1', aa_dict)\n",
    "(minus1_aa_pair_propensity, minus1_aa_pair_frequency, minus1_aa_pair_normed_frequencies\n",
    ") = calc_aa_pair_propensities(minus1_aa_pairs, aa_dict)"
   ]
  },
  {
   "cell_type": "code",
   "execution_count": null,
   "metadata": {},
   "outputs": [],
   "source": [
    "minus1_aa_pair_propensity"
   ]
  },
  {
   "cell_type": "code",
   "execution_count": null,
   "metadata": {},
   "outputs": [],
   "source": [
    "minus1_aa_pair_frequency"
   ]
  },
  {
   "cell_type": "code",
   "execution_count": null,
   "metadata": {},
   "outputs": [],
   "source": [
    "plot_heat_map(minus1_aa_pair_propensity, True, 'Minus1_pairs_propensity')"
   ]
  },
  {
   "cell_type": "code",
   "execution_count": null,
   "metadata": {},
   "outputs": [],
   "source": [
    "plot_heat_map(minus1_aa_pair_frequency, True, 'Minus1_pairs_frequency')"
   ]
  },
  {
   "cell_type": "markdown",
   "metadata": {},
   "source": [
    "Core"
   ]
  },
  {
   "cell_type": "code",
   "execution_count": null,
   "metadata": {},
   "outputs": [],
   "source": [
    "minus1_core_aa_pairs = gen_neighbouring_pairs_list(core_sandwich_df, sandwich_df, 'minus_1', aa_dict)\n",
    "(minus1_core_aa_pair_propensity, minus1_core_aa_pair_frequency, minus1_core_aa_pair_normed_frequencies\n",
    ") = calc_aa_pair_propensities(minus1_core_aa_pairs, aa_dict)"
   ]
  },
  {
   "cell_type": "code",
   "execution_count": null,
   "metadata": {},
   "outputs": [],
   "source": [
    "minus1_core_aa_pair_propensity"
   ]
  },
  {
   "cell_type": "code",
   "execution_count": null,
   "metadata": {},
   "outputs": [],
   "source": [
    "minus1_core_aa_pair_frequency"
   ]
  },
  {
   "cell_type": "code",
   "execution_count": null,
   "metadata": {},
   "outputs": [],
   "source": [
    "plot_heat_map(minus1_core_aa_pair_propensity, True, 'Core_minus1_pairs_propensity')"
   ]
  },
  {
   "cell_type": "code",
   "execution_count": null,
   "metadata": {},
   "outputs": [],
   "source": [
    "plot_heat_map(minus1_core_aa_pair_frequency, True, 'Core_minus1_pairs_frequency')"
   ]
  },
  {
   "cell_type": "markdown",
   "metadata": {},
   "source": [
    "Surface"
   ]
  },
  {
   "cell_type": "code",
   "execution_count": null,
   "metadata": {},
   "outputs": [],
   "source": [
    "minus1_surf_aa_pairs = gen_neighbouring_pairs_list(surf_sandwich_df, sandwich_df, 'minus_1', aa_dict)\n",
    "(minus1_surf_aa_pair_propensity, minus1_surf_aa_pair_frequency, minus1_surf_aa_pair_normed_frequencies\n",
    ") = calc_aa_pair_propensities(minus1_surf_aa_pairs, aa_dict)"
   ]
  },
  {
   "cell_type": "code",
   "execution_count": null,
   "metadata": {},
   "outputs": [],
   "source": [
    "minus1_surf_aa_pair_propensity"
   ]
  },
  {
   "cell_type": "code",
   "execution_count": null,
   "metadata": {},
   "outputs": [],
   "source": [
    "minus1_surf_aa_pair_frequency"
   ]
  },
  {
   "cell_type": "code",
   "execution_count": null,
   "metadata": {},
   "outputs": [],
   "source": [
    "plot_heat_map(minus1_surf_aa_pair_propensity, True, 'Surf_minus1_pairs_propensity')"
   ]
  },
  {
   "cell_type": "code",
   "execution_count": null,
   "metadata": {},
   "outputs": [],
   "source": [
    "plot_heat_map(minus1_surf_aa_pair_frequency, True, 'Surf_minus1_pairs_frequency')"
   ]
  },
  {
   "cell_type": "markdown",
   "metadata": {},
   "source": [
    "Edge strands"
   ]
  },
  {
   "cell_type": "code",
   "execution_count": null,
   "metadata": {},
   "outputs": [],
   "source": [
    "minus1_edge_aa_pairs = gen_neighbouring_pairs_list(edge_sandwich_df, sandwich_df, 'minus_1', aa_dict)\n",
    "(minus1_edge_aa_pair_propensity, minus1_edge_aa_pair_frequency, minus1_edge_aa_pair_normed_frequencies\n",
    ") = calc_aa_pair_propensities(minus1_edge_aa_pairs, aa_dict)"
   ]
  },
  {
   "cell_type": "code",
   "execution_count": null,
   "metadata": {},
   "outputs": [],
   "source": [
    "minus1_edge_aa_pair_propensity"
   ]
  },
  {
   "cell_type": "code",
   "execution_count": null,
   "metadata": {},
   "outputs": [],
   "source": [
    "minus1_edge_aa_pair_frequency"
   ]
  },
  {
   "cell_type": "code",
   "execution_count": null,
   "metadata": {},
   "outputs": [],
   "source": [
    "plot_heat_map(minus1_edge_aa_pair_propensity, True, 'Edge_minus1_pairs_propensity')"
   ]
  },
  {
   "cell_type": "code",
   "execution_count": null,
   "metadata": {},
   "outputs": [],
   "source": [
    "plot_heat_map(minus1_edge_aa_pair_frequency, True, 'Edge_minus1_pairs_frequency')"
   ]
  },
  {
   "cell_type": "markdown",
   "metadata": {},
   "source": [
    "Central strands"
   ]
  },
  {
   "cell_type": "code",
   "execution_count": null,
   "metadata": {},
   "outputs": [],
   "source": [
    "minus1_cen_aa_pairs = gen_neighbouring_pairs_list(cen_sandwich_df, sandwich_df, 'minus_1', aa_dict)\n",
    "(minus1_cen_aa_pair_propensity, minus1_cen_aa_pair_frequency, minus1_cen_aa_pair_normed_frequencies\n",
    ") = calc_aa_pair_propensities(minus1_cen_aa_pairs, aa_dict)"
   ]
  },
  {
   "cell_type": "code",
   "execution_count": null,
   "metadata": {},
   "outputs": [],
   "source": [
    "minus1_cen_aa_pair_propensity"
   ]
  },
  {
   "cell_type": "code",
   "execution_count": null,
   "metadata": {},
   "outputs": [],
   "source": [
    "minus1_cen_aa_pair_frequency"
   ]
  },
  {
   "cell_type": "code",
   "execution_count": null,
   "metadata": {},
   "outputs": [],
   "source": [
    "plot_heat_map(minus1_cen_aa_pair_propensity, True, 'Cen_minus1_pairs_propensity')"
   ]
  },
  {
   "cell_type": "code",
   "execution_count": null,
   "metadata": {},
   "outputs": [],
   "source": [
    "plot_heat_map(minus1_cen_aa_pair_frequency, True, 'Cen_minus1_pairs_frequency')"
   ]
  },
  {
   "cell_type": "markdown",
   "metadata": {},
   "source": [
    "#### Pairs in van der Waals contact"
   ]
  },
  {
   "cell_type": "markdown",
   "metadata": {},
   "source": [
    "All sandwich residues"
   ]
  },
  {
   "cell_type": "code",
   "execution_count": null,
   "metadata": {},
   "outputs": [],
   "source": [
    "vdw_aa_pairs = gen_neighbouring_pairs_list(sandwich_df, sandwich_df, 'van_der_waals', aa_dict)\n",
    "(vdw_aa_pair_propensity, vdw_aa_pair_frequency, vdw_aa_pair_normed_frequencies\n",
    ") = calc_aa_pair_propensities(vdw_aa_pairs, aa_dict)"
   ]
  },
  {
   "cell_type": "code",
   "execution_count": null,
   "metadata": {},
   "outputs": [],
   "source": [
    "vdw_aa_pair_propensity"
   ]
  },
  {
   "cell_type": "code",
   "execution_count": null,
   "metadata": {},
   "outputs": [],
   "source": [
    "vdw_aa_pair_frequency"
   ]
  },
  {
   "cell_type": "code",
   "execution_count": null,
   "metadata": {},
   "outputs": [],
   "source": [
    "plot_heat_map(vdw_aa_pair_propensity, True, 'VDW_pairs_propensity')"
   ]
  },
  {
   "cell_type": "code",
   "execution_count": null,
   "metadata": {},
   "outputs": [],
   "source": [
    "plot_heat_map(vdw_aa_pair_frequency, True, 'VDW_pairs_frequency')"
   ]
  },
  {
   "cell_type": "markdown",
   "metadata": {},
   "source": [
    "Core"
   ]
  },
  {
   "cell_type": "code",
   "execution_count": null,
   "metadata": {},
   "outputs": [],
   "source": [
    "vdw_core_aa_pairs = gen_neighbouring_pairs_list(core_sandwich_df, sandwich_df, 'van_der_waals', aa_dict)\n",
    "(vdw_core_aa_pair_propensity, vdw_core_aa_pair_frequency, vdw_core_aa_pair_normed_frequencies\n",
    ") = calc_aa_pair_propensities(vdw_core_aa_pairs, aa_dict)"
   ]
  },
  {
   "cell_type": "code",
   "execution_count": null,
   "metadata": {},
   "outputs": [],
   "source": [
    "vdw_core_aa_pair_propensity"
   ]
  },
  {
   "cell_type": "code",
   "execution_count": null,
   "metadata": {},
   "outputs": [],
   "source": [
    "vdw_core_aa_pair_frequency"
   ]
  },
  {
   "cell_type": "code",
   "execution_count": null,
   "metadata": {},
   "outputs": [],
   "source": [
    "plot_heat_map(vdw_core_aa_pair_propensity, True, 'Core_VDW_pairs_propensity')"
   ]
  },
  {
   "cell_type": "code",
   "execution_count": null,
   "metadata": {},
   "outputs": [],
   "source": [
    "plot_heat_map(vdw_core_aa_pair_frequency, True, 'Core_VDW_pairs_frequency')"
   ]
  },
  {
   "cell_type": "markdown",
   "metadata": {},
   "source": [
    "Surface"
   ]
  },
  {
   "cell_type": "code",
   "execution_count": null,
   "metadata": {},
   "outputs": [],
   "source": [
    "vdw_surf_aa_pairs = gen_neighbouring_pairs_list(surf_sandwich_df, sandwich_df, 'van_der_waals', aa_dict)\n",
    "(vdw_surf_aa_pair_propensity, vdw_surf_aa_pair_frequency, vdw_surf_aa_pair_normed_frequencies\n",
    ") = calc_aa_pair_propensities(vdw_surf_aa_pairs, aa_dict)"
   ]
  },
  {
   "cell_type": "code",
   "execution_count": null,
   "metadata": {},
   "outputs": [],
   "source": [
    "vdw_surf_aa_pair_propensity"
   ]
  },
  {
   "cell_type": "code",
   "execution_count": null,
   "metadata": {},
   "outputs": [],
   "source": [
    "vdw_surf_aa_pair_frequency"
   ]
  },
  {
   "cell_type": "code",
   "execution_count": null,
   "metadata": {},
   "outputs": [],
   "source": [
    "plot_heat_map(vdw_surf_aa_pair_propensity, True, 'Surf_VDW_pairs_propensity')"
   ]
  },
  {
   "cell_type": "code",
   "execution_count": null,
   "metadata": {},
   "outputs": [],
   "source": [
    "plot_heat_map(plus2_surf_aa_pair_frequency, True, 'Surf_VDW_pairs_frequency')"
   ]
  },
  {
   "cell_type": "markdown",
   "metadata": {},
   "source": [
    "Edge strands"
   ]
  },
  {
   "cell_type": "code",
   "execution_count": null,
   "metadata": {},
   "outputs": [],
   "source": [
    "vdw_edge_aa_pairs = gen_neighbouring_pairs_list(edge_sandwich_df, sandwich_df, 'van_der_waals', aa_dict)\n",
    "(vdw_edge_aa_pair_propensity, vdw_edge_aa_pair_frequency, vdw_edge_aa_pair_normed_frequencies\n",
    ") = calc_aa_pair_propensities(vdw_edge_aa_pairs, aa_dict)"
   ]
  },
  {
   "cell_type": "code",
   "execution_count": null,
   "metadata": {},
   "outputs": [],
   "source": [
    "vdw_edge_aa_pair_propensity"
   ]
  },
  {
   "cell_type": "code",
   "execution_count": null,
   "metadata": {},
   "outputs": [],
   "source": [
    "vdw_edge_aa_pair_frequency"
   ]
  },
  {
   "cell_type": "code",
   "execution_count": null,
   "metadata": {},
   "outputs": [],
   "source": [
    "plot_heat_map(vdw_edge_aa_pair_propensity, True, 'Edge_VDW_pairs_propensity')"
   ]
  },
  {
   "cell_type": "code",
   "execution_count": null,
   "metadata": {},
   "outputs": [],
   "source": [
    "plot_heat_map(vdw_edge_aa_pair_frequency, True, 'Edge_VDW_pairs_frequency')"
   ]
  },
  {
   "cell_type": "markdown",
   "metadata": {},
   "source": [
    "Central strands"
   ]
  },
  {
   "cell_type": "code",
   "execution_count": null,
   "metadata": {},
   "outputs": [],
   "source": [
    "vdw_cen_aa_pairs = gen_neighbouring_pairs_list(cen_sandwich_df, sandwich_df, 'van_der_waals', aa_dict)\n",
    "(vdw_cen_aa_pair_propensity, vdw_cen_aa_pair_frequency, vdw_cen_aa_pair_normed_frequencies\n",
    ") = calc_aa_pair_propensities(vdw_cen_aa_pairs, aa_dict)"
   ]
  },
  {
   "cell_type": "code",
   "execution_count": null,
   "metadata": {},
   "outputs": [],
   "source": [
    "vdw_cen_aa_pair_propensity"
   ]
  },
  {
   "cell_type": "code",
   "execution_count": null,
   "metadata": {},
   "outputs": [],
   "source": [
    "vdw_cen_aa_pair_frequency"
   ]
  },
  {
   "cell_type": "code",
   "execution_count": null,
   "metadata": {},
   "outputs": [],
   "source": [
    "plot_heat_map(vdw_cen_aa_pair_propensity, True, 'Cen_VDW_pairs_propensity')"
   ]
  },
  {
   "cell_type": "code",
   "execution_count": null,
   "metadata": {},
   "outputs": [],
   "source": [
    "plot_heat_map(plus2_cen_aa_pair_frequency, True, 'Cen_VDW_pairs_frequency')"
   ]
  },
  {
   "cell_type": "markdown",
   "metadata": {},
   "source": [
    "## Continuous propensity calculations"
   ]
  },
  {
   "cell_type": "code",
   "execution_count": null,
   "metadata": {},
   "outputs": [],
   "source": [
    "os.chdir('..')\n",
    "if not os.path.isdir('Continuous_propensities_indv_aas'):\n",
    "    os.mkdir('Continuous_propensities_indv_aas')\n",
    "os.chdir('Continuous_propensities_indv_aas')"
   ]
  },
  {
   "cell_type": "markdown",
   "metadata": {},
   "source": [
    "### 1D individual amino acid propensities"
   ]
  },
  {
   "cell_type": "markdown",
   "metadata": {},
   "source": [
    "All sandwich residues"
   ]
  },
  {
   "cell_type": "code",
   "execution_count": null,
   "metadata": {
    "scrolled": true
   },
   "outputs": [],
   "source": [
    "plot_aa_kdes(sandwich_df, ['sandwich_z_coords'], 'comparison', aa_dict, True, 'sandwich_z_coord_dist')"
   ]
  },
  {
   "cell_type": "code",
   "execution_count": null,
   "metadata": {
    "scrolled": true
   },
   "outputs": [],
   "source": [
    "plot_bootstrap_aa_kdes(sandwich_df, 'sandwich_z_coords', aa_dict, 100, True, 'sandwich_z_coord_dist_100_bootstrap')"
   ]
  },
  {
   "cell_type": "code",
   "execution_count": null,
   "metadata": {
    "scrolled": true
   },
   "outputs": [],
   "source": [
    "z_sandwich_propensity = plot_1d_indv_aa_propensities(\n",
    "    sandwich_df, 'sandwich_z_coords', aa_dict, 'True', 'sandwich_z_coord_propensity'\n",
    ")"
   ]
  },
  {
   "cell_type": "code",
   "execution_count": null,
   "metadata": {
    "scrolled": true
   },
   "outputs": [],
   "source": [
    "plot_aa_kdes(sandwich_df, ['strand_z_coords'], 'comparison', aa_dict, True, 'strand_z_coord_dist')"
   ]
  },
  {
   "cell_type": "code",
   "execution_count": null,
   "metadata": {},
   "outputs": [],
   "source": [
    "plot_bootstrap_aa_kdes(sandwich_df, 'strand_z_coords', aa_dict, 100, True, 'strand_z_coord_dist_100_bootstrap')"
   ]
  },
  {
   "cell_type": "code",
   "execution_count": null,
   "metadata": {
    "scrolled": true
   },
   "outputs": [],
   "source": [
    "z_strand_propensity = plot_1d_indv_aa_propensities(\n",
    "    sandwich_df, 'strand_z_coords', aa_dict, True, 'strand_z_coord_propensity'\n",
    ")"
   ]
  },
  {
   "cell_type": "code",
   "execution_count": null,
   "metadata": {
    "scrolled": true
   },
   "outputs": [],
   "source": [
    "plot_aa_kdes(sandwich_df, ['twist_angle_hb_pairs'], 'comparison', aa_dict, True, 'HB_twist_angle_dist')"
   ]
  },
  {
   "cell_type": "code",
   "execution_count": null,
   "metadata": {},
   "outputs": [],
   "source": [
    "plot_bootstrap_aa_kdes(\n",
    "    sandwich_df, 'twist_angle_hb_pairs', aa_dict, 100, True, 'HB_twist_angle_dist_100_bootstrap'\n",
    ")"
   ]
  },
  {
   "cell_type": "code",
   "execution_count": null,
   "metadata": {
    "scrolled": true
   },
   "outputs": [],
   "source": [
    "twist_hb_propensity = plot_1d_indv_aa_propensities(\n",
    "    sandwich_df, 'twist_angle_hb_pairs', aa_dict, True, 'HB_twist_angle_propensity'\n",
    ")"
   ]
  },
  {
   "cell_type": "code",
   "execution_count": null,
   "metadata": {
    "scrolled": true
   },
   "outputs": [],
   "source": [
    "plot_aa_kdes(sandwich_df, ['twist_angle_nhb_pairs'], 'comparison', aa_dict, True, 'NHB_twist_angle_dist')"
   ]
  },
  {
   "cell_type": "code",
   "execution_count": null,
   "metadata": {},
   "outputs": [],
   "source": [
    "plot_bootstrap_aa_kdes(\n",
    "    sandwich_df, 'twist_angle_nhb_pairs', aa_dict, 100, True, 'NHB_twist_angle_dist_100_bootstrap'\n",
    ")"
   ]
  },
  {
   "cell_type": "code",
   "execution_count": null,
   "metadata": {
    "scrolled": true
   },
   "outputs": [],
   "source": [
    "twist_nhb_propensity = plot_1d_indv_aa_propensities(\n",
    "    sandwich_df, 'twist_angle_nhb_pairs', aa_dict, True, 'NHB_twist_angle_propensity'\n",
    ")"
   ]
  },
  {
   "cell_type": "markdown",
   "metadata": {},
   "source": [
    "Core"
   ]
  },
  {
   "cell_type": "code",
   "execution_count": null,
   "metadata": {
    "scrolled": true
   },
   "outputs": [],
   "source": [
    "plot_aa_kdes(core_sandwich_df, ['sandwich_z_coords'], 'comparison', aa_dict, True, 'Core_sandwich_z_coord_dist')"
   ]
  },
  {
   "cell_type": "code",
   "execution_count": null,
   "metadata": {},
   "outputs": [],
   "source": [
    "plot_bootstrap_aa_kdes(\n",
    "    core_sandwich_df, 'sandwich_z_coords', aa_dict, 100, True, 'Core_sandwich_z_coord_dist_100_bootstrap'\n",
    ")"
   ]
  },
  {
   "cell_type": "code",
   "execution_count": null,
   "metadata": {
    "scrolled": true
   },
   "outputs": [],
   "source": [
    "z_sandwich_core_propensity = plot_1d_indv_aa_propensities(\n",
    "    core_sandwich_df, 'sandwich_z_coords', aa_dict, True, 'Core_sandwich_z_coord_propensity'\n",
    ")"
   ]
  },
  {
   "cell_type": "code",
   "execution_count": null,
   "metadata": {
    "scrolled": true
   },
   "outputs": [],
   "source": [
    "plot_aa_kdes(core_sandwich_df, ['strand_z_coords'], 'comparison', aa_dict, True, 'Core_strand_z_coord_dist')"
   ]
  },
  {
   "cell_type": "code",
   "execution_count": null,
   "metadata": {},
   "outputs": [],
   "source": [
    "plot_bootstrap_aa_kdes(\n",
    "    core_sandwich_df, 'strand_z_coords', aa_dict, 100, True, 'Core_strand_z_coord_dist_100_bootstrap'\n",
    ")"
   ]
  },
  {
   "cell_type": "code",
   "execution_count": null,
   "metadata": {
    "scrolled": true
   },
   "outputs": [],
   "source": [
    "z_strand_core_propensity = plot_1d_indv_aa_propensities(\n",
    "    core_sandwich_df, 'strand_z_coords', aa_dict, True, 'Core_strand_z_coord_propensity'\n",
    ")"
   ]
  },
  {
   "cell_type": "code",
   "execution_count": null,
   "metadata": {
    "scrolled": true
   },
   "outputs": [],
   "source": [
    "plot_aa_kdes(core_sandwich_df, ['twist_angle_hb_pairs'], 'comparison', aa_dict, True, 'Core_HB_twist_angle_dist')"
   ]
  },
  {
   "cell_type": "code",
   "execution_count": null,
   "metadata": {},
   "outputs": [],
   "source": [
    "plot_bootstrap_aa_kdes(\n",
    "    core_sandwich_df, 'twist_angle_hb_pairs', aa_dict, 100, True, 'Core_HB_twist_angle_dist_100_bootstrap'\n",
    ")"
   ]
  },
  {
   "cell_type": "code",
   "execution_count": null,
   "metadata": {
    "scrolled": true
   },
   "outputs": [],
   "source": [
    "core_twist_hb_propensity = plot_1d_indv_aa_propensities(\n",
    "    core_sandwich_df, 'twist_angle_hb_pairs', aa_dict, True, 'Core_HB_twist_angle_propensity'\n",
    ")"
   ]
  },
  {
   "cell_type": "code",
   "execution_count": null,
   "metadata": {
    "scrolled": true
   },
   "outputs": [],
   "source": [
    "plot_aa_kdes(core_sandwich_df, ['twist_angle_nhb_pairs'], 'comparison', aa_dict, True, 'Core_NHB_twist_angle_dist')"
   ]
  },
  {
   "cell_type": "code",
   "execution_count": null,
   "metadata": {},
   "outputs": [],
   "source": [
    "plot_bootstrap_aa_kdes(\n",
    "    core_sandwich_df, 'twist_angle_nhb_pairs', aa_dict, 100, True, 'Core_NHB_twist_angle_dist_100_bootstrap'\n",
    ")"
   ]
  },
  {
   "cell_type": "code",
   "execution_count": null,
   "metadata": {
    "scrolled": true
   },
   "outputs": [],
   "source": [
    "core_twist_nhb_propensity = plot_1d_indv_aa_propensities(\n",
    "    core_sandwich_df, 'twist_angle_nhb_pairs', aa_dict, True, 'Core_NHB_twist_angle_propensity'\n",
    ")"
   ]
  },
  {
   "cell_type": "markdown",
   "metadata": {},
   "source": [
    "Surface"
   ]
  },
  {
   "cell_type": "code",
   "execution_count": null,
   "metadata": {
    "scrolled": true
   },
   "outputs": [],
   "source": [
    "plot_aa_kdes(surf_sandwich_df, ['sandwich_z_coords'], 'comparison', aa_dict, True, 'Surf_sandwich_z_coord_dist')"
   ]
  },
  {
   "cell_type": "code",
   "execution_count": null,
   "metadata": {},
   "outputs": [],
   "source": [
    "plot_bootstrap_aa_kdes(\n",
    "    surf_sandwich_df, 'sandwich_z_coords', aa_dict, 100, True, 'Surf_sandwich_z_coord_dist_100_bootstrap'\n",
    ")"
   ]
  },
  {
   "cell_type": "code",
   "execution_count": null,
   "metadata": {
    "scrolled": true
   },
   "outputs": [],
   "source": [
    "z_sandwich_surf_propensity = plot_1d_indv_aa_propensities(\n",
    "    surf_sandwich_df, 'sandwich_z_coords', aa_dict, True, 'Surf_sandwich_z_coord_propensity'\n",
    ")"
   ]
  },
  {
   "cell_type": "code",
   "execution_count": null,
   "metadata": {
    "scrolled": true
   },
   "outputs": [],
   "source": [
    "plot_aa_kdes(surf_sandwich_df, ['strand_z_coords'], 'comparison', aa_dict, True, 'Surf_strand_z_coord_dist')"
   ]
  },
  {
   "cell_type": "code",
   "execution_count": null,
   "metadata": {},
   "outputs": [],
   "source": [
    "plot_bootstrap_aa_kdes(\n",
    "    surf_sandwich_df, 'strand_z_coords', aa_dict, 100, True, 'Surf_strand_z_coord_dist_100_bootstrap'\n",
    ")"
   ]
  },
  {
   "cell_type": "code",
   "execution_count": null,
   "metadata": {
    "scrolled": true
   },
   "outputs": [],
   "source": [
    "z_strand_surf_propensity = plot_1d_indv_aa_propensities(\n",
    "    surf_sandwich_df, 'strand_z_coords', aa_dict, True, 'Surf_strand_z_coord_propensity'\n",
    ")"
   ]
  },
  {
   "cell_type": "code",
   "execution_count": null,
   "metadata": {
    "scrolled": true
   },
   "outputs": [],
   "source": [
    "plot_aa_kdes(surf_sandwich_df, ['twist_angle_hb_pairs'], 'comparison', aa_dict, True, 'Surf_HB_twist_angle_dist')"
   ]
  },
  {
   "cell_type": "code",
   "execution_count": null,
   "metadata": {},
   "outputs": [],
   "source": [
    "plot_bootstrap_aa_kdes(\n",
    "    surf_sandwich_df, 'twist_angle_hb_pairs', aa_dict, 100, True, 'Surf_HB_twist_angle_dist_100_bootstrap'\n",
    ")"
   ]
  },
  {
   "cell_type": "code",
   "execution_count": null,
   "metadata": {
    "scrolled": true
   },
   "outputs": [],
   "source": [
    "surf_twist_hb_propensity = plot_1d_indv_aa_propensities(\n",
    "    surf_sandwich_df, 'twist_angle_hb_pairs', aa_dict, True, 'Surf_HB_twist_angle_propensity'\n",
    ")"
   ]
  },
  {
   "cell_type": "code",
   "execution_count": null,
   "metadata": {
    "scrolled": true
   },
   "outputs": [],
   "source": [
    "plot_aa_kdes(surf_sandwich_df, ['twist_angle_nhb_pairs'], 'comparison', aa_dict, True, 'Surf_NHB_twist_angle_dist')"
   ]
  },
  {
   "cell_type": "code",
   "execution_count": null,
   "metadata": {},
   "outputs": [],
   "source": [
    "plot_bootstrap_aa_kdes(\n",
    "    surf_sandwich_df, 'twist_angle_nhb_pairs', aa_dict, 100, True, 'Surf_NHB_twist_angle_dist_100_bootstrap'\n",
    ")"
   ]
  },
  {
   "cell_type": "code",
   "execution_count": null,
   "metadata": {
    "scrolled": true
   },
   "outputs": [],
   "source": [
    "surf_twist_nhb_propensity = plot_1d_indv_aa_propensities(\n",
    "    surf_sandwich_df, 'twist_angle_nhb_pairs', aa_dict, True, 'Surf_NHB_twist_angle_propensity'\n",
    ")"
   ]
  },
  {
   "cell_type": "markdown",
   "metadata": {},
   "source": [
    "Edge strands"
   ]
  },
  {
   "cell_type": "code",
   "execution_count": null,
   "metadata": {
    "scrolled": true
   },
   "outputs": [],
   "source": [
    "plot_aa_kdes(edge_sandwich_df, ['sandwich_z_coords'], 'comparison', aa_dict, True, 'Edge_sandwich_z_coord_dist')"
   ]
  },
  {
   "cell_type": "code",
   "execution_count": null,
   "metadata": {},
   "outputs": [],
   "source": [
    "plot_bootstrap_aa_kdes(\n",
    "    edge_sandwich_df, 'sandwich_z_coords', aa_dict, 100, True, 'Edge_sandwich_z_coord_dist_100_bootstrap'\n",
    ")"
   ]
  },
  {
   "cell_type": "code",
   "execution_count": null,
   "metadata": {
    "scrolled": true
   },
   "outputs": [],
   "source": [
    "z_sandwich_edge_propensity = plot_1d_indv_aa_propensities(\n",
    "    edge_sandwich_df, 'sandwich_z_coords', aa_dict, True, 'Edge_sandwich_z_coord_propensity'\n",
    ")"
   ]
  },
  {
   "cell_type": "code",
   "execution_count": null,
   "metadata": {
    "scrolled": true
   },
   "outputs": [],
   "source": [
    "plot_aa_kdes(edge_sandwich_df, ['strand_z_coords'], 'comparison', aa_dict, True, 'Edge_strand_z_coord_dist')"
   ]
  },
  {
   "cell_type": "code",
   "execution_count": null,
   "metadata": {},
   "outputs": [],
   "source": [
    "plot_bootstrap_aa_kdes(\n",
    "    edge_sandwich_df, 'strand_z_coords', aa_dict, 100, True, 'Edge_strand_z_coord_dist_100_bootstrap'\n",
    ")"
   ]
  },
  {
   "cell_type": "code",
   "execution_count": null,
   "metadata": {
    "scrolled": true
   },
   "outputs": [],
   "source": [
    "z_strand_edge_propensity = plot_1d_indv_aa_propensities(\n",
    "    edge_sandwich_df, 'strand_z_coords', aa_dict, True, 'Edge_strand_z_coord_propensity'\n",
    ")"
   ]
  },
  {
   "cell_type": "markdown",
   "metadata": {},
   "source": [
    "Central strands"
   ]
  },
  {
   "cell_type": "code",
   "execution_count": null,
   "metadata": {
    "scrolled": true
   },
   "outputs": [],
   "source": [
    "plot_aa_kdes(cen_sandwich_df, ['sandwich_z_coords'], 'comparison', aa_dict, True, 'Cen_sandwich_z_coord_dist')"
   ]
  },
  {
   "cell_type": "code",
   "execution_count": null,
   "metadata": {},
   "outputs": [],
   "source": [
    "plot_bootstrap_aa_kdes(\n",
    "    cen_sandwich_df, 'sandwich_z_coords', aa_dict, 100, True, 'Cen_sandwich_z_coord_dist_100_bootstrap'\n",
    ")"
   ]
  },
  {
   "cell_type": "code",
   "execution_count": null,
   "metadata": {
    "scrolled": true
   },
   "outputs": [],
   "source": [
    "z_sandwich_cen_propensity = plot_1d_indv_aa_propensities(\n",
    "    cen_sandwich_df, 'sandwich_z_coords', aa_dict, True, 'Cen_sandwich_z_coord_propensity'\n",
    ")"
   ]
  },
  {
   "cell_type": "code",
   "execution_count": null,
   "metadata": {
    "scrolled": true
   },
   "outputs": [],
   "source": [
    "plot_aa_kdes(cen_sandwich_df, ['strand_z_coords'], 'comparison', aa_dict, True, 'Cen_strand_z_coord_dist')"
   ]
  },
  {
   "cell_type": "code",
   "execution_count": null,
   "metadata": {},
   "outputs": [],
   "source": [
    "plot_bootstrap_aa_kdes(\n",
    "    cen_sandwich_df, 'strand_z_coords', aa_dict, 100, True, 'Cen_strand_z_coord_dist_100_bootstrap'\n",
    ")"
   ]
  },
  {
   "cell_type": "code",
   "execution_count": null,
   "metadata": {
    "scrolled": true
   },
   "outputs": [],
   "source": [
    "z_strand_cen_propensity = plot_1d_indv_aa_propensities(\n",
    "    cen_sandwich_df, 'strand_z_coords', aa_dict, True, 'Cen_strand_z_coord_propensity'\n",
    ")"
   ]
  },
  {
   "cell_type": "markdown",
   "metadata": {},
   "source": [
    "## Saves propensity dictionaries to pickle file"
   ]
  },
  {
   "cell_type": "code",
   "execution_count": null,
   "metadata": {},
   "outputs": [],
   "source": [
    "os.chdir('../..')"
   ]
  },
  {
   "cell_type": "code",
   "execution_count": null,
   "metadata": {},
   "outputs": [],
   "source": [
    "# May need to update BetaDesigner to work with core/surf rather than int/ext\n",
    "propensities_dict = OrderedDict({'core_-_-_-_indv_disc_propensity': core_surf_propensity.loc[:, ['FASTA', 'core']],\n",
    "                                 'surf_-_-_-_indv_disc_propensity': core_surf_propensity.loc[:, ['FASTA', 'surface']],\n",
    "                                 '-_edg_-_-_indv_disc_propensity': edge_cen_propensity.loc[:, ['FASTA', 'edge']],\n",
    "                                 '-_cen_-_-_indv_disc_propensity': edge_cen_propensity.loc[:, ['FASTA', 'central']],\n",
    "                                 '-_-_-_hb_pair_disc_propensity': hb_aa_pair_propensity,\n",
    "                                 '-_-_-_nhb_pair_disc_propensity': nhb_aa_pair_propensity,\n",
    "                                 '-_-_-_plusminus2_pair_disc_propensity': minus2_aa_pair_propensity,\n",
    "                                 '-_-_-_plusminus1_pair_disc_propensity': minus1_aa_pair_propensity,\n",
    "                                 '-_-_-_vdw_pair_disc_propensity': vdw_aa_pair_propensity,\n",
    "                                 '-_-_zsandwich_-_indv_cont_propensity': z_sandwich_propensity,\n",
    "                                 '-_-_phipsi_-_indv_disc_propensity': discrete_phi_psi_propensity})\n",
    "\n",
    "with open('Pickled_sandwich_propensity_dictionaries.pkl', 'wb') as pickle_file:\n",
    "    pickle.dump(propensities_dict, pickle_file)"
   ]
  },
  {
   "cell_type": "code",
   "execution_count": null,
   "metadata": {},
   "outputs": [],
   "source": [
    "frequencies_dict = OrderedDict({'core_-_-_-_indv_disc_frequency': core_surf_normed_frequencies.loc[:, ['FASTA', 'core']],\n",
    "                                'surf_-_-_-_indv_disc_frequency': core_surf_normed_frequencies.loc[:, ['FASTA', 'surface']],\n",
    "                                '-_edg_-_-_indv_disc_frequency': edge_cen_normed_frequencies.loc[:, ['FASTA', 'edge']],\n",
    "                                '-_cen_-_-_indv_disc_frequency': edge_cen_normed_frequencies.loc[:, ['FASTA', 'central']],\n",
    "                                '-_-_-_hb_pair_disc_frequency': hb_aa_pair_normed_frequencies,\n",
    "                                '-_-_-_nhb_pair_disc_frequency': nhb_aa_pair_normed_frequencies,\n",
    "                                '-_-_-_plusminus2_pair_disc_frequency': minus2_aa_pair_normed_frequencies,\n",
    "                                '-_-_-_plusminus1_pair_disc_frequency': minus1_aa_pair_normed_frequencies,\n",
    "                                '-_-_-_vdw_pair_disc_frequency': vdw_aa_pair_normed_frequencies,\n",
    "                                '-_-_phipsi_-_indv_disc_frequency': discrete_phi_psi_normed_frequencies})\n",
    "\n",
    "with open('Pickled_sandwich_frequency_dictionaries.pkl', 'wb') as pickle_file:\n",
    "    pickle.dump(frequencies_dict, pickle_file)"
   ]
  },
  {
   "cell_type": "code",
   "execution_count": null,
   "metadata": {},
   "outputs": [],
   "source": [
    "cluster_coords_dict = OrderedDict({'all_surfaces': discrete_phi_psi_cluster_coords})\n",
    "with open('Pickled_phi_psi_sandwich_cluster_coords.pkl', 'wb') as pickle_file:\n",
    "    pickle.dump((cluster_coords_dict), pickle_file)"
   ]
  },
  {
   "cell_type": "markdown",
   "metadata": {},
   "source": [
    "Check no change to dataframe shape during analysis"
   ]
  },
  {
   "cell_type": "code",
   "execution_count": null,
   "metadata": {},
   "outputs": [],
   "source": [
    "sandwich_df.shape"
   ]
  },
  {
   "cell_type": "code",
   "execution_count": null,
   "metadata": {},
   "outputs": [],
   "source": []
  }
 ],
 "metadata": {
  "kernelspec": {
   "display_name": "Python 3",
   "language": "python",
   "name": "python3"
  },
  "language_info": {
   "codemirror_mode": {
    "name": "ipython",
    "version": 3
   },
   "file_extension": ".py",
   "mimetype": "text/x-python",
   "name": "python",
   "nbconvert_exporter": "python",
   "pygments_lexer": "ipython3",
   "version": "3.7.4"
  }
 },
 "nbformat": 4,
 "nbformat_minor": 2
}
